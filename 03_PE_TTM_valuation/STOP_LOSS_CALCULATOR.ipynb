{
 "cells": [
  {
   "cell_type": "code",
   "execution_count": 1,
   "metadata": {},
   "outputs": [],
   "source": [
    "import os\n",
    "import pandas as pd\n",
    "import numpy as np\n",
    "from datetime import datetime, timedelta\n",
    "import yfinance as yf\n",
    "\n",
    "import matplotlib.pyplot as plt\n",
    "import plotly.express as px\n",
    "\n",
    "\n",
    "\n",
    "import pytz  # Make sure to import pytz for timezone handling\n",
    "import seaborn as sns"
   ]
  },
  {
   "cell_type": "code",
   "execution_count": 2,
   "metadata": {},
   "outputs": [],
   "source": [
    "def stop_loss_calculator(buy_qty, buy_price, stop_loss_factor):\n",
    "\n",
    "    '''\n",
    "    This is a calculator to return the exist stop loss price of a trade\n",
    "\n",
    "    input parameters:\n",
    "        buy_qty: the total quantity of security bought, INTEGER\n",
    "        buy_price: the unit share price of the security bought, DECIMAL\n",
    "        stop_loss_factor: the percentage trader is willing to lose at the exist position, DECIMAL\n",
    "    '''\n",
    "\n",
    "    total_deployed_cap = buy_qty * buy_price\n",
    "    stop_loss_price = buy_price - ((total_deployed_cap * stop_loss_factor) / buy_qty) \n",
    "\n",
    "    return stop_loss_price"
   ]
  },
  {
   "cell_type": "code",
   "execution_count": 4,
   "metadata": {},
   "outputs": [
    {
     "data": {
      "text/plain": [
       "148.5198"
      ]
     },
     "execution_count": 4,
     "metadata": {},
     "output_type": "execute_result"
    }
   ],
   "source": [
    "stop_loss_calculator(20, 150.02, 0.01)"
   ]
  },
  {
   "cell_type": "code",
   "execution_count": null,
   "metadata": {},
   "outputs": [],
   "source": []
  }
 ],
 "metadata": {
  "kernelspec": {
   "display_name": "Python 3",
   "language": "python",
   "name": "python3"
  },
  "language_info": {
   "codemirror_mode": {
    "name": "ipython",
    "version": 3
   },
   "file_extension": ".py",
   "mimetype": "text/x-python",
   "name": "python",
   "nbconvert_exporter": "python",
   "pygments_lexer": "ipython3",
   "version": "3.9.1"
  }
 },
 "nbformat": 4,
 "nbformat_minor": 2
}
