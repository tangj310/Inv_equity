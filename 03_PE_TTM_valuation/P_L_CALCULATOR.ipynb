{
 "cells": [
  {
   "cell_type": "code",
   "execution_count": 1,
   "metadata": {},
   "outputs": [],
   "source": [
    "import pandas as pd\n",
    "import numpy as np"
   ]
  },
  {
   "cell_type": "code",
   "execution_count": 21,
   "metadata": {},
   "outputs": [],
   "source": [
    "def stop_loss_calculator(buy_qty, buy_price, stop_loss_factor):\n",
    "\n",
    "    '''\n",
    "    This is a calculator to return the exist stop loss price of a trade\n",
    "\n",
    "    input parameters:\n",
    "        buy_qty: the total quantity of security bought, INTEGER\n",
    "        buy_price: the unit share price of the security bought,buy_qty, buy_price, DECIMAL\n",
    "        stop_loss_factor: the percentage trader is willing to lose at the exist position, DECIMAL\n",
    "    '''\n",
    "\n",
    "    total_deployed_cap = buy_qty * buy_price\n",
    "    stop_loss_price = round(buy_price - ((total_deployed_cap * stop_loss_factor) / buy_qty), 2)\n",
    "    \n",
    "    return stop_loss_price\n",
    "\n",
    "\n",
    "\n",
    "def stop_profit_calculator(buy_qty, buy_price, stop_profit_factor):\n",
    "\n",
    "    '''\n",
    "    This is a calculator to return the exist stop profit price of a trade\n",
    "\n",
    "    input parameters:\n",
    "        buy_qty: the total quantity of security bought, INTEGER\n",
    "        buy_price: the unit share price of the security bought, DECIMAL\n",
    "        stop_profit_factor: the percentage trader is willing to lose at the exist position, DECIMAL\n",
    "    '''\n",
    "\n",
    "    total_deployed_cap = buy_qty * buy_price\n",
    "    stop_profit_price = round((total_deployed_cap * (1+stop_profit_factor)) / buy_qty, 2)\n",
    "\n",
    "    return stop_profit_price"
   ]
  },
  {
   "cell_type": "code",
   "execution_count": 22,
   "metadata": {},
   "outputs": [
    {
     "data": {
      "text/plain": [
       "148.52"
      ]
     },
     "execution_count": 22,
     "metadata": {},
     "output_type": "execute_result"
    }
   ],
   "source": [
    "stop_loss_calculator(20, 150.02, 0.01)"
   ]
  },
  {
   "cell_type": "code",
   "execution_count": 23,
   "metadata": {},
   "outputs": [
    {
     "data": {
      "text/plain": [
       "165.02"
      ]
     },
     "execution_count": 23,
     "metadata": {},
     "output_type": "execute_result"
    }
   ],
   "source": [
    "stop_profit_calculator(20, 150.02, 0.10)"
   ]
  },
  {
   "cell_type": "code",
   "execution_count": null,
   "metadata": {},
   "outputs": [],
   "source": []
  }
 ],
 "metadata": {
  "kernelspec": {
   "display_name": "Python 3",
   "language": "python",
   "name": "python3"
  },
  "language_info": {
   "codemirror_mode": {
    "name": "ipython",
    "version": 3
   },
   "file_extension": ".py",
   "mimetype": "text/x-python",
   "name": "python",
   "nbconvert_exporter": "python",
   "pygments_lexer": "ipython3",
   "version": "3.9.1"
  }
 },
 "nbformat": 4,
 "nbformat_minor": 2
}
