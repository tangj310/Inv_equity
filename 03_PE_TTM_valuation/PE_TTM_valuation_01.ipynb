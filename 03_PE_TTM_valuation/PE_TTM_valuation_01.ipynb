{
 "cells": [
  {
   "cell_type": "code",
   "execution_count": 65,
   "metadata": {},
   "outputs": [],
   "source": [
    "import os\n",
    "import pandas as pd\n",
    "from decimal import Decimal\n",
    "import numpy as np\n",
    "from datetime import datetime, timedelta\n",
    "from dotenv import load_dotenv\n",
    "import yfinance as yf\n",
    "\n",
    "\n",
    "import matplotlib.pyplot as plt\n",
    "import plotly.express as px\n",
    "import pytz  # Make sure to import pytz for timezone handling\n",
    "import seaborn as sns\n",
    "\n",
    "\n",
    "import requests\n",
    "import csv\n",
    "import json\n",
    "\n",
    "import warnings"
   ]
  },
  {
   "cell_type": "code",
   "execution_count": 66,
   "metadata": {},
   "outputs": [],
   "source": [
    "load_dotenv()\n",
    "\n",
    "API_KEY = os.getenv(\"alpha_vantage_api_key\")\n",
    "NASDAQ_DATA_LINK_API_KEY = os.getenv(\"NASDAQ_DATA_LINK_API_KEY\")"
   ]
  },
  {
   "cell_type": "code",
   "execution_count": 67,
   "metadata": {},
   "outputs": [],
   "source": [
    "# Addtional setting session\n",
    "# Set display options to show all rows and columns\n",
    "pd.set_option('display.max_rows', None)\n",
    "pd.set_option('display.max_columns', None)\n",
    "warnings.filterwarnings(\"ignore\")\n",
    "pd.options.mode.copy_on_write = True"
   ]
  },
  {
   "cell_type": "code",
   "execution_count": 106,
   "metadata": {},
   "outputs": [],
   "source": [
    "# Parameters section\n",
    "\n",
    "alpha_vantage_api_key = API_KEY # FREE TIER API rate limit is 25 requests per day\n",
    "alpha_vantage_function = {\n",
    "    'core':[\n",
    "        'TIME_SERIES_INTRADA'\n",
    "        ,'TIME_SERIES_DAILY' # this is daily time series quote\n",
    "        ,'TIME_SERIES_DAILY_ADJUSTED' # this is daily time series adjusted by split/dividend-adjusted\n",
    "        ,'GLOBAL_QUOTE'\n",
    "    ]\n",
    "    ,'fundmental':[\n",
    "    'INCOME_STATEMENT'\n",
    "    ,'BALANCE_SHEET' # this is daily time series quote\n",
    "    ,'CASH_FLOW' # this is daily time series adjusted by split/dividend-adjusted\n",
    "    ,'EARNINGS'\n",
    "    ,'EARNINGS_CALENDAR'\n",
    "]\n",
    "}\n",
    "\n",
    "# Define the ticker symbols as a list; eg. TSM,MSFT,AMZN\n",
    "# ticker_symbols = input(\"Enter stock tickers separated by commas:\") \n",
    "# ticker_symbols = ticker_symbols.split(',')\n",
    "ticker_symbols = [\n",
    "\n",
    "    # energy\n",
    "    'SLB'\n",
    "    ,'HAL'\n",
    "    # ,'OKE'\n",
    "\n",
    "    # consumer staples\n",
    "    # ,'TGT'\n",
    "    # ,'STZ'\n",
    "    ,'DLTR'\n",
    "    # ,'DG'\n",
    "    # ,'TSN'\n",
    "    # ,'MNST'\n",
    "    # ,'PG'\n",
    "    ,'PM'\n",
    "    # ,'MO'\n",
    "\n",
    "\n",
    "    # finanace\n",
    "    ,'TRV'\n",
    "\n",
    "    # technology\n",
    "    # ,'NVDA'\n",
    "\n",
    "    # INDEX\n",
    "    ,'IVV'\n",
    "    ,'QQQ'\n",
    "\n",
    "    \n",
    "    # holding stock\n",
    "    ,'TSM'\n",
    "    ,'ACN'\n",
    "    ,'DHI'\n",
    "    ,'STZ'\n",
    "    ,'GOOG'\n",
    "    ,'TGT'\n",
    "]\n",
    "# Time intelligent parameters\n",
    "window_days = 90\n",
    "end_date = datetime.now()\n",
    "start_date = end_date - timedelta(days=window_days)\n",
    "earning_calendar = [\n",
    "    3  # this will return next 1 qtr forecast earning; nowadays the earning calendar only shows the next 1 qtr forecast earning\n",
    "    ,6  # this will return next 2 qtr forecast earning\n",
    "    ,12  # this will return next 4 qtr forecast earning\n",
    "]\n",
    "\n",
    "PE_yr_range = 6 # this will return x-1 yr PE range\n",
    "\n",
    "ticker_dict = {}"
   ]
  },
  {
   "cell_type": "markdown",
   "metadata": {},
   "source": [
    "# PE TTM Valuation"
   ]
  },
  {
   "cell_type": "code",
   "execution_count": 118,
   "metadata": {},
   "outputs": [
    {
     "ename": "AttributeError",
     "evalue": "'Ticker' object has no attribute 'keys'",
     "output_type": "error",
     "traceback": [
      "\u001b[1;31m---------------------------------------------------------------------------\u001b[0m",
      "\u001b[1;31mAttributeError\u001b[0m                            Traceback (most recent call last)",
      "Cell \u001b[1;32mIn[118], line 164\u001b[0m\n\u001b[0;32m    155\u001b[0m yf_data \u001b[38;5;241m=\u001b[39m yf\u001b[38;5;241m.\u001b[39mTicker(symbol)\n\u001b[0;32m    157\u001b[0m forecast_earnings_keys \u001b[38;5;241m=\u001b[39m [\n\u001b[0;32m    158\u001b[0m     \u001b[38;5;124m'\u001b[39m\u001b[38;5;124mforwardEps\u001b[39m\u001b[38;5;124m'\u001b[39m\n\u001b[0;32m    159\u001b[0m     ,\u001b[38;5;124m'\u001b[39m\u001b[38;5;124mforwardPE\u001b[39m\u001b[38;5;124m'\u001b[39m\n\u001b[0;32m    160\u001b[0m     ,\u001b[38;5;124m'\u001b[39m\u001b[38;5;124mpegRatio\u001b[39m\u001b[38;5;124m'\u001b[39m\n\u001b[0;32m    161\u001b[0m ]\n\u001b[1;32m--> 164\u001b[0m \u001b[38;5;28;01mif\u001b[39;00m \u001b[38;5;129;01mnot\u001b[39;00m \u001b[38;5;28;43mall\u001b[39;49m\u001b[43m(\u001b[49m\u001b[43mkey\u001b[49m\u001b[43m \u001b[49m\u001b[38;5;129;43;01min\u001b[39;49;00m\u001b[43m \u001b[49m\u001b[43myf_data\u001b[49m\u001b[38;5;241;43m.\u001b[39;49m\u001b[43mkeys\u001b[49m\u001b[43m(\u001b[49m\u001b[43m)\u001b[49m\u001b[43m \u001b[49m\u001b[38;5;28;43;01mfor\u001b[39;49;00m\u001b[43m \u001b[49m\u001b[43mkey\u001b[49m\u001b[43m \u001b[49m\u001b[38;5;129;43;01min\u001b[39;49;00m\u001b[43m \u001b[49m\u001b[43mforecast_earnings_keys\u001b[49m\u001b[43m)\u001b[49m:\n\u001b[0;32m    165\u001b[0m     \u001b[38;5;66;03m# Handle the case where one or more keys are missing\u001b[39;00m\n\u001b[0;32m    166\u001b[0m     EPS_12month_projected \u001b[38;5;241m=\u001b[39m \u001b[38;5;241m0\u001b[39m\n\u001b[0;32m    167\u001b[0m     PE_12month_projected \u001b[38;5;241m=\u001b[39m \u001b[38;5;241m0\u001b[39m\n",
      "Cell \u001b[1;32mIn[118], line 164\u001b[0m, in \u001b[0;36m<genexpr>\u001b[1;34m(.0)\u001b[0m\n\u001b[0;32m    155\u001b[0m yf_data \u001b[38;5;241m=\u001b[39m yf\u001b[38;5;241m.\u001b[39mTicker(symbol)\n\u001b[0;32m    157\u001b[0m forecast_earnings_keys \u001b[38;5;241m=\u001b[39m [\n\u001b[0;32m    158\u001b[0m     \u001b[38;5;124m'\u001b[39m\u001b[38;5;124mforwardEps\u001b[39m\u001b[38;5;124m'\u001b[39m\n\u001b[0;32m    159\u001b[0m     ,\u001b[38;5;124m'\u001b[39m\u001b[38;5;124mforwardPE\u001b[39m\u001b[38;5;124m'\u001b[39m\n\u001b[0;32m    160\u001b[0m     ,\u001b[38;5;124m'\u001b[39m\u001b[38;5;124mpegRatio\u001b[39m\u001b[38;5;124m'\u001b[39m\n\u001b[0;32m    161\u001b[0m ]\n\u001b[1;32m--> 164\u001b[0m \u001b[38;5;28;01mif\u001b[39;00m \u001b[38;5;129;01mnot\u001b[39;00m \u001b[38;5;28mall\u001b[39m(key \u001b[38;5;129;01min\u001b[39;00m \u001b[43myf_data\u001b[49m\u001b[38;5;241;43m.\u001b[39;49m\u001b[43mkeys\u001b[49m() \u001b[38;5;28;01mfor\u001b[39;00m key \u001b[38;5;129;01min\u001b[39;00m forecast_earnings_keys):\n\u001b[0;32m    165\u001b[0m     \u001b[38;5;66;03m# Handle the case where one or more keys are missing\u001b[39;00m\n\u001b[0;32m    166\u001b[0m     EPS_12month_projected \u001b[38;5;241m=\u001b[39m \u001b[38;5;241m0\u001b[39m\n\u001b[0;32m    167\u001b[0m     PE_12month_projected \u001b[38;5;241m=\u001b[39m \u001b[38;5;241m0\u001b[39m\n",
      "\u001b[1;31mAttributeError\u001b[0m: 'Ticker' object has no attribute 'keys'"
     ]
    }
   ],
   "source": [
    "# Daily quote section\n",
    "for symbol in ticker_symbols:\n",
    "\n",
    "\n",
    "    # Daily quote section\n",
    "    # replace the \"demo\" apikey below with your own key from https://www.alphavantage.co/support/#api-key\n",
    "    url = f'https://www.alphavantage.co/query?function=TIME_SERIES_DAILY&symbol={symbol}&apikey={alpha_vantage_api_key}&outputsize=full'\n",
    "    r = requests.get(url)\n",
    "    data = r.json()\n",
    "\n",
    "    for key, value in data.items():\n",
    "        if key == 'Time Series (Daily)':\n",
    "\n",
    "\n",
    "            selected_cols = [\n",
    "                '4. close'\n",
    "            ]\n",
    "\n",
    "            Daily_stock_df = pd.DataFrame(value).transpose()[selected_cols] # tranpose the dataframe and sub select selected cols\n",
    "\n",
    "            # Rename columns\n",
    "            Daily_stock_df.rename(\n",
    "                columns={\n",
    "                    '4. close': f'{symbol}'\n",
    "                    }\n",
    "                ,inplace=True\n",
    "                )\n",
    "            \n",
    "            Daily_stock_df[f'{symbol}'] = Daily_stock_df[f'{symbol}'].astype(str).apply(lambda x: float(x))\n",
    "            Daily_stock_df[f'{symbol}'] = Daily_stock_df[f'{symbol}'].round(2)\n",
    "\n",
    "\n",
    "    # Monthly quote section\n",
    "    url = f'https://www.alphavantage.co/query?function=TIME_SERIES_MONTHLY&symbol={symbol}&apikey={alpha_vantage_api_key}'\n",
    "    r = requests.get(url)\n",
    "    data = r.json()\n",
    "\n",
    "    for key, value in data.items():\n",
    "        if key == 'Monthly Time Series':\n",
    "            Monthly_stock_df = pd.DataFrame(value)\n",
    "\n",
    "\n",
    "    Monthly_stock_df = Monthly_stock_df.transpose()\n",
    "    Monthly_stock_df.index = pd.to_datetime(Monthly_stock_df.index)\n",
    "\n",
    "\n",
    "    filter_1 = (Monthly_stock_df.index.year.isin(range((datetime.today().year - PE_yr_range) ,datetime.today().year)))\n",
    "    filter_2 = (Monthly_stock_df.index.month == 12) # month = 12 to get the year end closing price\n",
    "\n",
    "    selected_cols = [\n",
    "        '4. close'\n",
    "    ]\n",
    "\n",
    "    Monthly_stock_df = Monthly_stock_df[\n",
    "        filter_1\n",
    "        & filter_2\n",
    "    ][selected_cols]\n",
    "\n",
    "    # Rename columns\n",
    "    Monthly_stock_df.rename(\n",
    "        columns={\n",
    "            '4. close': f'{symbol}'\n",
    "            }\n",
    "        ,inplace=True\n",
    "        )\n",
    "\n",
    "    Monthly_stock_df[f'{symbol}'] = Monthly_stock_df[f'{symbol}'].astype(str).apply(lambda x: float(x))\n",
    "    Monthly_stock_df[f'{symbol}'] = Monthly_stock_df[f'{symbol}'].round(2)\n",
    "\n",
    "\n",
    "\n",
    "    # Earning section\n",
    "    # past earnings from alpha vintage API\n",
    "    url = f'https://www.alphavantage.co/query?function=EARNINGS&symbol={symbol}&apikey={alpha_vantage_api_key}'\n",
    "    r = requests.get(url)\n",
    "    data = r.json()\n",
    "\n",
    "    for key, value in data.items():\n",
    "        if key == 'annualEarnings':\n",
    "\n",
    "            selected_cols = [\n",
    "                'fiscalDateEnding'\n",
    "                ,'reportedEPS'\n",
    "            ]\n",
    "\n",
    "            annualEPS_df = pd.DataFrame(value) # tranpose the dataframe and sub select selected cols\n",
    "\n",
    "\n",
    "            annualEPS_df['fiscalDateEnding'] = pd.to_datetime(annualEPS_df['fiscalDateEnding']).dt.year\n",
    "\n",
    "            annualEPS_df = annualEPS_df[\n",
    "                annualEPS_df['fiscalDateEnding'].isin(\n",
    "                    range(\n",
    "                        (datetime.today().year - 6) \n",
    "                        ,datetime.today().year\n",
    "                            )\n",
    "                            )\n",
    "                            ]\n",
    "\n",
    "            # Convert the column to decimal type\n",
    "            for col in selected_cols:\n",
    "                if col in ['reportedEPS']:\n",
    "                    annualEPS_df[f'{col}'] = annualEPS_df[f'{col}'].astype(str).apply(lambda x: float(x))\n",
    "\n",
    "                else:\n",
    "                    continue\n",
    "\n",
    "            annualEPS_df[f'{symbol}_PE'] = Monthly_stock_df[f'{symbol}'].values / annualEPS_df['reportedEPS'].values\n",
    "            annualEPS_df[f\"{symbol}_PE_{PE_yr_range-1}yr_avg\"] = annualEPS_df[f\"{symbol}_PE\"].mean().round(2)\n",
    "            annualEPS_df[f\"{symbol}_PE_{PE_yr_range-1}yr_std\"] = np.std(annualEPS_df[f\"{symbol}_PE\"]).round(2)\n",
    "            annualEPS_df[f\"{symbol}_PE_{PE_yr_range-1}yr_volatility_+\"] = (annualEPS_df[f\"{symbol}_PE_{PE_yr_range-1}yr_avg\"] + annualEPS_df[f\"{symbol}_PE_{PE_yr_range-1}yr_std\"]).round(2) # 这个是PE的波动范围上限\n",
    "            annualEPS_df[f\"{symbol}_PE_{PE_yr_range-1}yr_volatility_-\"] = (annualEPS_df[f\"{symbol}_PE_{PE_yr_range-1}yr_avg\"] - annualEPS_df[f\"{symbol}_PE_{PE_yr_range-1}yr_std\"]).round(2) # 这个是PE的波动范围下限\n",
    "\n",
    "\n",
    "\n",
    "        if key == 'quarterlyEarnings':\n",
    "\n",
    "            selected_cols = [\n",
    "                'reportedDate'\n",
    "                ,'reportedEPS'\n",
    "            ]\n",
    "\n",
    "            qtrEPS_df = pd.DataFrame(value)[selected_cols] # tranpose the dataframe and sub select selected cols\n",
    "\n",
    "            # Convert the column to decimal type\n",
    "            for col in selected_cols:\n",
    "                if col in ['reportedEPS']:\n",
    "                    qtrEPS_df[f'{col}'] = qtrEPS_df[f'{col}'].astype(str).apply(lambda x: float(x))\n",
    "\n",
    "                else:\n",
    "                    continue\n",
    "\n",
    "\n",
    "    # # forecast 1 qtr earnings from alpha vantage API\n",
    "    # for i in earning_calendar: comment out the for loop in case of future usage, i can be the parameter of {}month\n",
    "    CSV_URL = f'https://www.alphavantage.co/query?function=EARNINGS_CALENDAR&symbol={symbol}&horizon=12month&apikey={alpha_vantage_api_key}'\n",
    "    with requests.Session() as s:\n",
    "        download = s.get(CSV_URL)\n",
    "        decoded_content = download.content.decode('utf-8')\n",
    "        cr = csv.reader(decoded_content.splitlines(), delimiter=',')\n",
    "        my_list = list(cr)\n",
    "\n",
    "        forecast_earanings_df = pd.DataFrame(\n",
    "            columns=my_list[0]\n",
    "            ,data=my_list[1::]\n",
    "            )\n",
    "        \n",
    "        if forecast_earanings_df['estimate'].head(1).values != '':\n",
    "            latest_projected_EPS = float(forecast_earanings_df['estimate'].head(1).values)\n",
    "        else:\n",
    "            latest_projected_EPS = 0\n",
    "\n",
    "\n",
    "    # forecast 1 year earnings from yf API\n",
    "    yf_data = yf.Ticker(symbol).info\n",
    "\n",
    "    forecast_earnings_keys = [\n",
    "        'forwardEps'\n",
    "        ,'forwardPE'\n",
    "        ,'pegRatio'\n",
    "    ]\n",
    "\n",
    "\n",
    "    if not all(key in yf_data.keys() for key in forecast_earnings_keys):\n",
    "        # Handle the case where one or more keys are missing\n",
    "        EPS_12month_projected = 0\n",
    "        PE_12month_projected = 0\n",
    "        PEG_12month_projected = 0\n",
    "    else:\n",
    "        EPS_12month_projected = yf_data['forwardEps'] # 代表了截止下一个日历年结束的EPS, next year forecasted EPS\n",
    "        PE_12month_projected = yf_data['forwardPE'] # 代表了截止下一个日历年结束的PE, next year forecasted PE\n",
    "        PEG_12month_projected = yf_data['pegRatio'] # 代表了截止下一个日历年结束的PEG \n",
    "\n",
    "\n",
    "    # US Treasury section\n",
    "    # replace the \"demo\" apikey below with your own key from https://www.alphavantage.co/support/#api-key\n",
    "    url = f'https://www.alphavantage.co/query?function=TREASURY_YIELD&interval=daily&maturity=10year&apikey={alpha_vantage_api_key}'\n",
    "    r = requests.get(url)\n",
    "    data = r.json()\n",
    "\n",
    "    for key, value in data.items():\n",
    "        if key == 'data':\n",
    "            US_T_10yrs_df = pd.DataFrame(value)\n",
    "            US_T_10yrs_df['value'] = pd.to_numeric(US_T_10yrs_df['value'], errors='coerce') # change dataframe value to numeric data\n",
    "            US_T_10yrs_YTM = US_T_10yrs_df['value'][0]\n",
    "\n",
    "\n",
    "\n",
    "\n",
    "    # Consolidated section\n",
    "    df_stock_consolidate = Daily_stock_df.head(window_days)\n",
    "\n",
    "\n",
    "    df_stock_consolidate_date = df_stock_consolidate.index\n",
    "    for i in df_stock_consolidate_date:\n",
    "                \n",
    "        # Filter the DataFrame to include only dates(index) less than or equal to the target date\n",
    "        filtered_qtrEPS_df = qtrEPS_df[qtrEPS_df['reportedDate']<= i]\n",
    "\n",
    "        # Select the first four rows from the past_qtrs_EPS\n",
    "        past_4_qtrs_EPS = filtered_qtrEPS_df.head(4) \n",
    "        past_3_qtrs_EPS = filtered_qtrEPS_df.head(3)\n",
    "\n",
    "        # Calculate the sum of the numeric values in the selected rows\n",
    "        EPS_TTM = past_4_qtrs_EPS['reportedEPS'].values.sum()\n",
    "\n",
    "        # assign each index row with the EPS_TTM\n",
    "        df_stock_consolidate.loc[i, f\"{symbol}_EPS_TTM\"] = EPS_TTM\n",
    "\n",
    "        if i == max(df_stock_consolidate.index):\n",
    "            EPS_latest_projected = latest_projected_EPS + past_3_qtrs_EPS['reportedEPS'].values.sum()  # This metrics is the past 3 qtrs post EPS + 1 projected EPS\n",
    "        else:\n",
    "            continue\n",
    "\n",
    "        df_stock_consolidate[f\"{symbol}_EPS_latest_projected\"] = EPS_latest_projected\n",
    "    \n",
    "\n",
    "    # stock's stats\n",
    "    df_stock_consolidate[f\"{symbol}_PE_TTM\"] = (df_stock_consolidate[symbol] / df_stock_consolidate[f\"{symbol}_EPS_TTM\"]).round(2)\n",
    "    df_stock_consolidate[f\"{symbol}_PE_TTM_avg\"] = df_stock_consolidate[f\"{symbol}_PE_TTM\"].mean().round(2)\n",
    "    df_stock_consolidate[f\"{symbol}_PE_TTM_std\"] = np.std(df_stock_consolidate[f\"{symbol}_PE_TTM\"]).round(2)\n",
    "    df_stock_consolidate[f\"{symbol}_PE_TTM_volatility_+\"] = (df_stock_consolidate[f\"{symbol}_PE_TTM_avg\"] + df_stock_consolidate[f\"{symbol}_PE_TTM_std\"]).round(2) # 这个是PE的波动范围上限\n",
    "    df_stock_consolidate[f\"{symbol}_PE_TTM_volatility_-\"] = (df_stock_consolidate[f\"{symbol}_PE_TTM_avg\"] - df_stock_consolidate[f\"{symbol}_PE_TTM_std\"]).round(2) # 这个是PE的波动范围下限\n",
    "\n",
    "    df_stock_consolidate[f\"{symbol}_relative_valuation_TTM_+\"] = (df_stock_consolidate[f\"{symbol}_PE_TTM_volatility_+\"] * df_stock_consolidate[f\"{symbol}_EPS_TTM\"]).round(2) # 这个是relative valuation的价格上限\n",
    "    df_stock_consolidate[f\"{symbol}_relative_valuation_TTM_-\"] = (df_stock_consolidate[f\"{symbol}_PE_TTM_volatility_-\"] * df_stock_consolidate[f\"{symbol}_EPS_TTM\"]).round(2) # 这个是relative valuation的价格下限\n",
    "    df_stock_consolidate[f\"{symbol}_relative_valuation_TTM_median\"] = (np.median([df_stock_consolidate[f\"{symbol}_relative_valuation_TTM_+\"], df_stock_consolidate[f\"{symbol}_relative_valuation_TTM_-\"]])).round(2) #这个是根据最新TTM PE估值的价格中位数\n",
    "\n",
    "    df_stock_consolidate[f\"{symbol}_relative_valuation_nextQuater_projected_+\"] = (df_stock_consolidate[f\"{symbol}_PE_TTM_volatility_+\"] * df_stock_consolidate[f\"{symbol}_EPS_latest_projected\"]).round(2) # 这个是relative valuation的价格上限\n",
    "    df_stock_consolidate[f\"{symbol}_relative_valuation_nextQuater_projected_-\"] = (df_stock_consolidate[f\"{symbol}_PE_TTM_volatility_-\"] * df_stock_consolidate[f\"{symbol}_EPS_latest_projected\"]).round(2) # 这个是relative valuation的价格下限\n",
    "    df_stock_consolidate[f\"{symbol}_relative_valuation_nextQuater_projected_median\"] = (np.median([df_stock_consolidate[f\"{symbol}_relative_valuation_nextQuater_projected_+\"], df_stock_consolidate[f\"{symbol}_relative_valuation_nextQuater_projected_-\"]])).round(2) #这个是根据3 qtrs post EPS + 1 projected EPS 得出PE估值的价格中位数\n",
    "\n",
    "    df_stock_consolidate[f\"{symbol}_{window_days}_price_min\"] = df_stock_consolidate[symbol].min().round(2)\n",
    "    df_stock_consolidate[f\"{symbol}_{window_days}_price_max\"] = df_stock_consolidate[symbol].max().round(2)\n",
    "    df_stock_consolidate[f\"{symbol}_{window_days}_price_avg\"] = df_stock_consolidate[symbol].mean().round(2)\n",
    "    df_stock_consolidate[f\"{symbol}_{window_days}_price_std\"] = np.std(df_stock_consolidate[symbol]).round(2)\n",
    "\n",
    "    df_stock_consolidate[f\"{symbol}_PE_{PE_yr_range-1}yr_avg\"] = annualEPS_df[f\"{symbol}_PE_{PE_yr_range-1}yr_avg\"].values[0]\n",
    "    df_stock_consolidate[f\"{symbol}_PE_{PE_yr_range-1}yr_std\"] = annualEPS_df[f\"{symbol}_PE_{PE_yr_range-1}yr_std\"].values[0]\n",
    "    df_stock_consolidate[f\"{symbol}_PE_{PE_yr_range-1}yr_volatility_+\"] = annualEPS_df[f\"{symbol}_PE_{PE_yr_range-1}yr_volatility_+\"].values[0]\n",
    "    df_stock_consolidate[f\"{symbol}_PE_{PE_yr_range-1}yr_volatility_-\"] = annualEPS_df[f\"{symbol}_PE_{PE_yr_range-1}yr_volatility_-\"].values[0]\n",
    "\n",
    "\n",
    "    df_stock_consolidate[f\"{symbol}_relative_valuation_nextYear_projected_+\"] = (df_stock_consolidate[f\"{symbol}_PE_TTM_volatility_+\"] * EPS_12month_projected).round(2) # 这个是relative valuation的价格上限\n",
    "    df_stock_consolidate[f\"{symbol}_relative_valuation_nextYear_projected_-\"] = (df_stock_consolidate[f\"{symbol}_PE_TTM_volatility_-\"] * EPS_12month_projected).round(2) # 这个是relative valuation的价格下限\n",
    "    df_stock_consolidate[f\"{symbol}_relative_valuation_nextYear_projected_median\"] = (np.median([df_stock_consolidate[f\"{symbol}_relative_valuation_nextYear_projected_+\"], df_stock_consolidate[f\"{symbol}_relative_valuation_nextYear_projected_-\"]])).round(2) #这个是根据next year projected EPS 得出PE估值的价格中位数\n",
    "\n",
    "    df_stock_consolidate[f\"{symbol}_next12months_PEG\"] = PEG_12month_projected\n",
    "    df_stock_consolidate[f\"{symbol}_TTM_PEG\"] = (df_stock_consolidate[f\"{symbol}_PE_TTM\"] / (((EPS_12month_projected - df_stock_consolidate[f\"{symbol}_EPS_TTM\"]) / df_stock_consolidate[f\"{symbol}_EPS_TTM\"]) * 100)).round(2) # 这个是截止下一年的EPS growth rate所得出的PEG ratio, <1是undervalue的表现\n",
    "    \n",
    "    df_stock_consolidate[f\"{symbol}_nextYear_EPS_growthRate\"] = (((EPS_12month_projected - df_stock_consolidate[f\"{symbol}_EPS_TTM\"]) / df_stock_consolidate[f\"{symbol}_EPS_TTM\"]) * 100).round(2)\n",
    "    df_stock_consolidate[f\"{symbol}_nextQuater_EPS_growthRate\"] = (((df_stock_consolidate[f\"{symbol}_EPS_latest_projected\"] - df_stock_consolidate[f\"{symbol}_EPS_TTM\"]) / df_stock_consolidate[f\"{symbol}_EPS_TTM\"]) * 100).round(2)\n",
    "\n",
    "    df_stock_consolidate[f\"{symbol}_EarningYield_TTM\"] = ((df_stock_consolidate[f\"{symbol}_EPS_TTM\"] / df_stock_consolidate[symbol]) * 100).round(2)\n",
    "    df_stock_consolidate[f\"{symbol}_ERP_TTM\"] = df_stock_consolidate[f\"{symbol}_EarningYield_TTM\"] - US_T_10yrs_YTM\n",
    "\n",
    "\n",
    "\n",
    "\n",
    "    # filter conditions\n",
    "    conditions = [\n",
    "    (df_stock_consolidate[f\"{symbol}\"] < df_stock_consolidate[f\"{symbol}_relative_valuation_TTM_-\"]),\n",
    "    (df_stock_consolidate[f\"{symbol}\"] > df_stock_consolidate[f\"{symbol}_relative_valuation_TTM_+\"]),\n",
    "    ((df_stock_consolidate[f\"{symbol}\"] >= df_stock_consolidate[f\"{symbol}_relative_valuation_TTM_-\"]) & (df_stock_consolidate[f\"{symbol}\"] <= df_stock_consolidate[f\"{symbol}_relative_valuation_TTM_+\"])),\n",
    "    ]\n",
    "\n",
    "    categories = [\n",
    "        'undervalued'\n",
    "        ,'overvalued'\n",
    "        ,'fair'\n",
    "        ]\n",
    "\n",
    "    # This KPI assess if the current stock price is under/over/fair to the current relative valuation\n",
    "    df_stock_consolidate[f\"{symbol}_curr_assessment\"] = None\n",
    "\n",
    "    for condition, category in zip(conditions, categories):\n",
    "        df_stock_consolidate.loc[condition, f\"{symbol}_price_valuation_assessment\"] = category\n",
    "\n",
    "\n",
    "\n",
    "\n",
    "\n",
    "    # Append key-value pairs to the dictionary\n",
    "    selected_cols = [\n",
    "    f\"{symbol}\"\n",
    "    ,f\"{symbol}_EPS_TTM\"\n",
    "    ,f\"{symbol}_EPS_latest_projected\"\n",
    "    ,f\"{symbol}_PE_TTM\"\n",
    "    ,f\"{symbol}_PE_TTM_avg\"\n",
    "    ,f\"{symbol}_PE_{PE_yr_range-1}yr_avg\"\n",
    "    ,f\"{symbol}_PE_{PE_yr_range-1}yr_volatility_+\"\n",
    "    ,f\"{symbol}_PE_{PE_yr_range-1}yr_volatility_-\"\n",
    "    ,f\"{symbol}_relative_valuation_TTM_+\"\n",
    "    ,f\"{symbol}_relative_valuation_TTM_-\"\n",
    "    ,f\"{symbol}_relative_valuation_TTM_median\"\n",
    "    ,f\"{symbol}_relative_valuation_nextQuater_projected_+\"\n",
    "    ,f\"{symbol}_relative_valuation_nextQuater_projected_-\"\n",
    "    ,f\"{symbol}_relative_valuation_nextQuater_projected_median\"\n",
    "    ,f\"{symbol}_relative_valuation_nextYear_projected_+\"\n",
    "    ,f\"{symbol}_relative_valuation_nextYear_projected_-\"\n",
    "    ,f\"{symbol}_relative_valuation_nextYear_projected_median\"\n",
    "    ,f\"{symbol}_price_valuation_assessment\"\n",
    "    ,f\"{symbol}_nextQuater_EPS_growthRate\"\n",
    "    ,f\"{symbol}_nextYear_EPS_growthRate\"\n",
    "    ,f\"{symbol}_next12months_PEG\"\n",
    "    ,f\"{symbol}_TTM_PEG\"\n",
    "    ,f\"{symbol}_EarningYield_TTM\"\n",
    "    ,f\"{symbol}_ERP_TTM\"\n",
    "    ]\n",
    "\n",
    "    ticker_dict[f'{symbol}'] = df_stock_consolidate[selected_cols]\n",
    "\n",
    "    # Addtional setting session\n",
    "    # Set display options to show all rows and columns\n",
    "    pd.set_option('display.max_rows', None)\n",
    "    pd.set_option('display.max_columns', None)\n",
    "    warnings.filterwarnings(\"ignore\")\n",
    "    pd.options.mode.copy_on_write = True"
   ]
  },
  {
   "cell_type": "code",
   "execution_count": 120,
   "metadata": {},
   "outputs": [
    {
     "data": {
      "text/plain": [
       "dict_keys(['address1', 'address2', 'city', 'state', 'zip', 'country', 'phone', 'website', 'industry', 'industryKey', 'industryDisp', 'sector', 'sectorKey', 'sectorDisp', 'longBusinessSummary', 'fullTimeEmployees', 'companyOfficers', 'auditRisk', 'boardRisk', 'compensationRisk', 'shareHolderRightsRisk', 'overallRisk', 'governanceEpochDate', 'compensationAsOfEpochDate', 'irWebsite', 'maxAge', 'priceHint', 'previousClose', 'open', 'dayLow', 'dayHigh', 'regularMarketPreviousClose', 'regularMarketOpen', 'regularMarketDayLow', 'regularMarketDayHigh', 'dividendRate', 'dividendYield', 'exDividendDate', 'payoutRatio', 'fiveYearAvgDividendYield', 'beta', 'trailingPE', 'forwardPE', 'volume', 'regularMarketVolume', 'averageVolume', 'averageVolume10days', 'averageDailyVolume10Day', 'bid', 'ask', 'bidSize', 'askSize', 'marketCap', 'fiftyTwoWeekLow', 'fiftyTwoWeekHigh', 'priceToSalesTrailing12Months', 'fiftyDayAverage', 'twoHundredDayAverage', 'trailingAnnualDividendRate', 'trailingAnnualDividendYield', 'currency', 'enterpriseValue', 'profitMargins', 'floatShares', 'sharesOutstanding', 'sharesShort', 'sharesShortPriorMonth', 'sharesShortPreviousMonthDate', 'dateShortInterest', 'sharesPercentSharesOut', 'heldPercentInsiders', 'heldPercentInstitutions', 'shortRatio', 'shortPercentOfFloat', 'impliedSharesOutstanding', 'bookValue', 'priceToBook', 'lastFiscalYearEnd', 'nextFiscalYearEnd', 'mostRecentQuarter', 'earningsQuarterlyGrowth', 'netIncomeToCommon', 'trailingEps', 'forwardEps', 'pegRatio', 'lastSplitFactor', 'lastSplitDate', 'enterpriseToRevenue', 'enterpriseToEbitda', '52WeekChange', 'SandP52WeekChange', 'lastDividendValue', 'lastDividendDate', 'exchange', 'quoteType', 'symbol', 'underlyingSymbol', 'shortName', 'longName', 'firstTradeDateEpochUtc', 'timeZoneFullName', 'timeZoneShortName', 'uuid', 'messageBoardId', 'gmtOffSetMilliseconds', 'currentPrice', 'targetHighPrice', 'targetLowPrice', 'targetMeanPrice', 'targetMedianPrice', 'recommendationMean', 'recommendationKey', 'numberOfAnalystOpinions', 'totalCash', 'totalCashPerShare', 'ebitda', 'totalDebt', 'quickRatio', 'currentRatio', 'totalRevenue', 'debtToEquity', 'revenuePerShare', 'returnOnAssets', 'returnOnEquity', 'freeCashflow', 'operatingCashflow', 'earningsGrowth', 'revenueGrowth', 'grossMargins', 'ebitdaMargins', 'operatingMargins', 'financialCurrency', 'trailingPegRatio'])"
      ]
     },
     "execution_count": 120,
     "metadata": {},
     "output_type": "execute_result"
    }
   ],
   "source": [
    "yf_data.info.keys()"
   ]
  },
  {
   "cell_type": "code",
   "execution_count": 105,
   "metadata": {},
   "outputs": [
    {
     "data": {
      "text/html": [
       "<div>\n",
       "<style scoped>\n",
       "    .dataframe tbody tr th:only-of-type {\n",
       "        vertical-align: middle;\n",
       "    }\n",
       "\n",
       "    .dataframe tbody tr th {\n",
       "        vertical-align: top;\n",
       "    }\n",
       "\n",
       "    .dataframe thead th {\n",
       "        text-align: right;\n",
       "    }\n",
       "</style>\n",
       "<table border=\"1\" class=\"dataframe\">\n",
       "  <thead>\n",
       "    <tr style=\"text-align: right;\">\n",
       "      <th></th>\n",
       "      <th>TRV</th>\n",
       "      <th>TRV_EPS_TTM</th>\n",
       "      <th>TRV_EPS_latest_projected</th>\n",
       "      <th>TRV_PE_TTM</th>\n",
       "      <th>TRV_PE_TTM_avg</th>\n",
       "      <th>TRV_PE_5yr_avg</th>\n",
       "      <th>TRV_PE_5yr_volatility_+</th>\n",
       "      <th>TRV_PE_5yr_volatility_-</th>\n",
       "      <th>TRV_relative_valuation_TTM_+</th>\n",
       "      <th>TRV_relative_valuation_TTM_-</th>\n",
       "      <th>TRV_relative_valuation_TTM_median</th>\n",
       "      <th>TRV_relative_valuation_nextQuater_projected_+</th>\n",
       "      <th>TRV_relative_valuation_nextQuater_projected_-</th>\n",
       "      <th>TRV_relative_valuation_nextQuater_projected_median</th>\n",
       "      <th>TRV_relative_valuation_nextYear_projected_+</th>\n",
       "      <th>TRV_relative_valuation_nextYear_projected_-</th>\n",
       "      <th>TRV_relative_valuation_nextYear_projected_median</th>\n",
       "      <th>TRV_price_valuation_assessment</th>\n",
       "      <th>TRV_nextQuater_EPS_growthRate</th>\n",
       "      <th>TRV_nextYear_EPS_growthRate</th>\n",
       "      <th>TRV_next12months_PEG</th>\n",
       "      <th>TRV_TTM_PEG</th>\n",
       "      <th>TRV_EarningYield_TTM</th>\n",
       "      <th>TRV_ERP_TTM</th>\n",
       "    </tr>\n",
       "  </thead>\n",
       "  <tbody>\n",
       "    <tr>\n",
       "      <th>2024-07-30</th>\n",
       "      <td>220.42</td>\n",
       "      <td>16.16</td>\n",
       "      <td>18.02</td>\n",
       "      <td>13.64</td>\n",
       "      <td>15.84</td>\n",
       "      <td>13.83</td>\n",
       "      <td>15.26</td>\n",
       "      <td>12.4</td>\n",
       "      <td>280.70</td>\n",
       "      <td>231.25</td>\n",
       "      <td>212.44</td>\n",
       "      <td>313.01</td>\n",
       "      <td>257.87</td>\n",
       "      <td>285.44</td>\n",
       "      <td>358.34</td>\n",
       "      <td>295.22</td>\n",
       "      <td>326.78</td>\n",
       "      <td>undervalued</td>\n",
       "      <td>11.51</td>\n",
       "      <td>27.66</td>\n",
       "      <td>0.75</td>\n",
       "      <td>0.49</td>\n",
       "      <td>7.33</td>\n",
       "      <td>3.16</td>\n",
       "    </tr>\n",
       "    <tr>\n",
       "      <th>2024-07-29</th>\n",
       "      <td>213.93</td>\n",
       "      <td>16.16</td>\n",
       "      <td>18.02</td>\n",
       "      <td>13.24</td>\n",
       "      <td>15.84</td>\n",
       "      <td>13.83</td>\n",
       "      <td>15.26</td>\n",
       "      <td>12.4</td>\n",
       "      <td>280.70</td>\n",
       "      <td>231.25</td>\n",
       "      <td>212.44</td>\n",
       "      <td>313.01</td>\n",
       "      <td>257.87</td>\n",
       "      <td>285.44</td>\n",
       "      <td>358.34</td>\n",
       "      <td>295.22</td>\n",
       "      <td>326.78</td>\n",
       "      <td>undervalued</td>\n",
       "      <td>11.51</td>\n",
       "      <td>27.66</td>\n",
       "      <td>0.75</td>\n",
       "      <td>0.48</td>\n",
       "      <td>7.55</td>\n",
       "      <td>3.38</td>\n",
       "    </tr>\n",
       "    <tr>\n",
       "      <th>2024-07-26</th>\n",
       "      <td>213.85</td>\n",
       "      <td>16.16</td>\n",
       "      <td>18.02</td>\n",
       "      <td>13.23</td>\n",
       "      <td>15.84</td>\n",
       "      <td>13.83</td>\n",
       "      <td>15.26</td>\n",
       "      <td>12.4</td>\n",
       "      <td>280.70</td>\n",
       "      <td>231.25</td>\n",
       "      <td>212.44</td>\n",
       "      <td>313.01</td>\n",
       "      <td>257.87</td>\n",
       "      <td>285.44</td>\n",
       "      <td>358.34</td>\n",
       "      <td>295.22</td>\n",
       "      <td>326.78</td>\n",
       "      <td>undervalued</td>\n",
       "      <td>11.51</td>\n",
       "      <td>27.66</td>\n",
       "      <td>0.75</td>\n",
       "      <td>0.48</td>\n",
       "      <td>7.56</td>\n",
       "      <td>3.39</td>\n",
       "    </tr>\n",
       "    <tr>\n",
       "      <th>2024-07-25</th>\n",
       "      <td>209.23</td>\n",
       "      <td>16.16</td>\n",
       "      <td>18.02</td>\n",
       "      <td>12.95</td>\n",
       "      <td>15.84</td>\n",
       "      <td>13.83</td>\n",
       "      <td>15.26</td>\n",
       "      <td>12.4</td>\n",
       "      <td>280.70</td>\n",
       "      <td>231.25</td>\n",
       "      <td>212.44</td>\n",
       "      <td>313.01</td>\n",
       "      <td>257.87</td>\n",
       "      <td>285.44</td>\n",
       "      <td>358.34</td>\n",
       "      <td>295.22</td>\n",
       "      <td>326.78</td>\n",
       "      <td>undervalued</td>\n",
       "      <td>11.51</td>\n",
       "      <td>27.66</td>\n",
       "      <td>0.75</td>\n",
       "      <td>0.47</td>\n",
       "      <td>7.72</td>\n",
       "      <td>3.55</td>\n",
       "    </tr>\n",
       "    <tr>\n",
       "      <th>2024-07-24</th>\n",
       "      <td>207.73</td>\n",
       "      <td>16.16</td>\n",
       "      <td>18.02</td>\n",
       "      <td>12.85</td>\n",
       "      <td>15.84</td>\n",
       "      <td>13.83</td>\n",
       "      <td>15.26</td>\n",
       "      <td>12.4</td>\n",
       "      <td>280.70</td>\n",
       "      <td>231.25</td>\n",
       "      <td>212.44</td>\n",
       "      <td>313.01</td>\n",
       "      <td>257.87</td>\n",
       "      <td>285.44</td>\n",
       "      <td>358.34</td>\n",
       "      <td>295.22</td>\n",
       "      <td>326.78</td>\n",
       "      <td>undervalued</td>\n",
       "      <td>11.51</td>\n",
       "      <td>27.66</td>\n",
       "      <td>0.75</td>\n",
       "      <td>0.46</td>\n",
       "      <td>7.78</td>\n",
       "      <td>3.61</td>\n",
       "    </tr>\n",
       "    <tr>\n",
       "      <th>2024-07-23</th>\n",
       "      <td>208.53</td>\n",
       "      <td>16.16</td>\n",
       "      <td>18.02</td>\n",
       "      <td>12.90</td>\n",
       "      <td>15.84</td>\n",
       "      <td>13.83</td>\n",
       "      <td>15.26</td>\n",
       "      <td>12.4</td>\n",
       "      <td>280.70</td>\n",
       "      <td>231.25</td>\n",
       "      <td>212.44</td>\n",
       "      <td>313.01</td>\n",
       "      <td>257.87</td>\n",
       "      <td>285.44</td>\n",
       "      <td>358.34</td>\n",
       "      <td>295.22</td>\n",
       "      <td>326.78</td>\n",
       "      <td>undervalued</td>\n",
       "      <td>11.51</td>\n",
       "      <td>27.66</td>\n",
       "      <td>0.75</td>\n",
       "      <td>0.47</td>\n",
       "      <td>7.75</td>\n",
       "      <td>3.58</td>\n",
       "    </tr>\n",
       "    <tr>\n",
       "      <th>2024-07-22</th>\n",
       "      <td>205.42</td>\n",
       "      <td>16.16</td>\n",
       "      <td>18.02</td>\n",
       "      <td>12.71</td>\n",
       "      <td>15.84</td>\n",
       "      <td>13.83</td>\n",
       "      <td>15.26</td>\n",
       "      <td>12.4</td>\n",
       "      <td>280.70</td>\n",
       "      <td>231.25</td>\n",
       "      <td>212.44</td>\n",
       "      <td>313.01</td>\n",
       "      <td>257.87</td>\n",
       "      <td>285.44</td>\n",
       "      <td>358.34</td>\n",
       "      <td>295.22</td>\n",
       "      <td>326.78</td>\n",
       "      <td>undervalued</td>\n",
       "      <td>11.51</td>\n",
       "      <td>27.66</td>\n",
       "      <td>0.75</td>\n",
       "      <td>0.46</td>\n",
       "      <td>7.87</td>\n",
       "      <td>3.70</td>\n",
       "    </tr>\n",
       "    <tr>\n",
       "      <th>2024-07-19</th>\n",
       "      <td>203.48</td>\n",
       "      <td>16.16</td>\n",
       "      <td>18.02</td>\n",
       "      <td>12.59</td>\n",
       "      <td>15.84</td>\n",
       "      <td>13.83</td>\n",
       "      <td>15.26</td>\n",
       "      <td>12.4</td>\n",
       "      <td>280.70</td>\n",
       "      <td>231.25</td>\n",
       "      <td>212.44</td>\n",
       "      <td>313.01</td>\n",
       "      <td>257.87</td>\n",
       "      <td>285.44</td>\n",
       "      <td>358.34</td>\n",
       "      <td>295.22</td>\n",
       "      <td>326.78</td>\n",
       "      <td>undervalued</td>\n",
       "      <td>11.51</td>\n",
       "      <td>27.66</td>\n",
       "      <td>0.75</td>\n",
       "      <td>0.46</td>\n",
       "      <td>7.94</td>\n",
       "      <td>3.77</td>\n",
       "    </tr>\n",
       "    <tr>\n",
       "      <th>2024-07-18</th>\n",
       "      <td>220.60</td>\n",
       "      <td>13.71</td>\n",
       "      <td>18.02</td>\n",
       "      <td>16.09</td>\n",
       "      <td>15.84</td>\n",
       "      <td>13.83</td>\n",
       "      <td>15.26</td>\n",
       "      <td>12.4</td>\n",
       "      <td>238.14</td>\n",
       "      <td>196.19</td>\n",
       "      <td>212.44</td>\n",
       "      <td>313.01</td>\n",
       "      <td>257.87</td>\n",
       "      <td>285.44</td>\n",
       "      <td>358.34</td>\n",
       "      <td>295.22</td>\n",
       "      <td>326.78</td>\n",
       "      <td>fair</td>\n",
       "      <td>31.44</td>\n",
       "      <td>50.47</td>\n",
       "      <td>0.75</td>\n",
       "      <td>0.32</td>\n",
       "      <td>6.21</td>\n",
       "      <td>2.04</td>\n",
       "    </tr>\n",
       "    <tr>\n",
       "      <th>2024-07-17</th>\n",
       "      <td>220.80</td>\n",
       "      <td>13.71</td>\n",
       "      <td>18.02</td>\n",
       "      <td>16.11</td>\n",
       "      <td>15.84</td>\n",
       "      <td>13.83</td>\n",
       "      <td>15.26</td>\n",
       "      <td>12.4</td>\n",
       "      <td>238.14</td>\n",
       "      <td>196.19</td>\n",
       "      <td>212.44</td>\n",
       "      <td>313.01</td>\n",
       "      <td>257.87</td>\n",
       "      <td>285.44</td>\n",
       "      <td>358.34</td>\n",
       "      <td>295.22</td>\n",
       "      <td>326.78</td>\n",
       "      <td>fair</td>\n",
       "      <td>31.44</td>\n",
       "      <td>50.47</td>\n",
       "      <td>0.75</td>\n",
       "      <td>0.32</td>\n",
       "      <td>6.21</td>\n",
       "      <td>2.04</td>\n",
       "    </tr>\n",
       "    <tr>\n",
       "      <th>2024-07-16</th>\n",
       "      <td>217.79</td>\n",
       "      <td>13.71</td>\n",
       "      <td>18.02</td>\n",
       "      <td>15.89</td>\n",
       "      <td>15.84</td>\n",
       "      <td>13.83</td>\n",
       "      <td>15.26</td>\n",
       "      <td>12.4</td>\n",
       "      <td>238.14</td>\n",
       "      <td>196.19</td>\n",
       "      <td>212.44</td>\n",
       "      <td>313.01</td>\n",
       "      <td>257.87</td>\n",
       "      <td>285.44</td>\n",
       "      <td>358.34</td>\n",
       "      <td>295.22</td>\n",
       "      <td>326.78</td>\n",
       "      <td>fair</td>\n",
       "      <td>31.44</td>\n",
       "      <td>50.47</td>\n",
       "      <td>0.75</td>\n",
       "      <td>0.31</td>\n",
       "      <td>6.30</td>\n",
       "      <td>2.13</td>\n",
       "    </tr>\n",
       "    <tr>\n",
       "      <th>2024-07-15</th>\n",
       "      <td>213.40</td>\n",
       "      <td>13.71</td>\n",
       "      <td>18.02</td>\n",
       "      <td>15.57</td>\n",
       "      <td>15.84</td>\n",
       "      <td>13.83</td>\n",
       "      <td>15.26</td>\n",
       "      <td>12.4</td>\n",
       "      <td>238.14</td>\n",
       "      <td>196.19</td>\n",
       "      <td>212.44</td>\n",
       "      <td>313.01</td>\n",
       "      <td>257.87</td>\n",
       "      <td>285.44</td>\n",
       "      <td>358.34</td>\n",
       "      <td>295.22</td>\n",
       "      <td>326.78</td>\n",
       "      <td>fair</td>\n",
       "      <td>31.44</td>\n",
       "      <td>50.47</td>\n",
       "      <td>0.75</td>\n",
       "      <td>0.31</td>\n",
       "      <td>6.42</td>\n",
       "      <td>2.25</td>\n",
       "    </tr>\n",
       "    <tr>\n",
       "      <th>2024-07-12</th>\n",
       "      <td>211.60</td>\n",
       "      <td>13.71</td>\n",
       "      <td>18.02</td>\n",
       "      <td>15.43</td>\n",
       "      <td>15.84</td>\n",
       "      <td>13.83</td>\n",
       "      <td>15.26</td>\n",
       "      <td>12.4</td>\n",
       "      <td>238.14</td>\n",
       "      <td>196.19</td>\n",
       "      <td>212.44</td>\n",
       "      <td>313.01</td>\n",
       "      <td>257.87</td>\n",
       "      <td>285.44</td>\n",
       "      <td>358.34</td>\n",
       "      <td>295.22</td>\n",
       "      <td>326.78</td>\n",
       "      <td>fair</td>\n",
       "      <td>31.44</td>\n",
       "      <td>50.47</td>\n",
       "      <td>0.75</td>\n",
       "      <td>0.31</td>\n",
       "      <td>6.48</td>\n",
       "      <td>2.31</td>\n",
       "    </tr>\n",
       "    <tr>\n",
       "      <th>2024-07-11</th>\n",
       "      <td>208.95</td>\n",
       "      <td>13.71</td>\n",
       "      <td>18.02</td>\n",
       "      <td>15.24</td>\n",
       "      <td>15.84</td>\n",
       "      <td>13.83</td>\n",
       "      <td>15.26</td>\n",
       "      <td>12.4</td>\n",
       "      <td>238.14</td>\n",
       "      <td>196.19</td>\n",
       "      <td>212.44</td>\n",
       "      <td>313.01</td>\n",
       "      <td>257.87</td>\n",
       "      <td>285.44</td>\n",
       "      <td>358.34</td>\n",
       "      <td>295.22</td>\n",
       "      <td>326.78</td>\n",
       "      <td>fair</td>\n",
       "      <td>31.44</td>\n",
       "      <td>50.47</td>\n",
       "      <td>0.75</td>\n",
       "      <td>0.30</td>\n",
       "      <td>6.56</td>\n",
       "      <td>2.39</td>\n",
       "    </tr>\n",
       "    <tr>\n",
       "      <th>2024-07-10</th>\n",
       "      <td>207.19</td>\n",
       "      <td>13.71</td>\n",
       "      <td>18.02</td>\n",
       "      <td>15.11</td>\n",
       "      <td>15.84</td>\n",
       "      <td>13.83</td>\n",
       "      <td>15.26</td>\n",
       "      <td>12.4</td>\n",
       "      <td>238.14</td>\n",
       "      <td>196.19</td>\n",
       "      <td>212.44</td>\n",
       "      <td>313.01</td>\n",
       "      <td>257.87</td>\n",
       "      <td>285.44</td>\n",
       "      <td>358.34</td>\n",
       "      <td>295.22</td>\n",
       "      <td>326.78</td>\n",
       "      <td>fair</td>\n",
       "      <td>31.44</td>\n",
       "      <td>50.47</td>\n",
       "      <td>0.75</td>\n",
       "      <td>0.30</td>\n",
       "      <td>6.62</td>\n",
       "      <td>2.45</td>\n",
       "    </tr>\n",
       "    <tr>\n",
       "      <th>2024-07-09</th>\n",
       "      <td>203.14</td>\n",
       "      <td>13.71</td>\n",
       "      <td>18.02</td>\n",
       "      <td>14.82</td>\n",
       "      <td>15.84</td>\n",
       "      <td>13.83</td>\n",
       "      <td>15.26</td>\n",
       "      <td>12.4</td>\n",
       "      <td>238.14</td>\n",
       "      <td>196.19</td>\n",
       "      <td>212.44</td>\n",
       "      <td>313.01</td>\n",
       "      <td>257.87</td>\n",
       "      <td>285.44</td>\n",
       "      <td>358.34</td>\n",
       "      <td>295.22</td>\n",
       "      <td>326.78</td>\n",
       "      <td>fair</td>\n",
       "      <td>31.44</td>\n",
       "      <td>50.47</td>\n",
       "      <td>0.75</td>\n",
       "      <td>0.29</td>\n",
       "      <td>6.75</td>\n",
       "      <td>2.58</td>\n",
       "    </tr>\n",
       "    <tr>\n",
       "      <th>2024-07-08</th>\n",
       "      <td>204.23</td>\n",
       "      <td>13.71</td>\n",
       "      <td>18.02</td>\n",
       "      <td>14.90</td>\n",
       "      <td>15.84</td>\n",
       "      <td>13.83</td>\n",
       "      <td>15.26</td>\n",
       "      <td>12.4</td>\n",
       "      <td>238.14</td>\n",
       "      <td>196.19</td>\n",
       "      <td>212.44</td>\n",
       "      <td>313.01</td>\n",
       "      <td>257.87</td>\n",
       "      <td>285.44</td>\n",
       "      <td>358.34</td>\n",
       "      <td>295.22</td>\n",
       "      <td>326.78</td>\n",
       "      <td>fair</td>\n",
       "      <td>31.44</td>\n",
       "      <td>50.47</td>\n",
       "      <td>0.75</td>\n",
       "      <td>0.30</td>\n",
       "      <td>6.71</td>\n",
       "      <td>2.54</td>\n",
       "    </tr>\n",
       "    <tr>\n",
       "      <th>2024-07-05</th>\n",
       "      <td>201.87</td>\n",
       "      <td>13.71</td>\n",
       "      <td>18.02</td>\n",
       "      <td>14.72</td>\n",
       "      <td>15.84</td>\n",
       "      <td>13.83</td>\n",
       "      <td>15.26</td>\n",
       "      <td>12.4</td>\n",
       "      <td>238.14</td>\n",
       "      <td>196.19</td>\n",
       "      <td>212.44</td>\n",
       "      <td>313.01</td>\n",
       "      <td>257.87</td>\n",
       "      <td>285.44</td>\n",
       "      <td>358.34</td>\n",
       "      <td>295.22</td>\n",
       "      <td>326.78</td>\n",
       "      <td>fair</td>\n",
       "      <td>31.44</td>\n",
       "      <td>50.47</td>\n",
       "      <td>0.75</td>\n",
       "      <td>0.29</td>\n",
       "      <td>6.79</td>\n",
       "      <td>2.62</td>\n",
       "    </tr>\n",
       "    <tr>\n",
       "      <th>2024-07-03</th>\n",
       "      <td>203.69</td>\n",
       "      <td>13.71</td>\n",
       "      <td>18.02</td>\n",
       "      <td>14.86</td>\n",
       "      <td>15.84</td>\n",
       "      <td>13.83</td>\n",
       "      <td>15.26</td>\n",
       "      <td>12.4</td>\n",
       "      <td>238.14</td>\n",
       "      <td>196.19</td>\n",
       "      <td>212.44</td>\n",
       "      <td>313.01</td>\n",
       "      <td>257.87</td>\n",
       "      <td>285.44</td>\n",
       "      <td>358.34</td>\n",
       "      <td>295.22</td>\n",
       "      <td>326.78</td>\n",
       "      <td>fair</td>\n",
       "      <td>31.44</td>\n",
       "      <td>50.47</td>\n",
       "      <td>0.75</td>\n",
       "      <td>0.29</td>\n",
       "      <td>6.73</td>\n",
       "      <td>2.56</td>\n",
       "    </tr>\n",
       "    <tr>\n",
       "      <th>2024-07-02</th>\n",
       "      <td>203.66</td>\n",
       "      <td>13.71</td>\n",
       "      <td>18.02</td>\n",
       "      <td>14.85</td>\n",
       "      <td>15.84</td>\n",
       "      <td>13.83</td>\n",
       "      <td>15.26</td>\n",
       "      <td>12.4</td>\n",
       "      <td>238.14</td>\n",
       "      <td>196.19</td>\n",
       "      <td>212.44</td>\n",
       "      <td>313.01</td>\n",
       "      <td>257.87</td>\n",
       "      <td>285.44</td>\n",
       "      <td>358.34</td>\n",
       "      <td>295.22</td>\n",
       "      <td>326.78</td>\n",
       "      <td>fair</td>\n",
       "      <td>31.44</td>\n",
       "      <td>50.47</td>\n",
       "      <td>0.75</td>\n",
       "      <td>0.29</td>\n",
       "      <td>6.73</td>\n",
       "      <td>2.56</td>\n",
       "    </tr>\n",
       "    <tr>\n",
       "      <th>2024-07-01</th>\n",
       "      <td>202.97</td>\n",
       "      <td>13.71</td>\n",
       "      <td>18.02</td>\n",
       "      <td>14.80</td>\n",
       "      <td>15.84</td>\n",
       "      <td>13.83</td>\n",
       "      <td>15.26</td>\n",
       "      <td>12.4</td>\n",
       "      <td>238.14</td>\n",
       "      <td>196.19</td>\n",
       "      <td>212.44</td>\n",
       "      <td>313.01</td>\n",
       "      <td>257.87</td>\n",
       "      <td>285.44</td>\n",
       "      <td>358.34</td>\n",
       "      <td>295.22</td>\n",
       "      <td>326.78</td>\n",
       "      <td>fair</td>\n",
       "      <td>31.44</td>\n",
       "      <td>50.47</td>\n",
       "      <td>0.75</td>\n",
       "      <td>0.29</td>\n",
       "      <td>6.75</td>\n",
       "      <td>2.58</td>\n",
       "    </tr>\n",
       "    <tr>\n",
       "      <th>2024-06-28</th>\n",
       "      <td>203.34</td>\n",
       "      <td>13.71</td>\n",
       "      <td>18.02</td>\n",
       "      <td>14.83</td>\n",
       "      <td>15.84</td>\n",
       "      <td>13.83</td>\n",
       "      <td>15.26</td>\n",
       "      <td>12.4</td>\n",
       "      <td>238.14</td>\n",
       "      <td>196.19</td>\n",
       "      <td>212.44</td>\n",
       "      <td>313.01</td>\n",
       "      <td>257.87</td>\n",
       "      <td>285.44</td>\n",
       "      <td>358.34</td>\n",
       "      <td>295.22</td>\n",
       "      <td>326.78</td>\n",
       "      <td>fair</td>\n",
       "      <td>31.44</td>\n",
       "      <td>50.47</td>\n",
       "      <td>0.75</td>\n",
       "      <td>0.29</td>\n",
       "      <td>6.74</td>\n",
       "      <td>2.57</td>\n",
       "    </tr>\n",
       "    <tr>\n",
       "      <th>2024-06-27</th>\n",
       "      <td>206.95</td>\n",
       "      <td>13.71</td>\n",
       "      <td>18.02</td>\n",
       "      <td>15.09</td>\n",
       "      <td>15.84</td>\n",
       "      <td>13.83</td>\n",
       "      <td>15.26</td>\n",
       "      <td>12.4</td>\n",
       "      <td>238.14</td>\n",
       "      <td>196.19</td>\n",
       "      <td>212.44</td>\n",
       "      <td>313.01</td>\n",
       "      <td>257.87</td>\n",
       "      <td>285.44</td>\n",
       "      <td>358.34</td>\n",
       "      <td>295.22</td>\n",
       "      <td>326.78</td>\n",
       "      <td>fair</td>\n",
       "      <td>31.44</td>\n",
       "      <td>50.47</td>\n",
       "      <td>0.75</td>\n",
       "      <td>0.30</td>\n",
       "      <td>6.62</td>\n",
       "      <td>2.45</td>\n",
       "    </tr>\n",
       "    <tr>\n",
       "      <th>2024-06-26</th>\n",
       "      <td>205.74</td>\n",
       "      <td>13.71</td>\n",
       "      <td>18.02</td>\n",
       "      <td>15.01</td>\n",
       "      <td>15.84</td>\n",
       "      <td>13.83</td>\n",
       "      <td>15.26</td>\n",
       "      <td>12.4</td>\n",
       "      <td>238.14</td>\n",
       "      <td>196.19</td>\n",
       "      <td>212.44</td>\n",
       "      <td>313.01</td>\n",
       "      <td>257.87</td>\n",
       "      <td>285.44</td>\n",
       "      <td>358.34</td>\n",
       "      <td>295.22</td>\n",
       "      <td>326.78</td>\n",
       "      <td>fair</td>\n",
       "      <td>31.44</td>\n",
       "      <td>50.47</td>\n",
       "      <td>0.75</td>\n",
       "      <td>0.30</td>\n",
       "      <td>6.66</td>\n",
       "      <td>2.49</td>\n",
       "    </tr>\n",
       "    <tr>\n",
       "      <th>2024-06-25</th>\n",
       "      <td>208.72</td>\n",
       "      <td>13.71</td>\n",
       "      <td>18.02</td>\n",
       "      <td>15.22</td>\n",
       "      <td>15.84</td>\n",
       "      <td>13.83</td>\n",
       "      <td>15.26</td>\n",
       "      <td>12.4</td>\n",
       "      <td>238.14</td>\n",
       "      <td>196.19</td>\n",
       "      <td>212.44</td>\n",
       "      <td>313.01</td>\n",
       "      <td>257.87</td>\n",
       "      <td>285.44</td>\n",
       "      <td>358.34</td>\n",
       "      <td>295.22</td>\n",
       "      <td>326.78</td>\n",
       "      <td>fair</td>\n",
       "      <td>31.44</td>\n",
       "      <td>50.47</td>\n",
       "      <td>0.75</td>\n",
       "      <td>0.30</td>\n",
       "      <td>6.57</td>\n",
       "      <td>2.40</td>\n",
       "    </tr>\n",
       "    <tr>\n",
       "      <th>2024-06-24</th>\n",
       "      <td>211.09</td>\n",
       "      <td>13.71</td>\n",
       "      <td>18.02</td>\n",
       "      <td>15.40</td>\n",
       "      <td>15.84</td>\n",
       "      <td>13.83</td>\n",
       "      <td>15.26</td>\n",
       "      <td>12.4</td>\n",
       "      <td>238.14</td>\n",
       "      <td>196.19</td>\n",
       "      <td>212.44</td>\n",
       "      <td>313.01</td>\n",
       "      <td>257.87</td>\n",
       "      <td>285.44</td>\n",
       "      <td>358.34</td>\n",
       "      <td>295.22</td>\n",
       "      <td>326.78</td>\n",
       "      <td>fair</td>\n",
       "      <td>31.44</td>\n",
       "      <td>50.47</td>\n",
       "      <td>0.75</td>\n",
       "      <td>0.31</td>\n",
       "      <td>6.49</td>\n",
       "      <td>2.32</td>\n",
       "    </tr>\n",
       "    <tr>\n",
       "      <th>2024-06-21</th>\n",
       "      <td>209.80</td>\n",
       "      <td>13.71</td>\n",
       "      <td>18.02</td>\n",
       "      <td>15.30</td>\n",
       "      <td>15.84</td>\n",
       "      <td>13.83</td>\n",
       "      <td>15.26</td>\n",
       "      <td>12.4</td>\n",
       "      <td>238.14</td>\n",
       "      <td>196.19</td>\n",
       "      <td>212.44</td>\n",
       "      <td>313.01</td>\n",
       "      <td>257.87</td>\n",
       "      <td>285.44</td>\n",
       "      <td>358.34</td>\n",
       "      <td>295.22</td>\n",
       "      <td>326.78</td>\n",
       "      <td>fair</td>\n",
       "      <td>31.44</td>\n",
       "      <td>50.47</td>\n",
       "      <td>0.75</td>\n",
       "      <td>0.30</td>\n",
       "      <td>6.53</td>\n",
       "      <td>2.36</td>\n",
       "    </tr>\n",
       "    <tr>\n",
       "      <th>2024-06-20</th>\n",
       "      <td>211.97</td>\n",
       "      <td>13.71</td>\n",
       "      <td>18.02</td>\n",
       "      <td>15.46</td>\n",
       "      <td>15.84</td>\n",
       "      <td>13.83</td>\n",
       "      <td>15.26</td>\n",
       "      <td>12.4</td>\n",
       "      <td>238.14</td>\n",
       "      <td>196.19</td>\n",
       "      <td>212.44</td>\n",
       "      <td>313.01</td>\n",
       "      <td>257.87</td>\n",
       "      <td>285.44</td>\n",
       "      <td>358.34</td>\n",
       "      <td>295.22</td>\n",
       "      <td>326.78</td>\n",
       "      <td>fair</td>\n",
       "      <td>31.44</td>\n",
       "      <td>50.47</td>\n",
       "      <td>0.75</td>\n",
       "      <td>0.31</td>\n",
       "      <td>6.47</td>\n",
       "      <td>2.30</td>\n",
       "    </tr>\n",
       "    <tr>\n",
       "      <th>2024-06-18</th>\n",
       "      <td>208.51</td>\n",
       "      <td>13.71</td>\n",
       "      <td>18.02</td>\n",
       "      <td>15.21</td>\n",
       "      <td>15.84</td>\n",
       "      <td>13.83</td>\n",
       "      <td>15.26</td>\n",
       "      <td>12.4</td>\n",
       "      <td>238.14</td>\n",
       "      <td>196.19</td>\n",
       "      <td>212.44</td>\n",
       "      <td>313.01</td>\n",
       "      <td>257.87</td>\n",
       "      <td>285.44</td>\n",
       "      <td>358.34</td>\n",
       "      <td>295.22</td>\n",
       "      <td>326.78</td>\n",
       "      <td>fair</td>\n",
       "      <td>31.44</td>\n",
       "      <td>50.47</td>\n",
       "      <td>0.75</td>\n",
       "      <td>0.30</td>\n",
       "      <td>6.58</td>\n",
       "      <td>2.41</td>\n",
       "    </tr>\n",
       "    <tr>\n",
       "      <th>2024-06-17</th>\n",
       "      <td>208.13</td>\n",
       "      <td>13.71</td>\n",
       "      <td>18.02</td>\n",
       "      <td>15.18</td>\n",
       "      <td>15.84</td>\n",
       "      <td>13.83</td>\n",
       "      <td>15.26</td>\n",
       "      <td>12.4</td>\n",
       "      <td>238.14</td>\n",
       "      <td>196.19</td>\n",
       "      <td>212.44</td>\n",
       "      <td>313.01</td>\n",
       "      <td>257.87</td>\n",
       "      <td>285.44</td>\n",
       "      <td>358.34</td>\n",
       "      <td>295.22</td>\n",
       "      <td>326.78</td>\n",
       "      <td>fair</td>\n",
       "      <td>31.44</td>\n",
       "      <td>50.47</td>\n",
       "      <td>0.75</td>\n",
       "      <td>0.30</td>\n",
       "      <td>6.59</td>\n",
       "      <td>2.42</td>\n",
       "    </tr>\n",
       "    <tr>\n",
       "      <th>2024-06-14</th>\n",
       "      <td>205.85</td>\n",
       "      <td>13.71</td>\n",
       "      <td>18.02</td>\n",
       "      <td>15.01</td>\n",
       "      <td>15.84</td>\n",
       "      <td>13.83</td>\n",
       "      <td>15.26</td>\n",
       "      <td>12.4</td>\n",
       "      <td>238.14</td>\n",
       "      <td>196.19</td>\n",
       "      <td>212.44</td>\n",
       "      <td>313.01</td>\n",
       "      <td>257.87</td>\n",
       "      <td>285.44</td>\n",
       "      <td>358.34</td>\n",
       "      <td>295.22</td>\n",
       "      <td>326.78</td>\n",
       "      <td>fair</td>\n",
       "      <td>31.44</td>\n",
       "      <td>50.47</td>\n",
       "      <td>0.75</td>\n",
       "      <td>0.30</td>\n",
       "      <td>6.66</td>\n",
       "      <td>2.49</td>\n",
       "    </tr>\n",
       "    <tr>\n",
       "      <th>2024-06-13</th>\n",
       "      <td>207.07</td>\n",
       "      <td>13.71</td>\n",
       "      <td>18.02</td>\n",
       "      <td>15.10</td>\n",
       "      <td>15.84</td>\n",
       "      <td>13.83</td>\n",
       "      <td>15.26</td>\n",
       "      <td>12.4</td>\n",
       "      <td>238.14</td>\n",
       "      <td>196.19</td>\n",
       "      <td>212.44</td>\n",
       "      <td>313.01</td>\n",
       "      <td>257.87</td>\n",
       "      <td>285.44</td>\n",
       "      <td>358.34</td>\n",
       "      <td>295.22</td>\n",
       "      <td>326.78</td>\n",
       "      <td>fair</td>\n",
       "      <td>31.44</td>\n",
       "      <td>50.47</td>\n",
       "      <td>0.75</td>\n",
       "      <td>0.30</td>\n",
       "      <td>6.62</td>\n",
       "      <td>2.45</td>\n",
       "    </tr>\n",
       "    <tr>\n",
       "      <th>2024-06-12</th>\n",
       "      <td>207.26</td>\n",
       "      <td>13.71</td>\n",
       "      <td>18.02</td>\n",
       "      <td>15.12</td>\n",
       "      <td>15.84</td>\n",
       "      <td>13.83</td>\n",
       "      <td>15.26</td>\n",
       "      <td>12.4</td>\n",
       "      <td>238.14</td>\n",
       "      <td>196.19</td>\n",
       "      <td>212.44</td>\n",
       "      <td>313.01</td>\n",
       "      <td>257.87</td>\n",
       "      <td>285.44</td>\n",
       "      <td>358.34</td>\n",
       "      <td>295.22</td>\n",
       "      <td>326.78</td>\n",
       "      <td>fair</td>\n",
       "      <td>31.44</td>\n",
       "      <td>50.47</td>\n",
       "      <td>0.75</td>\n",
       "      <td>0.30</td>\n",
       "      <td>6.61</td>\n",
       "      <td>2.44</td>\n",
       "    </tr>\n",
       "    <tr>\n",
       "      <th>2024-06-11</th>\n",
       "      <td>209.41</td>\n",
       "      <td>13.71</td>\n",
       "      <td>18.02</td>\n",
       "      <td>15.27</td>\n",
       "      <td>15.84</td>\n",
       "      <td>13.83</td>\n",
       "      <td>15.26</td>\n",
       "      <td>12.4</td>\n",
       "      <td>238.14</td>\n",
       "      <td>196.19</td>\n",
       "      <td>212.44</td>\n",
       "      <td>313.01</td>\n",
       "      <td>257.87</td>\n",
       "      <td>285.44</td>\n",
       "      <td>358.34</td>\n",
       "      <td>295.22</td>\n",
       "      <td>326.78</td>\n",
       "      <td>fair</td>\n",
       "      <td>31.44</td>\n",
       "      <td>50.47</td>\n",
       "      <td>0.75</td>\n",
       "      <td>0.30</td>\n",
       "      <td>6.55</td>\n",
       "      <td>2.38</td>\n",
       "    </tr>\n",
       "    <tr>\n",
       "      <th>2024-06-10</th>\n",
       "      <td>213.00</td>\n",
       "      <td>13.71</td>\n",
       "      <td>18.02</td>\n",
       "      <td>15.54</td>\n",
       "      <td>15.84</td>\n",
       "      <td>13.83</td>\n",
       "      <td>15.26</td>\n",
       "      <td>12.4</td>\n",
       "      <td>238.14</td>\n",
       "      <td>196.19</td>\n",
       "      <td>212.44</td>\n",
       "      <td>313.01</td>\n",
       "      <td>257.87</td>\n",
       "      <td>285.44</td>\n",
       "      <td>358.34</td>\n",
       "      <td>295.22</td>\n",
       "      <td>326.78</td>\n",
       "      <td>fair</td>\n",
       "      <td>31.44</td>\n",
       "      <td>50.47</td>\n",
       "      <td>0.75</td>\n",
       "      <td>0.31</td>\n",
       "      <td>6.44</td>\n",
       "      <td>2.27</td>\n",
       "    </tr>\n",
       "    <tr>\n",
       "      <th>2024-06-07</th>\n",
       "      <td>212.95</td>\n",
       "      <td>13.71</td>\n",
       "      <td>18.02</td>\n",
       "      <td>15.53</td>\n",
       "      <td>15.84</td>\n",
       "      <td>13.83</td>\n",
       "      <td>15.26</td>\n",
       "      <td>12.4</td>\n",
       "      <td>238.14</td>\n",
       "      <td>196.19</td>\n",
       "      <td>212.44</td>\n",
       "      <td>313.01</td>\n",
       "      <td>257.87</td>\n",
       "      <td>285.44</td>\n",
       "      <td>358.34</td>\n",
       "      <td>295.22</td>\n",
       "      <td>326.78</td>\n",
       "      <td>fair</td>\n",
       "      <td>31.44</td>\n",
       "      <td>50.47</td>\n",
       "      <td>0.75</td>\n",
       "      <td>0.31</td>\n",
       "      <td>6.44</td>\n",
       "      <td>2.27</td>\n",
       "    </tr>\n",
       "    <tr>\n",
       "      <th>2024-06-06</th>\n",
       "      <td>209.71</td>\n",
       "      <td>13.71</td>\n",
       "      <td>18.02</td>\n",
       "      <td>15.30</td>\n",
       "      <td>15.84</td>\n",
       "      <td>13.83</td>\n",
       "      <td>15.26</td>\n",
       "      <td>12.4</td>\n",
       "      <td>238.14</td>\n",
       "      <td>196.19</td>\n",
       "      <td>212.44</td>\n",
       "      <td>313.01</td>\n",
       "      <td>257.87</td>\n",
       "      <td>285.44</td>\n",
       "      <td>358.34</td>\n",
       "      <td>295.22</td>\n",
       "      <td>326.78</td>\n",
       "      <td>fair</td>\n",
       "      <td>31.44</td>\n",
       "      <td>50.47</td>\n",
       "      <td>0.75</td>\n",
       "      <td>0.30</td>\n",
       "      <td>6.54</td>\n",
       "      <td>2.37</td>\n",
       "    </tr>\n",
       "    <tr>\n",
       "      <th>2024-06-05</th>\n",
       "      <td>208.41</td>\n",
       "      <td>13.71</td>\n",
       "      <td>18.02</td>\n",
       "      <td>15.20</td>\n",
       "      <td>15.84</td>\n",
       "      <td>13.83</td>\n",
       "      <td>15.26</td>\n",
       "      <td>12.4</td>\n",
       "      <td>238.14</td>\n",
       "      <td>196.19</td>\n",
       "      <td>212.44</td>\n",
       "      <td>313.01</td>\n",
       "      <td>257.87</td>\n",
       "      <td>285.44</td>\n",
       "      <td>358.34</td>\n",
       "      <td>295.22</td>\n",
       "      <td>326.78</td>\n",
       "      <td>fair</td>\n",
       "      <td>31.44</td>\n",
       "      <td>50.47</td>\n",
       "      <td>0.75</td>\n",
       "      <td>0.30</td>\n",
       "      <td>6.58</td>\n",
       "      <td>2.41</td>\n",
       "    </tr>\n",
       "    <tr>\n",
       "      <th>2024-06-04</th>\n",
       "      <td>209.64</td>\n",
       "      <td>13.71</td>\n",
       "      <td>18.02</td>\n",
       "      <td>15.29</td>\n",
       "      <td>15.84</td>\n",
       "      <td>13.83</td>\n",
       "      <td>15.26</td>\n",
       "      <td>12.4</td>\n",
       "      <td>238.14</td>\n",
       "      <td>196.19</td>\n",
       "      <td>212.44</td>\n",
       "      <td>313.01</td>\n",
       "      <td>257.87</td>\n",
       "      <td>285.44</td>\n",
       "      <td>358.34</td>\n",
       "      <td>295.22</td>\n",
       "      <td>326.78</td>\n",
       "      <td>fair</td>\n",
       "      <td>31.44</td>\n",
       "      <td>50.47</td>\n",
       "      <td>0.75</td>\n",
       "      <td>0.30</td>\n",
       "      <td>6.54</td>\n",
       "      <td>2.37</td>\n",
       "    </tr>\n",
       "    <tr>\n",
       "      <th>2024-06-03</th>\n",
       "      <td>210.34</td>\n",
       "      <td>13.71</td>\n",
       "      <td>18.02</td>\n",
       "      <td>15.34</td>\n",
       "      <td>15.84</td>\n",
       "      <td>13.83</td>\n",
       "      <td>15.26</td>\n",
       "      <td>12.4</td>\n",
       "      <td>238.14</td>\n",
       "      <td>196.19</td>\n",
       "      <td>212.44</td>\n",
       "      <td>313.01</td>\n",
       "      <td>257.87</td>\n",
       "      <td>285.44</td>\n",
       "      <td>358.34</td>\n",
       "      <td>295.22</td>\n",
       "      <td>326.78</td>\n",
       "      <td>fair</td>\n",
       "      <td>31.44</td>\n",
       "      <td>50.47</td>\n",
       "      <td>0.75</td>\n",
       "      <td>0.30</td>\n",
       "      <td>6.52</td>\n",
       "      <td>2.35</td>\n",
       "    </tr>\n",
       "    <tr>\n",
       "      <th>2024-05-31</th>\n",
       "      <td>215.70</td>\n",
       "      <td>13.71</td>\n",
       "      <td>18.02</td>\n",
       "      <td>15.73</td>\n",
       "      <td>15.84</td>\n",
       "      <td>13.83</td>\n",
       "      <td>15.26</td>\n",
       "      <td>12.4</td>\n",
       "      <td>238.14</td>\n",
       "      <td>196.19</td>\n",
       "      <td>212.44</td>\n",
       "      <td>313.01</td>\n",
       "      <td>257.87</td>\n",
       "      <td>285.44</td>\n",
       "      <td>358.34</td>\n",
       "      <td>295.22</td>\n",
       "      <td>326.78</td>\n",
       "      <td>fair</td>\n",
       "      <td>31.44</td>\n",
       "      <td>50.47</td>\n",
       "      <td>0.75</td>\n",
       "      <td>0.31</td>\n",
       "      <td>6.36</td>\n",
       "      <td>2.19</td>\n",
       "    </tr>\n",
       "    <tr>\n",
       "      <th>2024-05-30</th>\n",
       "      <td>212.49</td>\n",
       "      <td>13.71</td>\n",
       "      <td>18.02</td>\n",
       "      <td>15.50</td>\n",
       "      <td>15.84</td>\n",
       "      <td>13.83</td>\n",
       "      <td>15.26</td>\n",
       "      <td>12.4</td>\n",
       "      <td>238.14</td>\n",
       "      <td>196.19</td>\n",
       "      <td>212.44</td>\n",
       "      <td>313.01</td>\n",
       "      <td>257.87</td>\n",
       "      <td>285.44</td>\n",
       "      <td>358.34</td>\n",
       "      <td>295.22</td>\n",
       "      <td>326.78</td>\n",
       "      <td>fair</td>\n",
       "      <td>31.44</td>\n",
       "      <td>50.47</td>\n",
       "      <td>0.75</td>\n",
       "      <td>0.31</td>\n",
       "      <td>6.45</td>\n",
       "      <td>2.28</td>\n",
       "    </tr>\n",
       "    <tr>\n",
       "      <th>2024-05-29</th>\n",
       "      <td>210.07</td>\n",
       "      <td>13.71</td>\n",
       "      <td>18.02</td>\n",
       "      <td>15.32</td>\n",
       "      <td>15.84</td>\n",
       "      <td>13.83</td>\n",
       "      <td>15.26</td>\n",
       "      <td>12.4</td>\n",
       "      <td>238.14</td>\n",
       "      <td>196.19</td>\n",
       "      <td>212.44</td>\n",
       "      <td>313.01</td>\n",
       "      <td>257.87</td>\n",
       "      <td>285.44</td>\n",
       "      <td>358.34</td>\n",
       "      <td>295.22</td>\n",
       "      <td>326.78</td>\n",
       "      <td>fair</td>\n",
       "      <td>31.44</td>\n",
       "      <td>50.47</td>\n",
       "      <td>0.75</td>\n",
       "      <td>0.30</td>\n",
       "      <td>6.53</td>\n",
       "      <td>2.36</td>\n",
       "    </tr>\n",
       "    <tr>\n",
       "      <th>2024-05-28</th>\n",
       "      <td>210.37</td>\n",
       "      <td>13.71</td>\n",
       "      <td>18.02</td>\n",
       "      <td>15.34</td>\n",
       "      <td>15.84</td>\n",
       "      <td>13.83</td>\n",
       "      <td>15.26</td>\n",
       "      <td>12.4</td>\n",
       "      <td>238.14</td>\n",
       "      <td>196.19</td>\n",
       "      <td>212.44</td>\n",
       "      <td>313.01</td>\n",
       "      <td>257.87</td>\n",
       "      <td>285.44</td>\n",
       "      <td>358.34</td>\n",
       "      <td>295.22</td>\n",
       "      <td>326.78</td>\n",
       "      <td>fair</td>\n",
       "      <td>31.44</td>\n",
       "      <td>50.47</td>\n",
       "      <td>0.75</td>\n",
       "      <td>0.30</td>\n",
       "      <td>6.52</td>\n",
       "      <td>2.35</td>\n",
       "    </tr>\n",
       "    <tr>\n",
       "      <th>2024-05-24</th>\n",
       "      <td>213.33</td>\n",
       "      <td>13.71</td>\n",
       "      <td>18.02</td>\n",
       "      <td>15.56</td>\n",
       "      <td>15.84</td>\n",
       "      <td>13.83</td>\n",
       "      <td>15.26</td>\n",
       "      <td>12.4</td>\n",
       "      <td>238.14</td>\n",
       "      <td>196.19</td>\n",
       "      <td>212.44</td>\n",
       "      <td>313.01</td>\n",
       "      <td>257.87</td>\n",
       "      <td>285.44</td>\n",
       "      <td>358.34</td>\n",
       "      <td>295.22</td>\n",
       "      <td>326.78</td>\n",
       "      <td>fair</td>\n",
       "      <td>31.44</td>\n",
       "      <td>50.47</td>\n",
       "      <td>0.75</td>\n",
       "      <td>0.31</td>\n",
       "      <td>6.43</td>\n",
       "      <td>2.26</td>\n",
       "    </tr>\n",
       "    <tr>\n",
       "      <th>2024-05-23</th>\n",
       "      <td>212.24</td>\n",
       "      <td>13.71</td>\n",
       "      <td>18.02</td>\n",
       "      <td>15.48</td>\n",
       "      <td>15.84</td>\n",
       "      <td>13.83</td>\n",
       "      <td>15.26</td>\n",
       "      <td>12.4</td>\n",
       "      <td>238.14</td>\n",
       "      <td>196.19</td>\n",
       "      <td>212.44</td>\n",
       "      <td>313.01</td>\n",
       "      <td>257.87</td>\n",
       "      <td>285.44</td>\n",
       "      <td>358.34</td>\n",
       "      <td>295.22</td>\n",
       "      <td>326.78</td>\n",
       "      <td>fair</td>\n",
       "      <td>31.44</td>\n",
       "      <td>50.47</td>\n",
       "      <td>0.75</td>\n",
       "      <td>0.31</td>\n",
       "      <td>6.46</td>\n",
       "      <td>2.29</td>\n",
       "    </tr>\n",
       "    <tr>\n",
       "      <th>2024-05-22</th>\n",
       "      <td>216.54</td>\n",
       "      <td>13.71</td>\n",
       "      <td>18.02</td>\n",
       "      <td>15.79</td>\n",
       "      <td>15.84</td>\n",
       "      <td>13.83</td>\n",
       "      <td>15.26</td>\n",
       "      <td>12.4</td>\n",
       "      <td>238.14</td>\n",
       "      <td>196.19</td>\n",
       "      <td>212.44</td>\n",
       "      <td>313.01</td>\n",
       "      <td>257.87</td>\n",
       "      <td>285.44</td>\n",
       "      <td>358.34</td>\n",
       "      <td>295.22</td>\n",
       "      <td>326.78</td>\n",
       "      <td>fair</td>\n",
       "      <td>31.44</td>\n",
       "      <td>50.47</td>\n",
       "      <td>0.75</td>\n",
       "      <td>0.31</td>\n",
       "      <td>6.33</td>\n",
       "      <td>2.16</td>\n",
       "    </tr>\n",
       "    <tr>\n",
       "      <th>2024-05-21</th>\n",
       "      <td>216.25</td>\n",
       "      <td>13.71</td>\n",
       "      <td>18.02</td>\n",
       "      <td>15.77</td>\n",
       "      <td>15.84</td>\n",
       "      <td>13.83</td>\n",
       "      <td>15.26</td>\n",
       "      <td>12.4</td>\n",
       "      <td>238.14</td>\n",
       "      <td>196.19</td>\n",
       "      <td>212.44</td>\n",
       "      <td>313.01</td>\n",
       "      <td>257.87</td>\n",
       "      <td>285.44</td>\n",
       "      <td>358.34</td>\n",
       "      <td>295.22</td>\n",
       "      <td>326.78</td>\n",
       "      <td>fair</td>\n",
       "      <td>31.44</td>\n",
       "      <td>50.47</td>\n",
       "      <td>0.75</td>\n",
       "      <td>0.31</td>\n",
       "      <td>6.34</td>\n",
       "      <td>2.17</td>\n",
       "    </tr>\n",
       "    <tr>\n",
       "      <th>2024-05-20</th>\n",
       "      <td>215.60</td>\n",
       "      <td>13.71</td>\n",
       "      <td>18.02</td>\n",
       "      <td>15.73</td>\n",
       "      <td>15.84</td>\n",
       "      <td>13.83</td>\n",
       "      <td>15.26</td>\n",
       "      <td>12.4</td>\n",
       "      <td>238.14</td>\n",
       "      <td>196.19</td>\n",
       "      <td>212.44</td>\n",
       "      <td>313.01</td>\n",
       "      <td>257.87</td>\n",
       "      <td>285.44</td>\n",
       "      <td>358.34</td>\n",
       "      <td>295.22</td>\n",
       "      <td>326.78</td>\n",
       "      <td>fair</td>\n",
       "      <td>31.44</td>\n",
       "      <td>50.47</td>\n",
       "      <td>0.75</td>\n",
       "      <td>0.31</td>\n",
       "      <td>6.36</td>\n",
       "      <td>2.19</td>\n",
       "    </tr>\n",
       "    <tr>\n",
       "      <th>2024-05-17</th>\n",
       "      <td>219.71</td>\n",
       "      <td>13.71</td>\n",
       "      <td>18.02</td>\n",
       "      <td>16.03</td>\n",
       "      <td>15.84</td>\n",
       "      <td>13.83</td>\n",
       "      <td>15.26</td>\n",
       "      <td>12.4</td>\n",
       "      <td>238.14</td>\n",
       "      <td>196.19</td>\n",
       "      <td>212.44</td>\n",
       "      <td>313.01</td>\n",
       "      <td>257.87</td>\n",
       "      <td>285.44</td>\n",
       "      <td>358.34</td>\n",
       "      <td>295.22</td>\n",
       "      <td>326.78</td>\n",
       "      <td>fair</td>\n",
       "      <td>31.44</td>\n",
       "      <td>50.47</td>\n",
       "      <td>0.75</td>\n",
       "      <td>0.32</td>\n",
       "      <td>6.24</td>\n",
       "      <td>2.07</td>\n",
       "    </tr>\n",
       "    <tr>\n",
       "      <th>2024-05-16</th>\n",
       "      <td>219.22</td>\n",
       "      <td>13.71</td>\n",
       "      <td>18.02</td>\n",
       "      <td>15.99</td>\n",
       "      <td>15.84</td>\n",
       "      <td>13.83</td>\n",
       "      <td>15.26</td>\n",
       "      <td>12.4</td>\n",
       "      <td>238.14</td>\n",
       "      <td>196.19</td>\n",
       "      <td>212.44</td>\n",
       "      <td>313.01</td>\n",
       "      <td>257.87</td>\n",
       "      <td>285.44</td>\n",
       "      <td>358.34</td>\n",
       "      <td>295.22</td>\n",
       "      <td>326.78</td>\n",
       "      <td>fair</td>\n",
       "      <td>31.44</td>\n",
       "      <td>50.47</td>\n",
       "      <td>0.75</td>\n",
       "      <td>0.32</td>\n",
       "      <td>6.25</td>\n",
       "      <td>2.08</td>\n",
       "    </tr>\n",
       "    <tr>\n",
       "      <th>2024-05-15</th>\n",
       "      <td>214.35</td>\n",
       "      <td>13.71</td>\n",
       "      <td>18.02</td>\n",
       "      <td>15.63</td>\n",
       "      <td>15.84</td>\n",
       "      <td>13.83</td>\n",
       "      <td>15.26</td>\n",
       "      <td>12.4</td>\n",
       "      <td>238.14</td>\n",
       "      <td>196.19</td>\n",
       "      <td>212.44</td>\n",
       "      <td>313.01</td>\n",
       "      <td>257.87</td>\n",
       "      <td>285.44</td>\n",
       "      <td>358.34</td>\n",
       "      <td>295.22</td>\n",
       "      <td>326.78</td>\n",
       "      <td>fair</td>\n",
       "      <td>31.44</td>\n",
       "      <td>50.47</td>\n",
       "      <td>0.75</td>\n",
       "      <td>0.31</td>\n",
       "      <td>6.40</td>\n",
       "      <td>2.23</td>\n",
       "    </tr>\n",
       "    <tr>\n",
       "      <th>2024-05-14</th>\n",
       "      <td>217.59</td>\n",
       "      <td>13.71</td>\n",
       "      <td>18.02</td>\n",
       "      <td>15.87</td>\n",
       "      <td>15.84</td>\n",
       "      <td>13.83</td>\n",
       "      <td>15.26</td>\n",
       "      <td>12.4</td>\n",
       "      <td>238.14</td>\n",
       "      <td>196.19</td>\n",
       "      <td>212.44</td>\n",
       "      <td>313.01</td>\n",
       "      <td>257.87</td>\n",
       "      <td>285.44</td>\n",
       "      <td>358.34</td>\n",
       "      <td>295.22</td>\n",
       "      <td>326.78</td>\n",
       "      <td>fair</td>\n",
       "      <td>31.44</td>\n",
       "      <td>50.47</td>\n",
       "      <td>0.75</td>\n",
       "      <td>0.31</td>\n",
       "      <td>6.30</td>\n",
       "      <td>2.13</td>\n",
       "    </tr>\n",
       "    <tr>\n",
       "      <th>2024-05-13</th>\n",
       "      <td>216.58</td>\n",
       "      <td>13.71</td>\n",
       "      <td>18.02</td>\n",
       "      <td>15.80</td>\n",
       "      <td>15.84</td>\n",
       "      <td>13.83</td>\n",
       "      <td>15.26</td>\n",
       "      <td>12.4</td>\n",
       "      <td>238.14</td>\n",
       "      <td>196.19</td>\n",
       "      <td>212.44</td>\n",
       "      <td>313.01</td>\n",
       "      <td>257.87</td>\n",
       "      <td>285.44</td>\n",
       "      <td>358.34</td>\n",
       "      <td>295.22</td>\n",
       "      <td>326.78</td>\n",
       "      <td>fair</td>\n",
       "      <td>31.44</td>\n",
       "      <td>50.47</td>\n",
       "      <td>0.75</td>\n",
       "      <td>0.31</td>\n",
       "      <td>6.33</td>\n",
       "      <td>2.16</td>\n",
       "    </tr>\n",
       "    <tr>\n",
       "      <th>2024-05-10</th>\n",
       "      <td>218.50</td>\n",
       "      <td>13.71</td>\n",
       "      <td>18.02</td>\n",
       "      <td>15.94</td>\n",
       "      <td>15.84</td>\n",
       "      <td>13.83</td>\n",
       "      <td>15.26</td>\n",
       "      <td>12.4</td>\n",
       "      <td>238.14</td>\n",
       "      <td>196.19</td>\n",
       "      <td>212.44</td>\n",
       "      <td>313.01</td>\n",
       "      <td>257.87</td>\n",
       "      <td>285.44</td>\n",
       "      <td>358.34</td>\n",
       "      <td>295.22</td>\n",
       "      <td>326.78</td>\n",
       "      <td>fair</td>\n",
       "      <td>31.44</td>\n",
       "      <td>50.47</td>\n",
       "      <td>0.75</td>\n",
       "      <td>0.32</td>\n",
       "      <td>6.27</td>\n",
       "      <td>2.10</td>\n",
       "    </tr>\n",
       "    <tr>\n",
       "      <th>2024-05-09</th>\n",
       "      <td>219.42</td>\n",
       "      <td>13.71</td>\n",
       "      <td>18.02</td>\n",
       "      <td>16.00</td>\n",
       "      <td>15.84</td>\n",
       "      <td>13.83</td>\n",
       "      <td>15.26</td>\n",
       "      <td>12.4</td>\n",
       "      <td>238.14</td>\n",
       "      <td>196.19</td>\n",
       "      <td>212.44</td>\n",
       "      <td>313.01</td>\n",
       "      <td>257.87</td>\n",
       "      <td>285.44</td>\n",
       "      <td>358.34</td>\n",
       "      <td>295.22</td>\n",
       "      <td>326.78</td>\n",
       "      <td>fair</td>\n",
       "      <td>31.44</td>\n",
       "      <td>50.47</td>\n",
       "      <td>0.75</td>\n",
       "      <td>0.32</td>\n",
       "      <td>6.25</td>\n",
       "      <td>2.08</td>\n",
       "    </tr>\n",
       "    <tr>\n",
       "      <th>2024-05-08</th>\n",
       "      <td>217.34</td>\n",
       "      <td>13.71</td>\n",
       "      <td>18.02</td>\n",
       "      <td>15.85</td>\n",
       "      <td>15.84</td>\n",
       "      <td>13.83</td>\n",
       "      <td>15.26</td>\n",
       "      <td>12.4</td>\n",
       "      <td>238.14</td>\n",
       "      <td>196.19</td>\n",
       "      <td>212.44</td>\n",
       "      <td>313.01</td>\n",
       "      <td>257.87</td>\n",
       "      <td>285.44</td>\n",
       "      <td>358.34</td>\n",
       "      <td>295.22</td>\n",
       "      <td>326.78</td>\n",
       "      <td>fair</td>\n",
       "      <td>31.44</td>\n",
       "      <td>50.47</td>\n",
       "      <td>0.75</td>\n",
       "      <td>0.31</td>\n",
       "      <td>6.31</td>\n",
       "      <td>2.14</td>\n",
       "    </tr>\n",
       "    <tr>\n",
       "      <th>2024-05-07</th>\n",
       "      <td>216.97</td>\n",
       "      <td>13.71</td>\n",
       "      <td>18.02</td>\n",
       "      <td>15.83</td>\n",
       "      <td>15.84</td>\n",
       "      <td>13.83</td>\n",
       "      <td>15.26</td>\n",
       "      <td>12.4</td>\n",
       "      <td>238.14</td>\n",
       "      <td>196.19</td>\n",
       "      <td>212.44</td>\n",
       "      <td>313.01</td>\n",
       "      <td>257.87</td>\n",
       "      <td>285.44</td>\n",
       "      <td>358.34</td>\n",
       "      <td>295.22</td>\n",
       "      <td>326.78</td>\n",
       "      <td>fair</td>\n",
       "      <td>31.44</td>\n",
       "      <td>50.47</td>\n",
       "      <td>0.75</td>\n",
       "      <td>0.31</td>\n",
       "      <td>6.32</td>\n",
       "      <td>2.15</td>\n",
       "    </tr>\n",
       "    <tr>\n",
       "      <th>2024-05-06</th>\n",
       "      <td>215.91</td>\n",
       "      <td>13.71</td>\n",
       "      <td>18.02</td>\n",
       "      <td>15.75</td>\n",
       "      <td>15.84</td>\n",
       "      <td>13.83</td>\n",
       "      <td>15.26</td>\n",
       "      <td>12.4</td>\n",
       "      <td>238.14</td>\n",
       "      <td>196.19</td>\n",
       "      <td>212.44</td>\n",
       "      <td>313.01</td>\n",
       "      <td>257.87</td>\n",
       "      <td>285.44</td>\n",
       "      <td>358.34</td>\n",
       "      <td>295.22</td>\n",
       "      <td>326.78</td>\n",
       "      <td>fair</td>\n",
       "      <td>31.44</td>\n",
       "      <td>50.47</td>\n",
       "      <td>0.75</td>\n",
       "      <td>0.31</td>\n",
       "      <td>6.35</td>\n",
       "      <td>2.18</td>\n",
       "    </tr>\n",
       "    <tr>\n",
       "      <th>2024-05-03</th>\n",
       "      <td>213.85</td>\n",
       "      <td>13.71</td>\n",
       "      <td>18.02</td>\n",
       "      <td>15.60</td>\n",
       "      <td>15.84</td>\n",
       "      <td>13.83</td>\n",
       "      <td>15.26</td>\n",
       "      <td>12.4</td>\n",
       "      <td>238.14</td>\n",
       "      <td>196.19</td>\n",
       "      <td>212.44</td>\n",
       "      <td>313.01</td>\n",
       "      <td>257.87</td>\n",
       "      <td>285.44</td>\n",
       "      <td>358.34</td>\n",
       "      <td>295.22</td>\n",
       "      <td>326.78</td>\n",
       "      <td>fair</td>\n",
       "      <td>31.44</td>\n",
       "      <td>50.47</td>\n",
       "      <td>0.75</td>\n",
       "      <td>0.31</td>\n",
       "      <td>6.41</td>\n",
       "      <td>2.24</td>\n",
       "    </tr>\n",
       "    <tr>\n",
       "      <th>2024-05-02</th>\n",
       "      <td>214.37</td>\n",
       "      <td>13.71</td>\n",
       "      <td>18.02</td>\n",
       "      <td>15.64</td>\n",
       "      <td>15.84</td>\n",
       "      <td>13.83</td>\n",
       "      <td>15.26</td>\n",
       "      <td>12.4</td>\n",
       "      <td>238.14</td>\n",
       "      <td>196.19</td>\n",
       "      <td>212.44</td>\n",
       "      <td>313.01</td>\n",
       "      <td>257.87</td>\n",
       "      <td>285.44</td>\n",
       "      <td>358.34</td>\n",
       "      <td>295.22</td>\n",
       "      <td>326.78</td>\n",
       "      <td>fair</td>\n",
       "      <td>31.44</td>\n",
       "      <td>50.47</td>\n",
       "      <td>0.75</td>\n",
       "      <td>0.31</td>\n",
       "      <td>6.40</td>\n",
       "      <td>2.23</td>\n",
       "    </tr>\n",
       "    <tr>\n",
       "      <th>2024-05-01</th>\n",
       "      <td>213.15</td>\n",
       "      <td>13.71</td>\n",
       "      <td>18.02</td>\n",
       "      <td>15.55</td>\n",
       "      <td>15.84</td>\n",
       "      <td>13.83</td>\n",
       "      <td>15.26</td>\n",
       "      <td>12.4</td>\n",
       "      <td>238.14</td>\n",
       "      <td>196.19</td>\n",
       "      <td>212.44</td>\n",
       "      <td>313.01</td>\n",
       "      <td>257.87</td>\n",
       "      <td>285.44</td>\n",
       "      <td>358.34</td>\n",
       "      <td>295.22</td>\n",
       "      <td>326.78</td>\n",
       "      <td>fair</td>\n",
       "      <td>31.44</td>\n",
       "      <td>50.47</td>\n",
       "      <td>0.75</td>\n",
       "      <td>0.31</td>\n",
       "      <td>6.43</td>\n",
       "      <td>2.26</td>\n",
       "    </tr>\n",
       "    <tr>\n",
       "      <th>2024-04-30</th>\n",
       "      <td>212.16</td>\n",
       "      <td>13.71</td>\n",
       "      <td>18.02</td>\n",
       "      <td>15.47</td>\n",
       "      <td>15.84</td>\n",
       "      <td>13.83</td>\n",
       "      <td>15.26</td>\n",
       "      <td>12.4</td>\n",
       "      <td>238.14</td>\n",
       "      <td>196.19</td>\n",
       "      <td>212.44</td>\n",
       "      <td>313.01</td>\n",
       "      <td>257.87</td>\n",
       "      <td>285.44</td>\n",
       "      <td>358.34</td>\n",
       "      <td>295.22</td>\n",
       "      <td>326.78</td>\n",
       "      <td>fair</td>\n",
       "      <td>31.44</td>\n",
       "      <td>50.47</td>\n",
       "      <td>0.75</td>\n",
       "      <td>0.31</td>\n",
       "      <td>6.46</td>\n",
       "      <td>2.29</td>\n",
       "    </tr>\n",
       "    <tr>\n",
       "      <th>2024-04-29</th>\n",
       "      <td>212.90</td>\n",
       "      <td>13.71</td>\n",
       "      <td>18.02</td>\n",
       "      <td>15.53</td>\n",
       "      <td>15.84</td>\n",
       "      <td>13.83</td>\n",
       "      <td>15.26</td>\n",
       "      <td>12.4</td>\n",
       "      <td>238.14</td>\n",
       "      <td>196.19</td>\n",
       "      <td>212.44</td>\n",
       "      <td>313.01</td>\n",
       "      <td>257.87</td>\n",
       "      <td>285.44</td>\n",
       "      <td>358.34</td>\n",
       "      <td>295.22</td>\n",
       "      <td>326.78</td>\n",
       "      <td>fair</td>\n",
       "      <td>31.44</td>\n",
       "      <td>50.47</td>\n",
       "      <td>0.75</td>\n",
       "      <td>0.31</td>\n",
       "      <td>6.44</td>\n",
       "      <td>2.27</td>\n",
       "    </tr>\n",
       "    <tr>\n",
       "      <th>2024-04-26</th>\n",
       "      <td>213.45</td>\n",
       "      <td>13.71</td>\n",
       "      <td>18.02</td>\n",
       "      <td>15.57</td>\n",
       "      <td>15.84</td>\n",
       "      <td>13.83</td>\n",
       "      <td>15.26</td>\n",
       "      <td>12.4</td>\n",
       "      <td>238.14</td>\n",
       "      <td>196.19</td>\n",
       "      <td>212.44</td>\n",
       "      <td>313.01</td>\n",
       "      <td>257.87</td>\n",
       "      <td>285.44</td>\n",
       "      <td>358.34</td>\n",
       "      <td>295.22</td>\n",
       "      <td>326.78</td>\n",
       "      <td>fair</td>\n",
       "      <td>31.44</td>\n",
       "      <td>50.47</td>\n",
       "      <td>0.75</td>\n",
       "      <td>0.31</td>\n",
       "      <td>6.42</td>\n",
       "      <td>2.25</td>\n",
       "    </tr>\n",
       "    <tr>\n",
       "      <th>2024-04-25</th>\n",
       "      <td>213.99</td>\n",
       "      <td>13.71</td>\n",
       "      <td>18.02</td>\n",
       "      <td>15.61</td>\n",
       "      <td>15.84</td>\n",
       "      <td>13.83</td>\n",
       "      <td>15.26</td>\n",
       "      <td>12.4</td>\n",
       "      <td>238.14</td>\n",
       "      <td>196.19</td>\n",
       "      <td>212.44</td>\n",
       "      <td>313.01</td>\n",
       "      <td>257.87</td>\n",
       "      <td>285.44</td>\n",
       "      <td>358.34</td>\n",
       "      <td>295.22</td>\n",
       "      <td>326.78</td>\n",
       "      <td>fair</td>\n",
       "      <td>31.44</td>\n",
       "      <td>50.47</td>\n",
       "      <td>0.75</td>\n",
       "      <td>0.31</td>\n",
       "      <td>6.41</td>\n",
       "      <td>2.24</td>\n",
       "    </tr>\n",
       "    <tr>\n",
       "      <th>2024-04-24</th>\n",
       "      <td>213.43</td>\n",
       "      <td>13.71</td>\n",
       "      <td>18.02</td>\n",
       "      <td>15.57</td>\n",
       "      <td>15.84</td>\n",
       "      <td>13.83</td>\n",
       "      <td>15.26</td>\n",
       "      <td>12.4</td>\n",
       "      <td>238.14</td>\n",
       "      <td>196.19</td>\n",
       "      <td>212.44</td>\n",
       "      <td>313.01</td>\n",
       "      <td>257.87</td>\n",
       "      <td>285.44</td>\n",
       "      <td>358.34</td>\n",
       "      <td>295.22</td>\n",
       "      <td>326.78</td>\n",
       "      <td>fair</td>\n",
       "      <td>31.44</td>\n",
       "      <td>50.47</td>\n",
       "      <td>0.75</td>\n",
       "      <td>0.31</td>\n",
       "      <td>6.42</td>\n",
       "      <td>2.25</td>\n",
       "    </tr>\n",
       "    <tr>\n",
       "      <th>2024-04-23</th>\n",
       "      <td>214.32</td>\n",
       "      <td>13.71</td>\n",
       "      <td>18.02</td>\n",
       "      <td>15.63</td>\n",
       "      <td>15.84</td>\n",
       "      <td>13.83</td>\n",
       "      <td>15.26</td>\n",
       "      <td>12.4</td>\n",
       "      <td>238.14</td>\n",
       "      <td>196.19</td>\n",
       "      <td>212.44</td>\n",
       "      <td>313.01</td>\n",
       "      <td>257.87</td>\n",
       "      <td>285.44</td>\n",
       "      <td>358.34</td>\n",
       "      <td>295.22</td>\n",
       "      <td>326.78</td>\n",
       "      <td>fair</td>\n",
       "      <td>31.44</td>\n",
       "      <td>50.47</td>\n",
       "      <td>0.75</td>\n",
       "      <td>0.31</td>\n",
       "      <td>6.40</td>\n",
       "      <td>2.23</td>\n",
       "    </tr>\n",
       "    <tr>\n",
       "      <th>2024-04-22</th>\n",
       "      <td>214.27</td>\n",
       "      <td>13.71</td>\n",
       "      <td>18.02</td>\n",
       "      <td>15.63</td>\n",
       "      <td>15.84</td>\n",
       "      <td>13.83</td>\n",
       "      <td>15.26</td>\n",
       "      <td>12.4</td>\n",
       "      <td>238.14</td>\n",
       "      <td>196.19</td>\n",
       "      <td>212.44</td>\n",
       "      <td>313.01</td>\n",
       "      <td>257.87</td>\n",
       "      <td>285.44</td>\n",
       "      <td>358.34</td>\n",
       "      <td>295.22</td>\n",
       "      <td>326.78</td>\n",
       "      <td>fair</td>\n",
       "      <td>31.44</td>\n",
       "      <td>50.47</td>\n",
       "      <td>0.75</td>\n",
       "      <td>0.31</td>\n",
       "      <td>6.40</td>\n",
       "      <td>2.23</td>\n",
       "    </tr>\n",
       "    <tr>\n",
       "      <th>2024-04-19</th>\n",
       "      <td>214.07</td>\n",
       "      <td>13.71</td>\n",
       "      <td>18.02</td>\n",
       "      <td>15.61</td>\n",
       "      <td>15.84</td>\n",
       "      <td>13.83</td>\n",
       "      <td>15.26</td>\n",
       "      <td>12.4</td>\n",
       "      <td>238.14</td>\n",
       "      <td>196.19</td>\n",
       "      <td>212.44</td>\n",
       "      <td>313.01</td>\n",
       "      <td>257.87</td>\n",
       "      <td>285.44</td>\n",
       "      <td>358.34</td>\n",
       "      <td>295.22</td>\n",
       "      <td>326.78</td>\n",
       "      <td>fair</td>\n",
       "      <td>31.44</td>\n",
       "      <td>50.47</td>\n",
       "      <td>0.75</td>\n",
       "      <td>0.31</td>\n",
       "      <td>6.40</td>\n",
       "      <td>2.23</td>\n",
       "    </tr>\n",
       "    <tr>\n",
       "      <th>2024-04-18</th>\n",
       "      <td>210.42</td>\n",
       "      <td>13.71</td>\n",
       "      <td>18.02</td>\n",
       "      <td>15.35</td>\n",
       "      <td>15.84</td>\n",
       "      <td>13.83</td>\n",
       "      <td>15.26</td>\n",
       "      <td>12.4</td>\n",
       "      <td>238.14</td>\n",
       "      <td>196.19</td>\n",
       "      <td>212.44</td>\n",
       "      <td>313.01</td>\n",
       "      <td>257.87</td>\n",
       "      <td>285.44</td>\n",
       "      <td>358.34</td>\n",
       "      <td>295.22</td>\n",
       "      <td>326.78</td>\n",
       "      <td>fair</td>\n",
       "      <td>31.44</td>\n",
       "      <td>50.47</td>\n",
       "      <td>0.75</td>\n",
       "      <td>0.30</td>\n",
       "      <td>6.52</td>\n",
       "      <td>2.35</td>\n",
       "    </tr>\n",
       "    <tr>\n",
       "      <th>2024-04-17</th>\n",
       "      <td>206.58</td>\n",
       "      <td>13.71</td>\n",
       "      <td>18.02</td>\n",
       "      <td>15.07</td>\n",
       "      <td>15.84</td>\n",
       "      <td>13.83</td>\n",
       "      <td>15.26</td>\n",
       "      <td>12.4</td>\n",
       "      <td>238.14</td>\n",
       "      <td>196.19</td>\n",
       "      <td>212.44</td>\n",
       "      <td>313.01</td>\n",
       "      <td>257.87</td>\n",
       "      <td>285.44</td>\n",
       "      <td>358.34</td>\n",
       "      <td>295.22</td>\n",
       "      <td>326.78</td>\n",
       "      <td>fair</td>\n",
       "      <td>31.44</td>\n",
       "      <td>50.47</td>\n",
       "      <td>0.75</td>\n",
       "      <td>0.30</td>\n",
       "      <td>6.64</td>\n",
       "      <td>2.47</td>\n",
       "    </tr>\n",
       "    <tr>\n",
       "      <th>2024-04-16</th>\n",
       "      <td>223.12</td>\n",
       "      <td>12.23</td>\n",
       "      <td>18.02</td>\n",
       "      <td>18.24</td>\n",
       "      <td>15.84</td>\n",
       "      <td>13.83</td>\n",
       "      <td>15.26</td>\n",
       "      <td>12.4</td>\n",
       "      <td>212.44</td>\n",
       "      <td>175.01</td>\n",
       "      <td>212.44</td>\n",
       "      <td>313.01</td>\n",
       "      <td>257.87</td>\n",
       "      <td>285.44</td>\n",
       "      <td>358.34</td>\n",
       "      <td>295.22</td>\n",
       "      <td>326.78</td>\n",
       "      <td>overvalued</td>\n",
       "      <td>47.34</td>\n",
       "      <td>68.68</td>\n",
       "      <td>0.75</td>\n",
       "      <td>0.27</td>\n",
       "      <td>5.48</td>\n",
       "      <td>1.31</td>\n",
       "    </tr>\n",
       "    <tr>\n",
       "      <th>2024-04-15</th>\n",
       "      <td>221.06</td>\n",
       "      <td>12.23</td>\n",
       "      <td>18.02</td>\n",
       "      <td>18.08</td>\n",
       "      <td>15.84</td>\n",
       "      <td>13.83</td>\n",
       "      <td>15.26</td>\n",
       "      <td>12.4</td>\n",
       "      <td>212.44</td>\n",
       "      <td>175.01</td>\n",
       "      <td>212.44</td>\n",
       "      <td>313.01</td>\n",
       "      <td>257.87</td>\n",
       "      <td>285.44</td>\n",
       "      <td>358.34</td>\n",
       "      <td>295.22</td>\n",
       "      <td>326.78</td>\n",
       "      <td>overvalued</td>\n",
       "      <td>47.34</td>\n",
       "      <td>68.68</td>\n",
       "      <td>0.75</td>\n",
       "      <td>0.26</td>\n",
       "      <td>5.53</td>\n",
       "      <td>1.36</td>\n",
       "    </tr>\n",
       "    <tr>\n",
       "      <th>2024-04-12</th>\n",
       "      <td>221.10</td>\n",
       "      <td>12.23</td>\n",
       "      <td>18.02</td>\n",
       "      <td>18.08</td>\n",
       "      <td>15.84</td>\n",
       "      <td>13.83</td>\n",
       "      <td>15.26</td>\n",
       "      <td>12.4</td>\n",
       "      <td>212.44</td>\n",
       "      <td>175.01</td>\n",
       "      <td>212.44</td>\n",
       "      <td>313.01</td>\n",
       "      <td>257.87</td>\n",
       "      <td>285.44</td>\n",
       "      <td>358.34</td>\n",
       "      <td>295.22</td>\n",
       "      <td>326.78</td>\n",
       "      <td>overvalued</td>\n",
       "      <td>47.34</td>\n",
       "      <td>68.68</td>\n",
       "      <td>0.75</td>\n",
       "      <td>0.26</td>\n",
       "      <td>5.53</td>\n",
       "      <td>1.36</td>\n",
       "    </tr>\n",
       "    <tr>\n",
       "      <th>2024-04-11</th>\n",
       "      <td>220.40</td>\n",
       "      <td>12.23</td>\n",
       "      <td>18.02</td>\n",
       "      <td>18.02</td>\n",
       "      <td>15.84</td>\n",
       "      <td>13.83</td>\n",
       "      <td>15.26</td>\n",
       "      <td>12.4</td>\n",
       "      <td>212.44</td>\n",
       "      <td>175.01</td>\n",
       "      <td>212.44</td>\n",
       "      <td>313.01</td>\n",
       "      <td>257.87</td>\n",
       "      <td>285.44</td>\n",
       "      <td>358.34</td>\n",
       "      <td>295.22</td>\n",
       "      <td>326.78</td>\n",
       "      <td>overvalued</td>\n",
       "      <td>47.34</td>\n",
       "      <td>68.68</td>\n",
       "      <td>0.75</td>\n",
       "      <td>0.26</td>\n",
       "      <td>5.55</td>\n",
       "      <td>1.38</td>\n",
       "    </tr>\n",
       "    <tr>\n",
       "      <th>2024-04-10</th>\n",
       "      <td>224.38</td>\n",
       "      <td>12.23</td>\n",
       "      <td>18.02</td>\n",
       "      <td>18.35</td>\n",
       "      <td>15.84</td>\n",
       "      <td>13.83</td>\n",
       "      <td>15.26</td>\n",
       "      <td>12.4</td>\n",
       "      <td>212.44</td>\n",
       "      <td>175.01</td>\n",
       "      <td>212.44</td>\n",
       "      <td>313.01</td>\n",
       "      <td>257.87</td>\n",
       "      <td>285.44</td>\n",
       "      <td>358.34</td>\n",
       "      <td>295.22</td>\n",
       "      <td>326.78</td>\n",
       "      <td>overvalued</td>\n",
       "      <td>47.34</td>\n",
       "      <td>68.68</td>\n",
       "      <td>0.75</td>\n",
       "      <td>0.27</td>\n",
       "      <td>5.45</td>\n",
       "      <td>1.28</td>\n",
       "    </tr>\n",
       "    <tr>\n",
       "      <th>2024-04-09</th>\n",
       "      <td>223.84</td>\n",
       "      <td>12.23</td>\n",
       "      <td>18.02</td>\n",
       "      <td>18.30</td>\n",
       "      <td>15.84</td>\n",
       "      <td>13.83</td>\n",
       "      <td>15.26</td>\n",
       "      <td>12.4</td>\n",
       "      <td>212.44</td>\n",
       "      <td>175.01</td>\n",
       "      <td>212.44</td>\n",
       "      <td>313.01</td>\n",
       "      <td>257.87</td>\n",
       "      <td>285.44</td>\n",
       "      <td>358.34</td>\n",
       "      <td>295.22</td>\n",
       "      <td>326.78</td>\n",
       "      <td>overvalued</td>\n",
       "      <td>47.34</td>\n",
       "      <td>68.68</td>\n",
       "      <td>0.75</td>\n",
       "      <td>0.27</td>\n",
       "      <td>5.46</td>\n",
       "      <td>1.29</td>\n",
       "    </tr>\n",
       "    <tr>\n",
       "      <th>2024-04-08</th>\n",
       "      <td>230.59</td>\n",
       "      <td>12.23</td>\n",
       "      <td>18.02</td>\n",
       "      <td>18.85</td>\n",
       "      <td>15.84</td>\n",
       "      <td>13.83</td>\n",
       "      <td>15.26</td>\n",
       "      <td>12.4</td>\n",
       "      <td>212.44</td>\n",
       "      <td>175.01</td>\n",
       "      <td>212.44</td>\n",
       "      <td>313.01</td>\n",
       "      <td>257.87</td>\n",
       "      <td>285.44</td>\n",
       "      <td>358.34</td>\n",
       "      <td>295.22</td>\n",
       "      <td>326.78</td>\n",
       "      <td>overvalued</td>\n",
       "      <td>47.34</td>\n",
       "      <td>68.68</td>\n",
       "      <td>0.75</td>\n",
       "      <td>0.27</td>\n",
       "      <td>5.30</td>\n",
       "      <td>1.13</td>\n",
       "    </tr>\n",
       "    <tr>\n",
       "      <th>2024-04-05</th>\n",
       "      <td>230.89</td>\n",
       "      <td>12.23</td>\n",
       "      <td>18.02</td>\n",
       "      <td>18.88</td>\n",
       "      <td>15.84</td>\n",
       "      <td>13.83</td>\n",
       "      <td>15.26</td>\n",
       "      <td>12.4</td>\n",
       "      <td>212.44</td>\n",
       "      <td>175.01</td>\n",
       "      <td>212.44</td>\n",
       "      <td>313.01</td>\n",
       "      <td>257.87</td>\n",
       "      <td>285.44</td>\n",
       "      <td>358.34</td>\n",
       "      <td>295.22</td>\n",
       "      <td>326.78</td>\n",
       "      <td>overvalued</td>\n",
       "      <td>47.34</td>\n",
       "      <td>68.68</td>\n",
       "      <td>0.75</td>\n",
       "      <td>0.27</td>\n",
       "      <td>5.30</td>\n",
       "      <td>1.13</td>\n",
       "    </tr>\n",
       "    <tr>\n",
       "      <th>2024-04-04</th>\n",
       "      <td>228.50</td>\n",
       "      <td>12.23</td>\n",
       "      <td>18.02</td>\n",
       "      <td>18.68</td>\n",
       "      <td>15.84</td>\n",
       "      <td>13.83</td>\n",
       "      <td>15.26</td>\n",
       "      <td>12.4</td>\n",
       "      <td>212.44</td>\n",
       "      <td>175.01</td>\n",
       "      <td>212.44</td>\n",
       "      <td>313.01</td>\n",
       "      <td>257.87</td>\n",
       "      <td>285.44</td>\n",
       "      <td>358.34</td>\n",
       "      <td>295.22</td>\n",
       "      <td>326.78</td>\n",
       "      <td>overvalued</td>\n",
       "      <td>47.34</td>\n",
       "      <td>68.68</td>\n",
       "      <td>0.75</td>\n",
       "      <td>0.27</td>\n",
       "      <td>5.35</td>\n",
       "      <td>1.18</td>\n",
       "    </tr>\n",
       "    <tr>\n",
       "      <th>2024-04-03</th>\n",
       "      <td>229.06</td>\n",
       "      <td>12.23</td>\n",
       "      <td>18.02</td>\n",
       "      <td>18.73</td>\n",
       "      <td>15.84</td>\n",
       "      <td>13.83</td>\n",
       "      <td>15.26</td>\n",
       "      <td>12.4</td>\n",
       "      <td>212.44</td>\n",
       "      <td>175.01</td>\n",
       "      <td>212.44</td>\n",
       "      <td>313.01</td>\n",
       "      <td>257.87</td>\n",
       "      <td>285.44</td>\n",
       "      <td>358.34</td>\n",
       "      <td>295.22</td>\n",
       "      <td>326.78</td>\n",
       "      <td>overvalued</td>\n",
       "      <td>47.34</td>\n",
       "      <td>68.68</td>\n",
       "      <td>0.75</td>\n",
       "      <td>0.27</td>\n",
       "      <td>5.34</td>\n",
       "      <td>1.17</td>\n",
       "    </tr>\n",
       "    <tr>\n",
       "      <th>2024-04-02</th>\n",
       "      <td>227.85</td>\n",
       "      <td>12.23</td>\n",
       "      <td>18.02</td>\n",
       "      <td>18.63</td>\n",
       "      <td>15.84</td>\n",
       "      <td>13.83</td>\n",
       "      <td>15.26</td>\n",
       "      <td>12.4</td>\n",
       "      <td>212.44</td>\n",
       "      <td>175.01</td>\n",
       "      <td>212.44</td>\n",
       "      <td>313.01</td>\n",
       "      <td>257.87</td>\n",
       "      <td>285.44</td>\n",
       "      <td>358.34</td>\n",
       "      <td>295.22</td>\n",
       "      <td>326.78</td>\n",
       "      <td>overvalued</td>\n",
       "      <td>47.34</td>\n",
       "      <td>68.68</td>\n",
       "      <td>0.75</td>\n",
       "      <td>0.27</td>\n",
       "      <td>5.37</td>\n",
       "      <td>1.20</td>\n",
       "    </tr>\n",
       "    <tr>\n",
       "      <th>2024-04-01</th>\n",
       "      <td>228.16</td>\n",
       "      <td>12.23</td>\n",
       "      <td>18.02</td>\n",
       "      <td>18.66</td>\n",
       "      <td>15.84</td>\n",
       "      <td>13.83</td>\n",
       "      <td>15.26</td>\n",
       "      <td>12.4</td>\n",
       "      <td>212.44</td>\n",
       "      <td>175.01</td>\n",
       "      <td>212.44</td>\n",
       "      <td>313.01</td>\n",
       "      <td>257.87</td>\n",
       "      <td>285.44</td>\n",
       "      <td>358.34</td>\n",
       "      <td>295.22</td>\n",
       "      <td>326.78</td>\n",
       "      <td>overvalued</td>\n",
       "      <td>47.34</td>\n",
       "      <td>68.68</td>\n",
       "      <td>0.75</td>\n",
       "      <td>0.27</td>\n",
       "      <td>5.36</td>\n",
       "      <td>1.19</td>\n",
       "    </tr>\n",
       "    <tr>\n",
       "      <th>2024-03-28</th>\n",
       "      <td>230.14</td>\n",
       "      <td>12.23</td>\n",
       "      <td>18.02</td>\n",
       "      <td>18.82</td>\n",
       "      <td>15.84</td>\n",
       "      <td>13.83</td>\n",
       "      <td>15.26</td>\n",
       "      <td>12.4</td>\n",
       "      <td>212.44</td>\n",
       "      <td>175.01</td>\n",
       "      <td>212.44</td>\n",
       "      <td>313.01</td>\n",
       "      <td>257.87</td>\n",
       "      <td>285.44</td>\n",
       "      <td>358.34</td>\n",
       "      <td>295.22</td>\n",
       "      <td>326.78</td>\n",
       "      <td>overvalued</td>\n",
       "      <td>47.34</td>\n",
       "      <td>68.68</td>\n",
       "      <td>0.75</td>\n",
       "      <td>0.27</td>\n",
       "      <td>5.31</td>\n",
       "      <td>1.14</td>\n",
       "    </tr>\n",
       "    <tr>\n",
       "      <th>2024-03-27</th>\n",
       "      <td>228.83</td>\n",
       "      <td>12.23</td>\n",
       "      <td>18.02</td>\n",
       "      <td>18.71</td>\n",
       "      <td>15.84</td>\n",
       "      <td>13.83</td>\n",
       "      <td>15.26</td>\n",
       "      <td>12.4</td>\n",
       "      <td>212.44</td>\n",
       "      <td>175.01</td>\n",
       "      <td>212.44</td>\n",
       "      <td>313.01</td>\n",
       "      <td>257.87</td>\n",
       "      <td>285.44</td>\n",
       "      <td>358.34</td>\n",
       "      <td>295.22</td>\n",
       "      <td>326.78</td>\n",
       "      <td>overvalued</td>\n",
       "      <td>47.34</td>\n",
       "      <td>68.68</td>\n",
       "      <td>0.75</td>\n",
       "      <td>0.27</td>\n",
       "      <td>5.34</td>\n",
       "      <td>1.17</td>\n",
       "    </tr>\n",
       "    <tr>\n",
       "      <th>2024-03-26</th>\n",
       "      <td>225.33</td>\n",
       "      <td>12.23</td>\n",
       "      <td>18.02</td>\n",
       "      <td>18.42</td>\n",
       "      <td>15.84</td>\n",
       "      <td>13.83</td>\n",
       "      <td>15.26</td>\n",
       "      <td>12.4</td>\n",
       "      <td>212.44</td>\n",
       "      <td>175.01</td>\n",
       "      <td>212.44</td>\n",
       "      <td>313.01</td>\n",
       "      <td>257.87</td>\n",
       "      <td>285.44</td>\n",
       "      <td>358.34</td>\n",
       "      <td>295.22</td>\n",
       "      <td>326.78</td>\n",
       "      <td>overvalued</td>\n",
       "      <td>47.34</td>\n",
       "      <td>68.68</td>\n",
       "      <td>0.75</td>\n",
       "      <td>0.27</td>\n",
       "      <td>5.43</td>\n",
       "      <td>1.26</td>\n",
       "    </tr>\n",
       "    <tr>\n",
       "      <th>2024-03-25</th>\n",
       "      <td>225.53</td>\n",
       "      <td>12.23</td>\n",
       "      <td>18.02</td>\n",
       "      <td>18.44</td>\n",
       "      <td>15.84</td>\n",
       "      <td>13.83</td>\n",
       "      <td>15.26</td>\n",
       "      <td>12.4</td>\n",
       "      <td>212.44</td>\n",
       "      <td>175.01</td>\n",
       "      <td>212.44</td>\n",
       "      <td>313.01</td>\n",
       "      <td>257.87</td>\n",
       "      <td>285.44</td>\n",
       "      <td>358.34</td>\n",
       "      <td>295.22</td>\n",
       "      <td>326.78</td>\n",
       "      <td>overvalued</td>\n",
       "      <td>47.34</td>\n",
       "      <td>68.68</td>\n",
       "      <td>0.75</td>\n",
       "      <td>0.27</td>\n",
       "      <td>5.42</td>\n",
       "      <td>1.25</td>\n",
       "    </tr>\n",
       "    <tr>\n",
       "      <th>2024-03-22</th>\n",
       "      <td>224.45</td>\n",
       "      <td>12.23</td>\n",
       "      <td>18.02</td>\n",
       "      <td>18.35</td>\n",
       "      <td>15.84</td>\n",
       "      <td>13.83</td>\n",
       "      <td>15.26</td>\n",
       "      <td>12.4</td>\n",
       "      <td>212.44</td>\n",
       "      <td>175.01</td>\n",
       "      <td>212.44</td>\n",
       "      <td>313.01</td>\n",
       "      <td>257.87</td>\n",
       "      <td>285.44</td>\n",
       "      <td>358.34</td>\n",
       "      <td>295.22</td>\n",
       "      <td>326.78</td>\n",
       "      <td>overvalued</td>\n",
       "      <td>47.34</td>\n",
       "      <td>68.68</td>\n",
       "      <td>0.75</td>\n",
       "      <td>0.27</td>\n",
       "      <td>5.45</td>\n",
       "      <td>1.28</td>\n",
       "    </tr>\n",
       "    <tr>\n",
       "      <th>2024-03-21</th>\n",
       "      <td>226.13</td>\n",
       "      <td>12.23</td>\n",
       "      <td>18.02</td>\n",
       "      <td>18.49</td>\n",
       "      <td>15.84</td>\n",
       "      <td>13.83</td>\n",
       "      <td>15.26</td>\n",
       "      <td>12.4</td>\n",
       "      <td>212.44</td>\n",
       "      <td>175.01</td>\n",
       "      <td>212.44</td>\n",
       "      <td>313.01</td>\n",
       "      <td>257.87</td>\n",
       "      <td>285.44</td>\n",
       "      <td>358.34</td>\n",
       "      <td>295.22</td>\n",
       "      <td>326.78</td>\n",
       "      <td>overvalued</td>\n",
       "      <td>47.34</td>\n",
       "      <td>68.68</td>\n",
       "      <td>0.75</td>\n",
       "      <td>0.27</td>\n",
       "      <td>5.41</td>\n",
       "      <td>1.24</td>\n",
       "    </tr>\n",
       "  </tbody>\n",
       "</table>\n",
       "</div>"
      ],
      "text/plain": [
       "               TRV  TRV_EPS_TTM  TRV_EPS_latest_projected  TRV_PE_TTM  \\\n",
       "2024-07-30  220.42        16.16                     18.02       13.64   \n",
       "2024-07-29  213.93        16.16                     18.02       13.24   \n",
       "2024-07-26  213.85        16.16                     18.02       13.23   \n",
       "2024-07-25  209.23        16.16                     18.02       12.95   \n",
       "2024-07-24  207.73        16.16                     18.02       12.85   \n",
       "2024-07-23  208.53        16.16                     18.02       12.90   \n",
       "2024-07-22  205.42        16.16                     18.02       12.71   \n",
       "2024-07-19  203.48        16.16                     18.02       12.59   \n",
       "2024-07-18  220.60        13.71                     18.02       16.09   \n",
       "2024-07-17  220.80        13.71                     18.02       16.11   \n",
       "2024-07-16  217.79        13.71                     18.02       15.89   \n",
       "2024-07-15  213.40        13.71                     18.02       15.57   \n",
       "2024-07-12  211.60        13.71                     18.02       15.43   \n",
       "2024-07-11  208.95        13.71                     18.02       15.24   \n",
       "2024-07-10  207.19        13.71                     18.02       15.11   \n",
       "2024-07-09  203.14        13.71                     18.02       14.82   \n",
       "2024-07-08  204.23        13.71                     18.02       14.90   \n",
       "2024-07-05  201.87        13.71                     18.02       14.72   \n",
       "2024-07-03  203.69        13.71                     18.02       14.86   \n",
       "2024-07-02  203.66        13.71                     18.02       14.85   \n",
       "2024-07-01  202.97        13.71                     18.02       14.80   \n",
       "2024-06-28  203.34        13.71                     18.02       14.83   \n",
       "2024-06-27  206.95        13.71                     18.02       15.09   \n",
       "2024-06-26  205.74        13.71                     18.02       15.01   \n",
       "2024-06-25  208.72        13.71                     18.02       15.22   \n",
       "2024-06-24  211.09        13.71                     18.02       15.40   \n",
       "2024-06-21  209.80        13.71                     18.02       15.30   \n",
       "2024-06-20  211.97        13.71                     18.02       15.46   \n",
       "2024-06-18  208.51        13.71                     18.02       15.21   \n",
       "2024-06-17  208.13        13.71                     18.02       15.18   \n",
       "2024-06-14  205.85        13.71                     18.02       15.01   \n",
       "2024-06-13  207.07        13.71                     18.02       15.10   \n",
       "2024-06-12  207.26        13.71                     18.02       15.12   \n",
       "2024-06-11  209.41        13.71                     18.02       15.27   \n",
       "2024-06-10  213.00        13.71                     18.02       15.54   \n",
       "2024-06-07  212.95        13.71                     18.02       15.53   \n",
       "2024-06-06  209.71        13.71                     18.02       15.30   \n",
       "2024-06-05  208.41        13.71                     18.02       15.20   \n",
       "2024-06-04  209.64        13.71                     18.02       15.29   \n",
       "2024-06-03  210.34        13.71                     18.02       15.34   \n",
       "2024-05-31  215.70        13.71                     18.02       15.73   \n",
       "2024-05-30  212.49        13.71                     18.02       15.50   \n",
       "2024-05-29  210.07        13.71                     18.02       15.32   \n",
       "2024-05-28  210.37        13.71                     18.02       15.34   \n",
       "2024-05-24  213.33        13.71                     18.02       15.56   \n",
       "2024-05-23  212.24        13.71                     18.02       15.48   \n",
       "2024-05-22  216.54        13.71                     18.02       15.79   \n",
       "2024-05-21  216.25        13.71                     18.02       15.77   \n",
       "2024-05-20  215.60        13.71                     18.02       15.73   \n",
       "2024-05-17  219.71        13.71                     18.02       16.03   \n",
       "2024-05-16  219.22        13.71                     18.02       15.99   \n",
       "2024-05-15  214.35        13.71                     18.02       15.63   \n",
       "2024-05-14  217.59        13.71                     18.02       15.87   \n",
       "2024-05-13  216.58        13.71                     18.02       15.80   \n",
       "2024-05-10  218.50        13.71                     18.02       15.94   \n",
       "2024-05-09  219.42        13.71                     18.02       16.00   \n",
       "2024-05-08  217.34        13.71                     18.02       15.85   \n",
       "2024-05-07  216.97        13.71                     18.02       15.83   \n",
       "2024-05-06  215.91        13.71                     18.02       15.75   \n",
       "2024-05-03  213.85        13.71                     18.02       15.60   \n",
       "2024-05-02  214.37        13.71                     18.02       15.64   \n",
       "2024-05-01  213.15        13.71                     18.02       15.55   \n",
       "2024-04-30  212.16        13.71                     18.02       15.47   \n",
       "2024-04-29  212.90        13.71                     18.02       15.53   \n",
       "2024-04-26  213.45        13.71                     18.02       15.57   \n",
       "2024-04-25  213.99        13.71                     18.02       15.61   \n",
       "2024-04-24  213.43        13.71                     18.02       15.57   \n",
       "2024-04-23  214.32        13.71                     18.02       15.63   \n",
       "2024-04-22  214.27        13.71                     18.02       15.63   \n",
       "2024-04-19  214.07        13.71                     18.02       15.61   \n",
       "2024-04-18  210.42        13.71                     18.02       15.35   \n",
       "2024-04-17  206.58        13.71                     18.02       15.07   \n",
       "2024-04-16  223.12        12.23                     18.02       18.24   \n",
       "2024-04-15  221.06        12.23                     18.02       18.08   \n",
       "2024-04-12  221.10        12.23                     18.02       18.08   \n",
       "2024-04-11  220.40        12.23                     18.02       18.02   \n",
       "2024-04-10  224.38        12.23                     18.02       18.35   \n",
       "2024-04-09  223.84        12.23                     18.02       18.30   \n",
       "2024-04-08  230.59        12.23                     18.02       18.85   \n",
       "2024-04-05  230.89        12.23                     18.02       18.88   \n",
       "2024-04-04  228.50        12.23                     18.02       18.68   \n",
       "2024-04-03  229.06        12.23                     18.02       18.73   \n",
       "2024-04-02  227.85        12.23                     18.02       18.63   \n",
       "2024-04-01  228.16        12.23                     18.02       18.66   \n",
       "2024-03-28  230.14        12.23                     18.02       18.82   \n",
       "2024-03-27  228.83        12.23                     18.02       18.71   \n",
       "2024-03-26  225.33        12.23                     18.02       18.42   \n",
       "2024-03-25  225.53        12.23                     18.02       18.44   \n",
       "2024-03-22  224.45        12.23                     18.02       18.35   \n",
       "2024-03-21  226.13        12.23                     18.02       18.49   \n",
       "\n",
       "            TRV_PE_TTM_avg  TRV_PE_5yr_avg  TRV_PE_5yr_volatility_+  \\\n",
       "2024-07-30           15.84           13.83                    15.26   \n",
       "2024-07-29           15.84           13.83                    15.26   \n",
       "2024-07-26           15.84           13.83                    15.26   \n",
       "2024-07-25           15.84           13.83                    15.26   \n",
       "2024-07-24           15.84           13.83                    15.26   \n",
       "2024-07-23           15.84           13.83                    15.26   \n",
       "2024-07-22           15.84           13.83                    15.26   \n",
       "2024-07-19           15.84           13.83                    15.26   \n",
       "2024-07-18           15.84           13.83                    15.26   \n",
       "2024-07-17           15.84           13.83                    15.26   \n",
       "2024-07-16           15.84           13.83                    15.26   \n",
       "2024-07-15           15.84           13.83                    15.26   \n",
       "2024-07-12           15.84           13.83                    15.26   \n",
       "2024-07-11           15.84           13.83                    15.26   \n",
       "2024-07-10           15.84           13.83                    15.26   \n",
       "2024-07-09           15.84           13.83                    15.26   \n",
       "2024-07-08           15.84           13.83                    15.26   \n",
       "2024-07-05           15.84           13.83                    15.26   \n",
       "2024-07-03           15.84           13.83                    15.26   \n",
       "2024-07-02           15.84           13.83                    15.26   \n",
       "2024-07-01           15.84           13.83                    15.26   \n",
       "2024-06-28           15.84           13.83                    15.26   \n",
       "2024-06-27           15.84           13.83                    15.26   \n",
       "2024-06-26           15.84           13.83                    15.26   \n",
       "2024-06-25           15.84           13.83                    15.26   \n",
       "2024-06-24           15.84           13.83                    15.26   \n",
       "2024-06-21           15.84           13.83                    15.26   \n",
       "2024-06-20           15.84           13.83                    15.26   \n",
       "2024-06-18           15.84           13.83                    15.26   \n",
       "2024-06-17           15.84           13.83                    15.26   \n",
       "2024-06-14           15.84           13.83                    15.26   \n",
       "2024-06-13           15.84           13.83                    15.26   \n",
       "2024-06-12           15.84           13.83                    15.26   \n",
       "2024-06-11           15.84           13.83                    15.26   \n",
       "2024-06-10           15.84           13.83                    15.26   \n",
       "2024-06-07           15.84           13.83                    15.26   \n",
       "2024-06-06           15.84           13.83                    15.26   \n",
       "2024-06-05           15.84           13.83                    15.26   \n",
       "2024-06-04           15.84           13.83                    15.26   \n",
       "2024-06-03           15.84           13.83                    15.26   \n",
       "2024-05-31           15.84           13.83                    15.26   \n",
       "2024-05-30           15.84           13.83                    15.26   \n",
       "2024-05-29           15.84           13.83                    15.26   \n",
       "2024-05-28           15.84           13.83                    15.26   \n",
       "2024-05-24           15.84           13.83                    15.26   \n",
       "2024-05-23           15.84           13.83                    15.26   \n",
       "2024-05-22           15.84           13.83                    15.26   \n",
       "2024-05-21           15.84           13.83                    15.26   \n",
       "2024-05-20           15.84           13.83                    15.26   \n",
       "2024-05-17           15.84           13.83                    15.26   \n",
       "2024-05-16           15.84           13.83                    15.26   \n",
       "2024-05-15           15.84           13.83                    15.26   \n",
       "2024-05-14           15.84           13.83                    15.26   \n",
       "2024-05-13           15.84           13.83                    15.26   \n",
       "2024-05-10           15.84           13.83                    15.26   \n",
       "2024-05-09           15.84           13.83                    15.26   \n",
       "2024-05-08           15.84           13.83                    15.26   \n",
       "2024-05-07           15.84           13.83                    15.26   \n",
       "2024-05-06           15.84           13.83                    15.26   \n",
       "2024-05-03           15.84           13.83                    15.26   \n",
       "2024-05-02           15.84           13.83                    15.26   \n",
       "2024-05-01           15.84           13.83                    15.26   \n",
       "2024-04-30           15.84           13.83                    15.26   \n",
       "2024-04-29           15.84           13.83                    15.26   \n",
       "2024-04-26           15.84           13.83                    15.26   \n",
       "2024-04-25           15.84           13.83                    15.26   \n",
       "2024-04-24           15.84           13.83                    15.26   \n",
       "2024-04-23           15.84           13.83                    15.26   \n",
       "2024-04-22           15.84           13.83                    15.26   \n",
       "2024-04-19           15.84           13.83                    15.26   \n",
       "2024-04-18           15.84           13.83                    15.26   \n",
       "2024-04-17           15.84           13.83                    15.26   \n",
       "2024-04-16           15.84           13.83                    15.26   \n",
       "2024-04-15           15.84           13.83                    15.26   \n",
       "2024-04-12           15.84           13.83                    15.26   \n",
       "2024-04-11           15.84           13.83                    15.26   \n",
       "2024-04-10           15.84           13.83                    15.26   \n",
       "2024-04-09           15.84           13.83                    15.26   \n",
       "2024-04-08           15.84           13.83                    15.26   \n",
       "2024-04-05           15.84           13.83                    15.26   \n",
       "2024-04-04           15.84           13.83                    15.26   \n",
       "2024-04-03           15.84           13.83                    15.26   \n",
       "2024-04-02           15.84           13.83                    15.26   \n",
       "2024-04-01           15.84           13.83                    15.26   \n",
       "2024-03-28           15.84           13.83                    15.26   \n",
       "2024-03-27           15.84           13.83                    15.26   \n",
       "2024-03-26           15.84           13.83                    15.26   \n",
       "2024-03-25           15.84           13.83                    15.26   \n",
       "2024-03-22           15.84           13.83                    15.26   \n",
       "2024-03-21           15.84           13.83                    15.26   \n",
       "\n",
       "            TRV_PE_5yr_volatility_-  TRV_relative_valuation_TTM_+  \\\n",
       "2024-07-30                     12.4                        280.70   \n",
       "2024-07-29                     12.4                        280.70   \n",
       "2024-07-26                     12.4                        280.70   \n",
       "2024-07-25                     12.4                        280.70   \n",
       "2024-07-24                     12.4                        280.70   \n",
       "2024-07-23                     12.4                        280.70   \n",
       "2024-07-22                     12.4                        280.70   \n",
       "2024-07-19                     12.4                        280.70   \n",
       "2024-07-18                     12.4                        238.14   \n",
       "2024-07-17                     12.4                        238.14   \n",
       "2024-07-16                     12.4                        238.14   \n",
       "2024-07-15                     12.4                        238.14   \n",
       "2024-07-12                     12.4                        238.14   \n",
       "2024-07-11                     12.4                        238.14   \n",
       "2024-07-10                     12.4                        238.14   \n",
       "2024-07-09                     12.4                        238.14   \n",
       "2024-07-08                     12.4                        238.14   \n",
       "2024-07-05                     12.4                        238.14   \n",
       "2024-07-03                     12.4                        238.14   \n",
       "2024-07-02                     12.4                        238.14   \n",
       "2024-07-01                     12.4                        238.14   \n",
       "2024-06-28                     12.4                        238.14   \n",
       "2024-06-27                     12.4                        238.14   \n",
       "2024-06-26                     12.4                        238.14   \n",
       "2024-06-25                     12.4                        238.14   \n",
       "2024-06-24                     12.4                        238.14   \n",
       "2024-06-21                     12.4                        238.14   \n",
       "2024-06-20                     12.4                        238.14   \n",
       "2024-06-18                     12.4                        238.14   \n",
       "2024-06-17                     12.4                        238.14   \n",
       "2024-06-14                     12.4                        238.14   \n",
       "2024-06-13                     12.4                        238.14   \n",
       "2024-06-12                     12.4                        238.14   \n",
       "2024-06-11                     12.4                        238.14   \n",
       "2024-06-10                     12.4                        238.14   \n",
       "2024-06-07                     12.4                        238.14   \n",
       "2024-06-06                     12.4                        238.14   \n",
       "2024-06-05                     12.4                        238.14   \n",
       "2024-06-04                     12.4                        238.14   \n",
       "2024-06-03                     12.4                        238.14   \n",
       "2024-05-31                     12.4                        238.14   \n",
       "2024-05-30                     12.4                        238.14   \n",
       "2024-05-29                     12.4                        238.14   \n",
       "2024-05-28                     12.4                        238.14   \n",
       "2024-05-24                     12.4                        238.14   \n",
       "2024-05-23                     12.4                        238.14   \n",
       "2024-05-22                     12.4                        238.14   \n",
       "2024-05-21                     12.4                        238.14   \n",
       "2024-05-20                     12.4                        238.14   \n",
       "2024-05-17                     12.4                        238.14   \n",
       "2024-05-16                     12.4                        238.14   \n",
       "2024-05-15                     12.4                        238.14   \n",
       "2024-05-14                     12.4                        238.14   \n",
       "2024-05-13                     12.4                        238.14   \n",
       "2024-05-10                     12.4                        238.14   \n",
       "2024-05-09                     12.4                        238.14   \n",
       "2024-05-08                     12.4                        238.14   \n",
       "2024-05-07                     12.4                        238.14   \n",
       "2024-05-06                     12.4                        238.14   \n",
       "2024-05-03                     12.4                        238.14   \n",
       "2024-05-02                     12.4                        238.14   \n",
       "2024-05-01                     12.4                        238.14   \n",
       "2024-04-30                     12.4                        238.14   \n",
       "2024-04-29                     12.4                        238.14   \n",
       "2024-04-26                     12.4                        238.14   \n",
       "2024-04-25                     12.4                        238.14   \n",
       "2024-04-24                     12.4                        238.14   \n",
       "2024-04-23                     12.4                        238.14   \n",
       "2024-04-22                     12.4                        238.14   \n",
       "2024-04-19                     12.4                        238.14   \n",
       "2024-04-18                     12.4                        238.14   \n",
       "2024-04-17                     12.4                        238.14   \n",
       "2024-04-16                     12.4                        212.44   \n",
       "2024-04-15                     12.4                        212.44   \n",
       "2024-04-12                     12.4                        212.44   \n",
       "2024-04-11                     12.4                        212.44   \n",
       "2024-04-10                     12.4                        212.44   \n",
       "2024-04-09                     12.4                        212.44   \n",
       "2024-04-08                     12.4                        212.44   \n",
       "2024-04-05                     12.4                        212.44   \n",
       "2024-04-04                     12.4                        212.44   \n",
       "2024-04-03                     12.4                        212.44   \n",
       "2024-04-02                     12.4                        212.44   \n",
       "2024-04-01                     12.4                        212.44   \n",
       "2024-03-28                     12.4                        212.44   \n",
       "2024-03-27                     12.4                        212.44   \n",
       "2024-03-26                     12.4                        212.44   \n",
       "2024-03-25                     12.4                        212.44   \n",
       "2024-03-22                     12.4                        212.44   \n",
       "2024-03-21                     12.4                        212.44   \n",
       "\n",
       "            TRV_relative_valuation_TTM_-  TRV_relative_valuation_TTM_median  \\\n",
       "2024-07-30                        231.25                             212.44   \n",
       "2024-07-29                        231.25                             212.44   \n",
       "2024-07-26                        231.25                             212.44   \n",
       "2024-07-25                        231.25                             212.44   \n",
       "2024-07-24                        231.25                             212.44   \n",
       "2024-07-23                        231.25                             212.44   \n",
       "2024-07-22                        231.25                             212.44   \n",
       "2024-07-19                        231.25                             212.44   \n",
       "2024-07-18                        196.19                             212.44   \n",
       "2024-07-17                        196.19                             212.44   \n",
       "2024-07-16                        196.19                             212.44   \n",
       "2024-07-15                        196.19                             212.44   \n",
       "2024-07-12                        196.19                             212.44   \n",
       "2024-07-11                        196.19                             212.44   \n",
       "2024-07-10                        196.19                             212.44   \n",
       "2024-07-09                        196.19                             212.44   \n",
       "2024-07-08                        196.19                             212.44   \n",
       "2024-07-05                        196.19                             212.44   \n",
       "2024-07-03                        196.19                             212.44   \n",
       "2024-07-02                        196.19                             212.44   \n",
       "2024-07-01                        196.19                             212.44   \n",
       "2024-06-28                        196.19                             212.44   \n",
       "2024-06-27                        196.19                             212.44   \n",
       "2024-06-26                        196.19                             212.44   \n",
       "2024-06-25                        196.19                             212.44   \n",
       "2024-06-24                        196.19                             212.44   \n",
       "2024-06-21                        196.19                             212.44   \n",
       "2024-06-20                        196.19                             212.44   \n",
       "2024-06-18                        196.19                             212.44   \n",
       "2024-06-17                        196.19                             212.44   \n",
       "2024-06-14                        196.19                             212.44   \n",
       "2024-06-13                        196.19                             212.44   \n",
       "2024-06-12                        196.19                             212.44   \n",
       "2024-06-11                        196.19                             212.44   \n",
       "2024-06-10                        196.19                             212.44   \n",
       "2024-06-07                        196.19                             212.44   \n",
       "2024-06-06                        196.19                             212.44   \n",
       "2024-06-05                        196.19                             212.44   \n",
       "2024-06-04                        196.19                             212.44   \n",
       "2024-06-03                        196.19                             212.44   \n",
       "2024-05-31                        196.19                             212.44   \n",
       "2024-05-30                        196.19                             212.44   \n",
       "2024-05-29                        196.19                             212.44   \n",
       "2024-05-28                        196.19                             212.44   \n",
       "2024-05-24                        196.19                             212.44   \n",
       "2024-05-23                        196.19                             212.44   \n",
       "2024-05-22                        196.19                             212.44   \n",
       "2024-05-21                        196.19                             212.44   \n",
       "2024-05-20                        196.19                             212.44   \n",
       "2024-05-17                        196.19                             212.44   \n",
       "2024-05-16                        196.19                             212.44   \n",
       "2024-05-15                        196.19                             212.44   \n",
       "2024-05-14                        196.19                             212.44   \n",
       "2024-05-13                        196.19                             212.44   \n",
       "2024-05-10                        196.19                             212.44   \n",
       "2024-05-09                        196.19                             212.44   \n",
       "2024-05-08                        196.19                             212.44   \n",
       "2024-05-07                        196.19                             212.44   \n",
       "2024-05-06                        196.19                             212.44   \n",
       "2024-05-03                        196.19                             212.44   \n",
       "2024-05-02                        196.19                             212.44   \n",
       "2024-05-01                        196.19                             212.44   \n",
       "2024-04-30                        196.19                             212.44   \n",
       "2024-04-29                        196.19                             212.44   \n",
       "2024-04-26                        196.19                             212.44   \n",
       "2024-04-25                        196.19                             212.44   \n",
       "2024-04-24                        196.19                             212.44   \n",
       "2024-04-23                        196.19                             212.44   \n",
       "2024-04-22                        196.19                             212.44   \n",
       "2024-04-19                        196.19                             212.44   \n",
       "2024-04-18                        196.19                             212.44   \n",
       "2024-04-17                        196.19                             212.44   \n",
       "2024-04-16                        175.01                             212.44   \n",
       "2024-04-15                        175.01                             212.44   \n",
       "2024-04-12                        175.01                             212.44   \n",
       "2024-04-11                        175.01                             212.44   \n",
       "2024-04-10                        175.01                             212.44   \n",
       "2024-04-09                        175.01                             212.44   \n",
       "2024-04-08                        175.01                             212.44   \n",
       "2024-04-05                        175.01                             212.44   \n",
       "2024-04-04                        175.01                             212.44   \n",
       "2024-04-03                        175.01                             212.44   \n",
       "2024-04-02                        175.01                             212.44   \n",
       "2024-04-01                        175.01                             212.44   \n",
       "2024-03-28                        175.01                             212.44   \n",
       "2024-03-27                        175.01                             212.44   \n",
       "2024-03-26                        175.01                             212.44   \n",
       "2024-03-25                        175.01                             212.44   \n",
       "2024-03-22                        175.01                             212.44   \n",
       "2024-03-21                        175.01                             212.44   \n",
       "\n",
       "            TRV_relative_valuation_nextQuater_projected_+  \\\n",
       "2024-07-30                                         313.01   \n",
       "2024-07-29                                         313.01   \n",
       "2024-07-26                                         313.01   \n",
       "2024-07-25                                         313.01   \n",
       "2024-07-24                                         313.01   \n",
       "2024-07-23                                         313.01   \n",
       "2024-07-22                                         313.01   \n",
       "2024-07-19                                         313.01   \n",
       "2024-07-18                                         313.01   \n",
       "2024-07-17                                         313.01   \n",
       "2024-07-16                                         313.01   \n",
       "2024-07-15                                         313.01   \n",
       "2024-07-12                                         313.01   \n",
       "2024-07-11                                         313.01   \n",
       "2024-07-10                                         313.01   \n",
       "2024-07-09                                         313.01   \n",
       "2024-07-08                                         313.01   \n",
       "2024-07-05                                         313.01   \n",
       "2024-07-03                                         313.01   \n",
       "2024-07-02                                         313.01   \n",
       "2024-07-01                                         313.01   \n",
       "2024-06-28                                         313.01   \n",
       "2024-06-27                                         313.01   \n",
       "2024-06-26                                         313.01   \n",
       "2024-06-25                                         313.01   \n",
       "2024-06-24                                         313.01   \n",
       "2024-06-21                                         313.01   \n",
       "2024-06-20                                         313.01   \n",
       "2024-06-18                                         313.01   \n",
       "2024-06-17                                         313.01   \n",
       "2024-06-14                                         313.01   \n",
       "2024-06-13                                         313.01   \n",
       "2024-06-12                                         313.01   \n",
       "2024-06-11                                         313.01   \n",
       "2024-06-10                                         313.01   \n",
       "2024-06-07                                         313.01   \n",
       "2024-06-06                                         313.01   \n",
       "2024-06-05                                         313.01   \n",
       "2024-06-04                                         313.01   \n",
       "2024-06-03                                         313.01   \n",
       "2024-05-31                                         313.01   \n",
       "2024-05-30                                         313.01   \n",
       "2024-05-29                                         313.01   \n",
       "2024-05-28                                         313.01   \n",
       "2024-05-24                                         313.01   \n",
       "2024-05-23                                         313.01   \n",
       "2024-05-22                                         313.01   \n",
       "2024-05-21                                         313.01   \n",
       "2024-05-20                                         313.01   \n",
       "2024-05-17                                         313.01   \n",
       "2024-05-16                                         313.01   \n",
       "2024-05-15                                         313.01   \n",
       "2024-05-14                                         313.01   \n",
       "2024-05-13                                         313.01   \n",
       "2024-05-10                                         313.01   \n",
       "2024-05-09                                         313.01   \n",
       "2024-05-08                                         313.01   \n",
       "2024-05-07                                         313.01   \n",
       "2024-05-06                                         313.01   \n",
       "2024-05-03                                         313.01   \n",
       "2024-05-02                                         313.01   \n",
       "2024-05-01                                         313.01   \n",
       "2024-04-30                                         313.01   \n",
       "2024-04-29                                         313.01   \n",
       "2024-04-26                                         313.01   \n",
       "2024-04-25                                         313.01   \n",
       "2024-04-24                                         313.01   \n",
       "2024-04-23                                         313.01   \n",
       "2024-04-22                                         313.01   \n",
       "2024-04-19                                         313.01   \n",
       "2024-04-18                                         313.01   \n",
       "2024-04-17                                         313.01   \n",
       "2024-04-16                                         313.01   \n",
       "2024-04-15                                         313.01   \n",
       "2024-04-12                                         313.01   \n",
       "2024-04-11                                         313.01   \n",
       "2024-04-10                                         313.01   \n",
       "2024-04-09                                         313.01   \n",
       "2024-04-08                                         313.01   \n",
       "2024-04-05                                         313.01   \n",
       "2024-04-04                                         313.01   \n",
       "2024-04-03                                         313.01   \n",
       "2024-04-02                                         313.01   \n",
       "2024-04-01                                         313.01   \n",
       "2024-03-28                                         313.01   \n",
       "2024-03-27                                         313.01   \n",
       "2024-03-26                                         313.01   \n",
       "2024-03-25                                         313.01   \n",
       "2024-03-22                                         313.01   \n",
       "2024-03-21                                         313.01   \n",
       "\n",
       "            TRV_relative_valuation_nextQuater_projected_-  \\\n",
       "2024-07-30                                         257.87   \n",
       "2024-07-29                                         257.87   \n",
       "2024-07-26                                         257.87   \n",
       "2024-07-25                                         257.87   \n",
       "2024-07-24                                         257.87   \n",
       "2024-07-23                                         257.87   \n",
       "2024-07-22                                         257.87   \n",
       "2024-07-19                                         257.87   \n",
       "2024-07-18                                         257.87   \n",
       "2024-07-17                                         257.87   \n",
       "2024-07-16                                         257.87   \n",
       "2024-07-15                                         257.87   \n",
       "2024-07-12                                         257.87   \n",
       "2024-07-11                                         257.87   \n",
       "2024-07-10                                         257.87   \n",
       "2024-07-09                                         257.87   \n",
       "2024-07-08                                         257.87   \n",
       "2024-07-05                                         257.87   \n",
       "2024-07-03                                         257.87   \n",
       "2024-07-02                                         257.87   \n",
       "2024-07-01                                         257.87   \n",
       "2024-06-28                                         257.87   \n",
       "2024-06-27                                         257.87   \n",
       "2024-06-26                                         257.87   \n",
       "2024-06-25                                         257.87   \n",
       "2024-06-24                                         257.87   \n",
       "2024-06-21                                         257.87   \n",
       "2024-06-20                                         257.87   \n",
       "2024-06-18                                         257.87   \n",
       "2024-06-17                                         257.87   \n",
       "2024-06-14                                         257.87   \n",
       "2024-06-13                                         257.87   \n",
       "2024-06-12                                         257.87   \n",
       "2024-06-11                                         257.87   \n",
       "2024-06-10                                         257.87   \n",
       "2024-06-07                                         257.87   \n",
       "2024-06-06                                         257.87   \n",
       "2024-06-05                                         257.87   \n",
       "2024-06-04                                         257.87   \n",
       "2024-06-03                                         257.87   \n",
       "2024-05-31                                         257.87   \n",
       "2024-05-30                                         257.87   \n",
       "2024-05-29                                         257.87   \n",
       "2024-05-28                                         257.87   \n",
       "2024-05-24                                         257.87   \n",
       "2024-05-23                                         257.87   \n",
       "2024-05-22                                         257.87   \n",
       "2024-05-21                                         257.87   \n",
       "2024-05-20                                         257.87   \n",
       "2024-05-17                                         257.87   \n",
       "2024-05-16                                         257.87   \n",
       "2024-05-15                                         257.87   \n",
       "2024-05-14                                         257.87   \n",
       "2024-05-13                                         257.87   \n",
       "2024-05-10                                         257.87   \n",
       "2024-05-09                                         257.87   \n",
       "2024-05-08                                         257.87   \n",
       "2024-05-07                                         257.87   \n",
       "2024-05-06                                         257.87   \n",
       "2024-05-03                                         257.87   \n",
       "2024-05-02                                         257.87   \n",
       "2024-05-01                                         257.87   \n",
       "2024-04-30                                         257.87   \n",
       "2024-04-29                                         257.87   \n",
       "2024-04-26                                         257.87   \n",
       "2024-04-25                                         257.87   \n",
       "2024-04-24                                         257.87   \n",
       "2024-04-23                                         257.87   \n",
       "2024-04-22                                         257.87   \n",
       "2024-04-19                                         257.87   \n",
       "2024-04-18                                         257.87   \n",
       "2024-04-17                                         257.87   \n",
       "2024-04-16                                         257.87   \n",
       "2024-04-15                                         257.87   \n",
       "2024-04-12                                         257.87   \n",
       "2024-04-11                                         257.87   \n",
       "2024-04-10                                         257.87   \n",
       "2024-04-09                                         257.87   \n",
       "2024-04-08                                         257.87   \n",
       "2024-04-05                                         257.87   \n",
       "2024-04-04                                         257.87   \n",
       "2024-04-03                                         257.87   \n",
       "2024-04-02                                         257.87   \n",
       "2024-04-01                                         257.87   \n",
       "2024-03-28                                         257.87   \n",
       "2024-03-27                                         257.87   \n",
       "2024-03-26                                         257.87   \n",
       "2024-03-25                                         257.87   \n",
       "2024-03-22                                         257.87   \n",
       "2024-03-21                                         257.87   \n",
       "\n",
       "            TRV_relative_valuation_nextQuater_projected_median  \\\n",
       "2024-07-30                                             285.44    \n",
       "2024-07-29                                             285.44    \n",
       "2024-07-26                                             285.44    \n",
       "2024-07-25                                             285.44    \n",
       "2024-07-24                                             285.44    \n",
       "2024-07-23                                             285.44    \n",
       "2024-07-22                                             285.44    \n",
       "2024-07-19                                             285.44    \n",
       "2024-07-18                                             285.44    \n",
       "2024-07-17                                             285.44    \n",
       "2024-07-16                                             285.44    \n",
       "2024-07-15                                             285.44    \n",
       "2024-07-12                                             285.44    \n",
       "2024-07-11                                             285.44    \n",
       "2024-07-10                                             285.44    \n",
       "2024-07-09                                             285.44    \n",
       "2024-07-08                                             285.44    \n",
       "2024-07-05                                             285.44    \n",
       "2024-07-03                                             285.44    \n",
       "2024-07-02                                             285.44    \n",
       "2024-07-01                                             285.44    \n",
       "2024-06-28                                             285.44    \n",
       "2024-06-27                                             285.44    \n",
       "2024-06-26                                             285.44    \n",
       "2024-06-25                                             285.44    \n",
       "2024-06-24                                             285.44    \n",
       "2024-06-21                                             285.44    \n",
       "2024-06-20                                             285.44    \n",
       "2024-06-18                                             285.44    \n",
       "2024-06-17                                             285.44    \n",
       "2024-06-14                                             285.44    \n",
       "2024-06-13                                             285.44    \n",
       "2024-06-12                                             285.44    \n",
       "2024-06-11                                             285.44    \n",
       "2024-06-10                                             285.44    \n",
       "2024-06-07                                             285.44    \n",
       "2024-06-06                                             285.44    \n",
       "2024-06-05                                             285.44    \n",
       "2024-06-04                                             285.44    \n",
       "2024-06-03                                             285.44    \n",
       "2024-05-31                                             285.44    \n",
       "2024-05-30                                             285.44    \n",
       "2024-05-29                                             285.44    \n",
       "2024-05-28                                             285.44    \n",
       "2024-05-24                                             285.44    \n",
       "2024-05-23                                             285.44    \n",
       "2024-05-22                                             285.44    \n",
       "2024-05-21                                             285.44    \n",
       "2024-05-20                                             285.44    \n",
       "2024-05-17                                             285.44    \n",
       "2024-05-16                                             285.44    \n",
       "2024-05-15                                             285.44    \n",
       "2024-05-14                                             285.44    \n",
       "2024-05-13                                             285.44    \n",
       "2024-05-10                                             285.44    \n",
       "2024-05-09                                             285.44    \n",
       "2024-05-08                                             285.44    \n",
       "2024-05-07                                             285.44    \n",
       "2024-05-06                                             285.44    \n",
       "2024-05-03                                             285.44    \n",
       "2024-05-02                                             285.44    \n",
       "2024-05-01                                             285.44    \n",
       "2024-04-30                                             285.44    \n",
       "2024-04-29                                             285.44    \n",
       "2024-04-26                                             285.44    \n",
       "2024-04-25                                             285.44    \n",
       "2024-04-24                                             285.44    \n",
       "2024-04-23                                             285.44    \n",
       "2024-04-22                                             285.44    \n",
       "2024-04-19                                             285.44    \n",
       "2024-04-18                                             285.44    \n",
       "2024-04-17                                             285.44    \n",
       "2024-04-16                                             285.44    \n",
       "2024-04-15                                             285.44    \n",
       "2024-04-12                                             285.44    \n",
       "2024-04-11                                             285.44    \n",
       "2024-04-10                                             285.44    \n",
       "2024-04-09                                             285.44    \n",
       "2024-04-08                                             285.44    \n",
       "2024-04-05                                             285.44    \n",
       "2024-04-04                                             285.44    \n",
       "2024-04-03                                             285.44    \n",
       "2024-04-02                                             285.44    \n",
       "2024-04-01                                             285.44    \n",
       "2024-03-28                                             285.44    \n",
       "2024-03-27                                             285.44    \n",
       "2024-03-26                                             285.44    \n",
       "2024-03-25                                             285.44    \n",
       "2024-03-22                                             285.44    \n",
       "2024-03-21                                             285.44    \n",
       "\n",
       "            TRV_relative_valuation_nextYear_projected_+  \\\n",
       "2024-07-30                                       358.34   \n",
       "2024-07-29                                       358.34   \n",
       "2024-07-26                                       358.34   \n",
       "2024-07-25                                       358.34   \n",
       "2024-07-24                                       358.34   \n",
       "2024-07-23                                       358.34   \n",
       "2024-07-22                                       358.34   \n",
       "2024-07-19                                       358.34   \n",
       "2024-07-18                                       358.34   \n",
       "2024-07-17                                       358.34   \n",
       "2024-07-16                                       358.34   \n",
       "2024-07-15                                       358.34   \n",
       "2024-07-12                                       358.34   \n",
       "2024-07-11                                       358.34   \n",
       "2024-07-10                                       358.34   \n",
       "2024-07-09                                       358.34   \n",
       "2024-07-08                                       358.34   \n",
       "2024-07-05                                       358.34   \n",
       "2024-07-03                                       358.34   \n",
       "2024-07-02                                       358.34   \n",
       "2024-07-01                                       358.34   \n",
       "2024-06-28                                       358.34   \n",
       "2024-06-27                                       358.34   \n",
       "2024-06-26                                       358.34   \n",
       "2024-06-25                                       358.34   \n",
       "2024-06-24                                       358.34   \n",
       "2024-06-21                                       358.34   \n",
       "2024-06-20                                       358.34   \n",
       "2024-06-18                                       358.34   \n",
       "2024-06-17                                       358.34   \n",
       "2024-06-14                                       358.34   \n",
       "2024-06-13                                       358.34   \n",
       "2024-06-12                                       358.34   \n",
       "2024-06-11                                       358.34   \n",
       "2024-06-10                                       358.34   \n",
       "2024-06-07                                       358.34   \n",
       "2024-06-06                                       358.34   \n",
       "2024-06-05                                       358.34   \n",
       "2024-06-04                                       358.34   \n",
       "2024-06-03                                       358.34   \n",
       "2024-05-31                                       358.34   \n",
       "2024-05-30                                       358.34   \n",
       "2024-05-29                                       358.34   \n",
       "2024-05-28                                       358.34   \n",
       "2024-05-24                                       358.34   \n",
       "2024-05-23                                       358.34   \n",
       "2024-05-22                                       358.34   \n",
       "2024-05-21                                       358.34   \n",
       "2024-05-20                                       358.34   \n",
       "2024-05-17                                       358.34   \n",
       "2024-05-16                                       358.34   \n",
       "2024-05-15                                       358.34   \n",
       "2024-05-14                                       358.34   \n",
       "2024-05-13                                       358.34   \n",
       "2024-05-10                                       358.34   \n",
       "2024-05-09                                       358.34   \n",
       "2024-05-08                                       358.34   \n",
       "2024-05-07                                       358.34   \n",
       "2024-05-06                                       358.34   \n",
       "2024-05-03                                       358.34   \n",
       "2024-05-02                                       358.34   \n",
       "2024-05-01                                       358.34   \n",
       "2024-04-30                                       358.34   \n",
       "2024-04-29                                       358.34   \n",
       "2024-04-26                                       358.34   \n",
       "2024-04-25                                       358.34   \n",
       "2024-04-24                                       358.34   \n",
       "2024-04-23                                       358.34   \n",
       "2024-04-22                                       358.34   \n",
       "2024-04-19                                       358.34   \n",
       "2024-04-18                                       358.34   \n",
       "2024-04-17                                       358.34   \n",
       "2024-04-16                                       358.34   \n",
       "2024-04-15                                       358.34   \n",
       "2024-04-12                                       358.34   \n",
       "2024-04-11                                       358.34   \n",
       "2024-04-10                                       358.34   \n",
       "2024-04-09                                       358.34   \n",
       "2024-04-08                                       358.34   \n",
       "2024-04-05                                       358.34   \n",
       "2024-04-04                                       358.34   \n",
       "2024-04-03                                       358.34   \n",
       "2024-04-02                                       358.34   \n",
       "2024-04-01                                       358.34   \n",
       "2024-03-28                                       358.34   \n",
       "2024-03-27                                       358.34   \n",
       "2024-03-26                                       358.34   \n",
       "2024-03-25                                       358.34   \n",
       "2024-03-22                                       358.34   \n",
       "2024-03-21                                       358.34   \n",
       "\n",
       "            TRV_relative_valuation_nextYear_projected_-  \\\n",
       "2024-07-30                                       295.22   \n",
       "2024-07-29                                       295.22   \n",
       "2024-07-26                                       295.22   \n",
       "2024-07-25                                       295.22   \n",
       "2024-07-24                                       295.22   \n",
       "2024-07-23                                       295.22   \n",
       "2024-07-22                                       295.22   \n",
       "2024-07-19                                       295.22   \n",
       "2024-07-18                                       295.22   \n",
       "2024-07-17                                       295.22   \n",
       "2024-07-16                                       295.22   \n",
       "2024-07-15                                       295.22   \n",
       "2024-07-12                                       295.22   \n",
       "2024-07-11                                       295.22   \n",
       "2024-07-10                                       295.22   \n",
       "2024-07-09                                       295.22   \n",
       "2024-07-08                                       295.22   \n",
       "2024-07-05                                       295.22   \n",
       "2024-07-03                                       295.22   \n",
       "2024-07-02                                       295.22   \n",
       "2024-07-01                                       295.22   \n",
       "2024-06-28                                       295.22   \n",
       "2024-06-27                                       295.22   \n",
       "2024-06-26                                       295.22   \n",
       "2024-06-25                                       295.22   \n",
       "2024-06-24                                       295.22   \n",
       "2024-06-21                                       295.22   \n",
       "2024-06-20                                       295.22   \n",
       "2024-06-18                                       295.22   \n",
       "2024-06-17                                       295.22   \n",
       "2024-06-14                                       295.22   \n",
       "2024-06-13                                       295.22   \n",
       "2024-06-12                                       295.22   \n",
       "2024-06-11                                       295.22   \n",
       "2024-06-10                                       295.22   \n",
       "2024-06-07                                       295.22   \n",
       "2024-06-06                                       295.22   \n",
       "2024-06-05                                       295.22   \n",
       "2024-06-04                                       295.22   \n",
       "2024-06-03                                       295.22   \n",
       "2024-05-31                                       295.22   \n",
       "2024-05-30                                       295.22   \n",
       "2024-05-29                                       295.22   \n",
       "2024-05-28                                       295.22   \n",
       "2024-05-24                                       295.22   \n",
       "2024-05-23                                       295.22   \n",
       "2024-05-22                                       295.22   \n",
       "2024-05-21                                       295.22   \n",
       "2024-05-20                                       295.22   \n",
       "2024-05-17                                       295.22   \n",
       "2024-05-16                                       295.22   \n",
       "2024-05-15                                       295.22   \n",
       "2024-05-14                                       295.22   \n",
       "2024-05-13                                       295.22   \n",
       "2024-05-10                                       295.22   \n",
       "2024-05-09                                       295.22   \n",
       "2024-05-08                                       295.22   \n",
       "2024-05-07                                       295.22   \n",
       "2024-05-06                                       295.22   \n",
       "2024-05-03                                       295.22   \n",
       "2024-05-02                                       295.22   \n",
       "2024-05-01                                       295.22   \n",
       "2024-04-30                                       295.22   \n",
       "2024-04-29                                       295.22   \n",
       "2024-04-26                                       295.22   \n",
       "2024-04-25                                       295.22   \n",
       "2024-04-24                                       295.22   \n",
       "2024-04-23                                       295.22   \n",
       "2024-04-22                                       295.22   \n",
       "2024-04-19                                       295.22   \n",
       "2024-04-18                                       295.22   \n",
       "2024-04-17                                       295.22   \n",
       "2024-04-16                                       295.22   \n",
       "2024-04-15                                       295.22   \n",
       "2024-04-12                                       295.22   \n",
       "2024-04-11                                       295.22   \n",
       "2024-04-10                                       295.22   \n",
       "2024-04-09                                       295.22   \n",
       "2024-04-08                                       295.22   \n",
       "2024-04-05                                       295.22   \n",
       "2024-04-04                                       295.22   \n",
       "2024-04-03                                       295.22   \n",
       "2024-04-02                                       295.22   \n",
       "2024-04-01                                       295.22   \n",
       "2024-03-28                                       295.22   \n",
       "2024-03-27                                       295.22   \n",
       "2024-03-26                                       295.22   \n",
       "2024-03-25                                       295.22   \n",
       "2024-03-22                                       295.22   \n",
       "2024-03-21                                       295.22   \n",
       "\n",
       "            TRV_relative_valuation_nextYear_projected_median  \\\n",
       "2024-07-30                                            326.78   \n",
       "2024-07-29                                            326.78   \n",
       "2024-07-26                                            326.78   \n",
       "2024-07-25                                            326.78   \n",
       "2024-07-24                                            326.78   \n",
       "2024-07-23                                            326.78   \n",
       "2024-07-22                                            326.78   \n",
       "2024-07-19                                            326.78   \n",
       "2024-07-18                                            326.78   \n",
       "2024-07-17                                            326.78   \n",
       "2024-07-16                                            326.78   \n",
       "2024-07-15                                            326.78   \n",
       "2024-07-12                                            326.78   \n",
       "2024-07-11                                            326.78   \n",
       "2024-07-10                                            326.78   \n",
       "2024-07-09                                            326.78   \n",
       "2024-07-08                                            326.78   \n",
       "2024-07-05                                            326.78   \n",
       "2024-07-03                                            326.78   \n",
       "2024-07-02                                            326.78   \n",
       "2024-07-01                                            326.78   \n",
       "2024-06-28                                            326.78   \n",
       "2024-06-27                                            326.78   \n",
       "2024-06-26                                            326.78   \n",
       "2024-06-25                                            326.78   \n",
       "2024-06-24                                            326.78   \n",
       "2024-06-21                                            326.78   \n",
       "2024-06-20                                            326.78   \n",
       "2024-06-18                                            326.78   \n",
       "2024-06-17                                            326.78   \n",
       "2024-06-14                                            326.78   \n",
       "2024-06-13                                            326.78   \n",
       "2024-06-12                                            326.78   \n",
       "2024-06-11                                            326.78   \n",
       "2024-06-10                                            326.78   \n",
       "2024-06-07                                            326.78   \n",
       "2024-06-06                                            326.78   \n",
       "2024-06-05                                            326.78   \n",
       "2024-06-04                                            326.78   \n",
       "2024-06-03                                            326.78   \n",
       "2024-05-31                                            326.78   \n",
       "2024-05-30                                            326.78   \n",
       "2024-05-29                                            326.78   \n",
       "2024-05-28                                            326.78   \n",
       "2024-05-24                                            326.78   \n",
       "2024-05-23                                            326.78   \n",
       "2024-05-22                                            326.78   \n",
       "2024-05-21                                            326.78   \n",
       "2024-05-20                                            326.78   \n",
       "2024-05-17                                            326.78   \n",
       "2024-05-16                                            326.78   \n",
       "2024-05-15                                            326.78   \n",
       "2024-05-14                                            326.78   \n",
       "2024-05-13                                            326.78   \n",
       "2024-05-10                                            326.78   \n",
       "2024-05-09                                            326.78   \n",
       "2024-05-08                                            326.78   \n",
       "2024-05-07                                            326.78   \n",
       "2024-05-06                                            326.78   \n",
       "2024-05-03                                            326.78   \n",
       "2024-05-02                                            326.78   \n",
       "2024-05-01                                            326.78   \n",
       "2024-04-30                                            326.78   \n",
       "2024-04-29                                            326.78   \n",
       "2024-04-26                                            326.78   \n",
       "2024-04-25                                            326.78   \n",
       "2024-04-24                                            326.78   \n",
       "2024-04-23                                            326.78   \n",
       "2024-04-22                                            326.78   \n",
       "2024-04-19                                            326.78   \n",
       "2024-04-18                                            326.78   \n",
       "2024-04-17                                            326.78   \n",
       "2024-04-16                                            326.78   \n",
       "2024-04-15                                            326.78   \n",
       "2024-04-12                                            326.78   \n",
       "2024-04-11                                            326.78   \n",
       "2024-04-10                                            326.78   \n",
       "2024-04-09                                            326.78   \n",
       "2024-04-08                                            326.78   \n",
       "2024-04-05                                            326.78   \n",
       "2024-04-04                                            326.78   \n",
       "2024-04-03                                            326.78   \n",
       "2024-04-02                                            326.78   \n",
       "2024-04-01                                            326.78   \n",
       "2024-03-28                                            326.78   \n",
       "2024-03-27                                            326.78   \n",
       "2024-03-26                                            326.78   \n",
       "2024-03-25                                            326.78   \n",
       "2024-03-22                                            326.78   \n",
       "2024-03-21                                            326.78   \n",
       "\n",
       "           TRV_price_valuation_assessment  TRV_nextQuater_EPS_growthRate  \\\n",
       "2024-07-30                    undervalued                          11.51   \n",
       "2024-07-29                    undervalued                          11.51   \n",
       "2024-07-26                    undervalued                          11.51   \n",
       "2024-07-25                    undervalued                          11.51   \n",
       "2024-07-24                    undervalued                          11.51   \n",
       "2024-07-23                    undervalued                          11.51   \n",
       "2024-07-22                    undervalued                          11.51   \n",
       "2024-07-19                    undervalued                          11.51   \n",
       "2024-07-18                           fair                          31.44   \n",
       "2024-07-17                           fair                          31.44   \n",
       "2024-07-16                           fair                          31.44   \n",
       "2024-07-15                           fair                          31.44   \n",
       "2024-07-12                           fair                          31.44   \n",
       "2024-07-11                           fair                          31.44   \n",
       "2024-07-10                           fair                          31.44   \n",
       "2024-07-09                           fair                          31.44   \n",
       "2024-07-08                           fair                          31.44   \n",
       "2024-07-05                           fair                          31.44   \n",
       "2024-07-03                           fair                          31.44   \n",
       "2024-07-02                           fair                          31.44   \n",
       "2024-07-01                           fair                          31.44   \n",
       "2024-06-28                           fair                          31.44   \n",
       "2024-06-27                           fair                          31.44   \n",
       "2024-06-26                           fair                          31.44   \n",
       "2024-06-25                           fair                          31.44   \n",
       "2024-06-24                           fair                          31.44   \n",
       "2024-06-21                           fair                          31.44   \n",
       "2024-06-20                           fair                          31.44   \n",
       "2024-06-18                           fair                          31.44   \n",
       "2024-06-17                           fair                          31.44   \n",
       "2024-06-14                           fair                          31.44   \n",
       "2024-06-13                           fair                          31.44   \n",
       "2024-06-12                           fair                          31.44   \n",
       "2024-06-11                           fair                          31.44   \n",
       "2024-06-10                           fair                          31.44   \n",
       "2024-06-07                           fair                          31.44   \n",
       "2024-06-06                           fair                          31.44   \n",
       "2024-06-05                           fair                          31.44   \n",
       "2024-06-04                           fair                          31.44   \n",
       "2024-06-03                           fair                          31.44   \n",
       "2024-05-31                           fair                          31.44   \n",
       "2024-05-30                           fair                          31.44   \n",
       "2024-05-29                           fair                          31.44   \n",
       "2024-05-28                           fair                          31.44   \n",
       "2024-05-24                           fair                          31.44   \n",
       "2024-05-23                           fair                          31.44   \n",
       "2024-05-22                           fair                          31.44   \n",
       "2024-05-21                           fair                          31.44   \n",
       "2024-05-20                           fair                          31.44   \n",
       "2024-05-17                           fair                          31.44   \n",
       "2024-05-16                           fair                          31.44   \n",
       "2024-05-15                           fair                          31.44   \n",
       "2024-05-14                           fair                          31.44   \n",
       "2024-05-13                           fair                          31.44   \n",
       "2024-05-10                           fair                          31.44   \n",
       "2024-05-09                           fair                          31.44   \n",
       "2024-05-08                           fair                          31.44   \n",
       "2024-05-07                           fair                          31.44   \n",
       "2024-05-06                           fair                          31.44   \n",
       "2024-05-03                           fair                          31.44   \n",
       "2024-05-02                           fair                          31.44   \n",
       "2024-05-01                           fair                          31.44   \n",
       "2024-04-30                           fair                          31.44   \n",
       "2024-04-29                           fair                          31.44   \n",
       "2024-04-26                           fair                          31.44   \n",
       "2024-04-25                           fair                          31.44   \n",
       "2024-04-24                           fair                          31.44   \n",
       "2024-04-23                           fair                          31.44   \n",
       "2024-04-22                           fair                          31.44   \n",
       "2024-04-19                           fair                          31.44   \n",
       "2024-04-18                           fair                          31.44   \n",
       "2024-04-17                           fair                          31.44   \n",
       "2024-04-16                     overvalued                          47.34   \n",
       "2024-04-15                     overvalued                          47.34   \n",
       "2024-04-12                     overvalued                          47.34   \n",
       "2024-04-11                     overvalued                          47.34   \n",
       "2024-04-10                     overvalued                          47.34   \n",
       "2024-04-09                     overvalued                          47.34   \n",
       "2024-04-08                     overvalued                          47.34   \n",
       "2024-04-05                     overvalued                          47.34   \n",
       "2024-04-04                     overvalued                          47.34   \n",
       "2024-04-03                     overvalued                          47.34   \n",
       "2024-04-02                     overvalued                          47.34   \n",
       "2024-04-01                     overvalued                          47.34   \n",
       "2024-03-28                     overvalued                          47.34   \n",
       "2024-03-27                     overvalued                          47.34   \n",
       "2024-03-26                     overvalued                          47.34   \n",
       "2024-03-25                     overvalued                          47.34   \n",
       "2024-03-22                     overvalued                          47.34   \n",
       "2024-03-21                     overvalued                          47.34   \n",
       "\n",
       "            TRV_nextYear_EPS_growthRate  TRV_next12months_PEG  TRV_TTM_PEG  \\\n",
       "2024-07-30                        27.66                  0.75         0.49   \n",
       "2024-07-29                        27.66                  0.75         0.48   \n",
       "2024-07-26                        27.66                  0.75         0.48   \n",
       "2024-07-25                        27.66                  0.75         0.47   \n",
       "2024-07-24                        27.66                  0.75         0.46   \n",
       "2024-07-23                        27.66                  0.75         0.47   \n",
       "2024-07-22                        27.66                  0.75         0.46   \n",
       "2024-07-19                        27.66                  0.75         0.46   \n",
       "2024-07-18                        50.47                  0.75         0.32   \n",
       "2024-07-17                        50.47                  0.75         0.32   \n",
       "2024-07-16                        50.47                  0.75         0.31   \n",
       "2024-07-15                        50.47                  0.75         0.31   \n",
       "2024-07-12                        50.47                  0.75         0.31   \n",
       "2024-07-11                        50.47                  0.75         0.30   \n",
       "2024-07-10                        50.47                  0.75         0.30   \n",
       "2024-07-09                        50.47                  0.75         0.29   \n",
       "2024-07-08                        50.47                  0.75         0.30   \n",
       "2024-07-05                        50.47                  0.75         0.29   \n",
       "2024-07-03                        50.47                  0.75         0.29   \n",
       "2024-07-02                        50.47                  0.75         0.29   \n",
       "2024-07-01                        50.47                  0.75         0.29   \n",
       "2024-06-28                        50.47                  0.75         0.29   \n",
       "2024-06-27                        50.47                  0.75         0.30   \n",
       "2024-06-26                        50.47                  0.75         0.30   \n",
       "2024-06-25                        50.47                  0.75         0.30   \n",
       "2024-06-24                        50.47                  0.75         0.31   \n",
       "2024-06-21                        50.47                  0.75         0.30   \n",
       "2024-06-20                        50.47                  0.75         0.31   \n",
       "2024-06-18                        50.47                  0.75         0.30   \n",
       "2024-06-17                        50.47                  0.75         0.30   \n",
       "2024-06-14                        50.47                  0.75         0.30   \n",
       "2024-06-13                        50.47                  0.75         0.30   \n",
       "2024-06-12                        50.47                  0.75         0.30   \n",
       "2024-06-11                        50.47                  0.75         0.30   \n",
       "2024-06-10                        50.47                  0.75         0.31   \n",
       "2024-06-07                        50.47                  0.75         0.31   \n",
       "2024-06-06                        50.47                  0.75         0.30   \n",
       "2024-06-05                        50.47                  0.75         0.30   \n",
       "2024-06-04                        50.47                  0.75         0.30   \n",
       "2024-06-03                        50.47                  0.75         0.30   \n",
       "2024-05-31                        50.47                  0.75         0.31   \n",
       "2024-05-30                        50.47                  0.75         0.31   \n",
       "2024-05-29                        50.47                  0.75         0.30   \n",
       "2024-05-28                        50.47                  0.75         0.30   \n",
       "2024-05-24                        50.47                  0.75         0.31   \n",
       "2024-05-23                        50.47                  0.75         0.31   \n",
       "2024-05-22                        50.47                  0.75         0.31   \n",
       "2024-05-21                        50.47                  0.75         0.31   \n",
       "2024-05-20                        50.47                  0.75         0.31   \n",
       "2024-05-17                        50.47                  0.75         0.32   \n",
       "2024-05-16                        50.47                  0.75         0.32   \n",
       "2024-05-15                        50.47                  0.75         0.31   \n",
       "2024-05-14                        50.47                  0.75         0.31   \n",
       "2024-05-13                        50.47                  0.75         0.31   \n",
       "2024-05-10                        50.47                  0.75         0.32   \n",
       "2024-05-09                        50.47                  0.75         0.32   \n",
       "2024-05-08                        50.47                  0.75         0.31   \n",
       "2024-05-07                        50.47                  0.75         0.31   \n",
       "2024-05-06                        50.47                  0.75         0.31   \n",
       "2024-05-03                        50.47                  0.75         0.31   \n",
       "2024-05-02                        50.47                  0.75         0.31   \n",
       "2024-05-01                        50.47                  0.75         0.31   \n",
       "2024-04-30                        50.47                  0.75         0.31   \n",
       "2024-04-29                        50.47                  0.75         0.31   \n",
       "2024-04-26                        50.47                  0.75         0.31   \n",
       "2024-04-25                        50.47                  0.75         0.31   \n",
       "2024-04-24                        50.47                  0.75         0.31   \n",
       "2024-04-23                        50.47                  0.75         0.31   \n",
       "2024-04-22                        50.47                  0.75         0.31   \n",
       "2024-04-19                        50.47                  0.75         0.31   \n",
       "2024-04-18                        50.47                  0.75         0.30   \n",
       "2024-04-17                        50.47                  0.75         0.30   \n",
       "2024-04-16                        68.68                  0.75         0.27   \n",
       "2024-04-15                        68.68                  0.75         0.26   \n",
       "2024-04-12                        68.68                  0.75         0.26   \n",
       "2024-04-11                        68.68                  0.75         0.26   \n",
       "2024-04-10                        68.68                  0.75         0.27   \n",
       "2024-04-09                        68.68                  0.75         0.27   \n",
       "2024-04-08                        68.68                  0.75         0.27   \n",
       "2024-04-05                        68.68                  0.75         0.27   \n",
       "2024-04-04                        68.68                  0.75         0.27   \n",
       "2024-04-03                        68.68                  0.75         0.27   \n",
       "2024-04-02                        68.68                  0.75         0.27   \n",
       "2024-04-01                        68.68                  0.75         0.27   \n",
       "2024-03-28                        68.68                  0.75         0.27   \n",
       "2024-03-27                        68.68                  0.75         0.27   \n",
       "2024-03-26                        68.68                  0.75         0.27   \n",
       "2024-03-25                        68.68                  0.75         0.27   \n",
       "2024-03-22                        68.68                  0.75         0.27   \n",
       "2024-03-21                        68.68                  0.75         0.27   \n",
       "\n",
       "            TRV_EarningYield_TTM  TRV_ERP_TTM  \n",
       "2024-07-30                  7.33         3.16  \n",
       "2024-07-29                  7.55         3.38  \n",
       "2024-07-26                  7.56         3.39  \n",
       "2024-07-25                  7.72         3.55  \n",
       "2024-07-24                  7.78         3.61  \n",
       "2024-07-23                  7.75         3.58  \n",
       "2024-07-22                  7.87         3.70  \n",
       "2024-07-19                  7.94         3.77  \n",
       "2024-07-18                  6.21         2.04  \n",
       "2024-07-17                  6.21         2.04  \n",
       "2024-07-16                  6.30         2.13  \n",
       "2024-07-15                  6.42         2.25  \n",
       "2024-07-12                  6.48         2.31  \n",
       "2024-07-11                  6.56         2.39  \n",
       "2024-07-10                  6.62         2.45  \n",
       "2024-07-09                  6.75         2.58  \n",
       "2024-07-08                  6.71         2.54  \n",
       "2024-07-05                  6.79         2.62  \n",
       "2024-07-03                  6.73         2.56  \n",
       "2024-07-02                  6.73         2.56  \n",
       "2024-07-01                  6.75         2.58  \n",
       "2024-06-28                  6.74         2.57  \n",
       "2024-06-27                  6.62         2.45  \n",
       "2024-06-26                  6.66         2.49  \n",
       "2024-06-25                  6.57         2.40  \n",
       "2024-06-24                  6.49         2.32  \n",
       "2024-06-21                  6.53         2.36  \n",
       "2024-06-20                  6.47         2.30  \n",
       "2024-06-18                  6.58         2.41  \n",
       "2024-06-17                  6.59         2.42  \n",
       "2024-06-14                  6.66         2.49  \n",
       "2024-06-13                  6.62         2.45  \n",
       "2024-06-12                  6.61         2.44  \n",
       "2024-06-11                  6.55         2.38  \n",
       "2024-06-10                  6.44         2.27  \n",
       "2024-06-07                  6.44         2.27  \n",
       "2024-06-06                  6.54         2.37  \n",
       "2024-06-05                  6.58         2.41  \n",
       "2024-06-04                  6.54         2.37  \n",
       "2024-06-03                  6.52         2.35  \n",
       "2024-05-31                  6.36         2.19  \n",
       "2024-05-30                  6.45         2.28  \n",
       "2024-05-29                  6.53         2.36  \n",
       "2024-05-28                  6.52         2.35  \n",
       "2024-05-24                  6.43         2.26  \n",
       "2024-05-23                  6.46         2.29  \n",
       "2024-05-22                  6.33         2.16  \n",
       "2024-05-21                  6.34         2.17  \n",
       "2024-05-20                  6.36         2.19  \n",
       "2024-05-17                  6.24         2.07  \n",
       "2024-05-16                  6.25         2.08  \n",
       "2024-05-15                  6.40         2.23  \n",
       "2024-05-14                  6.30         2.13  \n",
       "2024-05-13                  6.33         2.16  \n",
       "2024-05-10                  6.27         2.10  \n",
       "2024-05-09                  6.25         2.08  \n",
       "2024-05-08                  6.31         2.14  \n",
       "2024-05-07                  6.32         2.15  \n",
       "2024-05-06                  6.35         2.18  \n",
       "2024-05-03                  6.41         2.24  \n",
       "2024-05-02                  6.40         2.23  \n",
       "2024-05-01                  6.43         2.26  \n",
       "2024-04-30                  6.46         2.29  \n",
       "2024-04-29                  6.44         2.27  \n",
       "2024-04-26                  6.42         2.25  \n",
       "2024-04-25                  6.41         2.24  \n",
       "2024-04-24                  6.42         2.25  \n",
       "2024-04-23                  6.40         2.23  \n",
       "2024-04-22                  6.40         2.23  \n",
       "2024-04-19                  6.40         2.23  \n",
       "2024-04-18                  6.52         2.35  \n",
       "2024-04-17                  6.64         2.47  \n",
       "2024-04-16                  5.48         1.31  \n",
       "2024-04-15                  5.53         1.36  \n",
       "2024-04-12                  5.53         1.36  \n",
       "2024-04-11                  5.55         1.38  \n",
       "2024-04-10                  5.45         1.28  \n",
       "2024-04-09                  5.46         1.29  \n",
       "2024-04-08                  5.30         1.13  \n",
       "2024-04-05                  5.30         1.13  \n",
       "2024-04-04                  5.35         1.18  \n",
       "2024-04-03                  5.34         1.17  \n",
       "2024-04-02                  5.37         1.20  \n",
       "2024-04-01                  5.36         1.19  \n",
       "2024-03-28                  5.31         1.14  \n",
       "2024-03-27                  5.34         1.17  \n",
       "2024-03-26                  5.43         1.26  \n",
       "2024-03-25                  5.42         1.25  \n",
       "2024-03-22                  5.45         1.28  \n",
       "2024-03-21                  5.41         1.24  "
      ]
     },
     "execution_count": 105,
     "metadata": {},
     "output_type": "execute_result"
    }
   ],
   "source": [
    "ticker_dict['TRV']"
   ]
  },
  {
   "cell_type": "code",
   "execution_count": 90,
   "metadata": {},
   "outputs": [],
   "source": [
    "import requests\n",
    "\n",
    "# replace the \"demo\" apikey below with your own key from https://www.alphavantage.co/support/#api-key\n",
    "url = f'https://www.alphavantage.co/query?function=TREASURY_YIELD&interval=daily&maturity=10year&apikey={alpha_vantage_api_key}'\n",
    "r = requests.get(url)\n",
    "data = r.json()\n",
    "\n",
    "for key, value in data.items():\n",
    "    if key == 'data':\n",
    "        US_T_10yrs_df = pd.DataFrame(value)\n",
    "        US_T_10yrs_df['value'] = pd.to_numeric(US_T_10yrs_df['value'], errors='coerce') # change dataframe value to numeric data\n",
    "        US_T_10yrs_YTM = US_T_10yrs_df['value'][0]"
   ]
  },
  {
   "cell_type": "code",
   "execution_count": 91,
   "metadata": {},
   "outputs": [
    {
     "data": {
      "text/plain": [
       "4.17"
      ]
     },
     "execution_count": 91,
     "metadata": {},
     "output_type": "execute_result"
    }
   ],
   "source": [
    "US_T_10yrs_YTM"
   ]
  },
  {
   "cell_type": "code",
   "execution_count": 54,
   "metadata": {},
   "outputs": [],
   "source": [
    "import requests\n",
    "\n",
    "# replace the \"demo\" apikey below with your own key from https://www.alphavantage.co/support/#api-key\n",
    "url = f'https://www.alphavantage.co/query?function=INCOME_STATEMENT&symbol=GOOG&apikey={alpha_vantage_api_key}'\n",
    "r = requests.get(url)\n",
    "data = r.json()\n",
    "\n",
    "\n",
    "for key, value in data.items():\n",
    "    if key == 'annualReports':\n",
    "        annual_income_df = pd.DataFrame(value).drop(['reportedCurrency'], axis=1)\n",
    "        annual_income_df = annual_income_df.sort_values('fiscalDateEnding', ascending=True)\n",
    "\n",
    "        # annual measurements cols\n",
    "        annual_income_metric_cols = annual_income_df.columns[1:]\n",
    "\n",
    "        # Calculate quarter-over-quarter change percentage\n",
    "        for column in annual_income_metric_cols:  # Exclude the 'fiscalDateEnding' column\n",
    "            annual_income_df[column] = pd.to_numeric(annual_income_df[column], errors='coerce')\n",
    "            annual_income_df[f'{column}_YoY'] = annual_income_df[column].pct_change() * 100 \n",
    "        \n",
    "        annual_income_YoY_metric_cols = [col for col in annual_income_df.columns if 'YoY' in col]\n",
    "\n",
    "        # ratios of income statement calculation\n",
    "        annual_income_df['gross_margin'] = (annual_income_df['grossProfit'] / annual_income_df['totalRevenue']) * 100\n",
    "        annual_income_df['operating_margin'] = (annual_income_df['operatingIncome'] / annual_income_df['totalRevenue']) * 100\n",
    "        annual_income_df['net_margin'] = (annual_income_df['netIncome'] / annual_income_df['totalRevenue']) * 100\n",
    "\n",
    "        annual_income_ratio_cols = [\n",
    "            'gross_margin'\n",
    "            ,'operating_margin'\n",
    "            ,'net_margin'\n",
    "            ]\n",
    "\n",
    "\n",
    "\n",
    "    if key == 'quarterlyReports':\n",
    "        qtr_income_df = pd.DataFrame(value).drop(['reportedCurrency'], axis=1)\n",
    "        qtr_income_df = qtr_income_df.sort_values('fiscalDateEnding', ascending=True)\n",
    "\n",
    "        # qtr measurements cols\n",
    "        qtr_income_metric_cols = qtr_income_df.columns[1:]\n",
    "        \n",
    "        # Calculate quarter-over-quarter change percentage\n",
    "        for column in qtr_income_df.columns[1:]:  # Exclude the 'fiscalDateEnding' column\n",
    "            qtr_income_df[column] = pd.to_numeric(qtr_income_df[column], errors='coerce')\n",
    "            qtr_income_df[f'{column}_QoQ'] = qtr_income_df[column].pct_change() * 100\n",
    "\n",
    "        qtr_income_QoQ_metric_cols = [col for col in qtr_income_df.columns if 'QoQ' in col]\n",
    "\n",
    "        # ratios of income statement calculation\n",
    "        qtr_income_df['gross_margin'] = (qtr_income_df['grossProfit'] / qtr_income_df['totalRevenue']) * 100\n",
    "        qtr_income_df['operating_margin'] = (qtr_income_df['operatingIncome'] / qtr_income_df['totalRevenue']) * 100\n",
    "        qtr_income_df['net_margin'] = (qtr_income_df['netIncome'] / qtr_income_df['totalRevenue']) * 100\n",
    "\n",
    "        qtr_income_ratio_cols = [\n",
    "            'gross_margin'\n",
    "            ,'operating_margin'\n",
    "            ,'net_margin'\n",
    "            ]"
   ]
  },
  {
   "cell_type": "code",
   "execution_count": 79,
   "metadata": {},
   "outputs": [
    {
     "name": "stdout",
     "output_type": "stream",
     "text": [
      "symbol GOOG\n",
      "annualReports [{'fiscalDateEnding': '2023-12-31', 'reportedCurrency': 'USD', 'totalAssets': '402392000000', 'totalCurrentAssets': '171530000000', 'cashAndCashEquivalentsAtCarryingValue': '24048000000', 'cashAndShortTermInvestments': '110916000000', 'inventory': 'None', 'currentNetReceivables': '47964000000', 'totalNonCurrentAssets': '233962000000', 'propertyPlantEquipment': '134345000000', 'accumulatedDepreciationAmortizationPPE': '67458000000', 'intangibleAssets': '29198000000', 'intangibleAssetsExcludingGoodwill': 'None', 'goodwill': '29198000000', 'investments': '203704000000', 'longTermInvestments': '34108000000', 'shortTermInvestments': '86868000000', 'otherCurrentAssets': '12650000000', 'otherNonCurrentAssets': '10051000000', 'totalLiabilities': '119013000000', 'totalCurrentLiabilities': '81814000000', 'currentAccountsPayable': '7493000000', 'deferredRevenue': '5048000000', 'currentDebt': '1363000000', 'shortTermDebt': '0', 'totalNonCurrentLiabilities': '37199000000', 'capitalLeaseObligations': '1383000000', 'longTermDebt': '14862000000', 'currentLongTermDebt': '1000000000', 'longTermDebtNoncurrent': '10300000000', 'shortLongTermDebtTotal': '14862000000', 'otherCurrentLiabilities': '67393000000', 'otherNonCurrentLiabilities': '1616000000', 'totalShareholderEquity': '283379000000', 'treasuryStock': 'None', 'retainedEarnings': '211247000000', 'commonStock': '76534000000', 'commonStockSharesOutstanding': '12460000000'}, {'fiscalDateEnding': '2022-12-31', 'reportedCurrency': 'USD', 'totalAssets': '365264000000', 'totalCurrentAssets': '164795000000', 'cashAndCashEquivalentsAtCarryingValue': '21879000000', 'cashAndShortTermInvestments': '113762000000', 'inventory': '2670000000', 'currentNetReceivables': '40258000000', 'totalNonCurrentAssets': '202772000000', 'propertyPlantEquipment': '112668000000', 'accumulatedDepreciationAmortizationPPE': '59042000000', 'intangibleAssets': '31044000000', 'intangibleAssetsExcludingGoodwill': '2084000000', 'goodwill': '28960000000', 'investments': '212885000000', 'longTermInvestments': '32795000000', 'shortTermInvestments': '91883000000', 'otherCurrentAssets': '10775000000', 'otherNonCurrentAssets': '8707000000', 'totalLiabilities': '109120000000', 'totalCurrentLiabilities': '69300000000', 'currentAccountsPayable': '5128000000', 'deferredRevenue': '4507000000', 'currentDebt': '298000000', 'shortTermDebt': '0', 'totalNonCurrentLiabilities': '39820000000', 'capitalLeaseObligations': '1844000000', 'longTermDebt': '15312000000', 'currentLongTermDebt': '0', 'longTermDebtNoncurrent': '9900000000', 'shortLongTermDebtTotal': '15312000000', 'otherCurrentLiabilities': '51006000000', 'otherNonCurrentLiabilities': '2247000000', 'totalShareholderEquity': '256144000000', 'treasuryStock': 'None', 'retainedEarnings': '195563000000', 'commonStock': '68184000000', 'commonStockSharesOutstanding': '12849000000'}, {'fiscalDateEnding': '2021-12-31', 'reportedCurrency': 'USD', 'totalAssets': '359268000000', 'totalCurrentAssets': '188143000000', 'cashAndCashEquivalentsAtCarryingValue': '20945000000', 'cashAndShortTermInvestments': '139649000000', 'inventory': '1170000000', 'currentNetReceivables': '40270000000', 'totalNonCurrentAssets': '172625000000', 'propertyPlantEquipment': '97599000000', 'accumulatedDepreciationAmortizationPPE': '49414000000', 'intangibleAssets': '24373000000', 'intangibleAssetsExcludingGoodwill': '1417000000', 'goodwill': '22956000000', 'investments': '152164000000', 'longTermInvestments': '31049000000', 'shortTermInvestments': '118704000000', 'otherCurrentAssets': '8020000000', 'otherNonCurrentAssets': '5361000000', 'totalLiabilities': '107633000000', 'totalCurrentLiabilities': '64254000000', 'currentAccountsPayable': '6037000000', 'deferredRevenue': '3823000000', 'currentDebt': '113000000', 'shortTermDebt': '0', 'totalNonCurrentLiabilities': '43379000000', 'capitalLeaseObligations': '1973000000', 'longTermDebt': '15440000000', 'currentLongTermDebt': '0', 'longTermDebtNoncurrent': '12400000000', 'shortLongTermDebtTotal': '15440000000', 'otherCurrentLiabilities': '52740000000', 'otherNonCurrentLiabilities': '2205000000', 'totalShareholderEquity': '251635000000', 'treasuryStock': 'None', 'retainedEarnings': '191484000000', 'commonStock': '61774000000', 'commonStockSharesOutstanding': '662121000'}, {'fiscalDateEnding': '2020-12-31', 'reportedCurrency': 'USD', 'totalAssets': '319616000000', 'totalCurrentAssets': '174296000000', 'cashAndCashEquivalentsAtCarryingValue': '26465000000', 'cashAndShortTermInvestments': '136694000000', 'inventory': '728000000', 'currentNetReceivables': '31384000000', 'totalNonCurrentAssets': '146720000000', 'propertyPlantEquipment': '84749000000', 'accumulatedDepreciationAmortizationPPE': '41713000000', 'intangibleAssets': '22620000000', 'intangibleAssetsExcludingGoodwill': '1445000000', 'goodwill': '21175000000', 'investments': '138984000000', 'longTermInvestments': '22103000000', 'shortTermInvestments': '110229000000', 'otherCurrentAssets': '5490000000', 'otherNonCurrentAssets': '3953000000', 'totalLiabilities': '97072000000', 'totalCurrentLiabilities': '56834000000', 'currentAccountsPayable': '5589000000', 'deferredRevenue': '3024000000', 'currentDebt': '1100000000', 'shortTermDebt': '0', 'totalNonCurrentLiabilities': '40238000000', 'capitalLeaseObligations': '1100000000', 'longTermDebt': '15319000000', 'currentLongTermDebt': '999000000', 'longTermDebtNoncurrent': '14000000000', 'shortLongTermDebtTotal': '15319000000', 'otherCurrentLiabilities': '47008000000', 'otherNonCurrentLiabilities': '2269000000', 'totalShareholderEquity': '222544000000', 'treasuryStock': 'None', 'retainedEarnings': '163401000000', 'commonStock': '58510000000', 'commonStockSharesOutstanding': '675222000'}, {'fiscalDateEnding': '2019-12-31', 'reportedCurrency': 'USD', 'totalAssets': '275909000000', 'totalCurrentAssets': '152578000000', 'cashAndCashEquivalentsAtCarryingValue': '18498000000', 'cashAndShortTermInvestments': '119675000000', 'inventory': '999000000', 'currentNetReceivables': '27492000000', 'totalNonCurrentAssets': '123331000000', 'propertyPlantEquipment': '73646000000', 'accumulatedDepreciationAmortizationPPE': '30561000000', 'intangibleAssets': '22603000000', 'intangibleAssetsExcludingGoodwill': '1979000000', 'goodwill': '20624000000', 'investments': '119195000000', 'longTermInvestments': '14378000000', 'shortTermInvestments': '101177000000', 'otherCurrentAssets': '4412000000', 'otherNonCurrentAssets': '2342000000', 'totalLiabilities': '74467000000', 'totalCurrentLiabilities': '45221000000', 'currentAccountsPayable': '5561000000', 'deferredRevenue': '2266000000', 'currentDebt': '1199000000', 'shortTermDebt': '0', 'totalNonCurrentLiabilities': '19032000000', 'capitalLeaseObligations': '685000000', 'longTermDebt': '4685000000', 'currentLongTermDebt': '0', 'longTermDebtNoncurrent': '3958000000', 'shortLongTermDebtTotal': '4685000000', 'otherCurrentLiabilities': '36553000000', 'otherNonCurrentLiabilities': '2534000000', 'totalShareholderEquity': '201442000000', 'treasuryStock': 'None', 'retainedEarnings': '152122000000', 'commonStock': '50552000000', 'commonStockSharesOutstanding': '688335000'}, {'fiscalDateEnding': '2018-12-31', 'reportedCurrency': 'USD', 'totalAssets': '232792000000', 'totalCurrentAssets': '135676000000', 'cashAndCashEquivalentsAtCarryingValue': '16701000000', 'cashAndShortTermInvestments': '109140000000', 'inventory': '1107000000', 'currentNetReceivables': '21193000000', 'totalNonCurrentAssets': '97116000000', 'propertyPlantEquipment': '59719000000', 'accumulatedDepreciationAmortizationPPE': '22788000000', 'intangibleAssets': '20108000000', 'intangibleAssetsExcludingGoodwill': '2220000000', 'goodwill': '17888000000', 'investments': '199328000000', 'longTermInvestments': '15159000000', 'shortTermInvestments': '92439000000', 'otherCurrentAssets': '4236000000', 'otherNonCurrentAssets': '2693000000', 'totalLiabilities': '55164000000', 'totalCurrentLiabilities': '34620000000', 'currentAccountsPayable': '4378000000', 'deferredRevenue': '2180000000', 'currentDebt': 'None', 'shortTermDebt': '0', 'totalNonCurrentLiabilities': '19280000000', 'capitalLeaseObligations': '62000000', 'longTermDebt': '4062000000', 'currentLongTermDebt': 'None', 'longTermDebtNoncurrent': '3950000000', 'shortLongTermDebtTotal': '4062000000', 'otherCurrentLiabilities': '28389000000', 'otherNonCurrentLiabilities': '3545000000', 'totalShareholderEquity': '177628000000', 'treasuryStock': 'None', 'retainedEarnings': '134885000000', 'commonStock': '45049000000', 'commonStockSharesOutstanding': '695556000'}, {'fiscalDateEnding': '2017-12-31', 'reportedCurrency': 'USD', 'totalAssets': '197295000000', 'totalCurrentAssets': '124308000000', 'cashAndCashEquivalentsAtCarryingValue': '10715000000', 'cashAndShortTermInvestments': '101871000000', 'inventory': '749000000', 'currentNetReceivables': '18705000000', 'totalNonCurrentAssets': '72987000000', 'propertyPlantEquipment': '42383000000', 'accumulatedDepreciationAmortizationPPE': '17264000000', 'intangibleAssets': '19439000000', 'intangibleAssetsExcludingGoodwill': '2692000000', 'goodwill': '16747000000', 'investments': '104357000000', 'longTermInvestments': '13713000000', 'shortTermInvestments': '91156000000', 'otherCurrentAssets': '2983000000', 'otherNonCurrentAssets': '2672000000', 'totalLiabilities': '44793000000', 'totalCurrentLiabilities': '24183000000', 'currentAccountsPayable': '3137000000', 'deferredRevenue': '1772000000', 'currentDebt': '0', 'shortTermDebt': '0', 'totalNonCurrentLiabilities': '20180000000', 'capitalLeaseObligations': '26000000', 'longTermDebt': '4026000000', 'currentLongTermDebt': '3969000000', 'longTermDebtNoncurrent': '3943000000', 'shortLongTermDebtTotal': '4026000000', 'otherCurrentLiabilities': '2874000000', 'otherNonCurrentLiabilities': '3059000000', 'totalShareholderEquity': '152502000000', 'treasuryStock': 'None', 'retainedEarnings': '113247000000', 'commonStock': '40247000000', 'commonStockSharesOutstanding': '694783000'}, {'fiscalDateEnding': '2016-12-31', 'reportedCurrency': 'USD', 'totalAssets': '167497000000', 'totalCurrentAssets': '105408000000', 'cashAndCashEquivalentsAtCarryingValue': '12918000000', 'cashAndShortTermInvestments': '86333000000', 'inventory': '268000000', 'currentNetReceivables': '14232000000', 'totalNonCurrentAssets': '62089000000', 'propertyPlantEquipment': '34234000000', 'accumulatedDepreciationAmortizationPPE': '13293000000', 'intangibleAssets': '19775000000', 'intangibleAssetsExcludingGoodwill': '3307000000', 'goodwill': '16468000000', 'investments': '84085000000', 'longTermInvestments': '10578000000', 'shortTermInvestments': '73415000000', 'otherCurrentAssets': '4575000000', 'otherNonCurrentAssets': '1819000000', 'totalLiabilities': '28461000000', 'totalCurrentLiabilities': '16756000000', 'currentAccountsPayable': '2041000000', 'deferredRevenue': '1301000000', 'currentDebt': '0', 'shortTermDebt': '0', 'totalNonCurrentLiabilities': '11705000000', 'capitalLeaseObligations': 'None', 'longTermDebt': '4000000000', 'currentLongTermDebt': '3935000000', 'longTermDebtNoncurrent': '3935000000', 'shortLongTermDebtTotal': '4000000000', 'otherCurrentLiabilities': '13062000000', 'otherNonCurrentLiabilities': '2665000000', 'totalShareholderEquity': '139036000000', 'treasuryStock': 'None', 'retainedEarnings': '105131000000', 'commonStock': '36307000000', 'commonStockSharesOutstanding': '691293000'}, {'fiscalDateEnding': '2015-12-31', 'reportedCurrency': 'USD', 'totalAssets': '147461000000', 'totalCurrentAssets': '90114000000', 'cashAndCashEquivalentsAtCarryingValue': '16549000000', 'cashAndShortTermInvestments': '73066000000', 'inventory': '491000000', 'currentNetReceivables': '13459000000', 'totalNonCurrentAssets': '57347000000', 'propertyPlantEquipment': '29016000000', 'accumulatedDepreciationAmortizationPPE': '11130000000', 'intangibleAssets': '19716000000', 'intangibleAssetsExcludingGoodwill': '3847000000', 'goodwill': '15869000000', 'investments': '65462000000', 'longTermInvestments': '9383000000', 'shortTermInvestments': '56517000000', 'otherCurrentAssets': '3139000000', 'otherNonCurrentAssets': 'None', 'totalLiabilities': '27130000000', 'totalCurrentLiabilities': '19310000000', 'currentAccountsPayable': '1931000000', 'deferredRevenue': '939000000', 'currentDebt': '3225000000', 'shortTermDebt': '2000000000', 'totalNonCurrentLiabilities': '7820000000', 'capitalLeaseObligations': 'None', 'longTermDebt': '3225000000', 'currentLongTermDebt': '1225000000', 'longTermDebtNoncurrent': '1995000000', 'shortLongTermDebtTotal': '5225000000', 'otherCurrentLiabilities': '13366000000', 'otherNonCurrentLiabilities': '1822000000', 'totalShareholderEquity': '120331000000', 'treasuryStock': 'None', 'retainedEarnings': '89223000000', 'commonStock': '32982000000', 'commonStockSharesOutstanding': '687348000'}, {'fiscalDateEnding': '2014-12-31', 'reportedCurrency': 'USD', 'totalAssets': '129187000000', 'totalCurrentAssets': '78656000000', 'cashAndCashEquivalentsAtCarryingValue': '18347000000', 'cashAndShortTermInvestments': '64395000000', 'inventory': '1322000000', 'currentNetReceivables': 'None', 'totalNonCurrentAssets': '50531000000', 'propertyPlantEquipment': '23883000000', 'accumulatedDepreciationAmortizationPPE': '8863000000', 'intangibleAssets': '20206000000', 'intangibleAssetsExcludingGoodwill': '4607000000', 'goodwill': '15599000000', 'investments': 'None', 'longTermInvestments': '3079000000', 'shortTermInvestments': '46048000000', 'otherCurrentAssets': '3412000000', 'otherNonCurrentAssets': 'None', 'totalLiabilities': '25327000000', 'totalCurrentLiabilities': '16779000000', 'currentAccountsPayable': '1715000000', 'deferredRevenue': 'None', 'currentDebt': '2009000000', 'shortTermDebt': '1999000000', 'totalNonCurrentLiabilities': '9828000000', 'capitalLeaseObligations': 'None', 'longTermDebt': '3110000000', 'currentLongTermDebt': '10000000', 'longTermDebtNoncurrent': '2992000000', 'shortLongTermDebtTotal': '5237000000', 'otherCurrentLiabilities': '12329000000', 'otherNonCurrentLiabilities': '1118000000', 'totalShareholderEquity': '103860000000', 'treasuryStock': 'None', 'retainedEarnings': '75066000000', 'commonStock': '28767000000', 'commonStockSharesOutstanding': '680172000'}]\n",
      "quarterlyReports [{'fiscalDateEnding': '2024-06-30', 'reportedCurrency': 'USD', 'totalAssets': '414770000000', 'totalCurrentAssets': '161995000000', 'cashAndCashEquivalentsAtCarryingValue': '27225000000', 'cashAndShortTermInvestments': '100725000000', 'inventory': 'None', 'currentNetReceivables': '47087000000', 'totalNonCurrentAssets': '255151000000', 'propertyPlantEquipment': '151155000000', 'accumulatedDepreciationAmortizationPPE': '72816000000', 'intangibleAssets': '29185000000', 'intangibleAssetsExcludingGoodwill': 'None', 'goodwill': '29185000000', 'investments': '179152000000', 'longTermInvestments': '36548000000', 'shortTermInvestments': '73500000000', 'otherCurrentAssets': '14183000000', 'otherNonCurrentAssets': '9699000000', 'totalLiabilities': '114017000000', 'totalCurrentLiabilities': '77913000000', 'currentAccountsPayable': '6092000000', 'deferredRevenue': '5236000000', 'currentDebt': '918000000', 'shortTermDebt': '0', 'totalNonCurrentLiabilities': '36104000000', 'capitalLeaseObligations': '1362000000', 'longTermDebt': '8900000000', 'currentLongTermDebt': '0', 'longTermDebtNoncurrent': '8900000000', 'shortLongTermDebtTotal': '-124000000', 'otherCurrentLiabilities': '9376000000', 'otherNonCurrentLiabilities': '1753000000', 'totalShareholderEquity': '300753000000', 'treasuryStock': 'None', 'retainedEarnings': '226033000000', 'commonStock': 'None', 'commonStockSharesOutstanding': '12322000000'}, {'fiscalDateEnding': '2024-03-31', 'reportedCurrency': 'USD', 'totalAssets': '407350000000', 'totalCurrentAssets': '165471000000', 'cashAndCashEquivalentsAtCarryingValue': '24493000000', 'cashAndShortTermInvestments': '108090000000', 'inventory': 'None', 'currentNetReceivables': '44552000000', 'totalNonCurrentAssets': '245279000000', 'propertyPlantEquipment': '143182000000', 'accumulatedDepreciationAmortizationPPE': '70004000000', 'intangibleAssets': '29183000000', 'intangibleAssetsExcludingGoodwill': 'None', 'goodwill': '29183000000', 'investments': '200943000000', 'longTermInvestments': '37394000000', 'shortTermInvestments': '83597000000', 'otherCurrentAssets': '12829000000', 'otherNonCurrentAssets': '10065000000', 'totalLiabilities': '114506000000', 'totalCurrentLiabilities': '76997000000', 'currentAccountsPayable': '6198000000', 'deferredRevenue': '4894000000', 'currentDebt': '317000000', 'shortTermDebt': '0', 'totalNonCurrentLiabilities': '37509000000', 'capitalLeaseObligations': '1355000000', 'longTermDebt': '9000000000', 'currentLongTermDebt': '0', 'longTermDebtNoncurrent': '9000000000', 'shortLongTermDebtTotal': '-127000000', 'otherCurrentLiabilities': '63635000000', 'otherNonCurrentLiabilities': '1683000000', 'totalShareholderEquity': '292844000000', 'treasuryStock': 'None', 'retainedEarnings': '219770000000', 'commonStock': '12381000000', 'commonStockSharesOutstanding': '12381000000'}, {'fiscalDateEnding': '2023-12-31', 'reportedCurrency': 'USD', 'totalAssets': '402392000000', 'totalCurrentAssets': '171530000000', 'cashAndCashEquivalentsAtCarryingValue': '24048000000', 'cashAndShortTermInvestments': '110916000000', 'inventory': 'None', 'currentNetReceivables': '47964000000', 'totalNonCurrentAssets': '233962000000', 'propertyPlantEquipment': '134345000000', 'accumulatedDepreciationAmortizationPPE': '67458000000', 'intangibleAssets': '29198000000', 'intangibleAssetsExcludingGoodwill': 'None', 'goodwill': '29198000000', 'investments': '203704000000', 'longTermInvestments': '34108000000', 'shortTermInvestments': '86868000000', 'otherCurrentAssets': '12650000000', 'otherNonCurrentAssets': '10051000000', 'totalLiabilities': '119013000000', 'totalCurrentLiabilities': '81814000000', 'currentAccountsPayable': '7493000000', 'deferredRevenue': '5048000000', 'currentDebt': '1363000000', 'shortTermDebt': '0', 'totalNonCurrentLiabilities': '37199000000', 'capitalLeaseObligations': '1383000000', 'longTermDebt': '14862000000', 'currentLongTermDebt': '1000000000', 'longTermDebtNoncurrent': '10300000000', 'shortLongTermDebtTotal': '14862000000', 'otherCurrentLiabilities': '67393000000', 'otherNonCurrentLiabilities': '1616000000', 'totalShareholderEquity': '283379000000', 'treasuryStock': 'None', 'retainedEarnings': '211247000000', 'commonStock': '76534000000', 'commonStockSharesOutstanding': '12460000000'}, {'fiscalDateEnding': '2023-09-30', 'reportedCurrency': 'USD', 'totalAssets': '396711000000', 'totalCurrentAssets': '176310000000', 'cashAndCashEquivalentsAtCarryingValue': '30702000000', 'cashAndShortTermInvestments': '119935000000', 'inventory': '2957000000', 'currentNetReceivables': '41020000000', 'totalNonCurrentAssets': '97154000000', 'propertyPlantEquipment': '125705000000', 'accumulatedDepreciationAmortizationPPE': 'None', 'intangibleAssets': '30979000000', 'intangibleAssetsExcludingGoodwill': '1833000000', 'goodwill': '29146000000', 'investments': '209190000000', 'longTermInvestments': '33365000000', 'shortTermInvestments': '89233000000', 'otherCurrentAssets': '12398000000', 'otherNonCurrentAssets': '7628000000', 'totalLiabilities': '123509000000', 'totalCurrentLiabilities': '86295000000', 'currentAccountsPayable': '5803000000', 'deferredRevenue': '5187000000', 'currentDebt': '1400000000', 'shortTermDebt': '0', 'totalNonCurrentLiabilities': '37214000000', 'capitalLeaseObligations': '1914000000', 'longTermDebt': '10600000000', 'currentLongTermDebt': '1000000000', 'longTermDebtNoncurrent': '9600000000', 'shortLongTermDebtTotal': '-133000000', 'otherCurrentLiabilities': '68151000000', 'otherNonCurrentLiabilities': '1433000000', 'totalShareholderEquity': '273202000000', 'treasuryStock': 'None', 'retainedEarnings': '205647000000', 'commonStock': '74591000000', 'commonStockSharesOutstanding': '12541000000'}, {'fiscalDateEnding': '2023-06-30', 'reportedCurrency': 'USD', 'totalAssets': '383044000000', 'totalCurrentAssets': '168788000000', 'cashAndCashEquivalentsAtCarryingValue': '25929000000', 'cashAndShortTermInvestments': '118332000000', 'inventory': '2231000000', 'currentNetReceivables': '38804000000', 'totalNonCurrentAssets': '95440000000', 'propertyPlantEquipment': '121208000000', 'accumulatedDepreciationAmortizationPPE': 'None', 'intangibleAssets': '31176000000', 'intangibleAssetsExcludingGoodwill': '1966000000', 'goodwill': '29210000000', 'investments': '214416000000', 'longTermInvestments': '33616000000', 'shortTermInvestments': '92403000000', 'otherCurrentAssets': '9421000000', 'otherNonCurrentAssets': '6822000000', 'totalLiabilities': '115903000000', 'totalCurrentLiabilities': '77709000000', 'currentAccountsPayable': '5313000000', 'deferredRevenue': '4513000000', 'currentDebt': '1317000000', 'shortTermDebt': '0', 'totalNonCurrentLiabilities': '38194000000', 'capitalLeaseObligations': '1841000000', 'longTermDebt': '11099000000', 'currentLongTermDebt': '999000000', 'longTermDebtNoncurrent': '10100000000', 'shortLongTermDebtTotal': '-137000000', 'otherCurrentLiabilities': '65887000000', 'otherNonCurrentLiabilities': '1765000000', 'totalShareholderEquity': '267141000000', 'treasuryStock': 'None', 'retainedEarnings': '200884000000', 'commonStock': '72248000000', 'commonStockSharesOutstanding': '12629000000'}, {'fiscalDateEnding': '2023-03-31', 'reportedCurrency': 'USD', 'totalAssets': '369491000000', 'totalCurrentAssets': '161985000000', 'cashAndCashEquivalentsAtCarryingValue': '25924000000', 'cashAndShortTermInvestments': '115102000000', 'inventory': '2315000000', 'currentNetReceivables': '36036000000', 'totalNonCurrentAssets': '92466000000', 'propertyPlantEquipment': '117560000000', 'accumulatedDepreciationAmortizationPPE': 'None', 'intangibleAssets': '30962000000', 'intangibleAssetsExcludingGoodwill': '1968000000', 'goodwill': '28994000000', 'investments': '208310000000', 'longTermInvestments': '33733000000', 'shortTermInvestments': '89178000000', 'otherCurrentAssets': '8532000000', 'otherNonCurrentAssets': '6439000000', 'totalLiabilities': '108597000000', 'totalCurrentLiabilities': '68854000000', 'currentAccountsPayable': '4184000000', 'deferredRevenue': '4325000000', 'currentDebt': '1371000000', 'shortTermDebt': '0', 'totalNonCurrentLiabilities': '39743000000', 'capitalLeaseObligations': '1836000000', 'longTermDebt': '11199000000', 'currentLongTermDebt': '999000000', 'longTermDebtNoncurrent': '10200000000', 'shortLongTermDebtTotal': '-140000000', 'otherCurrentLiabilities': '58330000000', 'otherNonCurrentLiabilities': '2373000000', 'totalShareholderEquity': '260894000000', 'treasuryStock': 'None', 'retainedEarnings': '196625000000', 'commonStock': '70269000000', 'commonStockSharesOutstanding': '12722000000'}, {'fiscalDateEnding': '2022-12-31', 'reportedCurrency': 'USD', 'totalAssets': '365264000000', 'totalCurrentAssets': '164795000000', 'cashAndCashEquivalentsAtCarryingValue': '21879000000', 'cashAndShortTermInvestments': '113762000000', 'inventory': '2670000000', 'currentNetReceivables': '40258000000', 'totalNonCurrentAssets': '202772000000', 'propertyPlantEquipment': '112668000000', 'accumulatedDepreciationAmortizationPPE': '59042000000', 'intangibleAssets': '31044000000', 'intangibleAssetsExcludingGoodwill': '2084000000', 'goodwill': '28960000000', 'investments': '212885000000', 'longTermInvestments': '32795000000', 'shortTermInvestments': '91883000000', 'otherCurrentAssets': '10775000000', 'otherNonCurrentAssets': '8707000000', 'totalLiabilities': '109120000000', 'totalCurrentLiabilities': '69300000000', 'currentAccountsPayable': '5128000000', 'deferredRevenue': '4507000000', 'currentDebt': '298000000', 'shortTermDebt': '0', 'totalNonCurrentLiabilities': '39820000000', 'capitalLeaseObligations': '1844000000', 'longTermDebt': '15312000000', 'currentLongTermDebt': '0', 'longTermDebtNoncurrent': '9900000000', 'shortLongTermDebtTotal': '15312000000', 'otherCurrentLiabilities': '51006000000', 'otherNonCurrentLiabilities': '2247000000', 'totalShareholderEquity': '256144000000', 'treasuryStock': 'None', 'retainedEarnings': '195563000000', 'commonStock': '68184000000', 'commonStockSharesOutstanding': '12849000000'}, {'fiscalDateEnding': '2022-09-30', 'reportedCurrency': 'USD', 'totalAssets': '358255000000', 'totalCurrentAssets': '166109000000', 'cashAndCashEquivalentsAtCarryingValue': '21984000000', 'cashAndShortTermInvestments': '116259000000', 'inventory': '3156000000', 'currentNetReceivables': '36176000000', 'totalNonCurrentAssets': '85083000000', 'propertyPlantEquipment': '108363000000', 'accumulatedDepreciationAmortizationPPE': 'None', 'intangibleAssets': '31026000000', 'intangibleAssetsExcludingGoodwill': '2192000000', 'goodwill': '28834000000', 'investments': '129424000000', 'longTermInvestments': '31719000000', 'shortTermInvestments': '94275000000', 'otherCurrentAssets': '10518000000', 'otherNonCurrentAssets': '5670000000', 'totalLiabilities': '104629000000', 'totalCurrentLiabilities': '65979000000', 'currentAccountsPayable': '6303000000', 'deferredRevenue': '4179000000', 'currentDebt': '414000000', 'shortTermDebt': '0', 'totalNonCurrentLiabilities': '38650000000', 'capitalLeaseObligations': '1799000000', 'longTermDebt': '14653000000', 'currentLongTermDebt': 'None', 'longTermDebtNoncurrent': '9700000000', 'shortLongTermDebtTotal': '-146000000', 'otherCurrentLiabilities': '53806000000', 'otherNonCurrentLiabilities': '2371000000', 'totalShareholderEquity': '253626000000', 'treasuryStock': 'None', 'retainedEarnings': '196220000000', 'commonStock': '66258000000', 'commonStockSharesOutstanding': '12971000000'}, {'fiscalDateEnding': '2022-06-30', 'reportedCurrency': 'USD', 'totalAssets': '355185000000', 'totalCurrentAssets': '172371000000', 'cashAndCashEquivalentsAtCarryingValue': '17936000000', 'cashAndShortTermInvestments': '124997000000', 'inventory': '1980000000', 'currentNetReceivables': '37073000000', 'totalNonCurrentAssets': '77991000000', 'propertyPlantEquipment': '106223000000', 'accumulatedDepreciationAmortizationPPE': 'None', 'intangibleAssets': '25326000000', 'intangibleAssetsExcludingGoodwill': '1377000000', 'goodwill': '23949000000', 'investments': '142135000000', 'longTermInvestments': '32065000000', 'shortTermInvestments': '107061000000', 'otherCurrentAssets': '8321000000', 'otherNonCurrentAssets': '5712000000', 'totalLiabilities': '99766000000', 'totalCurrentLiabilities': '61354000000', 'currentAccountsPayable': '4409000000', 'deferredRevenue': '3744000000', 'currentDebt': '82000000', 'shortTermDebt': '0', 'totalNonCurrentLiabilities': '38412000000', 'capitalLeaseObligations': '1884000000', 'longTermDebt': '12850000000', 'currentLongTermDebt': 'None', 'longTermDebtNoncurrent': '10400000000', 'shortLongTermDebtTotal': '-150000000', 'otherCurrentLiabilities': '51376000000', 'otherNonCurrentLiabilities': '2422000000', 'totalShareholderEquity': '255419000000', 'treasuryStock': 'None', 'retainedEarnings': '196845000000', 'commonStock': '64402000000', 'commonStockSharesOutstanding': '13078000000'}, {'fiscalDateEnding': '2022-03-31', 'reportedCurrency': 'USD', 'totalAssets': '357096000000', 'totalCurrentAssets': '177853000000', 'cashAndCashEquivalentsAtCarryingValue': '20886000000', 'cashAndShortTermInvestments': '133970000000', 'inventory': '1369000000', 'currentNetReceivables': '35622000000', 'totalNonCurrentAssets': '76425000000', 'propertyPlantEquipment': '104218000000', 'accumulatedDepreciationAmortizationPPE': 'None', 'intangibleAssets': '24323000000', 'intangibleAssetsExcludingGoodwill': '1313000000', 'goodwill': '23010000000', 'investments': '147340000000', 'longTermInvestments': '31944000000', 'shortTermInvestments': '113084000000', 'otherCurrentAssets': '6892000000', 'otherNonCurrentAssets': '5778000000', 'totalLiabilities': '103092000000', 'totalCurrentLiabilities': '61948000000', 'currentAccountsPayable': '3436000000', 'deferredRevenue': '3697000000', 'currentDebt': '181000000', 'shortTermDebt': '0', 'totalNonCurrentLiabilities': '41144000000', 'capitalLeaseObligations': '1944000000', 'longTermDebt': '14791000000', 'currentLongTermDebt': 'None', 'longTermDebtNoncurrent': '11400000000', 'shortLongTermDebtTotal': '-153000000', 'otherCurrentLiabilities': '53047000000', 'otherNonCurrentLiabilities': '2242000000', 'totalShareholderEquity': '254004000000', 'treasuryStock': 'None', 'retainedEarnings': '195221000000', 'commonStock': '62832000000', 'commonStockSharesOutstanding': '658763000'}, {'fiscalDateEnding': '2021-12-31', 'reportedCurrency': 'USD', 'totalAssets': '359268000000', 'totalCurrentAssets': '188143000000', 'cashAndCashEquivalentsAtCarryingValue': '20945000000', 'cashAndShortTermInvestments': '139649000000', 'inventory': '1170000000', 'currentNetReceivables': '40270000000', 'totalNonCurrentAssets': '172625000000', 'propertyPlantEquipment': '97599000000', 'accumulatedDepreciationAmortizationPPE': '49414000000', 'intangibleAssets': '24373000000', 'intangibleAssetsExcludingGoodwill': '1417000000', 'goodwill': '22956000000', 'investments': '152164000000', 'longTermInvestments': '31049000000', 'shortTermInvestments': '118704000000', 'otherCurrentAssets': '8020000000', 'otherNonCurrentAssets': '5361000000', 'totalLiabilities': '107633000000', 'totalCurrentLiabilities': '64254000000', 'currentAccountsPayable': '6037000000', 'deferredRevenue': '3823000000', 'currentDebt': '113000000', 'shortTermDebt': '0', 'totalNonCurrentLiabilities': '43379000000', 'capitalLeaseObligations': '1973000000', 'longTermDebt': '15440000000', 'currentLongTermDebt': '0', 'longTermDebtNoncurrent': '12400000000', 'shortLongTermDebtTotal': '15440000000', 'otherCurrentLiabilities': '52740000000', 'otherNonCurrentLiabilities': '2205000000', 'totalShareholderEquity': '251635000000', 'treasuryStock': 'None', 'retainedEarnings': '191484000000', 'commonStock': '61774000000', 'commonStockSharesOutstanding': '662121000'}, {'fiscalDateEnding': '2021-09-30', 'reportedCurrency': 'USD', 'totalAssets': '347403000000', 'totalCurrentAssets': '184110000000', 'cashAndCashEquivalentsAtCarryingValue': '23719000000', 'cashAndShortTermInvestments': '142003000000', 'inventory': '1278000000', 'currentNetReceivables': '34800000000', 'totalNonCurrentAssets': '70162000000', 'propertyPlantEquipment': '94631000000', 'accumulatedDepreciationAmortizationPPE': 'None', 'intangibleAssets': '24172000000', 'intangibleAssetsExcludingGoodwill': '1549000000', 'goodwill': '22623000000', 'investments': '146960000000', 'longTermInvestments': '27601000000', 'shortTermInvestments': '118284000000', 'otherCurrentAssets': '6029000000', 'otherNonCurrentAssets': '4276000000', 'totalLiabilities': '102836000000', 'totalCurrentLiabilities': '61782000000', 'currentAccountsPayable': '4616000000', 'deferredRevenue': '6978000000', 'currentDebt': '249000000', 'shortTermDebt': '0', 'totalNonCurrentLiabilities': '41054000000', 'capitalLeaseObligations': '1447000000', 'longTermDebt': '12300000000', 'currentLongTermDebt': '0', 'longTermDebtNoncurrent': '12300000000', 'shortLongTermDebtTotal': '-159000000', 'otherCurrentLiabilities': '52097000000', 'otherNonCurrentLiabilities': '2250000000', 'totalShareholderEquity': '244567000000', 'treasuryStock': 'None', 'retainedEarnings': '183782000000', 'commonStock': '61193000000', 'commonStockSharesOutstanding': '664682000'}, {'fiscalDateEnding': '2021-06-30', 'reportedCurrency': 'USD', 'totalAssets': '335387000000', 'totalCurrentAssets': '175697000000', 'cashAndCashEquivalentsAtCarryingValue': '23630000000', 'cashAndShortTermInvestments': '135863000000', 'inventory': '907000000', 'currentNetReceivables': '32851000000', 'totalNonCurrentAssets': '69593000000', 'propertyPlantEquipment': '91697000000', 'accumulatedDepreciationAmortizationPPE': 'None', 'intangibleAssets': '24032000000', 'intangibleAssetsExcludingGoodwill': '1626000000', 'goodwill': '22406000000', 'investments': '140465000000', 'longTermInvestments': '27132000000', 'shortTermInvestments': '112233000000', 'otherCurrentAssets': '6076000000', 'otherNonCurrentAssets': '4298000000', 'totalLiabilities': '97822000000', 'totalCurrentLiabilities': '55741000000', 'currentAccountsPayable': '4708000000', 'deferredRevenue': '6425000000', 'currentDebt': '117000000', 'shortTermDebt': '0', 'totalNonCurrentLiabilities': '42081000000', 'capitalLeaseObligations': '1491000000', 'longTermDebt': '12400000000', 'currentLongTermDebt': '0', 'longTermDebtNoncurrent': '12400000000', 'shortLongTermDebtTotal': '-163000000', 'otherCurrentLiabilities': '46281000000', 'otherNonCurrentLiabilities': '2270000000', 'totalShareholderEquity': '237565000000', 'treasuryStock': 'None', 'retainedEarnings': '176939000000', 'commonStock': '60436000000', 'commonStockSharesOutstanding': '667637000'}, {'fiscalDateEnding': '2021-03-31', 'reportedCurrency': 'USD', 'totalAssets': '327095000000', 'totalCurrentAssets': '172137000000', 'cashAndCashEquivalentsAtCarryingValue': '26622000000', 'cashAndShortTermInvestments': '135104000000', 'inventory': '888000000', 'currentNetReceivables': '28499000000', 'totalNonCurrentAssets': '68952000000', 'propertyPlantEquipment': '87606000000', 'accumulatedDepreciationAmortizationPPE': 'None', 'intangibleAssets': '24164000000', 'intangibleAssetsExcludingGoodwill': '1823000000', 'goodwill': '22341000000', 'investments': '142520000000', 'longTermInvestments': '26894000000', 'shortTermInvestments': '108482000000', 'otherCurrentAssets': '7646000000', 'otherNonCurrentAssets': '4167000000', 'totalLiabilities': '97082000000', 'totalCurrentLiabilities': '55453000000', 'currentAccountsPayable': '4801000000', 'deferredRevenue': '3220000000', 'currentDebt': '1090000000', 'shortTermDebt': '0', 'totalNonCurrentLiabilities': '41629000000', 'capitalLeaseObligations': '1052000000', 'longTermDebt': '14000000000', 'currentLongTermDebt': '1000000000', 'longTermDebtNoncurrent': '13000000000', 'shortLongTermDebtTotal': '-165000000', 'otherCurrentLiabilities': '46074000000', 'otherNonCurrentLiabilities': '2146000000', 'totalShareholderEquity': '230013000000', 'treasuryStock': 'None', 'retainedEarnings': '170580000000', 'commonStock': '59436000000', 'commonStockSharesOutstanding': '671094000'}, {'fiscalDateEnding': '2020-12-31', 'reportedCurrency': 'USD', 'totalAssets': '319616000000', 'totalCurrentAssets': '174296000000', 'cashAndCashEquivalentsAtCarryingValue': '26465000000', 'cashAndShortTermInvestments': '136694000000', 'inventory': '728000000', 'currentNetReceivables': '31384000000', 'totalNonCurrentAssets': '146720000000', 'propertyPlantEquipment': '84749000000', 'accumulatedDepreciationAmortizationPPE': '41713000000', 'intangibleAssets': '22620000000', 'intangibleAssetsExcludingGoodwill': '1445000000', 'goodwill': '21175000000', 'investments': '138984000000', 'longTermInvestments': '22103000000', 'shortTermInvestments': '110229000000', 'otherCurrentAssets': '5490000000', 'otherNonCurrentAssets': '3953000000', 'totalLiabilities': '97072000000', 'totalCurrentLiabilities': '56834000000', 'currentAccountsPayable': '5589000000', 'deferredRevenue': '3024000000', 'currentDebt': '1100000000', 'shortTermDebt': '0', 'totalNonCurrentLiabilities': '40238000000', 'capitalLeaseObligations': '1100000000', 'longTermDebt': '15319000000', 'currentLongTermDebt': '999000000', 'longTermDebtNoncurrent': '14000000000', 'shortLongTermDebtTotal': '15319000000', 'otherCurrentLiabilities': '47008000000', 'otherNonCurrentLiabilities': '2269000000', 'totalShareholderEquity': '222544000000', 'treasuryStock': 'None', 'retainedEarnings': '163401000000', 'commonStock': '58510000000', 'commonStockSharesOutstanding': '675222000'}, {'fiscalDateEnding': '2020-09-30', 'reportedCurrency': 'USD', 'totalAssets': '299243000000', 'totalCurrentAssets': '164369000000', 'cashAndCashEquivalentsAtCarryingValue': '20129000000', 'cashAndShortTermInvestments': '132596000000', 'inventory': '835000000', 'currentNetReceivables': '25513000000', 'totalNonCurrentAssets': '134874000000', 'propertyPlantEquipment': '81636000000', 'accumulatedDepreciationAmortizationPPE': 'None', 'intangibleAssets': '22390000000', 'intangibleAssetsExcludingGoodwill': '1520000000', 'goodwill': '20870000000', 'investments': '134397000000', 'longTermInvestments': '15956000000', 'shortTermInvestments': '112467000000', 'otherCurrentAssets': '5425000000', 'otherNonCurrentAssets': '3274000000', 'totalLiabilities': '86323000000', 'totalCurrentLiabilities': '48200000000', 'currentAccountsPayable': '4391000000', 'deferredRevenue': '2756000000', 'currentDebt': '1121000000', 'shortTermDebt': '0', 'totalNonCurrentLiabilities': '38123000000', 'capitalLeaseObligations': '1074000000', 'longTermDebt': '14899000000', 'currentLongTermDebt': '999000000', 'longTermDebtNoncurrent': '13900000000', 'shortLongTermDebtTotal': '-173000000', 'otherCurrentLiabilities': '39972000000', 'otherNonCurrentLiabilities': '2194000000', 'totalShareholderEquity': '212920000000', 'treasuryStock': 'None', 'retainedEarnings': '155567000000', 'commonStock': '57307000000', 'commonStockSharesOutstanding': '677724000'}, {'fiscalDateEnding': '2020-06-30', 'reportedCurrency': 'USD', 'totalAssets': '278492000000', 'totalCurrentAssets': '149069000000', 'cashAndCashEquivalentsAtCarryingValue': '17742000000', 'cashAndShortTermInvestments': '121080000000', 'inventory': '815000000', 'currentNetReceivables': '21595000000', 'totalNonCurrentAssets': '129423000000', 'propertyPlantEquipment': '78748000000', 'accumulatedDepreciationAmortizationPPE': 'None', 'intangibleAssets': '22521000000', 'intangibleAssetsExcludingGoodwill': '1697000000', 'goodwill': '20824000000', 'investments': '122355000000', 'longTermInvestments': '14161000000', 'shortTermInvestments': '103338000000', 'otherCurrentAssets': '5579000000', 'otherNonCurrentAssets': '2731000000', 'totalLiabilities': '71170000000', 'totalCurrentLiabilities': '43658000000', 'currentAccountsPayable': '4064000000', 'deferredRevenue': '2458000000', 'currentDebt': '1136000000', 'shortTermDebt': '0', 'totalNonCurrentLiabilities': '27512000000', 'capitalLeaseObligations': '1171000000', 'longTermDebt': '5297000000', 'currentLongTermDebt': '997000000', 'longTermDebtNoncurrent': '2963000000', 'shortLongTermDebtTotal': '-37000000', 'otherCurrentLiabilities': '36117000000', 'otherNonCurrentLiabilities': '1992000000', 'totalShareholderEquity': '207322000000', 'treasuryStock': 'None', 'retainedEarnings': '151681000000', 'commonStock': '55937000000', 'commonStockSharesOutstanding': '681215000'}, {'fiscalDateEnding': '2020-03-31', 'reportedCurrency': 'USD', 'totalAssets': '273403000000', 'totalCurrentAssets': '147018000000', 'cashAndCashEquivalentsAtCarryingValue': '19644000000', 'cashAndShortTermInvestments': '117229000000', 'inventory': '889000000', 'currentNetReceivables': '23735000000', 'totalNonCurrentAssets': '126385000000', 'propertyPlantEquipment': '87966000000', 'accumulatedDepreciationAmortizationPPE': 'None', 'intangibleAssets': '22574000000', 'intangibleAssetsExcludingGoodwill': '1840000000', 'goodwill': '20734000000', 'investments': '114470000000', 'longTermInvestments': '13567000000', 'shortTermInvestments': '97585000000', 'otherCurrentAssets': '5165000000', 'otherNonCurrentAssets': '2748000000', 'totalLiabilities': '69744000000', 'totalCurrentLiabilities': '40189000000', 'currentAccountsPayable': '4099000000', 'deferredRevenue': '2288000000', 'currentDebt': '1312000000', 'shortTermDebt': '0', 'totalNonCurrentLiabilities': '19079000000', 'capitalLeaseObligations': '1154000000', 'longTermDebt': '5512000000', 'currentLongTermDebt': '1312000000', 'longTermDebtNoncurrent': '3960000000', 'shortLongTermDebtTotal': '-40000000', 'otherCurrentLiabilities': '32840000000', 'otherNonCurrentLiabilities': '2427000000', 'totalShareholderEquity': '203659000000', 'treasuryStock': 'None', 'retainedEarnings': '151068000000', 'commonStock': '53688000000', 'commonStockSharesOutstanding': '683972000'}, {'fiscalDateEnding': '2019-12-31', 'reportedCurrency': 'USD', 'totalAssets': '275909000000', 'totalCurrentAssets': '152578000000', 'cashAndCashEquivalentsAtCarryingValue': '18498000000', 'cashAndShortTermInvestments': '119675000000', 'inventory': '999000000', 'currentNetReceivables': '27492000000', 'totalNonCurrentAssets': '123331000000', 'propertyPlantEquipment': '73646000000', 'accumulatedDepreciationAmortizationPPE': '30561000000', 'intangibleAssets': '22603000000', 'intangibleAssetsExcludingGoodwill': '1979000000', 'goodwill': '20624000000', 'investments': '119195000000', 'longTermInvestments': '14378000000', 'shortTermInvestments': '101177000000', 'otherCurrentAssets': '4412000000', 'otherNonCurrentAssets': '2342000000', 'totalLiabilities': '74467000000', 'totalCurrentLiabilities': '45221000000', 'currentAccountsPayable': '5561000000', 'deferredRevenue': '2266000000', 'currentDebt': '1199000000', 'shortTermDebt': '0', 'totalNonCurrentLiabilities': '19032000000', 'capitalLeaseObligations': '685000000', 'longTermDebt': '4685000000', 'currentLongTermDebt': '0', 'longTermDebtNoncurrent': '3958000000', 'shortLongTermDebtTotal': '4685000000', 'otherCurrentLiabilities': '36553000000', 'otherNonCurrentLiabilities': '2534000000', 'totalShareholderEquity': '201442000000', 'treasuryStock': 'None', 'retainedEarnings': '152122000000', 'commonStock': '50552000000', 'commonStockSharesOutstanding': '688335000'}, {'fiscalDateEnding': '2019-09-30', 'reportedCurrency': 'USD', 'totalAssets': '263044000000', 'totalCurrentAssets': '148358000000', 'cashAndCashEquivalentsAtCarryingValue': '16032000000', 'cashAndShortTermInvestments': '121177000000', 'inventory': '1401000000', 'currentNetReceivables': '21081000000', 'totalNonCurrentAssets': '114686000000', 'propertyPlantEquipment': '69252000000', 'accumulatedDepreciationAmortizationPPE': '28153000000', 'intangibleAssets': '19816000000', 'intangibleAssetsExcludingGoodwill': '1747000000', 'goodwill': '18069000000', 'investments': '124290000000', 'longTermInvestments': '13688000000', 'shortTermInvestments': '105145000000', 'otherCurrentAssets': '4699000000', 'otherNonCurrentAssets': '2225000000', 'totalLiabilities': '68075000000', 'totalCurrentLiabilities': '39224000000', 'currentAccountsPayable': '4142000000', 'deferredRevenue': '2043000000', 'currentDebt': 'None', 'shortTermDebt': '0', 'totalNonCurrentLiabilities': '19185000000', 'capitalLeaseObligations': '126000000', 'longTermDebt': '3956000000', 'currentLongTermDebt': 'None', 'longTermDebtNoncurrent': '3956000000', 'shortLongTermDebtTotal': '-44000000', 'otherCurrentLiabilities': '9191000000', 'otherNonCurrentLiabilities': '1637000000', 'totalShareholderEquity': '194969000000', 'treasuryStock': 'None', 'retainedEarnings': '147125000000', 'commonStock': '49040000000', 'commonStockSharesOutstanding': '690906000'}, {'fiscalDateEnding': '2019-06-30', 'reportedCurrency': 'USD', 'totalAssets': '257101000000', 'totalCurrentAssets': '147437000000', 'cashAndCashEquivalentsAtCarryingValue': '16587000000', 'cashAndShortTermInvestments': '121056000000', 'inventory': '964000000', 'currentNetReceivables': '21317000000', 'totalNonCurrentAssets': '109664000000', 'propertyPlantEquipment': '64891000000', 'accumulatedDepreciationAmortizationPPE': '26539000000', 'intangibleAssets': '19902000000', 'intangibleAssetsExcludingGoodwill': '1902000000', 'goodwill': '18000000000', 'investments': '222621000000', 'longTermInvestments': '13312000000', 'shortTermInvestments': '104469000000', 'otherCurrentAssets': '4100000000', 'otherNonCurrentAssets': '2461000000', 'totalLiabilities': '64909000000', 'totalCurrentLiabilities': '37000000000', 'currentAccountsPayable': '3925000000', 'deferredRevenue': '2104000000', 'currentDebt': 'None', 'shortTermDebt': '0', 'totalNonCurrentLiabilities': '18821000000', 'capitalLeaseObligations': '120000000', 'longTermDebt': '3954000000', 'currentLongTermDebt': '1064000000', 'longTermDebtNoncurrent': '3954000000', 'shortLongTermDebtTotal': '-46000000', 'otherCurrentLiabilities': '9521000000', 'otherNonCurrentLiabilities': '1499000000', 'totalShareholderEquity': '192192000000', 'treasuryStock': 'None', 'retainedEarnings': '145346000000', 'commonStock': '47937000000', 'commonStockSharesOutstanding': '694050000'}, {'fiscalDateEnding': '2019-03-31', 'reportedCurrency': 'USD', 'totalAssets': '245349000000', 'totalCurrentAssets': '138207000000', 'cashAndCashEquivalentsAtCarryingValue': '19148000000', 'cashAndShortTermInvestments': '113488000000', 'inventory': '1053000000', 'currentNetReceivables': '19260000000', 'totalNonCurrentAssets': '107142000000', 'propertyPlantEquipment': '60528000000', 'accumulatedDepreciationAmortizationPPE': '24730000000', 'intangibleAssets': '20006000000', 'intangibleAssetsExcludingGoodwill': '2063000000', 'goodwill': '17943000000', 'investments': '204944000000', 'longTermInvestments': '15774000000', 'shortTermInvestments': '94340000000', 'otherCurrentAssets': '4406000000', 'otherNonCurrentAssets': '2547000000', 'totalLiabilities': '61877000000', 'totalCurrentLiabilities': '34910000000', 'currentAccountsPayable': '3710000000', 'deferredRevenue': 'None', 'currentDebt': 'None', 'shortTermDebt': '0', 'totalNonCurrentLiabilities': '17479000000', 'capitalLeaseObligations': '114000000', 'longTermDebt': '3952000000', 'currentLongTermDebt': '1142000000', 'longTermDebtNoncurrent': '3952000000', 'shortLongTermDebtTotal': '-48000000', 'otherCurrentLiabilities': '9388000000', 'otherNonCurrentLiabilities': '1417000000', 'totalShareholderEquity': '183472000000', 'treasuryStock': 'None', 'retainedEarnings': '138720000000', 'commonStock': '46532000000', 'commonStockSharesOutstanding': '694782000'}, {'fiscalDateEnding': '2018-12-31', 'reportedCurrency': 'USD', 'totalAssets': '232792000000', 'totalCurrentAssets': '135676000000', 'cashAndCashEquivalentsAtCarryingValue': '16701000000', 'cashAndShortTermInvestments': '109140000000', 'inventory': '1107000000', 'currentNetReceivables': '21193000000', 'totalNonCurrentAssets': '97116000000', 'propertyPlantEquipment': '59719000000', 'accumulatedDepreciationAmortizationPPE': '22788000000', 'intangibleAssets': '20108000000', 'intangibleAssetsExcludingGoodwill': '2220000000', 'goodwill': '17888000000', 'investments': '199328000000', 'longTermInvestments': '15159000000', 'shortTermInvestments': '92439000000', 'otherCurrentAssets': '4236000000', 'otherNonCurrentAssets': '2693000000', 'totalLiabilities': '55164000000', 'totalCurrentLiabilities': '34620000000', 'currentAccountsPayable': '4378000000', 'deferredRevenue': '2180000000', 'currentDebt': 'None', 'shortTermDebt': '0', 'totalNonCurrentLiabilities': '19280000000', 'capitalLeaseObligations': 'None', 'longTermDebt': '4062000000', 'currentLongTermDebt': 'None', 'longTermDebtNoncurrent': '3950000000', 'shortLongTermDebtTotal': '4062000000', 'otherCurrentLiabilities': '7754000000', 'otherNonCurrentLiabilities': '3545000000', 'totalShareholderEquity': '177628000000', 'treasuryStock': 'None', 'retainedEarnings': '134885000000', 'commonStock': '45049000000', 'commonStockSharesOutstanding': '695556000'}, {'fiscalDateEnding': '2018-09-30', 'reportedCurrency': 'USD', 'totalAssets': '221538000000', 'totalCurrentAssets': '129702000000', 'cashAndCashEquivalentsAtCarryingValue': '13443000000', 'cashAndShortTermInvestments': '106416000000', 'inventory': '1212000000', 'currentNetReceivables': '18067000000', 'totalNonCurrentAssets': '91836000000', 'propertyPlantEquipment': '55300000000', 'accumulatedDepreciationAmortizationPPE': '21828000000', 'intangibleAssets': '20343000000', 'intangibleAssetsExcludingGoodwill': '2448000000', 'goodwill': '17895000000', 'investments': '200680000000', 'longTermInvestments': '12673000000', 'shortTermInvestments': '92973000000', 'otherCurrentAssets': '4007000000', 'otherNonCurrentAssets': '2838000000', 'totalLiabilities': '51698000000', 'totalCurrentLiabilities': '31301000000', 'currentAccountsPayable': '3789000000', 'deferredRevenue': 'None', 'currentDebt': 'None', 'shortTermDebt': '0', 'totalNonCurrentLiabilities': '19079000000', 'capitalLeaseObligations': 'None', 'longTermDebt': '3948000000', 'currentLongTermDebt': 'None', 'longTermDebtNoncurrent': '3948000000', 'shortLongTermDebtTotal': '-52000000', 'otherCurrentLiabilities': '7993000000', 'otherNonCurrentLiabilities': '3214000000', 'totalShareholderEquity': '169840000000', 'treasuryStock': 'None', 'retainedEarnings': '128405000000', 'commonStock': '43111000000', 'commonStockSharesOutstanding': '695957000'}, {'fiscalDateEnding': '2018-06-30', 'reportedCurrency': 'USD', 'totalAssets': '211610000000', 'totalCurrentAssets': '124157000000', 'cashAndCashEquivalentsAtCarryingValue': '14148000000', 'cashAndShortTermInvestments': '102254000000', 'inventory': '698000000', 'currentNetReceivables': '17244000000', 'totalNonCurrentAssets': '87453000000', 'propertyPlantEquipment': '51672000000', 'accumulatedDepreciationAmortizationPPE': '20204000000', 'intangibleAssets': '20557000000', 'intangibleAssetsExcludingGoodwill': '2662000000', 'goodwill': '17895000000', 'investments': '191247000000', 'longTermInvestments': '12787000000', 'shortTermInvestments': '88106000000', 'otherCurrentAssets': '3961000000', 'otherNonCurrentAssets': '3052000000', 'totalLiabilities': '49610000000', 'totalCurrentLiabilities': '29903000000', 'currentAccountsPayable': '3369000000', 'deferredRevenue': 'None', 'currentDebt': 'None', 'shortTermDebt': '0', 'totalNonCurrentLiabilities': '19228000000', 'capitalLeaseObligations': 'None', 'longTermDebt': '3947000000', 'currentLongTermDebt': '3981000000', 'longTermDebtNoncurrent': '3947000000', 'shortLongTermDebtTotal': '-53000000', 'otherCurrentLiabilities': '7914000000', 'otherNonCurrentLiabilities': '3237000000', 'totalShareholderEquity': '162000000000', 'treasuryStock': 'None', 'retainedEarnings': '121282000000', 'commonStock': '42243000000', 'commonStockSharesOutstanding': '695946000'}, {'fiscalDateEnding': '2018-03-31', 'reportedCurrency': 'USD', 'totalAssets': '206935000000', 'totalCurrentAssets': '123761000000', 'cashAndCashEquivalentsAtCarryingValue': '12658000000', 'cashAndShortTermInvestments': '102885000000', 'inventory': '636000000', 'currentNetReceivables': '16814000000', 'totalNonCurrentAssets': '83174000000', 'propertyPlantEquipment': '48845000000', 'accumulatedDepreciationAmortizationPPE': '18956000000', 'intangibleAssets': '20671000000', 'intangibleAssetsExcludingGoodwill': '2809000000', 'goodwill': '17862000000', 'investments': '104645000000', 'longTermInvestments': '12476000000', 'shortTermInvestments': '90227000000', 'otherCurrentAssets': '3426000000', 'otherNonCurrentAssets': '2004000000', 'totalLiabilities': '46110000000', 'totalCurrentLiabilities': '25394000000', 'currentAccountsPayable': '3526000000', 'deferredRevenue': '1911000000', 'currentDebt': '1329000000', 'shortTermDebt': '1300000000', 'totalNonCurrentLiabilities': '20322000000', 'capitalLeaseObligations': 'None', 'longTermDebt': '3944000000', 'currentLongTermDebt': '29000000', 'longTermDebtNoncurrent': '3944000000', 'shortLongTermDebtTotal': '1244000000', 'otherCurrentLiabilities': '18943000000', 'otherNonCurrentLiabilities': '3149000000', 'totalShareholderEquity': '160825000000', 'treasuryStock': 'None', 'retainedEarnings': '120008000000', 'commonStock': '41487000000', 'commonStockSharesOutstanding': '694945000'}, {'fiscalDateEnding': '2017-12-31', 'reportedCurrency': 'USD', 'totalAssets': '197295000000', 'totalCurrentAssets': '124308000000', 'cashAndCashEquivalentsAtCarryingValue': '10715000000', 'cashAndShortTermInvestments': '101871000000', 'inventory': '749000000', 'currentNetReceivables': '18705000000', 'totalNonCurrentAssets': '72987000000', 'propertyPlantEquipment': '42383000000', 'accumulatedDepreciationAmortizationPPE': '17264000000', 'intangibleAssets': '19439000000', 'intangibleAssetsExcludingGoodwill': '2692000000', 'goodwill': '16747000000', 'investments': '104357000000', 'longTermInvestments': '13713000000', 'shortTermInvestments': '91156000000', 'otherCurrentAssets': '2983000000', 'otherNonCurrentAssets': '2672000000', 'totalLiabilities': '44793000000', 'totalCurrentLiabilities': '24183000000', 'currentAccountsPayable': '3137000000', 'deferredRevenue': '1772000000', 'currentDebt': '0', 'shortTermDebt': '0', 'totalNonCurrentLiabilities': '20180000000', 'capitalLeaseObligations': 'None', 'longTermDebt': '4026000000', 'currentLongTermDebt': '3969000000', 'longTermDebtNoncurrent': '3943000000', 'shortLongTermDebtTotal': '4026000000', 'otherCurrentLiabilities': '2874000000', 'otherNonCurrentLiabilities': '3059000000', 'totalShareholderEquity': '152502000000', 'treasuryStock': 'None', 'retainedEarnings': '113247000000', 'commonStock': '40247000000', 'commonStockSharesOutstanding': '694783000'}, {'fiscalDateEnding': '2017-09-30', 'reportedCurrency': 'USD', 'totalAssets': '189536000000', 'totalCurrentAssets': '119345000000', 'cashAndCashEquivalentsAtCarryingValue': '10581000000', 'cashAndShortTermInvestments': '100143000000', 'inventory': '765000000', 'currentNetReceivables': '15577000000', 'totalNonCurrentAssets': '70191000000', 'propertyPlantEquipment': '40120000000', 'accumulatedDepreciationAmortizationPPE': '16238000000', 'intangibleAssets': '19614000000', 'intangibleAssetsExcludingGoodwill': '2883000000', 'goodwill': '16731000000', 'investments': '101706000000', 'longTermInvestments': '12569000000', 'shortTermInvestments': '89562000000', 'otherCurrentAssets': '2860000000', 'otherNonCurrentAssets': '2683000000', 'totalLiabilities': '32436000000', 'totalCurrentLiabilities': '20693000000', 'currentAccountsPayable': '2674000000', 'deferredRevenue': '1615000000', 'currentDebt': 'None', 'shortTermDebt': '13906000000', 'totalNonCurrentLiabilities': '11592000000', 'capitalLeaseObligations': 'None', 'longTermDebt': '3941000000', 'currentLongTermDebt': '3964000000', 'longTermDebtNoncurrent': '3941000000', 'shortLongTermDebtTotal': '-59000000', 'otherCurrentLiabilities': '2844000000', 'otherNonCurrentLiabilities': '2924000000', 'totalShareholderEquity': '157100000000', 'treasuryStock': 'None', 'retainedEarnings': '118237000000', 'commonStock': '39609000000', 'commonStockSharesOutstanding': '694790000'}, {'fiscalDateEnding': '2017-06-30', 'reportedCurrency': 'USD', 'totalAssets': '178621000000', 'totalCurrentAssets': '112386000000', 'cashAndCashEquivalentsAtCarryingValue': '15711000000', 'cashAndShortTermInvestments': '94713000000', 'inventory': '398000000', 'currentNetReceivables': '14877000000', 'totalNonCurrentAssets': '66235000000', 'propertyPlantEquipment': '37676000000', 'accumulatedDepreciationAmortizationPPE': '15665000000', 'intangibleAssets': '19537000000', 'intangibleAssetsExcludingGoodwill': '2933000000', 'goodwill': '16604000000', 'investments': '90410000000', 'longTermInvestments': '11942000000', 'shortTermInvestments': '79002000000', 'otherCurrentAssets': '2398000000', 'otherNonCurrentAssets': 'None', 'totalLiabilities': '30335000000', 'totalCurrentLiabilities': '18685000000', 'currentAccountsPayable': '2488000000', 'deferredRevenue': '1571000000', 'currentDebt': 'None', 'shortTermDebt': '12216000000', 'totalNonCurrentLiabilities': '11281000000', 'capitalLeaseObligations': 'None', 'longTermDebt': '3939000000', 'currentLongTermDebt': '3955000000', 'longTermDebtNoncurrent': '3939000000', 'shortLongTermDebtTotal': '-61000000', 'otherCurrentLiabilities': '2755000000', 'otherNonCurrentLiabilities': '2853000000', 'totalShareholderEquity': '148286000000', 'treasuryStock': 'None', 'retainedEarnings': '111505000000', 'commonStock': '38509000000', 'commonStockSharesOutstanding': '692876000'}, {'fiscalDateEnding': '2017-03-31', 'reportedCurrency': 'USD', 'totalAssets': '172756000000', 'totalCurrentAssets': '108794000000', 'cashAndCashEquivalentsAtCarryingValue': '18132000000', 'cashAndShortTermInvestments': '92439000000', 'inventory': '280000000', 'currentNetReceivables': '12969000000', 'totalNonCurrentAssets': '63962000000', 'propertyPlantEquipment': '35936000000', 'accumulatedDepreciationAmortizationPPE': '14385000000', 'intangibleAssets': '19684000000', 'intangibleAssetsExcludingGoodwill': '3137000000', 'goodwill': '16547000000', 'investments': '84840000000', 'longTermInvestments': '10931000000', 'shortTermInvestments': '74307000000', 'otherCurrentAssets': '3106000000', 'otherNonCurrentAssets': 'None', 'totalLiabilities': '27807000000', 'totalCurrentLiabilities': '15256000000', 'currentAccountsPayable': '2306000000', 'deferredRevenue': '1471000000', 'currentDebt': 'None', 'shortTermDebt': '803000000', 'totalNonCurrentLiabilities': '12551000000', 'capitalLeaseObligations': 'None', 'longTermDebt': '3937000000', 'currentLongTermDebt': 'None', 'longTermDebtNoncurrent': '3937000000', 'shortLongTermDebtTotal': '-63000000', 'otherCurrentLiabilities': '10999000000', 'otherNonCurrentLiabilities': '2763000000', 'totalShareholderEquity': '144949000000', 'treasuryStock': 'None', 'retainedEarnings': '109420000000', 'commonStock': '37698000000', 'commonStockSharesOutstanding': '692108000'}, {'fiscalDateEnding': '2016-12-31', 'reportedCurrency': 'USD', 'totalAssets': '167497000000', 'totalCurrentAssets': '105408000000', 'cashAndCashEquivalentsAtCarryingValue': '12918000000', 'cashAndShortTermInvestments': '86333000000', 'inventory': '268000000', 'currentNetReceivables': '14232000000', 'totalNonCurrentAssets': '62089000000', 'propertyPlantEquipment': '34234000000', 'accumulatedDepreciationAmortizationPPE': '13293000000', 'intangibleAssets': '19775000000', 'intangibleAssetsExcludingGoodwill': '3307000000', 'goodwill': '16468000000', 'investments': '84085000000', 'longTermInvestments': '10578000000', 'shortTermInvestments': '73415000000', 'otherCurrentAssets': '4575000000', 'otherNonCurrentAssets': '1819000000', 'totalLiabilities': '28461000000', 'totalCurrentLiabilities': '16756000000', 'currentAccountsPayable': '2041000000', 'deferredRevenue': '1301000000', 'currentDebt': '0', 'shortTermDebt': '0', 'totalNonCurrentLiabilities': '11705000000', 'capitalLeaseObligations': 'None', 'longTermDebt': '4000000000', 'currentLongTermDebt': '3935000000', 'longTermDebtNoncurrent': '3935000000', 'shortLongTermDebtTotal': '4000000000', 'otherCurrentLiabilities': '13062000000', 'otherNonCurrentLiabilities': '2665000000', 'totalShareholderEquity': '139036000000', 'treasuryStock': 'None', 'retainedEarnings': '105131000000', 'commonStock': '36307000000', 'commonStockSharesOutstanding': '691293000'}, {'fiscalDateEnding': '2016-09-30', 'reportedCurrency': 'USD', 'totalAssets': '159948000000', 'totalCurrentAssets': '98546000000', 'cashAndCashEquivalentsAtCarryingValue': '9406000000', 'cashAndShortTermInvestments': '83056000000', 'inventory': '559000000', 'currentNetReceivables': '12395000000', 'totalNonCurrentAssets': '61402000000', 'propertyPlantEquipment': '32753000000', 'accumulatedDepreciationAmortizationPPE': '13341000000', 'intangibleAssets': '19395000000', 'intangibleAssetsExcludingGoodwill': '3367000000', 'goodwill': '16028000000', 'investments': '83583000000', 'longTermInvestments': '10205000000', 'shortTermInvestments': '73650000000', 'otherCurrentAssets': '2536000000', 'otherNonCurrentAssets': 'None', 'totalLiabilities': '25845000000', 'totalCurrentLiabilities': '14323000000', 'currentAccountsPayable': '2175000000', 'deferredRevenue': '1092000000', 'currentDebt': '0', 'shortTermDebt': '171000000', 'totalNonCurrentLiabilities': '11522000000', 'capitalLeaseObligations': 'None', 'longTermDebt': '3938000000', 'currentLongTermDebt': 'None', 'longTermDebtNoncurrent': '3938000000', 'shortLongTermDebtTotal': '-62000000', 'otherCurrentLiabilities': '11054000000', 'otherNonCurrentLiabilities': '2561000000', 'totalShareholderEquity': '134103000000', 'treasuryStock': 'None', 'retainedEarnings': '99798000000', 'commonStock': '35337000000', 'commonStockSharesOutstanding': '689136000'}, {'fiscalDateEnding': '2016-06-30', 'reportedCurrency': 'USD', 'totalAssets': '154292000000', 'totalCurrentAssets': '94238000000', 'cashAndCashEquivalentsAtCarryingValue': '13627000000', 'cashAndShortTermInvestments': '78460000000', 'inventory': 'None', 'currentNetReceivables': '12262000000', 'totalNonCurrentAssets': '60054000000', 'propertyPlantEquipment': '31413000000', 'accumulatedDepreciationAmortizationPPE': '12491000000', 'intangibleAssets': '19293000000', 'intangibleAssetsExcludingGoodwill': '3452000000', 'goodwill': '15841000000', 'investments': '75341000000', 'longTermInvestments': '10520000000', 'shortTermInvestments': '64833000000', 'otherCurrentAssets': '3016000000', 'otherNonCurrentAssets': 'None', 'totalLiabilities': '26413000000', 'totalCurrentLiabilities': '17341000000', 'currentAccountsPayable': '1716000000', 'deferredRevenue': '1051000000', 'currentDebt': '2219000000', 'shortTermDebt': '1999000000', 'totalNonCurrentLiabilities': '9072000000', 'capitalLeaseObligations': 'None', 'longTermDebt': '1984000000', 'currentLongTermDebt': 'None', 'longTermDebtNoncurrent': '1984000000', 'shortLongTermDebtTotal': '-16000000', 'otherCurrentLiabilities': '12506000000', 'otherNonCurrentLiabilities': '2151000000', 'totalShareholderEquity': '127879000000', 'treasuryStock': 'None', 'retainedEarnings': '94737000000', 'commonStock': '34293000000', 'commonStockSharesOutstanding': '686778000'}, {'fiscalDateEnding': '2016-03-31', 'reportedCurrency': 'USD', 'totalAssets': '149747000000', 'totalCurrentAssets': '90955000000', 'cashAndCashEquivalentsAtCarryingValue': '15111000000', 'cashAndShortTermInvestments': '75264000000', 'inventory': 'None', 'currentNetReceivables': '12622000000', 'totalNonCurrentAssets': '58792000000', 'propertyPlantEquipment': '30162000000', 'accumulatedDepreciationAmortizationPPE': '11833000000', 'intangibleAssets': '19523000000', 'intangibleAssetsExcludingGoodwill': '3657000000', 'goodwill': '15866000000', 'investments': '69819000000', 'longTermInvestments': '9977000000', 'shortTermInvestments': '60153000000', 'otherCurrentAssets': '2719000000', 'otherNonCurrentAssets': 'None', 'totalLiabilities': '26178000000', 'totalCurrentLiabilities': '17684000000', 'currentAccountsPayable': '1667000000', 'deferredRevenue': '1064000000', 'currentDebt': '3221000000', 'shortTermDebt': '1998000000', 'totalNonCurrentLiabilities': '8494000000', 'capitalLeaseObligations': 'None', 'longTermDebt': 'None', 'currentLongTermDebt': 'None', 'longTermDebtNoncurrent': '1987000000', 'shortLongTermDebtTotal': '-13000000', 'otherCurrentLiabilities': '11863000000', 'otherNonCurrentLiabilities': '1965000000', 'totalShareholderEquity': '123569000000', 'treasuryStock': 'None', 'retainedEarnings': '91168000000', 'commonStock': '33695000000', 'commonStockSharesOutstanding': '686792000'}, {'fiscalDateEnding': '2015-12-31', 'reportedCurrency': 'USD', 'totalAssets': '147461000000', 'totalCurrentAssets': '90114000000', 'cashAndCashEquivalentsAtCarryingValue': '16549000000', 'cashAndShortTermInvestments': '73066000000', 'inventory': '491000000', 'currentNetReceivables': '13459000000', 'totalNonCurrentAssets': '57347000000', 'propertyPlantEquipment': '29016000000', 'accumulatedDepreciationAmortizationPPE': '11130000000', 'intangibleAssets': '19716000000', 'intangibleAssetsExcludingGoodwill': '3847000000', 'goodwill': '15869000000', 'investments': '65462000000', 'longTermInvestments': '9383000000', 'shortTermInvestments': '56517000000', 'otherCurrentAssets': '3139000000', 'otherNonCurrentAssets': 'None', 'totalLiabilities': '27130000000', 'totalCurrentLiabilities': '19310000000', 'currentAccountsPayable': '1931000000', 'deferredRevenue': '939000000', 'currentDebt': '3225000000', 'shortTermDebt': '2000000000', 'totalNonCurrentLiabilities': '7820000000', 'capitalLeaseObligations': 'None', 'longTermDebt': '3225000000', 'currentLongTermDebt': 'None', 'longTermDebtNoncurrent': '1995000000', 'shortLongTermDebtTotal': '5225000000', 'otherCurrentLiabilities': '13366000000', 'otherNonCurrentLiabilities': '1822000000', 'totalShareholderEquity': '120331000000', 'treasuryStock': 'None', 'retainedEarnings': '89223000000', 'commonStock': '32982000000', 'commonStockSharesOutstanding': '687348000'}, {'fiscalDateEnding': '2015-09-30', 'reportedCurrency': 'USD', 'totalAssets': '144281000000', 'totalCurrentAssets': '88103000000', 'cashAndCashEquivalentsAtCarryingValue': '18068000000', 'cashAndShortTermInvestments': '72767000000', 'inventory': '2212000000', 'currentNetReceivables': '10036000000', 'totalNonCurrentAssets': '56178000000', 'propertyPlantEquipment': '28338000000', 'accumulatedDepreciationAmortizationPPE': '10570000000', 'intangibleAssets': '19698000000', 'intangibleAssetsExcludingGoodwill': '4023000000', 'goodwill': '15675000000', 'investments': '58877000000', 'longTermInvestments': '4813000000', 'shortTermInvestments': '54699000000', 'otherCurrentAssets': '2688000000', 'otherNonCurrentAssets': 'None', 'totalLiabilities': '28040000000', 'totalCurrentLiabilities': '18457000000', 'currentAccountsPayable': '1549000000', 'deferredRevenue': '838000000', 'currentDebt': '3237000000', 'shortTermDebt': '2000000000', 'totalNonCurrentLiabilities': '9583000000', 'capitalLeaseObligations': 'None', 'longTermDebt': 'None', 'currentLongTermDebt': 'None', 'longTermDebtNoncurrent': '1994000000', 'shortLongTermDebtTotal': '-6000000', 'otherCurrentLiabilities': '12966000000', 'otherNonCurrentLiabilities': '1884000000', 'totalShareholderEquity': '116241000000', 'treasuryStock': 'None', 'retainedEarnings': '85969000000', 'commonStock': '31864000000', 'commonStockSharesOutstanding': '686902000'}]\n"
     ]
    }
   ],
   "source": [
    "import requests\n",
    "\n",
    "# replace the \"demo\" apikey below with your own key from https://www.alphavantage.co/support/#api-key\n",
    "url = f'https://www.alphavantage.co/query?function=BALANCE_SHEET&symbol=GOOG&apikey={alpha_vantage_api_key}'\n",
    "r = requests.get(url)\n",
    "data = r.json()\n",
    "\n",
    "for key, value in data.items():\n",
    "    print(key, value)\n",
    "\n",
    "    if key == 'annualReports':\n",
    "        annual_balancesheet_df = pd.DataFrame(value).drop(['reportedCurrency'], axis=1)\n",
    "        annual_balancesheet_df = annual_balancesheet_df.sort_values('fiscalDateEnding', ascending=True)\n",
    "\n",
    "        for column in annual_balancesheet_df.columns[1:]:  # Exclude the 'fiscalDateEnding' column\n",
    "            annual_balancesheet_df[column] = pd.to_numeric(annual_balancesheet_df[column], errors='coerce')\n",
    "\n",
    "        annual_balancesheet_df['current_ratio'] = (annual_balancesheet_df['totalCurrentAssets'] / annual_balancesheet_df['totalCurrentLiabilities']) * 100\n",
    "        annual_balancesheet_df['working_capital'] = annual_balancesheet_df['totalCurrentAssets'] - annual_balancesheet_df['totalCurrentLiabilities']\n",
    "        annual_balancesheet_df['longTermDebt_to_workingCp_ratio'] = (annual_balancesheet_df['longTermDebt'] / annual_balancesheet_df['working_capital']) * 100\n",
    "        annual_balancesheet_df['debtEquity_ratio'] = (annual_balancesheet_df['totalLiabilities'] / annual_balancesheet_df['totalShareholderEquity']) * 100\n",
    "\n",
    "        annaul_balancesheet_ratio_cols = [\n",
    "            'current_ratio'\n",
    "            ,'working_capital'\n",
    "            ,'longTermDebt_to_workingCp_ratio'\n",
    "            ,'debtEquity_ratio'\n",
    "        ]\n",
    "\n",
    "        \n",
    "    if key == 'quarterlyReports':\n",
    "        qtr_balancesheet_df = pd.DataFrame(value).drop(['reportedCurrency'], axis=1)\n",
    "        qtr_balancesheet_df = qtr_balancesheet_df.sort_values('fiscalDateEnding', ascending=True)\n",
    "\n",
    "        for column in qtr_balancesheet_df.columns[1:]:  # Exclude the 'fiscalDateEnding' column\n",
    "            qtr_balancesheet_df[column] = pd.to_numeric(qtr_balancesheet_df[column], errors='coerce')"
   ]
  },
  {
   "cell_type": "code",
   "execution_count": 59,
   "metadata": {},
   "outputs": [
    {
     "data": {
      "application/vnd.plotly.v1+json": {
       "config": {
        "plotlyServerURL": "https://plot.ly"
       },
       "data": [
        {
         "alignmentgroup": "True",
         "hovertemplate": "fiscalDateEnding=%{x}<br>grossProfit_QoQ=%{y}<extra></extra>",
         "legendgroup": "",
         "marker": {
          "color": "#636efa",
          "pattern": {
           "shape": ""
          }
         },
         "name": "",
         "offsetgroup": "",
         "orientation": "v",
         "showlegend": false,
         "textposition": "auto",
         "type": "bar",
         "x": [
          "2014-09-30",
          "2014-12-31",
          "2015-03-31",
          "2015-06-30",
          "2015-09-30",
          "2015-12-31",
          "2016-03-31",
          "2016-06-30",
          "2016-09-30",
          "2016-12-31",
          "2017-03-31",
          "2017-06-30",
          "2017-09-30",
          "2017-12-31",
          "2018-03-31",
          "2018-06-30",
          "2018-09-30",
          "2018-12-31",
          "2019-03-31",
          "2019-06-30",
          "2019-09-30",
          "2019-12-31",
          "2020-03-31",
          "2020-06-30",
          "2020-09-30",
          "2020-12-31",
          "2021-03-31",
          "2021-06-30",
          "2021-09-30",
          "2021-12-31",
          "2022-03-31",
          "2022-06-30",
          "2022-09-30",
          "2022-12-31",
          "2023-03-31",
          "2023-06-30",
          "2023-09-30",
          "2023-12-31",
          "2024-03-31",
          "2024-06-30"
         ],
         "xaxis": "x",
         "y": [
          null,
          13.776963776963779,
          -2.50402432480773,
          2.219776187855449,
          4.432878679109842,
          12.91459013576215,
          -4.048398143215892,
          6.035371559996827,
          2.857142857142847,
          12.005526468877248,
          -2.9085243134454375,
          4.560347709796053,
          6.311952420541034,
          8.614051973051007,
          -2.087948604342049,
          6.193789241472936,
          3.6486630446362023,
          9.758980420371044,
          -4.827231014139899,
          6.995621587051715,
          5.4531242815761605,
          8.371484630477433,
          -10.774492053912699,
          -10.970825630157366,
          26.686588330632087,
          20.089553432215258,
          3.905053598774888,
          14.232161737848825,
          4.639160799932673,
          12.98683893103172,
          -8.758777756690073,
          3.065522620904826,
          -3.4738515098766354,
          1.7955151325074414,
          0.3209325014762898,
          8.6835235706608,
          1.4387642169213732,
          10.251172292121268,
          -1.751800227397149,
          5.499121340705493
         ],
         "yaxis": "y"
        }
       ],
       "layout": {
        "barmode": "relative",
        "legend": {
         "tracegroupgap": 0
        },
        "template": {
         "data": {
          "bar": [
           {
            "error_x": {
             "color": "#2a3f5f"
            },
            "error_y": {
             "color": "#2a3f5f"
            },
            "marker": {
             "line": {
              "color": "#E5ECF6",
              "width": 0.5
             },
             "pattern": {
              "fillmode": "overlay",
              "size": 10,
              "solidity": 0.2
             }
            },
            "type": "bar"
           }
          ],
          "barpolar": [
           {
            "marker": {
             "line": {
              "color": "#E5ECF6",
              "width": 0.5
             },
             "pattern": {
              "fillmode": "overlay",
              "size": 10,
              "solidity": 0.2
             }
            },
            "type": "barpolar"
           }
          ],
          "carpet": [
           {
            "aaxis": {
             "endlinecolor": "#2a3f5f",
             "gridcolor": "white",
             "linecolor": "white",
             "minorgridcolor": "white",
             "startlinecolor": "#2a3f5f"
            },
            "baxis": {
             "endlinecolor": "#2a3f5f",
             "gridcolor": "white",
             "linecolor": "white",
             "minorgridcolor": "white",
             "startlinecolor": "#2a3f5f"
            },
            "type": "carpet"
           }
          ],
          "choropleth": [
           {
            "colorbar": {
             "outlinewidth": 0,
             "ticks": ""
            },
            "type": "choropleth"
           }
          ],
          "contour": [
           {
            "colorbar": {
             "outlinewidth": 0,
             "ticks": ""
            },
            "colorscale": [
             [
              0,
              "#0d0887"
             ],
             [
              0.1111111111111111,
              "#46039f"
             ],
             [
              0.2222222222222222,
              "#7201a8"
             ],
             [
              0.3333333333333333,
              "#9c179e"
             ],
             [
              0.4444444444444444,
              "#bd3786"
             ],
             [
              0.5555555555555556,
              "#d8576b"
             ],
             [
              0.6666666666666666,
              "#ed7953"
             ],
             [
              0.7777777777777778,
              "#fb9f3a"
             ],
             [
              0.8888888888888888,
              "#fdca26"
             ],
             [
              1,
              "#f0f921"
             ]
            ],
            "type": "contour"
           }
          ],
          "contourcarpet": [
           {
            "colorbar": {
             "outlinewidth": 0,
             "ticks": ""
            },
            "type": "contourcarpet"
           }
          ],
          "heatmap": [
           {
            "colorbar": {
             "outlinewidth": 0,
             "ticks": ""
            },
            "colorscale": [
             [
              0,
              "#0d0887"
             ],
             [
              0.1111111111111111,
              "#46039f"
             ],
             [
              0.2222222222222222,
              "#7201a8"
             ],
             [
              0.3333333333333333,
              "#9c179e"
             ],
             [
              0.4444444444444444,
              "#bd3786"
             ],
             [
              0.5555555555555556,
              "#d8576b"
             ],
             [
              0.6666666666666666,
              "#ed7953"
             ],
             [
              0.7777777777777778,
              "#fb9f3a"
             ],
             [
              0.8888888888888888,
              "#fdca26"
             ],
             [
              1,
              "#f0f921"
             ]
            ],
            "type": "heatmap"
           }
          ],
          "heatmapgl": [
           {
            "colorbar": {
             "outlinewidth": 0,
             "ticks": ""
            },
            "colorscale": [
             [
              0,
              "#0d0887"
             ],
             [
              0.1111111111111111,
              "#46039f"
             ],
             [
              0.2222222222222222,
              "#7201a8"
             ],
             [
              0.3333333333333333,
              "#9c179e"
             ],
             [
              0.4444444444444444,
              "#bd3786"
             ],
             [
              0.5555555555555556,
              "#d8576b"
             ],
             [
              0.6666666666666666,
              "#ed7953"
             ],
             [
              0.7777777777777778,
              "#fb9f3a"
             ],
             [
              0.8888888888888888,
              "#fdca26"
             ],
             [
              1,
              "#f0f921"
             ]
            ],
            "type": "heatmapgl"
           }
          ],
          "histogram": [
           {
            "marker": {
             "pattern": {
              "fillmode": "overlay",
              "size": 10,
              "solidity": 0.2
             }
            },
            "type": "histogram"
           }
          ],
          "histogram2d": [
           {
            "colorbar": {
             "outlinewidth": 0,
             "ticks": ""
            },
            "colorscale": [
             [
              0,
              "#0d0887"
             ],
             [
              0.1111111111111111,
              "#46039f"
             ],
             [
              0.2222222222222222,
              "#7201a8"
             ],
             [
              0.3333333333333333,
              "#9c179e"
             ],
             [
              0.4444444444444444,
              "#bd3786"
             ],
             [
              0.5555555555555556,
              "#d8576b"
             ],
             [
              0.6666666666666666,
              "#ed7953"
             ],
             [
              0.7777777777777778,
              "#fb9f3a"
             ],
             [
              0.8888888888888888,
              "#fdca26"
             ],
             [
              1,
              "#f0f921"
             ]
            ],
            "type": "histogram2d"
           }
          ],
          "histogram2dcontour": [
           {
            "colorbar": {
             "outlinewidth": 0,
             "ticks": ""
            },
            "colorscale": [
             [
              0,
              "#0d0887"
             ],
             [
              0.1111111111111111,
              "#46039f"
             ],
             [
              0.2222222222222222,
              "#7201a8"
             ],
             [
              0.3333333333333333,
              "#9c179e"
             ],
             [
              0.4444444444444444,
              "#bd3786"
             ],
             [
              0.5555555555555556,
              "#d8576b"
             ],
             [
              0.6666666666666666,
              "#ed7953"
             ],
             [
              0.7777777777777778,
              "#fb9f3a"
             ],
             [
              0.8888888888888888,
              "#fdca26"
             ],
             [
              1,
              "#f0f921"
             ]
            ],
            "type": "histogram2dcontour"
           }
          ],
          "mesh3d": [
           {
            "colorbar": {
             "outlinewidth": 0,
             "ticks": ""
            },
            "type": "mesh3d"
           }
          ],
          "parcoords": [
           {
            "line": {
             "colorbar": {
              "outlinewidth": 0,
              "ticks": ""
             }
            },
            "type": "parcoords"
           }
          ],
          "pie": [
           {
            "automargin": true,
            "type": "pie"
           }
          ],
          "scatter": [
           {
            "fillpattern": {
             "fillmode": "overlay",
             "size": 10,
             "solidity": 0.2
            },
            "type": "scatter"
           }
          ],
          "scatter3d": [
           {
            "line": {
             "colorbar": {
              "outlinewidth": 0,
              "ticks": ""
             }
            },
            "marker": {
             "colorbar": {
              "outlinewidth": 0,
              "ticks": ""
             }
            },
            "type": "scatter3d"
           }
          ],
          "scattercarpet": [
           {
            "marker": {
             "colorbar": {
              "outlinewidth": 0,
              "ticks": ""
             }
            },
            "type": "scattercarpet"
           }
          ],
          "scattergeo": [
           {
            "marker": {
             "colorbar": {
              "outlinewidth": 0,
              "ticks": ""
             }
            },
            "type": "scattergeo"
           }
          ],
          "scattergl": [
           {
            "marker": {
             "colorbar": {
              "outlinewidth": 0,
              "ticks": ""
             }
            },
            "type": "scattergl"
           }
          ],
          "scattermapbox": [
           {
            "marker": {
             "colorbar": {
              "outlinewidth": 0,
              "ticks": ""
             }
            },
            "type": "scattermapbox"
           }
          ],
          "scatterpolar": [
           {
            "marker": {
             "colorbar": {
              "outlinewidth": 0,
              "ticks": ""
             }
            },
            "type": "scatterpolar"
           }
          ],
          "scatterpolargl": [
           {
            "marker": {
             "colorbar": {
              "outlinewidth": 0,
              "ticks": ""
             }
            },
            "type": "scatterpolargl"
           }
          ],
          "scatterternary": [
           {
            "marker": {
             "colorbar": {
              "outlinewidth": 0,
              "ticks": ""
             }
            },
            "type": "scatterternary"
           }
          ],
          "surface": [
           {
            "colorbar": {
             "outlinewidth": 0,
             "ticks": ""
            },
            "colorscale": [
             [
              0,
              "#0d0887"
             ],
             [
              0.1111111111111111,
              "#46039f"
             ],
             [
              0.2222222222222222,
              "#7201a8"
             ],
             [
              0.3333333333333333,
              "#9c179e"
             ],
             [
              0.4444444444444444,
              "#bd3786"
             ],
             [
              0.5555555555555556,
              "#d8576b"
             ],
             [
              0.6666666666666666,
              "#ed7953"
             ],
             [
              0.7777777777777778,
              "#fb9f3a"
             ],
             [
              0.8888888888888888,
              "#fdca26"
             ],
             [
              1,
              "#f0f921"
             ]
            ],
            "type": "surface"
           }
          ],
          "table": [
           {
            "cells": {
             "fill": {
              "color": "#EBF0F8"
             },
             "line": {
              "color": "white"
             }
            },
            "header": {
             "fill": {
              "color": "#C8D4E3"
             },
             "line": {
              "color": "white"
             }
            },
            "type": "table"
           }
          ]
         },
         "layout": {
          "annotationdefaults": {
           "arrowcolor": "#2a3f5f",
           "arrowhead": 0,
           "arrowwidth": 1
          },
          "autotypenumbers": "strict",
          "coloraxis": {
           "colorbar": {
            "outlinewidth": 0,
            "ticks": ""
           }
          },
          "colorscale": {
           "diverging": [
            [
             0,
             "#8e0152"
            ],
            [
             0.1,
             "#c51b7d"
            ],
            [
             0.2,
             "#de77ae"
            ],
            [
             0.3,
             "#f1b6da"
            ],
            [
             0.4,
             "#fde0ef"
            ],
            [
             0.5,
             "#f7f7f7"
            ],
            [
             0.6,
             "#e6f5d0"
            ],
            [
             0.7,
             "#b8e186"
            ],
            [
             0.8,
             "#7fbc41"
            ],
            [
             0.9,
             "#4d9221"
            ],
            [
             1,
             "#276419"
            ]
           ],
           "sequential": [
            [
             0,
             "#0d0887"
            ],
            [
             0.1111111111111111,
             "#46039f"
            ],
            [
             0.2222222222222222,
             "#7201a8"
            ],
            [
             0.3333333333333333,
             "#9c179e"
            ],
            [
             0.4444444444444444,
             "#bd3786"
            ],
            [
             0.5555555555555556,
             "#d8576b"
            ],
            [
             0.6666666666666666,
             "#ed7953"
            ],
            [
             0.7777777777777778,
             "#fb9f3a"
            ],
            [
             0.8888888888888888,
             "#fdca26"
            ],
            [
             1,
             "#f0f921"
            ]
           ],
           "sequentialminus": [
            [
             0,
             "#0d0887"
            ],
            [
             0.1111111111111111,
             "#46039f"
            ],
            [
             0.2222222222222222,
             "#7201a8"
            ],
            [
             0.3333333333333333,
             "#9c179e"
            ],
            [
             0.4444444444444444,
             "#bd3786"
            ],
            [
             0.5555555555555556,
             "#d8576b"
            ],
            [
             0.6666666666666666,
             "#ed7953"
            ],
            [
             0.7777777777777778,
             "#fb9f3a"
            ],
            [
             0.8888888888888888,
             "#fdca26"
            ],
            [
             1,
             "#f0f921"
            ]
           ]
          },
          "colorway": [
           "#636efa",
           "#EF553B",
           "#00cc96",
           "#ab63fa",
           "#FFA15A",
           "#19d3f3",
           "#FF6692",
           "#B6E880",
           "#FF97FF",
           "#FECB52"
          ],
          "font": {
           "color": "#2a3f5f"
          },
          "geo": {
           "bgcolor": "white",
           "lakecolor": "white",
           "landcolor": "#E5ECF6",
           "showlakes": true,
           "showland": true,
           "subunitcolor": "white"
          },
          "hoverlabel": {
           "align": "left"
          },
          "hovermode": "closest",
          "mapbox": {
           "style": "light"
          },
          "paper_bgcolor": "white",
          "plot_bgcolor": "#E5ECF6",
          "polar": {
           "angularaxis": {
            "gridcolor": "white",
            "linecolor": "white",
            "ticks": ""
           },
           "bgcolor": "#E5ECF6",
           "radialaxis": {
            "gridcolor": "white",
            "linecolor": "white",
            "ticks": ""
           }
          },
          "scene": {
           "xaxis": {
            "backgroundcolor": "#E5ECF6",
            "gridcolor": "white",
            "gridwidth": 2,
            "linecolor": "white",
            "showbackground": true,
            "ticks": "",
            "zerolinecolor": "white"
           },
           "yaxis": {
            "backgroundcolor": "#E5ECF6",
            "gridcolor": "white",
            "gridwidth": 2,
            "linecolor": "white",
            "showbackground": true,
            "ticks": "",
            "zerolinecolor": "white"
           },
           "zaxis": {
            "backgroundcolor": "#E5ECF6",
            "gridcolor": "white",
            "gridwidth": 2,
            "linecolor": "white",
            "showbackground": true,
            "ticks": "",
            "zerolinecolor": "white"
           }
          },
          "shapedefaults": {
           "line": {
            "color": "#2a3f5f"
           }
          },
          "ternary": {
           "aaxis": {
            "gridcolor": "white",
            "linecolor": "white",
            "ticks": ""
           },
           "baxis": {
            "gridcolor": "white",
            "linecolor": "white",
            "ticks": ""
           },
           "bgcolor": "#E5ECF6",
           "caxis": {
            "gridcolor": "white",
            "linecolor": "white",
            "ticks": ""
           }
          },
          "title": {
           "x": 0.05
          },
          "xaxis": {
           "automargin": true,
           "gridcolor": "white",
           "linecolor": "white",
           "ticks": "",
           "title": {
            "standoff": 15
           },
           "zerolinecolor": "white",
           "zerolinewidth": 2
          },
          "yaxis": {
           "automargin": true,
           "gridcolor": "white",
           "linecolor": "white",
           "ticks": "",
           "title": {
            "standoff": 15
           },
           "zerolinecolor": "white",
           "zerolinewidth": 2
          }
         }
        },
        "title": {
         "text": "grossProfit_QoQ"
        },
        "xaxis": {
         "anchor": "y",
         "domain": [
          0,
          1
         ],
         "title": {
          "text": "fiscalDateEnding"
         }
        },
        "yaxis": {
         "anchor": "x",
         "domain": [
          0,
          1
         ],
         "title": {
          "text": "grossProfit_QoQ"
         }
        }
       }
      }
     },
     "metadata": {},
     "output_type": "display_data"
    },
    {
     "data": {
      "application/vnd.plotly.v1+json": {
       "config": {
        "plotlyServerURL": "https://plot.ly"
       },
       "data": [
        {
         "alignmentgroup": "True",
         "hovertemplate": "fiscalDateEnding=%{x}<br>totalRevenue_QoQ=%{y}<extra></extra>",
         "legendgroup": "",
         "marker": {
          "color": "#636efa",
          "pattern": {
           "shape": ""
          }
         },
         "name": "",
         "offsetgroup": "",
         "orientation": "v",
         "showlegend": false,
         "textposition": "auto",
         "type": "bar",
         "x": [
          "2014-09-30",
          "2014-12-31",
          "2015-03-31",
          "2015-06-30",
          "2015-09-30",
          "2015-12-31",
          "2016-03-31",
          "2016-06-30",
          "2016-09-30",
          "2016-12-31",
          "2017-03-31",
          "2017-06-30",
          "2017-09-30",
          "2017-12-31",
          "2018-03-31",
          "2018-06-30",
          "2018-09-30",
          "2018-12-31",
          "2019-03-31",
          "2019-06-30",
          "2019-09-30",
          "2019-12-31",
          "2020-03-31",
          "2020-06-30",
          "2020-09-30",
          "2020-12-31",
          "2021-03-31",
          "2021-06-30",
          "2021-09-30",
          "2021-12-31",
          "2022-03-31",
          "2022-06-30",
          "2022-09-30",
          "2022-12-31",
          "2023-03-31",
          "2023-06-30",
          "2023-09-30",
          "2023-12-31",
          "2024-03-31",
          "2024-06-30"
         ],
         "xaxis": "x",
         "y": [
          null,
          9.56242813048478,
          -4.667734629619402,
          2.7175802526364645,
          5.347774581147413,
          14.211512717536824,
          -5.026020910497442,
          6.136150466505397,
          4.423255813953486,
          16.09282437307915,
          -5.041436464088401,
          5.0909090909091015,
          6.774317570165311,
          16.387008497767532,
          -3.641369922346316,
          4.851345277082131,
          3.316287472823598,
          16.407824540604633,
          -7.477849068133214,
          7.446545034260721,
          3.7341529004994323,
          12.507715477865844,
          -9.67763172332068,
          -6.953521708496324,
          20.453299214037646,
          21.651853457619772,
          -1.4326953918528784,
          11.870412553783849,
          4.925662572721401,
          15.728191227205524,
          -9.42374234761778,
          2.4743237485123304,
          -0.4631289161636243,
          7.0167098818784135,
          -6.198597407492157,
          6.740234767385123,
          2.5866125324334854,
          11.482563853905937,
          -5.519049242379714,
          5.425883992335834
         ],
         "yaxis": "y"
        }
       ],
       "layout": {
        "barmode": "relative",
        "legend": {
         "tracegroupgap": 0
        },
        "template": {
         "data": {
          "bar": [
           {
            "error_x": {
             "color": "#2a3f5f"
            },
            "error_y": {
             "color": "#2a3f5f"
            },
            "marker": {
             "line": {
              "color": "#E5ECF6",
              "width": 0.5
             },
             "pattern": {
              "fillmode": "overlay",
              "size": 10,
              "solidity": 0.2
             }
            },
            "type": "bar"
           }
          ],
          "barpolar": [
           {
            "marker": {
             "line": {
              "color": "#E5ECF6",
              "width": 0.5
             },
             "pattern": {
              "fillmode": "overlay",
              "size": 10,
              "solidity": 0.2
             }
            },
            "type": "barpolar"
           }
          ],
          "carpet": [
           {
            "aaxis": {
             "endlinecolor": "#2a3f5f",
             "gridcolor": "white",
             "linecolor": "white",
             "minorgridcolor": "white",
             "startlinecolor": "#2a3f5f"
            },
            "baxis": {
             "endlinecolor": "#2a3f5f",
             "gridcolor": "white",
             "linecolor": "white",
             "minorgridcolor": "white",
             "startlinecolor": "#2a3f5f"
            },
            "type": "carpet"
           }
          ],
          "choropleth": [
           {
            "colorbar": {
             "outlinewidth": 0,
             "ticks": ""
            },
            "type": "choropleth"
           }
          ],
          "contour": [
           {
            "colorbar": {
             "outlinewidth": 0,
             "ticks": ""
            },
            "colorscale": [
             [
              0,
              "#0d0887"
             ],
             [
              0.1111111111111111,
              "#46039f"
             ],
             [
              0.2222222222222222,
              "#7201a8"
             ],
             [
              0.3333333333333333,
              "#9c179e"
             ],
             [
              0.4444444444444444,
              "#bd3786"
             ],
             [
              0.5555555555555556,
              "#d8576b"
             ],
             [
              0.6666666666666666,
              "#ed7953"
             ],
             [
              0.7777777777777778,
              "#fb9f3a"
             ],
             [
              0.8888888888888888,
              "#fdca26"
             ],
             [
              1,
              "#f0f921"
             ]
            ],
            "type": "contour"
           }
          ],
          "contourcarpet": [
           {
            "colorbar": {
             "outlinewidth": 0,
             "ticks": ""
            },
            "type": "contourcarpet"
           }
          ],
          "heatmap": [
           {
            "colorbar": {
             "outlinewidth": 0,
             "ticks": ""
            },
            "colorscale": [
             [
              0,
              "#0d0887"
             ],
             [
              0.1111111111111111,
              "#46039f"
             ],
             [
              0.2222222222222222,
              "#7201a8"
             ],
             [
              0.3333333333333333,
              "#9c179e"
             ],
             [
              0.4444444444444444,
              "#bd3786"
             ],
             [
              0.5555555555555556,
              "#d8576b"
             ],
             [
              0.6666666666666666,
              "#ed7953"
             ],
             [
              0.7777777777777778,
              "#fb9f3a"
             ],
             [
              0.8888888888888888,
              "#fdca26"
             ],
             [
              1,
              "#f0f921"
             ]
            ],
            "type": "heatmap"
           }
          ],
          "heatmapgl": [
           {
            "colorbar": {
             "outlinewidth": 0,
             "ticks": ""
            },
            "colorscale": [
             [
              0,
              "#0d0887"
             ],
             [
              0.1111111111111111,
              "#46039f"
             ],
             [
              0.2222222222222222,
              "#7201a8"
             ],
             [
              0.3333333333333333,
              "#9c179e"
             ],
             [
              0.4444444444444444,
              "#bd3786"
             ],
             [
              0.5555555555555556,
              "#d8576b"
             ],
             [
              0.6666666666666666,
              "#ed7953"
             ],
             [
              0.7777777777777778,
              "#fb9f3a"
             ],
             [
              0.8888888888888888,
              "#fdca26"
             ],
             [
              1,
              "#f0f921"
             ]
            ],
            "type": "heatmapgl"
           }
          ],
          "histogram": [
           {
            "marker": {
             "pattern": {
              "fillmode": "overlay",
              "size": 10,
              "solidity": 0.2
             }
            },
            "type": "histogram"
           }
          ],
          "histogram2d": [
           {
            "colorbar": {
             "outlinewidth": 0,
             "ticks": ""
            },
            "colorscale": [
             [
              0,
              "#0d0887"
             ],
             [
              0.1111111111111111,
              "#46039f"
             ],
             [
              0.2222222222222222,
              "#7201a8"
             ],
             [
              0.3333333333333333,
              "#9c179e"
             ],
             [
              0.4444444444444444,
              "#bd3786"
             ],
             [
              0.5555555555555556,
              "#d8576b"
             ],
             [
              0.6666666666666666,
              "#ed7953"
             ],
             [
              0.7777777777777778,
              "#fb9f3a"
             ],
             [
              0.8888888888888888,
              "#fdca26"
             ],
             [
              1,
              "#f0f921"
             ]
            ],
            "type": "histogram2d"
           }
          ],
          "histogram2dcontour": [
           {
            "colorbar": {
             "outlinewidth": 0,
             "ticks": ""
            },
            "colorscale": [
             [
              0,
              "#0d0887"
             ],
             [
              0.1111111111111111,
              "#46039f"
             ],
             [
              0.2222222222222222,
              "#7201a8"
             ],
             [
              0.3333333333333333,
              "#9c179e"
             ],
             [
              0.4444444444444444,
              "#bd3786"
             ],
             [
              0.5555555555555556,
              "#d8576b"
             ],
             [
              0.6666666666666666,
              "#ed7953"
             ],
             [
              0.7777777777777778,
              "#fb9f3a"
             ],
             [
              0.8888888888888888,
              "#fdca26"
             ],
             [
              1,
              "#f0f921"
             ]
            ],
            "type": "histogram2dcontour"
           }
          ],
          "mesh3d": [
           {
            "colorbar": {
             "outlinewidth": 0,
             "ticks": ""
            },
            "type": "mesh3d"
           }
          ],
          "parcoords": [
           {
            "line": {
             "colorbar": {
              "outlinewidth": 0,
              "ticks": ""
             }
            },
            "type": "parcoords"
           }
          ],
          "pie": [
           {
            "automargin": true,
            "type": "pie"
           }
          ],
          "scatter": [
           {
            "fillpattern": {
             "fillmode": "overlay",
             "size": 10,
             "solidity": 0.2
            },
            "type": "scatter"
           }
          ],
          "scatter3d": [
           {
            "line": {
             "colorbar": {
              "outlinewidth": 0,
              "ticks": ""
             }
            },
            "marker": {
             "colorbar": {
              "outlinewidth": 0,
              "ticks": ""
             }
            },
            "type": "scatter3d"
           }
          ],
          "scattercarpet": [
           {
            "marker": {
             "colorbar": {
              "outlinewidth": 0,
              "ticks": ""
             }
            },
            "type": "scattercarpet"
           }
          ],
          "scattergeo": [
           {
            "marker": {
             "colorbar": {
              "outlinewidth": 0,
              "ticks": ""
             }
            },
            "type": "scattergeo"
           }
          ],
          "scattergl": [
           {
            "marker": {
             "colorbar": {
              "outlinewidth": 0,
              "ticks": ""
             }
            },
            "type": "scattergl"
           }
          ],
          "scattermapbox": [
           {
            "marker": {
             "colorbar": {
              "outlinewidth": 0,
              "ticks": ""
             }
            },
            "type": "scattermapbox"
           }
          ],
          "scatterpolar": [
           {
            "marker": {
             "colorbar": {
              "outlinewidth": 0,
              "ticks": ""
             }
            },
            "type": "scatterpolar"
           }
          ],
          "scatterpolargl": [
           {
            "marker": {
             "colorbar": {
              "outlinewidth": 0,
              "ticks": ""
             }
            },
            "type": "scatterpolargl"
           }
          ],
          "scatterternary": [
           {
            "marker": {
             "colorbar": {
              "outlinewidth": 0,
              "ticks": ""
             }
            },
            "type": "scatterternary"
           }
          ],
          "surface": [
           {
            "colorbar": {
             "outlinewidth": 0,
             "ticks": ""
            },
            "colorscale": [
             [
              0,
              "#0d0887"
             ],
             [
              0.1111111111111111,
              "#46039f"
             ],
             [
              0.2222222222222222,
              "#7201a8"
             ],
             [
              0.3333333333333333,
              "#9c179e"
             ],
             [
              0.4444444444444444,
              "#bd3786"
             ],
             [
              0.5555555555555556,
              "#d8576b"
             ],
             [
              0.6666666666666666,
              "#ed7953"
             ],
             [
              0.7777777777777778,
              "#fb9f3a"
             ],
             [
              0.8888888888888888,
              "#fdca26"
             ],
             [
              1,
              "#f0f921"
             ]
            ],
            "type": "surface"
           }
          ],
          "table": [
           {
            "cells": {
             "fill": {
              "color": "#EBF0F8"
             },
             "line": {
              "color": "white"
             }
            },
            "header": {
             "fill": {
              "color": "#C8D4E3"
             },
             "line": {
              "color": "white"
             }
            },
            "type": "table"
           }
          ]
         },
         "layout": {
          "annotationdefaults": {
           "arrowcolor": "#2a3f5f",
           "arrowhead": 0,
           "arrowwidth": 1
          },
          "autotypenumbers": "strict",
          "coloraxis": {
           "colorbar": {
            "outlinewidth": 0,
            "ticks": ""
           }
          },
          "colorscale": {
           "diverging": [
            [
             0,
             "#8e0152"
            ],
            [
             0.1,
             "#c51b7d"
            ],
            [
             0.2,
             "#de77ae"
            ],
            [
             0.3,
             "#f1b6da"
            ],
            [
             0.4,
             "#fde0ef"
            ],
            [
             0.5,
             "#f7f7f7"
            ],
            [
             0.6,
             "#e6f5d0"
            ],
            [
             0.7,
             "#b8e186"
            ],
            [
             0.8,
             "#7fbc41"
            ],
            [
             0.9,
             "#4d9221"
            ],
            [
             1,
             "#276419"
            ]
           ],
           "sequential": [
            [
             0,
             "#0d0887"
            ],
            [
             0.1111111111111111,
             "#46039f"
            ],
            [
             0.2222222222222222,
             "#7201a8"
            ],
            [
             0.3333333333333333,
             "#9c179e"
            ],
            [
             0.4444444444444444,
             "#bd3786"
            ],
            [
             0.5555555555555556,
             "#d8576b"
            ],
            [
             0.6666666666666666,
             "#ed7953"
            ],
            [
             0.7777777777777778,
             "#fb9f3a"
            ],
            [
             0.8888888888888888,
             "#fdca26"
            ],
            [
             1,
             "#f0f921"
            ]
           ],
           "sequentialminus": [
            [
             0,
             "#0d0887"
            ],
            [
             0.1111111111111111,
             "#46039f"
            ],
            [
             0.2222222222222222,
             "#7201a8"
            ],
            [
             0.3333333333333333,
             "#9c179e"
            ],
            [
             0.4444444444444444,
             "#bd3786"
            ],
            [
             0.5555555555555556,
             "#d8576b"
            ],
            [
             0.6666666666666666,
             "#ed7953"
            ],
            [
             0.7777777777777778,
             "#fb9f3a"
            ],
            [
             0.8888888888888888,
             "#fdca26"
            ],
            [
             1,
             "#f0f921"
            ]
           ]
          },
          "colorway": [
           "#636efa",
           "#EF553B",
           "#00cc96",
           "#ab63fa",
           "#FFA15A",
           "#19d3f3",
           "#FF6692",
           "#B6E880",
           "#FF97FF",
           "#FECB52"
          ],
          "font": {
           "color": "#2a3f5f"
          },
          "geo": {
           "bgcolor": "white",
           "lakecolor": "white",
           "landcolor": "#E5ECF6",
           "showlakes": true,
           "showland": true,
           "subunitcolor": "white"
          },
          "hoverlabel": {
           "align": "left"
          },
          "hovermode": "closest",
          "mapbox": {
           "style": "light"
          },
          "paper_bgcolor": "white",
          "plot_bgcolor": "#E5ECF6",
          "polar": {
           "angularaxis": {
            "gridcolor": "white",
            "linecolor": "white",
            "ticks": ""
           },
           "bgcolor": "#E5ECF6",
           "radialaxis": {
            "gridcolor": "white",
            "linecolor": "white",
            "ticks": ""
           }
          },
          "scene": {
           "xaxis": {
            "backgroundcolor": "#E5ECF6",
            "gridcolor": "white",
            "gridwidth": 2,
            "linecolor": "white",
            "showbackground": true,
            "ticks": "",
            "zerolinecolor": "white"
           },
           "yaxis": {
            "backgroundcolor": "#E5ECF6",
            "gridcolor": "white",
            "gridwidth": 2,
            "linecolor": "white",
            "showbackground": true,
            "ticks": "",
            "zerolinecolor": "white"
           },
           "zaxis": {
            "backgroundcolor": "#E5ECF6",
            "gridcolor": "white",
            "gridwidth": 2,
            "linecolor": "white",
            "showbackground": true,
            "ticks": "",
            "zerolinecolor": "white"
           }
          },
          "shapedefaults": {
           "line": {
            "color": "#2a3f5f"
           }
          },
          "ternary": {
           "aaxis": {
            "gridcolor": "white",
            "linecolor": "white",
            "ticks": ""
           },
           "baxis": {
            "gridcolor": "white",
            "linecolor": "white",
            "ticks": ""
           },
           "bgcolor": "#E5ECF6",
           "caxis": {
            "gridcolor": "white",
            "linecolor": "white",
            "ticks": ""
           }
          },
          "title": {
           "x": 0.05
          },
          "xaxis": {
           "automargin": true,
           "gridcolor": "white",
           "linecolor": "white",
           "ticks": "",
           "title": {
            "standoff": 15
           },
           "zerolinecolor": "white",
           "zerolinewidth": 2
          },
          "yaxis": {
           "automargin": true,
           "gridcolor": "white",
           "linecolor": "white",
           "ticks": "",
           "title": {
            "standoff": 15
           },
           "zerolinecolor": "white",
           "zerolinewidth": 2
          }
         }
        },
        "title": {
         "text": "totalRevenue_QoQ"
        },
        "xaxis": {
         "anchor": "y",
         "domain": [
          0,
          1
         ],
         "title": {
          "text": "fiscalDateEnding"
         }
        },
        "yaxis": {
         "anchor": "x",
         "domain": [
          0,
          1
         ],
         "title": {
          "text": "totalRevenue_QoQ"
         }
        }
       }
      }
     },
     "metadata": {},
     "output_type": "display_data"
    },
    {
     "data": {
      "application/vnd.plotly.v1+json": {
       "config": {
        "plotlyServerURL": "https://plot.ly"
       },
       "data": [
        {
         "alignmentgroup": "True",
         "hovertemplate": "fiscalDateEnding=%{x}<br>costOfRevenue_QoQ=%{y}<extra></extra>",
         "legendgroup": "",
         "marker": {
          "color": "#636efa",
          "pattern": {
           "shape": ""
          }
         },
         "name": "",
         "offsetgroup": "",
         "orientation": "v",
         "showlegend": false,
         "textposition": "auto",
         "type": "bar",
         "x": [
          "2014-09-30",
          "2014-12-31",
          "2015-03-31",
          "2015-06-30",
          "2015-09-30",
          "2015-12-31",
          "2016-03-31",
          "2016-06-30",
          "2016-09-30",
          "2016-12-31",
          "2017-03-31",
          "2017-06-30",
          "2017-09-30",
          "2017-12-31",
          "2018-03-31",
          "2018-06-30",
          "2018-09-30",
          "2018-12-31",
          "2019-03-31",
          "2019-06-30",
          "2019-09-30",
          "2019-12-31",
          "2020-03-31",
          "2020-06-30",
          "2020-09-30",
          "2020-12-31",
          "2021-03-31",
          "2021-06-30",
          "2021-09-30",
          "2021-12-31",
          "2022-03-31",
          "2022-06-30",
          "2022-09-30",
          "2022-12-31",
          "2023-03-31",
          "2023-06-30",
          "2023-09-30",
          "2023-12-31",
          "2024-03-31",
          "2024-06-30"
         ],
         "xaxis": "x",
         "y": [
          null,
          3.375653472740847,
          -8.163560179164865,
          3.571428571428581,
          6.896551724137923,
          16.356401875799342,
          -6.595017098192479,
          6.302301255230125,
          6.998769987699882,
          22.554316588113576,
          -8.12306537848232,
          5.900969882593166,
          7.471319772486273,
          27.97811266594905,
          -5.607345622765825,
          3.089032449691831,
          2.8668155297846276,
          25.467404243400328,
          -10.637347918294449,
          8.018985760679499,
          1.5726179463459777,
          19.649362477231325,
          -9.695528068506187,
          -2.2600358234116547,
          13.819867406888363,
          23.50239143817776,
          -7.580521472392643,
          8.81218105630004,
          5.3151332596179435,
          19.430867817964593,
          -10.273432763429124,
          1.706138720902728,
          3.5011958543715194,
          13.428333012388482,
          -13.383509705166652,
          4.259767411472626,
          4.113924050632911,
          13.07893707303862,
          -10.280771789753828,
          5.3245135263407795
         ],
         "yaxis": "y"
        }
       ],
       "layout": {
        "barmode": "relative",
        "legend": {
         "tracegroupgap": 0
        },
        "template": {
         "data": {
          "bar": [
           {
            "error_x": {
             "color": "#2a3f5f"
            },
            "error_y": {
             "color": "#2a3f5f"
            },
            "marker": {
             "line": {
              "color": "#E5ECF6",
              "width": 0.5
             },
             "pattern": {
              "fillmode": "overlay",
              "size": 10,
              "solidity": 0.2
             }
            },
            "type": "bar"
           }
          ],
          "barpolar": [
           {
            "marker": {
             "line": {
              "color": "#E5ECF6",
              "width": 0.5
             },
             "pattern": {
              "fillmode": "overlay",
              "size": 10,
              "solidity": 0.2
             }
            },
            "type": "barpolar"
           }
          ],
          "carpet": [
           {
            "aaxis": {
             "endlinecolor": "#2a3f5f",
             "gridcolor": "white",
             "linecolor": "white",
             "minorgridcolor": "white",
             "startlinecolor": "#2a3f5f"
            },
            "baxis": {
             "endlinecolor": "#2a3f5f",
             "gridcolor": "white",
             "linecolor": "white",
             "minorgridcolor": "white",
             "startlinecolor": "#2a3f5f"
            },
            "type": "carpet"
           }
          ],
          "choropleth": [
           {
            "colorbar": {
             "outlinewidth": 0,
             "ticks": ""
            },
            "type": "choropleth"
           }
          ],
          "contour": [
           {
            "colorbar": {
             "outlinewidth": 0,
             "ticks": ""
            },
            "colorscale": [
             [
              0,
              "#0d0887"
             ],
             [
              0.1111111111111111,
              "#46039f"
             ],
             [
              0.2222222222222222,
              "#7201a8"
             ],
             [
              0.3333333333333333,
              "#9c179e"
             ],
             [
              0.4444444444444444,
              "#bd3786"
             ],
             [
              0.5555555555555556,
              "#d8576b"
             ],
             [
              0.6666666666666666,
              "#ed7953"
             ],
             [
              0.7777777777777778,
              "#fb9f3a"
             ],
             [
              0.8888888888888888,
              "#fdca26"
             ],
             [
              1,
              "#f0f921"
             ]
            ],
            "type": "contour"
           }
          ],
          "contourcarpet": [
           {
            "colorbar": {
             "outlinewidth": 0,
             "ticks": ""
            },
            "type": "contourcarpet"
           }
          ],
          "heatmap": [
           {
            "colorbar": {
             "outlinewidth": 0,
             "ticks": ""
            },
            "colorscale": [
             [
              0,
              "#0d0887"
             ],
             [
              0.1111111111111111,
              "#46039f"
             ],
             [
              0.2222222222222222,
              "#7201a8"
             ],
             [
              0.3333333333333333,
              "#9c179e"
             ],
             [
              0.4444444444444444,
              "#bd3786"
             ],
             [
              0.5555555555555556,
              "#d8576b"
             ],
             [
              0.6666666666666666,
              "#ed7953"
             ],
             [
              0.7777777777777778,
              "#fb9f3a"
             ],
             [
              0.8888888888888888,
              "#fdca26"
             ],
             [
              1,
              "#f0f921"
             ]
            ],
            "type": "heatmap"
           }
          ],
          "heatmapgl": [
           {
            "colorbar": {
             "outlinewidth": 0,
             "ticks": ""
            },
            "colorscale": [
             [
              0,
              "#0d0887"
             ],
             [
              0.1111111111111111,
              "#46039f"
             ],
             [
              0.2222222222222222,
              "#7201a8"
             ],
             [
              0.3333333333333333,
              "#9c179e"
             ],
             [
              0.4444444444444444,
              "#bd3786"
             ],
             [
              0.5555555555555556,
              "#d8576b"
             ],
             [
              0.6666666666666666,
              "#ed7953"
             ],
             [
              0.7777777777777778,
              "#fb9f3a"
             ],
             [
              0.8888888888888888,
              "#fdca26"
             ],
             [
              1,
              "#f0f921"
             ]
            ],
            "type": "heatmapgl"
           }
          ],
          "histogram": [
           {
            "marker": {
             "pattern": {
              "fillmode": "overlay",
              "size": 10,
              "solidity": 0.2
             }
            },
            "type": "histogram"
           }
          ],
          "histogram2d": [
           {
            "colorbar": {
             "outlinewidth": 0,
             "ticks": ""
            },
            "colorscale": [
             [
              0,
              "#0d0887"
             ],
             [
              0.1111111111111111,
              "#46039f"
             ],
             [
              0.2222222222222222,
              "#7201a8"
             ],
             [
              0.3333333333333333,
              "#9c179e"
             ],
             [
              0.4444444444444444,
              "#bd3786"
             ],
             [
              0.5555555555555556,
              "#d8576b"
             ],
             [
              0.6666666666666666,
              "#ed7953"
             ],
             [
              0.7777777777777778,
              "#fb9f3a"
             ],
             [
              0.8888888888888888,
              "#fdca26"
             ],
             [
              1,
              "#f0f921"
             ]
            ],
            "type": "histogram2d"
           }
          ],
          "histogram2dcontour": [
           {
            "colorbar": {
             "outlinewidth": 0,
             "ticks": ""
            },
            "colorscale": [
             [
              0,
              "#0d0887"
             ],
             [
              0.1111111111111111,
              "#46039f"
             ],
             [
              0.2222222222222222,
              "#7201a8"
             ],
             [
              0.3333333333333333,
              "#9c179e"
             ],
             [
              0.4444444444444444,
              "#bd3786"
             ],
             [
              0.5555555555555556,
              "#d8576b"
             ],
             [
              0.6666666666666666,
              "#ed7953"
             ],
             [
              0.7777777777777778,
              "#fb9f3a"
             ],
             [
              0.8888888888888888,
              "#fdca26"
             ],
             [
              1,
              "#f0f921"
             ]
            ],
            "type": "histogram2dcontour"
           }
          ],
          "mesh3d": [
           {
            "colorbar": {
             "outlinewidth": 0,
             "ticks": ""
            },
            "type": "mesh3d"
           }
          ],
          "parcoords": [
           {
            "line": {
             "colorbar": {
              "outlinewidth": 0,
              "ticks": ""
             }
            },
            "type": "parcoords"
           }
          ],
          "pie": [
           {
            "automargin": true,
            "type": "pie"
           }
          ],
          "scatter": [
           {
            "fillpattern": {
             "fillmode": "overlay",
             "size": 10,
             "solidity": 0.2
            },
            "type": "scatter"
           }
          ],
          "scatter3d": [
           {
            "line": {
             "colorbar": {
              "outlinewidth": 0,
              "ticks": ""
             }
            },
            "marker": {
             "colorbar": {
              "outlinewidth": 0,
              "ticks": ""
             }
            },
            "type": "scatter3d"
           }
          ],
          "scattercarpet": [
           {
            "marker": {
             "colorbar": {
              "outlinewidth": 0,
              "ticks": ""
             }
            },
            "type": "scattercarpet"
           }
          ],
          "scattergeo": [
           {
            "marker": {
             "colorbar": {
              "outlinewidth": 0,
              "ticks": ""
             }
            },
            "type": "scattergeo"
           }
          ],
          "scattergl": [
           {
            "marker": {
             "colorbar": {
              "outlinewidth": 0,
              "ticks": ""
             }
            },
            "type": "scattergl"
           }
          ],
          "scattermapbox": [
           {
            "marker": {
             "colorbar": {
              "outlinewidth": 0,
              "ticks": ""
             }
            },
            "type": "scattermapbox"
           }
          ],
          "scatterpolar": [
           {
            "marker": {
             "colorbar": {
              "outlinewidth": 0,
              "ticks": ""
             }
            },
            "type": "scatterpolar"
           }
          ],
          "scatterpolargl": [
           {
            "marker": {
             "colorbar": {
              "outlinewidth": 0,
              "ticks": ""
             }
            },
            "type": "scatterpolargl"
           }
          ],
          "scatterternary": [
           {
            "marker": {
             "colorbar": {
              "outlinewidth": 0,
              "ticks": ""
             }
            },
            "type": "scatterternary"
           }
          ],
          "surface": [
           {
            "colorbar": {
             "outlinewidth": 0,
             "ticks": ""
            },
            "colorscale": [
             [
              0,
              "#0d0887"
             ],
             [
              0.1111111111111111,
              "#46039f"
             ],
             [
              0.2222222222222222,
              "#7201a8"
             ],
             [
              0.3333333333333333,
              "#9c179e"
             ],
             [
              0.4444444444444444,
              "#bd3786"
             ],
             [
              0.5555555555555556,
              "#d8576b"
             ],
             [
              0.6666666666666666,
              "#ed7953"
             ],
             [
              0.7777777777777778,
              "#fb9f3a"
             ],
             [
              0.8888888888888888,
              "#fdca26"
             ],
             [
              1,
              "#f0f921"
             ]
            ],
            "type": "surface"
           }
          ],
          "table": [
           {
            "cells": {
             "fill": {
              "color": "#EBF0F8"
             },
             "line": {
              "color": "white"
             }
            },
            "header": {
             "fill": {
              "color": "#C8D4E3"
             },
             "line": {
              "color": "white"
             }
            },
            "type": "table"
           }
          ]
         },
         "layout": {
          "annotationdefaults": {
           "arrowcolor": "#2a3f5f",
           "arrowhead": 0,
           "arrowwidth": 1
          },
          "autotypenumbers": "strict",
          "coloraxis": {
           "colorbar": {
            "outlinewidth": 0,
            "ticks": ""
           }
          },
          "colorscale": {
           "diverging": [
            [
             0,
             "#8e0152"
            ],
            [
             0.1,
             "#c51b7d"
            ],
            [
             0.2,
             "#de77ae"
            ],
            [
             0.3,
             "#f1b6da"
            ],
            [
             0.4,
             "#fde0ef"
            ],
            [
             0.5,
             "#f7f7f7"
            ],
            [
             0.6,
             "#e6f5d0"
            ],
            [
             0.7,
             "#b8e186"
            ],
            [
             0.8,
             "#7fbc41"
            ],
            [
             0.9,
             "#4d9221"
            ],
            [
             1,
             "#276419"
            ]
           ],
           "sequential": [
            [
             0,
             "#0d0887"
            ],
            [
             0.1111111111111111,
             "#46039f"
            ],
            [
             0.2222222222222222,
             "#7201a8"
            ],
            [
             0.3333333333333333,
             "#9c179e"
            ],
            [
             0.4444444444444444,
             "#bd3786"
            ],
            [
             0.5555555555555556,
             "#d8576b"
            ],
            [
             0.6666666666666666,
             "#ed7953"
            ],
            [
             0.7777777777777778,
             "#fb9f3a"
            ],
            [
             0.8888888888888888,
             "#fdca26"
            ],
            [
             1,
             "#f0f921"
            ]
           ],
           "sequentialminus": [
            [
             0,
             "#0d0887"
            ],
            [
             0.1111111111111111,
             "#46039f"
            ],
            [
             0.2222222222222222,
             "#7201a8"
            ],
            [
             0.3333333333333333,
             "#9c179e"
            ],
            [
             0.4444444444444444,
             "#bd3786"
            ],
            [
             0.5555555555555556,
             "#d8576b"
            ],
            [
             0.6666666666666666,
             "#ed7953"
            ],
            [
             0.7777777777777778,
             "#fb9f3a"
            ],
            [
             0.8888888888888888,
             "#fdca26"
            ],
            [
             1,
             "#f0f921"
            ]
           ]
          },
          "colorway": [
           "#636efa",
           "#EF553B",
           "#00cc96",
           "#ab63fa",
           "#FFA15A",
           "#19d3f3",
           "#FF6692",
           "#B6E880",
           "#FF97FF",
           "#FECB52"
          ],
          "font": {
           "color": "#2a3f5f"
          },
          "geo": {
           "bgcolor": "white",
           "lakecolor": "white",
           "landcolor": "#E5ECF6",
           "showlakes": true,
           "showland": true,
           "subunitcolor": "white"
          },
          "hoverlabel": {
           "align": "left"
          },
          "hovermode": "closest",
          "mapbox": {
           "style": "light"
          },
          "paper_bgcolor": "white",
          "plot_bgcolor": "#E5ECF6",
          "polar": {
           "angularaxis": {
            "gridcolor": "white",
            "linecolor": "white",
            "ticks": ""
           },
           "bgcolor": "#E5ECF6",
           "radialaxis": {
            "gridcolor": "white",
            "linecolor": "white",
            "ticks": ""
           }
          },
          "scene": {
           "xaxis": {
            "backgroundcolor": "#E5ECF6",
            "gridcolor": "white",
            "gridwidth": 2,
            "linecolor": "white",
            "showbackground": true,
            "ticks": "",
            "zerolinecolor": "white"
           },
           "yaxis": {
            "backgroundcolor": "#E5ECF6",
            "gridcolor": "white",
            "gridwidth": 2,
            "linecolor": "white",
            "showbackground": true,
            "ticks": "",
            "zerolinecolor": "white"
           },
           "zaxis": {
            "backgroundcolor": "#E5ECF6",
            "gridcolor": "white",
            "gridwidth": 2,
            "linecolor": "white",
            "showbackground": true,
            "ticks": "",
            "zerolinecolor": "white"
           }
          },
          "shapedefaults": {
           "line": {
            "color": "#2a3f5f"
           }
          },
          "ternary": {
           "aaxis": {
            "gridcolor": "white",
            "linecolor": "white",
            "ticks": ""
           },
           "baxis": {
            "gridcolor": "white",
            "linecolor": "white",
            "ticks": ""
           },
           "bgcolor": "#E5ECF6",
           "caxis": {
            "gridcolor": "white",
            "linecolor": "white",
            "ticks": ""
           }
          },
          "title": {
           "x": 0.05
          },
          "xaxis": {
           "automargin": true,
           "gridcolor": "white",
           "linecolor": "white",
           "ticks": "",
           "title": {
            "standoff": 15
           },
           "zerolinecolor": "white",
           "zerolinewidth": 2
          },
          "yaxis": {
           "automargin": true,
           "gridcolor": "white",
           "linecolor": "white",
           "ticks": "",
           "title": {
            "standoff": 15
           },
           "zerolinecolor": "white",
           "zerolinewidth": 2
          }
         }
        },
        "title": {
         "text": "costOfRevenue_QoQ"
        },
        "xaxis": {
         "anchor": "y",
         "domain": [
          0,
          1
         ],
         "title": {
          "text": "fiscalDateEnding"
         }
        },
        "yaxis": {
         "anchor": "x",
         "domain": [
          0,
          1
         ],
         "title": {
          "text": "costOfRevenue_QoQ"
         }
        }
       }
      }
     },
     "metadata": {},
     "output_type": "display_data"
    },
    {
     "data": {
      "application/vnd.plotly.v1+json": {
       "config": {
        "plotlyServerURL": "https://plot.ly"
       },
       "data": [
        {
         "alignmentgroup": "True",
         "hovertemplate": "fiscalDateEnding=%{x}<br>costofGoodsAndServicesSold_QoQ=%{y}<extra></extra>",
         "legendgroup": "",
         "marker": {
          "color": "#636efa",
          "pattern": {
           "shape": ""
          }
         },
         "name": "",
         "offsetgroup": "",
         "orientation": "v",
         "showlegend": false,
         "textposition": "auto",
         "type": "bar",
         "x": [
          "2014-09-30",
          "2014-12-31",
          "2015-03-31",
          "2015-06-30",
          "2015-09-30",
          "2015-12-31",
          "2016-03-31",
          "2016-06-30",
          "2016-09-30",
          "2016-12-31",
          "2017-03-31",
          "2017-06-30",
          "2017-09-30",
          "2017-12-31",
          "2018-03-31",
          "2018-06-30",
          "2018-09-30",
          "2018-12-31",
          "2019-03-31",
          "2019-06-30",
          "2019-09-30",
          "2019-12-31",
          "2020-03-31",
          "2020-06-30",
          "2020-09-30",
          "2020-12-31",
          "2021-03-31",
          "2021-06-30",
          "2021-09-30",
          "2021-12-31",
          "2022-03-31",
          "2022-06-30",
          "2022-09-30",
          "2022-12-31",
          "2023-03-31",
          "2023-06-30",
          "2023-09-30",
          "2023-12-31",
          "2024-03-31",
          "2024-06-30"
         ],
         "xaxis": "x",
         "y": [
          null,
          3.375653472740847,
          -8.163560179164865,
          3.571428571428581,
          6.896551724137923,
          16.356401875799342,
          -6.595017098192479,
          6.302301255230125,
          6.998769987699882,
          22.554316588113576,
          -8.12306537848232,
          5.900969882593166,
          7.471319772486273,
          27.97811266594905,
          -5.607345622765825,
          3.089032449691831,
          2.8668155297846276,
          25.467404243400328,
          -10.637347918294449,
          8.018985760679499,
          1.5726179463459777,
          19.649362477231325,
          -9.695528068506187,
          -2.2600358234116547,
          13.819867406888363,
          23.50239143817776,
          -7.580521472392643,
          8.81218105630004,
          5.3151332596179435,
          19.430867817964593,
          -10.273432763429124,
          1.706138720902728,
          3.5011958543715194,
          13.428333012388482,
          -13.383509705166652,
          4.259767411472626,
          4.113924050632911,
          13.07893707303862,
          -10.280771789753828,
          5.3245135263407795
         ],
         "yaxis": "y"
        }
       ],
       "layout": {
        "barmode": "relative",
        "legend": {
         "tracegroupgap": 0
        },
        "template": {
         "data": {
          "bar": [
           {
            "error_x": {
             "color": "#2a3f5f"
            },
            "error_y": {
             "color": "#2a3f5f"
            },
            "marker": {
             "line": {
              "color": "#E5ECF6",
              "width": 0.5
             },
             "pattern": {
              "fillmode": "overlay",
              "size": 10,
              "solidity": 0.2
             }
            },
            "type": "bar"
           }
          ],
          "barpolar": [
           {
            "marker": {
             "line": {
              "color": "#E5ECF6",
              "width": 0.5
             },
             "pattern": {
              "fillmode": "overlay",
              "size": 10,
              "solidity": 0.2
             }
            },
            "type": "barpolar"
           }
          ],
          "carpet": [
           {
            "aaxis": {
             "endlinecolor": "#2a3f5f",
             "gridcolor": "white",
             "linecolor": "white",
             "minorgridcolor": "white",
             "startlinecolor": "#2a3f5f"
            },
            "baxis": {
             "endlinecolor": "#2a3f5f",
             "gridcolor": "white",
             "linecolor": "white",
             "minorgridcolor": "white",
             "startlinecolor": "#2a3f5f"
            },
            "type": "carpet"
           }
          ],
          "choropleth": [
           {
            "colorbar": {
             "outlinewidth": 0,
             "ticks": ""
            },
            "type": "choropleth"
           }
          ],
          "contour": [
           {
            "colorbar": {
             "outlinewidth": 0,
             "ticks": ""
            },
            "colorscale": [
             [
              0,
              "#0d0887"
             ],
             [
              0.1111111111111111,
              "#46039f"
             ],
             [
              0.2222222222222222,
              "#7201a8"
             ],
             [
              0.3333333333333333,
              "#9c179e"
             ],
             [
              0.4444444444444444,
              "#bd3786"
             ],
             [
              0.5555555555555556,
              "#d8576b"
             ],
             [
              0.6666666666666666,
              "#ed7953"
             ],
             [
              0.7777777777777778,
              "#fb9f3a"
             ],
             [
              0.8888888888888888,
              "#fdca26"
             ],
             [
              1,
              "#f0f921"
             ]
            ],
            "type": "contour"
           }
          ],
          "contourcarpet": [
           {
            "colorbar": {
             "outlinewidth": 0,
             "ticks": ""
            },
            "type": "contourcarpet"
           }
          ],
          "heatmap": [
           {
            "colorbar": {
             "outlinewidth": 0,
             "ticks": ""
            },
            "colorscale": [
             [
              0,
              "#0d0887"
             ],
             [
              0.1111111111111111,
              "#46039f"
             ],
             [
              0.2222222222222222,
              "#7201a8"
             ],
             [
              0.3333333333333333,
              "#9c179e"
             ],
             [
              0.4444444444444444,
              "#bd3786"
             ],
             [
              0.5555555555555556,
              "#d8576b"
             ],
             [
              0.6666666666666666,
              "#ed7953"
             ],
             [
              0.7777777777777778,
              "#fb9f3a"
             ],
             [
              0.8888888888888888,
              "#fdca26"
             ],
             [
              1,
              "#f0f921"
             ]
            ],
            "type": "heatmap"
           }
          ],
          "heatmapgl": [
           {
            "colorbar": {
             "outlinewidth": 0,
             "ticks": ""
            },
            "colorscale": [
             [
              0,
              "#0d0887"
             ],
             [
              0.1111111111111111,
              "#46039f"
             ],
             [
              0.2222222222222222,
              "#7201a8"
             ],
             [
              0.3333333333333333,
              "#9c179e"
             ],
             [
              0.4444444444444444,
              "#bd3786"
             ],
             [
              0.5555555555555556,
              "#d8576b"
             ],
             [
              0.6666666666666666,
              "#ed7953"
             ],
             [
              0.7777777777777778,
              "#fb9f3a"
             ],
             [
              0.8888888888888888,
              "#fdca26"
             ],
             [
              1,
              "#f0f921"
             ]
            ],
            "type": "heatmapgl"
           }
          ],
          "histogram": [
           {
            "marker": {
             "pattern": {
              "fillmode": "overlay",
              "size": 10,
              "solidity": 0.2
             }
            },
            "type": "histogram"
           }
          ],
          "histogram2d": [
           {
            "colorbar": {
             "outlinewidth": 0,
             "ticks": ""
            },
            "colorscale": [
             [
              0,
              "#0d0887"
             ],
             [
              0.1111111111111111,
              "#46039f"
             ],
             [
              0.2222222222222222,
              "#7201a8"
             ],
             [
              0.3333333333333333,
              "#9c179e"
             ],
             [
              0.4444444444444444,
              "#bd3786"
             ],
             [
              0.5555555555555556,
              "#d8576b"
             ],
             [
              0.6666666666666666,
              "#ed7953"
             ],
             [
              0.7777777777777778,
              "#fb9f3a"
             ],
             [
              0.8888888888888888,
              "#fdca26"
             ],
             [
              1,
              "#f0f921"
             ]
            ],
            "type": "histogram2d"
           }
          ],
          "histogram2dcontour": [
           {
            "colorbar": {
             "outlinewidth": 0,
             "ticks": ""
            },
            "colorscale": [
             [
              0,
              "#0d0887"
             ],
             [
              0.1111111111111111,
              "#46039f"
             ],
             [
              0.2222222222222222,
              "#7201a8"
             ],
             [
              0.3333333333333333,
              "#9c179e"
             ],
             [
              0.4444444444444444,
              "#bd3786"
             ],
             [
              0.5555555555555556,
              "#d8576b"
             ],
             [
              0.6666666666666666,
              "#ed7953"
             ],
             [
              0.7777777777777778,
              "#fb9f3a"
             ],
             [
              0.8888888888888888,
              "#fdca26"
             ],
             [
              1,
              "#f0f921"
             ]
            ],
            "type": "histogram2dcontour"
           }
          ],
          "mesh3d": [
           {
            "colorbar": {
             "outlinewidth": 0,
             "ticks": ""
            },
            "type": "mesh3d"
           }
          ],
          "parcoords": [
           {
            "line": {
             "colorbar": {
              "outlinewidth": 0,
              "ticks": ""
             }
            },
            "type": "parcoords"
           }
          ],
          "pie": [
           {
            "automargin": true,
            "type": "pie"
           }
          ],
          "scatter": [
           {
            "fillpattern": {
             "fillmode": "overlay",
             "size": 10,
             "solidity": 0.2
            },
            "type": "scatter"
           }
          ],
          "scatter3d": [
           {
            "line": {
             "colorbar": {
              "outlinewidth": 0,
              "ticks": ""
             }
            },
            "marker": {
             "colorbar": {
              "outlinewidth": 0,
              "ticks": ""
             }
            },
            "type": "scatter3d"
           }
          ],
          "scattercarpet": [
           {
            "marker": {
             "colorbar": {
              "outlinewidth": 0,
              "ticks": ""
             }
            },
            "type": "scattercarpet"
           }
          ],
          "scattergeo": [
           {
            "marker": {
             "colorbar": {
              "outlinewidth": 0,
              "ticks": ""
             }
            },
            "type": "scattergeo"
           }
          ],
          "scattergl": [
           {
            "marker": {
             "colorbar": {
              "outlinewidth": 0,
              "ticks": ""
             }
            },
            "type": "scattergl"
           }
          ],
          "scattermapbox": [
           {
            "marker": {
             "colorbar": {
              "outlinewidth": 0,
              "ticks": ""
             }
            },
            "type": "scattermapbox"
           }
          ],
          "scatterpolar": [
           {
            "marker": {
             "colorbar": {
              "outlinewidth": 0,
              "ticks": ""
             }
            },
            "type": "scatterpolar"
           }
          ],
          "scatterpolargl": [
           {
            "marker": {
             "colorbar": {
              "outlinewidth": 0,
              "ticks": ""
             }
            },
            "type": "scatterpolargl"
           }
          ],
          "scatterternary": [
           {
            "marker": {
             "colorbar": {
              "outlinewidth": 0,
              "ticks": ""
             }
            },
            "type": "scatterternary"
           }
          ],
          "surface": [
           {
            "colorbar": {
             "outlinewidth": 0,
             "ticks": ""
            },
            "colorscale": [
             [
              0,
              "#0d0887"
             ],
             [
              0.1111111111111111,
              "#46039f"
             ],
             [
              0.2222222222222222,
              "#7201a8"
             ],
             [
              0.3333333333333333,
              "#9c179e"
             ],
             [
              0.4444444444444444,
              "#bd3786"
             ],
             [
              0.5555555555555556,
              "#d8576b"
             ],
             [
              0.6666666666666666,
              "#ed7953"
             ],
             [
              0.7777777777777778,
              "#fb9f3a"
             ],
             [
              0.8888888888888888,
              "#fdca26"
             ],
             [
              1,
              "#f0f921"
             ]
            ],
            "type": "surface"
           }
          ],
          "table": [
           {
            "cells": {
             "fill": {
              "color": "#EBF0F8"
             },
             "line": {
              "color": "white"
             }
            },
            "header": {
             "fill": {
              "color": "#C8D4E3"
             },
             "line": {
              "color": "white"
             }
            },
            "type": "table"
           }
          ]
         },
         "layout": {
          "annotationdefaults": {
           "arrowcolor": "#2a3f5f",
           "arrowhead": 0,
           "arrowwidth": 1
          },
          "autotypenumbers": "strict",
          "coloraxis": {
           "colorbar": {
            "outlinewidth": 0,
            "ticks": ""
           }
          },
          "colorscale": {
           "diverging": [
            [
             0,
             "#8e0152"
            ],
            [
             0.1,
             "#c51b7d"
            ],
            [
             0.2,
             "#de77ae"
            ],
            [
             0.3,
             "#f1b6da"
            ],
            [
             0.4,
             "#fde0ef"
            ],
            [
             0.5,
             "#f7f7f7"
            ],
            [
             0.6,
             "#e6f5d0"
            ],
            [
             0.7,
             "#b8e186"
            ],
            [
             0.8,
             "#7fbc41"
            ],
            [
             0.9,
             "#4d9221"
            ],
            [
             1,
             "#276419"
            ]
           ],
           "sequential": [
            [
             0,
             "#0d0887"
            ],
            [
             0.1111111111111111,
             "#46039f"
            ],
            [
             0.2222222222222222,
             "#7201a8"
            ],
            [
             0.3333333333333333,
             "#9c179e"
            ],
            [
             0.4444444444444444,
             "#bd3786"
            ],
            [
             0.5555555555555556,
             "#d8576b"
            ],
            [
             0.6666666666666666,
             "#ed7953"
            ],
            [
             0.7777777777777778,
             "#fb9f3a"
            ],
            [
             0.8888888888888888,
             "#fdca26"
            ],
            [
             1,
             "#f0f921"
            ]
           ],
           "sequentialminus": [
            [
             0,
             "#0d0887"
            ],
            [
             0.1111111111111111,
             "#46039f"
            ],
            [
             0.2222222222222222,
             "#7201a8"
            ],
            [
             0.3333333333333333,
             "#9c179e"
            ],
            [
             0.4444444444444444,
             "#bd3786"
            ],
            [
             0.5555555555555556,
             "#d8576b"
            ],
            [
             0.6666666666666666,
             "#ed7953"
            ],
            [
             0.7777777777777778,
             "#fb9f3a"
            ],
            [
             0.8888888888888888,
             "#fdca26"
            ],
            [
             1,
             "#f0f921"
            ]
           ]
          },
          "colorway": [
           "#636efa",
           "#EF553B",
           "#00cc96",
           "#ab63fa",
           "#FFA15A",
           "#19d3f3",
           "#FF6692",
           "#B6E880",
           "#FF97FF",
           "#FECB52"
          ],
          "font": {
           "color": "#2a3f5f"
          },
          "geo": {
           "bgcolor": "white",
           "lakecolor": "white",
           "landcolor": "#E5ECF6",
           "showlakes": true,
           "showland": true,
           "subunitcolor": "white"
          },
          "hoverlabel": {
           "align": "left"
          },
          "hovermode": "closest",
          "mapbox": {
           "style": "light"
          },
          "paper_bgcolor": "white",
          "plot_bgcolor": "#E5ECF6",
          "polar": {
           "angularaxis": {
            "gridcolor": "white",
            "linecolor": "white",
            "ticks": ""
           },
           "bgcolor": "#E5ECF6",
           "radialaxis": {
            "gridcolor": "white",
            "linecolor": "white",
            "ticks": ""
           }
          },
          "scene": {
           "xaxis": {
            "backgroundcolor": "#E5ECF6",
            "gridcolor": "white",
            "gridwidth": 2,
            "linecolor": "white",
            "showbackground": true,
            "ticks": "",
            "zerolinecolor": "white"
           },
           "yaxis": {
            "backgroundcolor": "#E5ECF6",
            "gridcolor": "white",
            "gridwidth": 2,
            "linecolor": "white",
            "showbackground": true,
            "ticks": "",
            "zerolinecolor": "white"
           },
           "zaxis": {
            "backgroundcolor": "#E5ECF6",
            "gridcolor": "white",
            "gridwidth": 2,
            "linecolor": "white",
            "showbackground": true,
            "ticks": "",
            "zerolinecolor": "white"
           }
          },
          "shapedefaults": {
           "line": {
            "color": "#2a3f5f"
           }
          },
          "ternary": {
           "aaxis": {
            "gridcolor": "white",
            "linecolor": "white",
            "ticks": ""
           },
           "baxis": {
            "gridcolor": "white",
            "linecolor": "white",
            "ticks": ""
           },
           "bgcolor": "#E5ECF6",
           "caxis": {
            "gridcolor": "white",
            "linecolor": "white",
            "ticks": ""
           }
          },
          "title": {
           "x": 0.05
          },
          "xaxis": {
           "automargin": true,
           "gridcolor": "white",
           "linecolor": "white",
           "ticks": "",
           "title": {
            "standoff": 15
           },
           "zerolinecolor": "white",
           "zerolinewidth": 2
          },
          "yaxis": {
           "automargin": true,
           "gridcolor": "white",
           "linecolor": "white",
           "ticks": "",
           "title": {
            "standoff": 15
           },
           "zerolinecolor": "white",
           "zerolinewidth": 2
          }
         }
        },
        "title": {
         "text": "costofGoodsAndServicesSold_QoQ"
        },
        "xaxis": {
         "anchor": "y",
         "domain": [
          0,
          1
         ],
         "title": {
          "text": "fiscalDateEnding"
         }
        },
        "yaxis": {
         "anchor": "x",
         "domain": [
          0,
          1
         ],
         "title": {
          "text": "costofGoodsAndServicesSold_QoQ"
         }
        }
       }
      }
     },
     "metadata": {},
     "output_type": "display_data"
    },
    {
     "data": {
      "application/vnd.plotly.v1+json": {
       "config": {
        "plotlyServerURL": "https://plot.ly"
       },
       "data": [
        {
         "alignmentgroup": "True",
         "hovertemplate": "fiscalDateEnding=%{x}<br>operatingIncome_QoQ=%{y}<extra></extra>",
         "legendgroup": "",
         "marker": {
          "color": "#636efa",
          "pattern": {
           "shape": ""
          }
         },
         "name": "",
         "offsetgroup": "",
         "orientation": "v",
         "showlegend": false,
         "textposition": "auto",
         "type": "bar",
         "x": [
          "2014-09-30",
          "2014-12-31",
          "2015-03-31",
          "2015-06-30",
          "2015-09-30",
          "2015-12-31",
          "2016-03-31",
          "2016-06-30",
          "2016-09-30",
          "2016-12-31",
          "2017-03-31",
          "2017-06-30",
          "2017-09-30",
          "2017-12-31",
          "2018-03-31",
          "2018-06-30",
          "2018-09-30",
          "2018-12-31",
          "2019-03-31",
          "2019-06-30",
          "2019-09-30",
          "2019-12-31",
          "2020-03-31",
          "2020-06-30",
          "2020-09-30",
          "2020-12-31",
          "2021-03-31",
          "2021-06-30",
          "2021-09-30",
          "2021-12-31",
          "2022-03-31",
          "2022-06-30",
          "2022-09-30",
          "2022-12-31",
          "2023-03-31",
          "2023-06-30",
          "2023-09-30",
          "2023-12-31",
          "2024-03-31",
          "2024-06-30"
         ],
         "xaxis": "x",
         "y": [
          null,
          18.125671321160052,
          1.0911570811548144,
          8.50011243534967,
          -2.4248704663212384,
          14.273576890399319,
          -0.7063197026022316,
          11.71845750655185,
          -3.3679624664879393,
          15.120513265129176,
          -1.0694381683988508,
          -37.088915956151034,
          88.33494675701839,
          -1.105114366486759,
          -0.818607068607069,
          -60.10742827197695,
          183.25123152709358,
          -4.684057971014488,
          -19.620484126018734,
          38.922518159806295,
          -0.03267973856209139,
          0.969815843957722,
          -13.91107273904597,
          -19.982449542434498,
          75.66974776750743,
          39.57906001962008,
          5.02204331991567,
          17.789134270243956,
          8.625587521305711,
          4.060672340830207,
          -8.183687457162437,
          -3.190006967253911,
          -11.915899861203927,
          5.981908374671718,
          -4.1024229074889895,
          25.39764570772323,
          -2.2666910889275527,
          11.029377313404854,
          7.4903996286449726,
          7.667242462311563
         ],
         "yaxis": "y"
        }
       ],
       "layout": {
        "barmode": "relative",
        "legend": {
         "tracegroupgap": 0
        },
        "template": {
         "data": {
          "bar": [
           {
            "error_x": {
             "color": "#2a3f5f"
            },
            "error_y": {
             "color": "#2a3f5f"
            },
            "marker": {
             "line": {
              "color": "#E5ECF6",
              "width": 0.5
             },
             "pattern": {
              "fillmode": "overlay",
              "size": 10,
              "solidity": 0.2
             }
            },
            "type": "bar"
           }
          ],
          "barpolar": [
           {
            "marker": {
             "line": {
              "color": "#E5ECF6",
              "width": 0.5
             },
             "pattern": {
              "fillmode": "overlay",
              "size": 10,
              "solidity": 0.2
             }
            },
            "type": "barpolar"
           }
          ],
          "carpet": [
           {
            "aaxis": {
             "endlinecolor": "#2a3f5f",
             "gridcolor": "white",
             "linecolor": "white",
             "minorgridcolor": "white",
             "startlinecolor": "#2a3f5f"
            },
            "baxis": {
             "endlinecolor": "#2a3f5f",
             "gridcolor": "white",
             "linecolor": "white",
             "minorgridcolor": "white",
             "startlinecolor": "#2a3f5f"
            },
            "type": "carpet"
           }
          ],
          "choropleth": [
           {
            "colorbar": {
             "outlinewidth": 0,
             "ticks": ""
            },
            "type": "choropleth"
           }
          ],
          "contour": [
           {
            "colorbar": {
             "outlinewidth": 0,
             "ticks": ""
            },
            "colorscale": [
             [
              0,
              "#0d0887"
             ],
             [
              0.1111111111111111,
              "#46039f"
             ],
             [
              0.2222222222222222,
              "#7201a8"
             ],
             [
              0.3333333333333333,
              "#9c179e"
             ],
             [
              0.4444444444444444,
              "#bd3786"
             ],
             [
              0.5555555555555556,
              "#d8576b"
             ],
             [
              0.6666666666666666,
              "#ed7953"
             ],
             [
              0.7777777777777778,
              "#fb9f3a"
             ],
             [
              0.8888888888888888,
              "#fdca26"
             ],
             [
              1,
              "#f0f921"
             ]
            ],
            "type": "contour"
           }
          ],
          "contourcarpet": [
           {
            "colorbar": {
             "outlinewidth": 0,
             "ticks": ""
            },
            "type": "contourcarpet"
           }
          ],
          "heatmap": [
           {
            "colorbar": {
             "outlinewidth": 0,
             "ticks": ""
            },
            "colorscale": [
             [
              0,
              "#0d0887"
             ],
             [
              0.1111111111111111,
              "#46039f"
             ],
             [
              0.2222222222222222,
              "#7201a8"
             ],
             [
              0.3333333333333333,
              "#9c179e"
             ],
             [
              0.4444444444444444,
              "#bd3786"
             ],
             [
              0.5555555555555556,
              "#d8576b"
             ],
             [
              0.6666666666666666,
              "#ed7953"
             ],
             [
              0.7777777777777778,
              "#fb9f3a"
             ],
             [
              0.8888888888888888,
              "#fdca26"
             ],
             [
              1,
              "#f0f921"
             ]
            ],
            "type": "heatmap"
           }
          ],
          "heatmapgl": [
           {
            "colorbar": {
             "outlinewidth": 0,
             "ticks": ""
            },
            "colorscale": [
             [
              0,
              "#0d0887"
             ],
             [
              0.1111111111111111,
              "#46039f"
             ],
             [
              0.2222222222222222,
              "#7201a8"
             ],
             [
              0.3333333333333333,
              "#9c179e"
             ],
             [
              0.4444444444444444,
              "#bd3786"
             ],
             [
              0.5555555555555556,
              "#d8576b"
             ],
             [
              0.6666666666666666,
              "#ed7953"
             ],
             [
              0.7777777777777778,
              "#fb9f3a"
             ],
             [
              0.8888888888888888,
              "#fdca26"
             ],
             [
              1,
              "#f0f921"
             ]
            ],
            "type": "heatmapgl"
           }
          ],
          "histogram": [
           {
            "marker": {
             "pattern": {
              "fillmode": "overlay",
              "size": 10,
              "solidity": 0.2
             }
            },
            "type": "histogram"
           }
          ],
          "histogram2d": [
           {
            "colorbar": {
             "outlinewidth": 0,
             "ticks": ""
            },
            "colorscale": [
             [
              0,
              "#0d0887"
             ],
             [
              0.1111111111111111,
              "#46039f"
             ],
             [
              0.2222222222222222,
              "#7201a8"
             ],
             [
              0.3333333333333333,
              "#9c179e"
             ],
             [
              0.4444444444444444,
              "#bd3786"
             ],
             [
              0.5555555555555556,
              "#d8576b"
             ],
             [
              0.6666666666666666,
              "#ed7953"
             ],
             [
              0.7777777777777778,
              "#fb9f3a"
             ],
             [
              0.8888888888888888,
              "#fdca26"
             ],
             [
              1,
              "#f0f921"
             ]
            ],
            "type": "histogram2d"
           }
          ],
          "histogram2dcontour": [
           {
            "colorbar": {
             "outlinewidth": 0,
             "ticks": ""
            },
            "colorscale": [
             [
              0,
              "#0d0887"
             ],
             [
              0.1111111111111111,
              "#46039f"
             ],
             [
              0.2222222222222222,
              "#7201a8"
             ],
             [
              0.3333333333333333,
              "#9c179e"
             ],
             [
              0.4444444444444444,
              "#bd3786"
             ],
             [
              0.5555555555555556,
              "#d8576b"
             ],
             [
              0.6666666666666666,
              "#ed7953"
             ],
             [
              0.7777777777777778,
              "#fb9f3a"
             ],
             [
              0.8888888888888888,
              "#fdca26"
             ],
             [
              1,
              "#f0f921"
             ]
            ],
            "type": "histogram2dcontour"
           }
          ],
          "mesh3d": [
           {
            "colorbar": {
             "outlinewidth": 0,
             "ticks": ""
            },
            "type": "mesh3d"
           }
          ],
          "parcoords": [
           {
            "line": {
             "colorbar": {
              "outlinewidth": 0,
              "ticks": ""
             }
            },
            "type": "parcoords"
           }
          ],
          "pie": [
           {
            "automargin": true,
            "type": "pie"
           }
          ],
          "scatter": [
           {
            "fillpattern": {
             "fillmode": "overlay",
             "size": 10,
             "solidity": 0.2
            },
            "type": "scatter"
           }
          ],
          "scatter3d": [
           {
            "line": {
             "colorbar": {
              "outlinewidth": 0,
              "ticks": ""
             }
            },
            "marker": {
             "colorbar": {
              "outlinewidth": 0,
              "ticks": ""
             }
            },
            "type": "scatter3d"
           }
          ],
          "scattercarpet": [
           {
            "marker": {
             "colorbar": {
              "outlinewidth": 0,
              "ticks": ""
             }
            },
            "type": "scattercarpet"
           }
          ],
          "scattergeo": [
           {
            "marker": {
             "colorbar": {
              "outlinewidth": 0,
              "ticks": ""
             }
            },
            "type": "scattergeo"
           }
          ],
          "scattergl": [
           {
            "marker": {
             "colorbar": {
              "outlinewidth": 0,
              "ticks": ""
             }
            },
            "type": "scattergl"
           }
          ],
          "scattermapbox": [
           {
            "marker": {
             "colorbar": {
              "outlinewidth": 0,
              "ticks": ""
             }
            },
            "type": "scattermapbox"
           }
          ],
          "scatterpolar": [
           {
            "marker": {
             "colorbar": {
              "outlinewidth": 0,
              "ticks": ""
             }
            },
            "type": "scatterpolar"
           }
          ],
          "scatterpolargl": [
           {
            "marker": {
             "colorbar": {
              "outlinewidth": 0,
              "ticks": ""
             }
            },
            "type": "scatterpolargl"
           }
          ],
          "scatterternary": [
           {
            "marker": {
             "colorbar": {
              "outlinewidth": 0,
              "ticks": ""
             }
            },
            "type": "scatterternary"
           }
          ],
          "surface": [
           {
            "colorbar": {
             "outlinewidth": 0,
             "ticks": ""
            },
            "colorscale": [
             [
              0,
              "#0d0887"
             ],
             [
              0.1111111111111111,
              "#46039f"
             ],
             [
              0.2222222222222222,
              "#7201a8"
             ],
             [
              0.3333333333333333,
              "#9c179e"
             ],
             [
              0.4444444444444444,
              "#bd3786"
             ],
             [
              0.5555555555555556,
              "#d8576b"
             ],
             [
              0.6666666666666666,
              "#ed7953"
             ],
             [
              0.7777777777777778,
              "#fb9f3a"
             ],
             [
              0.8888888888888888,
              "#fdca26"
             ],
             [
              1,
              "#f0f921"
             ]
            ],
            "type": "surface"
           }
          ],
          "table": [
           {
            "cells": {
             "fill": {
              "color": "#EBF0F8"
             },
             "line": {
              "color": "white"
             }
            },
            "header": {
             "fill": {
              "color": "#C8D4E3"
             },
             "line": {
              "color": "white"
             }
            },
            "type": "table"
           }
          ]
         },
         "layout": {
          "annotationdefaults": {
           "arrowcolor": "#2a3f5f",
           "arrowhead": 0,
           "arrowwidth": 1
          },
          "autotypenumbers": "strict",
          "coloraxis": {
           "colorbar": {
            "outlinewidth": 0,
            "ticks": ""
           }
          },
          "colorscale": {
           "diverging": [
            [
             0,
             "#8e0152"
            ],
            [
             0.1,
             "#c51b7d"
            ],
            [
             0.2,
             "#de77ae"
            ],
            [
             0.3,
             "#f1b6da"
            ],
            [
             0.4,
             "#fde0ef"
            ],
            [
             0.5,
             "#f7f7f7"
            ],
            [
             0.6,
             "#e6f5d0"
            ],
            [
             0.7,
             "#b8e186"
            ],
            [
             0.8,
             "#7fbc41"
            ],
            [
             0.9,
             "#4d9221"
            ],
            [
             1,
             "#276419"
            ]
           ],
           "sequential": [
            [
             0,
             "#0d0887"
            ],
            [
             0.1111111111111111,
             "#46039f"
            ],
            [
             0.2222222222222222,
             "#7201a8"
            ],
            [
             0.3333333333333333,
             "#9c179e"
            ],
            [
             0.4444444444444444,
             "#bd3786"
            ],
            [
             0.5555555555555556,
             "#d8576b"
            ],
            [
             0.6666666666666666,
             "#ed7953"
            ],
            [
             0.7777777777777778,
             "#fb9f3a"
            ],
            [
             0.8888888888888888,
             "#fdca26"
            ],
            [
             1,
             "#f0f921"
            ]
           ],
           "sequentialminus": [
            [
             0,
             "#0d0887"
            ],
            [
             0.1111111111111111,
             "#46039f"
            ],
            [
             0.2222222222222222,
             "#7201a8"
            ],
            [
             0.3333333333333333,
             "#9c179e"
            ],
            [
             0.4444444444444444,
             "#bd3786"
            ],
            [
             0.5555555555555556,
             "#d8576b"
            ],
            [
             0.6666666666666666,
             "#ed7953"
            ],
            [
             0.7777777777777778,
             "#fb9f3a"
            ],
            [
             0.8888888888888888,
             "#fdca26"
            ],
            [
             1,
             "#f0f921"
            ]
           ]
          },
          "colorway": [
           "#636efa",
           "#EF553B",
           "#00cc96",
           "#ab63fa",
           "#FFA15A",
           "#19d3f3",
           "#FF6692",
           "#B6E880",
           "#FF97FF",
           "#FECB52"
          ],
          "font": {
           "color": "#2a3f5f"
          },
          "geo": {
           "bgcolor": "white",
           "lakecolor": "white",
           "landcolor": "#E5ECF6",
           "showlakes": true,
           "showland": true,
           "subunitcolor": "white"
          },
          "hoverlabel": {
           "align": "left"
          },
          "hovermode": "closest",
          "mapbox": {
           "style": "light"
          },
          "paper_bgcolor": "white",
          "plot_bgcolor": "#E5ECF6",
          "polar": {
           "angularaxis": {
            "gridcolor": "white",
            "linecolor": "white",
            "ticks": ""
           },
           "bgcolor": "#E5ECF6",
           "radialaxis": {
            "gridcolor": "white",
            "linecolor": "white",
            "ticks": ""
           }
          },
          "scene": {
           "xaxis": {
            "backgroundcolor": "#E5ECF6",
            "gridcolor": "white",
            "gridwidth": 2,
            "linecolor": "white",
            "showbackground": true,
            "ticks": "",
            "zerolinecolor": "white"
           },
           "yaxis": {
            "backgroundcolor": "#E5ECF6",
            "gridcolor": "white",
            "gridwidth": 2,
            "linecolor": "white",
            "showbackground": true,
            "ticks": "",
            "zerolinecolor": "white"
           },
           "zaxis": {
            "backgroundcolor": "#E5ECF6",
            "gridcolor": "white",
            "gridwidth": 2,
            "linecolor": "white",
            "showbackground": true,
            "ticks": "",
            "zerolinecolor": "white"
           }
          },
          "shapedefaults": {
           "line": {
            "color": "#2a3f5f"
           }
          },
          "ternary": {
           "aaxis": {
            "gridcolor": "white",
            "linecolor": "white",
            "ticks": ""
           },
           "baxis": {
            "gridcolor": "white",
            "linecolor": "white",
            "ticks": ""
           },
           "bgcolor": "#E5ECF6",
           "caxis": {
            "gridcolor": "white",
            "linecolor": "white",
            "ticks": ""
           }
          },
          "title": {
           "x": 0.05
          },
          "xaxis": {
           "automargin": true,
           "gridcolor": "white",
           "linecolor": "white",
           "ticks": "",
           "title": {
            "standoff": 15
           },
           "zerolinecolor": "white",
           "zerolinewidth": 2
          },
          "yaxis": {
           "automargin": true,
           "gridcolor": "white",
           "linecolor": "white",
           "ticks": "",
           "title": {
            "standoff": 15
           },
           "zerolinecolor": "white",
           "zerolinewidth": 2
          }
         }
        },
        "title": {
         "text": "operatingIncome_QoQ"
        },
        "xaxis": {
         "anchor": "y",
         "domain": [
          0,
          1
         ],
         "title": {
          "text": "fiscalDateEnding"
         }
        },
        "yaxis": {
         "anchor": "x",
         "domain": [
          0,
          1
         ],
         "title": {
          "text": "operatingIncome_QoQ"
         }
        }
       }
      }
     },
     "metadata": {},
     "output_type": "display_data"
    },
    {
     "data": {
      "application/vnd.plotly.v1+json": {
       "config": {
        "plotlyServerURL": "https://plot.ly"
       },
       "data": [
        {
         "alignmentgroup": "True",
         "hovertemplate": "fiscalDateEnding=%{x}<br>sellingGeneralAndAdministrative_QoQ=%{y}<extra></extra>",
         "legendgroup": "",
         "marker": {
          "color": "#636efa",
          "pattern": {
           "shape": ""
          }
         },
         "name": "",
         "offsetgroup": "",
         "orientation": "v",
         "showlegend": false,
         "textposition": "auto",
         "type": "bar",
         "x": [
          "2014-09-30",
          "2014-12-31",
          "2015-03-31",
          "2015-06-30",
          "2015-09-30",
          "2015-12-31",
          "2016-03-31",
          "2016-06-30",
          "2016-09-30",
          "2016-12-31",
          "2017-03-31",
          "2017-06-30",
          "2017-09-30",
          "2017-12-31",
          "2018-03-31",
          "2018-06-30",
          "2018-09-30",
          "2018-12-31",
          "2019-03-31",
          "2019-06-30",
          "2019-09-30",
          "2019-12-31",
          "2020-03-31",
          "2020-06-30",
          "2020-09-30",
          "2020-12-31",
          "2021-03-31",
          "2021-06-30",
          "2021-09-30",
          "2021-12-31",
          "2022-03-31",
          "2022-06-30",
          "2022-09-30",
          "2022-12-31",
          "2023-03-31",
          "2023-06-30",
          "2023-09-30",
          "2023-12-31",
          "2024-03-31",
          "2024-06-30"
         ],
         "xaxis": "x",
         "y": [
          null,
          16.70329670329671,
          2.762084118016328,
          -11.423335369578503,
          155.17241379310346,
          14.891891891891884,
          -8.25688073394495,
          3.564102564102556,
          8.665511265164639,
          17.156527682843482,
          -13.555036950602883,
          3.4195725534308163,
          0.8701326952360144,
          31.248652145783918,
          -7.344725599737101,
          2.535910622450799,
          2.3348322379799447,
          20.348149400033797,
          -15.840471843842153,
          4.37176706157183,
          15.107913669064743,
          18.986111111111104,
          -13.855492004202175,
          -12.113821138211378,
          7.724329324699353,
          16.573636753971655,
          -10.509515039901785,
          18.21923446288929,
          1.7987698735058677,
          33.88052895576836,
          -21.670640326975477,
          11.827372540493531,
          2.3233206960241004,
          16.65399961998859,
          -16.182099519504845,
          -0.29148853478430103,
          5.856558175794202,
          18.98186504648809,
          -26.87040618955513,
          5.268726195514173
         ],
         "yaxis": "y"
        }
       ],
       "layout": {
        "barmode": "relative",
        "legend": {
         "tracegroupgap": 0
        },
        "template": {
         "data": {
          "bar": [
           {
            "error_x": {
             "color": "#2a3f5f"
            },
            "error_y": {
             "color": "#2a3f5f"
            },
            "marker": {
             "line": {
              "color": "#E5ECF6",
              "width": 0.5
             },
             "pattern": {
              "fillmode": "overlay",
              "size": 10,
              "solidity": 0.2
             }
            },
            "type": "bar"
           }
          ],
          "barpolar": [
           {
            "marker": {
             "line": {
              "color": "#E5ECF6",
              "width": 0.5
             },
             "pattern": {
              "fillmode": "overlay",
              "size": 10,
              "solidity": 0.2
             }
            },
            "type": "barpolar"
           }
          ],
          "carpet": [
           {
            "aaxis": {
             "endlinecolor": "#2a3f5f",
             "gridcolor": "white",
             "linecolor": "white",
             "minorgridcolor": "white",
             "startlinecolor": "#2a3f5f"
            },
            "baxis": {
             "endlinecolor": "#2a3f5f",
             "gridcolor": "white",
             "linecolor": "white",
             "minorgridcolor": "white",
             "startlinecolor": "#2a3f5f"
            },
            "type": "carpet"
           }
          ],
          "choropleth": [
           {
            "colorbar": {
             "outlinewidth": 0,
             "ticks": ""
            },
            "type": "choropleth"
           }
          ],
          "contour": [
           {
            "colorbar": {
             "outlinewidth": 0,
             "ticks": ""
            },
            "colorscale": [
             [
              0,
              "#0d0887"
             ],
             [
              0.1111111111111111,
              "#46039f"
             ],
             [
              0.2222222222222222,
              "#7201a8"
             ],
             [
              0.3333333333333333,
              "#9c179e"
             ],
             [
              0.4444444444444444,
              "#bd3786"
             ],
             [
              0.5555555555555556,
              "#d8576b"
             ],
             [
              0.6666666666666666,
              "#ed7953"
             ],
             [
              0.7777777777777778,
              "#fb9f3a"
             ],
             [
              0.8888888888888888,
              "#fdca26"
             ],
             [
              1,
              "#f0f921"
             ]
            ],
            "type": "contour"
           }
          ],
          "contourcarpet": [
           {
            "colorbar": {
             "outlinewidth": 0,
             "ticks": ""
            },
            "type": "contourcarpet"
           }
          ],
          "heatmap": [
           {
            "colorbar": {
             "outlinewidth": 0,
             "ticks": ""
            },
            "colorscale": [
             [
              0,
              "#0d0887"
             ],
             [
              0.1111111111111111,
              "#46039f"
             ],
             [
              0.2222222222222222,
              "#7201a8"
             ],
             [
              0.3333333333333333,
              "#9c179e"
             ],
             [
              0.4444444444444444,
              "#bd3786"
             ],
             [
              0.5555555555555556,
              "#d8576b"
             ],
             [
              0.6666666666666666,
              "#ed7953"
             ],
             [
              0.7777777777777778,
              "#fb9f3a"
             ],
             [
              0.8888888888888888,
              "#fdca26"
             ],
             [
              1,
              "#f0f921"
             ]
            ],
            "type": "heatmap"
           }
          ],
          "heatmapgl": [
           {
            "colorbar": {
             "outlinewidth": 0,
             "ticks": ""
            },
            "colorscale": [
             [
              0,
              "#0d0887"
             ],
             [
              0.1111111111111111,
              "#46039f"
             ],
             [
              0.2222222222222222,
              "#7201a8"
             ],
             [
              0.3333333333333333,
              "#9c179e"
             ],
             [
              0.4444444444444444,
              "#bd3786"
             ],
             [
              0.5555555555555556,
              "#d8576b"
             ],
             [
              0.6666666666666666,
              "#ed7953"
             ],
             [
              0.7777777777777778,
              "#fb9f3a"
             ],
             [
              0.8888888888888888,
              "#fdca26"
             ],
             [
              1,
              "#f0f921"
             ]
            ],
            "type": "heatmapgl"
           }
          ],
          "histogram": [
           {
            "marker": {
             "pattern": {
              "fillmode": "overlay",
              "size": 10,
              "solidity": 0.2
             }
            },
            "type": "histogram"
           }
          ],
          "histogram2d": [
           {
            "colorbar": {
             "outlinewidth": 0,
             "ticks": ""
            },
            "colorscale": [
             [
              0,
              "#0d0887"
             ],
             [
              0.1111111111111111,
              "#46039f"
             ],
             [
              0.2222222222222222,
              "#7201a8"
             ],
             [
              0.3333333333333333,
              "#9c179e"
             ],
             [
              0.4444444444444444,
              "#bd3786"
             ],
             [
              0.5555555555555556,
              "#d8576b"
             ],
             [
              0.6666666666666666,
              "#ed7953"
             ],
             [
              0.7777777777777778,
              "#fb9f3a"
             ],
             [
              0.8888888888888888,
              "#fdca26"
             ],
             [
              1,
              "#f0f921"
             ]
            ],
            "type": "histogram2d"
           }
          ],
          "histogram2dcontour": [
           {
            "colorbar": {
             "outlinewidth": 0,
             "ticks": ""
            },
            "colorscale": [
             [
              0,
              "#0d0887"
             ],
             [
              0.1111111111111111,
              "#46039f"
             ],
             [
              0.2222222222222222,
              "#7201a8"
             ],
             [
              0.3333333333333333,
              "#9c179e"
             ],
             [
              0.4444444444444444,
              "#bd3786"
             ],
             [
              0.5555555555555556,
              "#d8576b"
             ],
             [
              0.6666666666666666,
              "#ed7953"
             ],
             [
              0.7777777777777778,
              "#fb9f3a"
             ],
             [
              0.8888888888888888,
              "#fdca26"
             ],
             [
              1,
              "#f0f921"
             ]
            ],
            "type": "histogram2dcontour"
           }
          ],
          "mesh3d": [
           {
            "colorbar": {
             "outlinewidth": 0,
             "ticks": ""
            },
            "type": "mesh3d"
           }
          ],
          "parcoords": [
           {
            "line": {
             "colorbar": {
              "outlinewidth": 0,
              "ticks": ""
             }
            },
            "type": "parcoords"
           }
          ],
          "pie": [
           {
            "automargin": true,
            "type": "pie"
           }
          ],
          "scatter": [
           {
            "fillpattern": {
             "fillmode": "overlay",
             "size": 10,
             "solidity": 0.2
            },
            "type": "scatter"
           }
          ],
          "scatter3d": [
           {
            "line": {
             "colorbar": {
              "outlinewidth": 0,
              "ticks": ""
             }
            },
            "marker": {
             "colorbar": {
              "outlinewidth": 0,
              "ticks": ""
             }
            },
            "type": "scatter3d"
           }
          ],
          "scattercarpet": [
           {
            "marker": {
             "colorbar": {
              "outlinewidth": 0,
              "ticks": ""
             }
            },
            "type": "scattercarpet"
           }
          ],
          "scattergeo": [
           {
            "marker": {
             "colorbar": {
              "outlinewidth": 0,
              "ticks": ""
             }
            },
            "type": "scattergeo"
           }
          ],
          "scattergl": [
           {
            "marker": {
             "colorbar": {
              "outlinewidth": 0,
              "ticks": ""
             }
            },
            "type": "scattergl"
           }
          ],
          "scattermapbox": [
           {
            "marker": {
             "colorbar": {
              "outlinewidth": 0,
              "ticks": ""
             }
            },
            "type": "scattermapbox"
           }
          ],
          "scatterpolar": [
           {
            "marker": {
             "colorbar": {
              "outlinewidth": 0,
              "ticks": ""
             }
            },
            "type": "scatterpolar"
           }
          ],
          "scatterpolargl": [
           {
            "marker": {
             "colorbar": {
              "outlinewidth": 0,
              "ticks": ""
             }
            },
            "type": "scatterpolargl"
           }
          ],
          "scatterternary": [
           {
            "marker": {
             "colorbar": {
              "outlinewidth": 0,
              "ticks": ""
             }
            },
            "type": "scatterternary"
           }
          ],
          "surface": [
           {
            "colorbar": {
             "outlinewidth": 0,
             "ticks": ""
            },
            "colorscale": [
             [
              0,
              "#0d0887"
             ],
             [
              0.1111111111111111,
              "#46039f"
             ],
             [
              0.2222222222222222,
              "#7201a8"
             ],
             [
              0.3333333333333333,
              "#9c179e"
             ],
             [
              0.4444444444444444,
              "#bd3786"
             ],
             [
              0.5555555555555556,
              "#d8576b"
             ],
             [
              0.6666666666666666,
              "#ed7953"
             ],
             [
              0.7777777777777778,
              "#fb9f3a"
             ],
             [
              0.8888888888888888,
              "#fdca26"
             ],
             [
              1,
              "#f0f921"
             ]
            ],
            "type": "surface"
           }
          ],
          "table": [
           {
            "cells": {
             "fill": {
              "color": "#EBF0F8"
             },
             "line": {
              "color": "white"
             }
            },
            "header": {
             "fill": {
              "color": "#C8D4E3"
             },
             "line": {
              "color": "white"
             }
            },
            "type": "table"
           }
          ]
         },
         "layout": {
          "annotationdefaults": {
           "arrowcolor": "#2a3f5f",
           "arrowhead": 0,
           "arrowwidth": 1
          },
          "autotypenumbers": "strict",
          "coloraxis": {
           "colorbar": {
            "outlinewidth": 0,
            "ticks": ""
           }
          },
          "colorscale": {
           "diverging": [
            [
             0,
             "#8e0152"
            ],
            [
             0.1,
             "#c51b7d"
            ],
            [
             0.2,
             "#de77ae"
            ],
            [
             0.3,
             "#f1b6da"
            ],
            [
             0.4,
             "#fde0ef"
            ],
            [
             0.5,
             "#f7f7f7"
            ],
            [
             0.6,
             "#e6f5d0"
            ],
            [
             0.7,
             "#b8e186"
            ],
            [
             0.8,
             "#7fbc41"
            ],
            [
             0.9,
             "#4d9221"
            ],
            [
             1,
             "#276419"
            ]
           ],
           "sequential": [
            [
             0,
             "#0d0887"
            ],
            [
             0.1111111111111111,
             "#46039f"
            ],
            [
             0.2222222222222222,
             "#7201a8"
            ],
            [
             0.3333333333333333,
             "#9c179e"
            ],
            [
             0.4444444444444444,
             "#bd3786"
            ],
            [
             0.5555555555555556,
             "#d8576b"
            ],
            [
             0.6666666666666666,
             "#ed7953"
            ],
            [
             0.7777777777777778,
             "#fb9f3a"
            ],
            [
             0.8888888888888888,
             "#fdca26"
            ],
            [
             1,
             "#f0f921"
            ]
           ],
           "sequentialminus": [
            [
             0,
             "#0d0887"
            ],
            [
             0.1111111111111111,
             "#46039f"
            ],
            [
             0.2222222222222222,
             "#7201a8"
            ],
            [
             0.3333333333333333,
             "#9c179e"
            ],
            [
             0.4444444444444444,
             "#bd3786"
            ],
            [
             0.5555555555555556,
             "#d8576b"
            ],
            [
             0.6666666666666666,
             "#ed7953"
            ],
            [
             0.7777777777777778,
             "#fb9f3a"
            ],
            [
             0.8888888888888888,
             "#fdca26"
            ],
            [
             1,
             "#f0f921"
            ]
           ]
          },
          "colorway": [
           "#636efa",
           "#EF553B",
           "#00cc96",
           "#ab63fa",
           "#FFA15A",
           "#19d3f3",
           "#FF6692",
           "#B6E880",
           "#FF97FF",
           "#FECB52"
          ],
          "font": {
           "color": "#2a3f5f"
          },
          "geo": {
           "bgcolor": "white",
           "lakecolor": "white",
           "landcolor": "#E5ECF6",
           "showlakes": true,
           "showland": true,
           "subunitcolor": "white"
          },
          "hoverlabel": {
           "align": "left"
          },
          "hovermode": "closest",
          "mapbox": {
           "style": "light"
          },
          "paper_bgcolor": "white",
          "plot_bgcolor": "#E5ECF6",
          "polar": {
           "angularaxis": {
            "gridcolor": "white",
            "linecolor": "white",
            "ticks": ""
           },
           "bgcolor": "#E5ECF6",
           "radialaxis": {
            "gridcolor": "white",
            "linecolor": "white",
            "ticks": ""
           }
          },
          "scene": {
           "xaxis": {
            "backgroundcolor": "#E5ECF6",
            "gridcolor": "white",
            "gridwidth": 2,
            "linecolor": "white",
            "showbackground": true,
            "ticks": "",
            "zerolinecolor": "white"
           },
           "yaxis": {
            "backgroundcolor": "#E5ECF6",
            "gridcolor": "white",
            "gridwidth": 2,
            "linecolor": "white",
            "showbackground": true,
            "ticks": "",
            "zerolinecolor": "white"
           },
           "zaxis": {
            "backgroundcolor": "#E5ECF6",
            "gridcolor": "white",
            "gridwidth": 2,
            "linecolor": "white",
            "showbackground": true,
            "ticks": "",
            "zerolinecolor": "white"
           }
          },
          "shapedefaults": {
           "line": {
            "color": "#2a3f5f"
           }
          },
          "ternary": {
           "aaxis": {
            "gridcolor": "white",
            "linecolor": "white",
            "ticks": ""
           },
           "baxis": {
            "gridcolor": "white",
            "linecolor": "white",
            "ticks": ""
           },
           "bgcolor": "#E5ECF6",
           "caxis": {
            "gridcolor": "white",
            "linecolor": "white",
            "ticks": ""
           }
          },
          "title": {
           "x": 0.05
          },
          "xaxis": {
           "automargin": true,
           "gridcolor": "white",
           "linecolor": "white",
           "ticks": "",
           "title": {
            "standoff": 15
           },
           "zerolinecolor": "white",
           "zerolinewidth": 2
          },
          "yaxis": {
           "automargin": true,
           "gridcolor": "white",
           "linecolor": "white",
           "ticks": "",
           "title": {
            "standoff": 15
           },
           "zerolinecolor": "white",
           "zerolinewidth": 2
          }
         }
        },
        "title": {
         "text": "sellingGeneralAndAdministrative_QoQ"
        },
        "xaxis": {
         "anchor": "y",
         "domain": [
          0,
          1
         ],
         "title": {
          "text": "fiscalDateEnding"
         }
        },
        "yaxis": {
         "anchor": "x",
         "domain": [
          0,
          1
         ],
         "title": {
          "text": "sellingGeneralAndAdministrative_QoQ"
         }
        }
       }
      }
     },
     "metadata": {},
     "output_type": "display_data"
    },
    {
     "data": {
      "application/vnd.plotly.v1+json": {
       "config": {
        "plotlyServerURL": "https://plot.ly"
       },
       "data": [
        {
         "alignmentgroup": "True",
         "hovertemplate": "fiscalDateEnding=%{x}<br>researchAndDevelopment_QoQ=%{y}<extra></extra>",
         "legendgroup": "",
         "marker": {
          "color": "#636efa",
          "pattern": {
           "shape": ""
          }
         },
         "name": "",
         "offsetgroup": "",
         "orientation": "v",
         "showlegend": false,
         "textposition": "auto",
         "type": "bar",
         "x": [
          "2014-09-30",
          "2014-12-31",
          "2015-03-31",
          "2015-06-30",
          "2015-09-30",
          "2015-12-31",
          "2016-03-31",
          "2016-06-30",
          "2016-09-30",
          "2016-12-31",
          "2017-03-31",
          "2017-06-30",
          "2017-09-30",
          "2017-12-31",
          "2018-03-31",
          "2018-06-30",
          "2018-09-30",
          "2018-12-31",
          "2019-03-31",
          "2019-06-30",
          "2019-09-30",
          "2019-12-31",
          "2020-03-31",
          "2020-06-30",
          "2020-09-30",
          "2020-12-31",
          "2021-03-31",
          "2021-06-30",
          "2021-09-30",
          "2021-12-31",
          "2022-03-31",
          "2022-06-30",
          "2022-09-30",
          "2022-12-31",
          "2023-03-31",
          "2023-06-30",
          "2023-09-30",
          "2023-12-31",
          "2024-03-31",
          "2024-06-30"
         ],
         "xaxis": "x",
         "y": [
          null,
          5.951035781544256,
          -2.1329541414859543,
          1.3076643661460219,
          15.812119039082106,
          8.668730650154789,
          -4.074074074074074,
          -0.11880011880012198,
          6.928337793636641,
          0.7230255839822064,
          8.83489784649365,
          5.834601725012689,
          0.7909875359539686,
          2.4019024970273417,
          17.02275894101255,
          1.4883905536812847,
          2.307391474384035,
          15.328746177370034,
          -0.08286377195889649,
          3.0519157405871633,
          5.48849187188154,
          10.192249008239251,
          -5.566325117695925,
          0.8064516129032251,
          -0.27636363636364125,
          2.421236872812127,
          6.59356308743948,
          2.5384101536406245,
          0.2475570032573371,
          13.179100597868466,
          4.719797887000454,
          7.917534817414196,
          4.389797784777971,
          -0.05840552905674867,
          11.697672153501504,
          -7.673526334147196,
          6.327918398186627,
          7.59459939598508,
          -1.7336745645174623,
          -0.3612534655129007
         ],
         "yaxis": "y"
        }
       ],
       "layout": {
        "barmode": "relative",
        "legend": {
         "tracegroupgap": 0
        },
        "template": {
         "data": {
          "bar": [
           {
            "error_x": {
             "color": "#2a3f5f"
            },
            "error_y": {
             "color": "#2a3f5f"
            },
            "marker": {
             "line": {
              "color": "#E5ECF6",
              "width": 0.5
             },
             "pattern": {
              "fillmode": "overlay",
              "size": 10,
              "solidity": 0.2
             }
            },
            "type": "bar"
           }
          ],
          "barpolar": [
           {
            "marker": {
             "line": {
              "color": "#E5ECF6",
              "width": 0.5
             },
             "pattern": {
              "fillmode": "overlay",
              "size": 10,
              "solidity": 0.2
             }
            },
            "type": "barpolar"
           }
          ],
          "carpet": [
           {
            "aaxis": {
             "endlinecolor": "#2a3f5f",
             "gridcolor": "white",
             "linecolor": "white",
             "minorgridcolor": "white",
             "startlinecolor": "#2a3f5f"
            },
            "baxis": {
             "endlinecolor": "#2a3f5f",
             "gridcolor": "white",
             "linecolor": "white",
             "minorgridcolor": "white",
             "startlinecolor": "#2a3f5f"
            },
            "type": "carpet"
           }
          ],
          "choropleth": [
           {
            "colorbar": {
             "outlinewidth": 0,
             "ticks": ""
            },
            "type": "choropleth"
           }
          ],
          "contour": [
           {
            "colorbar": {
             "outlinewidth": 0,
             "ticks": ""
            },
            "colorscale": [
             [
              0,
              "#0d0887"
             ],
             [
              0.1111111111111111,
              "#46039f"
             ],
             [
              0.2222222222222222,
              "#7201a8"
             ],
             [
              0.3333333333333333,
              "#9c179e"
             ],
             [
              0.4444444444444444,
              "#bd3786"
             ],
             [
              0.5555555555555556,
              "#d8576b"
             ],
             [
              0.6666666666666666,
              "#ed7953"
             ],
             [
              0.7777777777777778,
              "#fb9f3a"
             ],
             [
              0.8888888888888888,
              "#fdca26"
             ],
             [
              1,
              "#f0f921"
             ]
            ],
            "type": "contour"
           }
          ],
          "contourcarpet": [
           {
            "colorbar": {
             "outlinewidth": 0,
             "ticks": ""
            },
            "type": "contourcarpet"
           }
          ],
          "heatmap": [
           {
            "colorbar": {
             "outlinewidth": 0,
             "ticks": ""
            },
            "colorscale": [
             [
              0,
              "#0d0887"
             ],
             [
              0.1111111111111111,
              "#46039f"
             ],
             [
              0.2222222222222222,
              "#7201a8"
             ],
             [
              0.3333333333333333,
              "#9c179e"
             ],
             [
              0.4444444444444444,
              "#bd3786"
             ],
             [
              0.5555555555555556,
              "#d8576b"
             ],
             [
              0.6666666666666666,
              "#ed7953"
             ],
             [
              0.7777777777777778,
              "#fb9f3a"
             ],
             [
              0.8888888888888888,
              "#fdca26"
             ],
             [
              1,
              "#f0f921"
             ]
            ],
            "type": "heatmap"
           }
          ],
          "heatmapgl": [
           {
            "colorbar": {
             "outlinewidth": 0,
             "ticks": ""
            },
            "colorscale": [
             [
              0,
              "#0d0887"
             ],
             [
              0.1111111111111111,
              "#46039f"
             ],
             [
              0.2222222222222222,
              "#7201a8"
             ],
             [
              0.3333333333333333,
              "#9c179e"
             ],
             [
              0.4444444444444444,
              "#bd3786"
             ],
             [
              0.5555555555555556,
              "#d8576b"
             ],
             [
              0.6666666666666666,
              "#ed7953"
             ],
             [
              0.7777777777777778,
              "#fb9f3a"
             ],
             [
              0.8888888888888888,
              "#fdca26"
             ],
             [
              1,
              "#f0f921"
             ]
            ],
            "type": "heatmapgl"
           }
          ],
          "histogram": [
           {
            "marker": {
             "pattern": {
              "fillmode": "overlay",
              "size": 10,
              "solidity": 0.2
             }
            },
            "type": "histogram"
           }
          ],
          "histogram2d": [
           {
            "colorbar": {
             "outlinewidth": 0,
             "ticks": ""
            },
            "colorscale": [
             [
              0,
              "#0d0887"
             ],
             [
              0.1111111111111111,
              "#46039f"
             ],
             [
              0.2222222222222222,
              "#7201a8"
             ],
             [
              0.3333333333333333,
              "#9c179e"
             ],
             [
              0.4444444444444444,
              "#bd3786"
             ],
             [
              0.5555555555555556,
              "#d8576b"
             ],
             [
              0.6666666666666666,
              "#ed7953"
             ],
             [
              0.7777777777777778,
              "#fb9f3a"
             ],
             [
              0.8888888888888888,
              "#fdca26"
             ],
             [
              1,
              "#f0f921"
             ]
            ],
            "type": "histogram2d"
           }
          ],
          "histogram2dcontour": [
           {
            "colorbar": {
             "outlinewidth": 0,
             "ticks": ""
            },
            "colorscale": [
             [
              0,
              "#0d0887"
             ],
             [
              0.1111111111111111,
              "#46039f"
             ],
             [
              0.2222222222222222,
              "#7201a8"
             ],
             [
              0.3333333333333333,
              "#9c179e"
             ],
             [
              0.4444444444444444,
              "#bd3786"
             ],
             [
              0.5555555555555556,
              "#d8576b"
             ],
             [
              0.6666666666666666,
              "#ed7953"
             ],
             [
              0.7777777777777778,
              "#fb9f3a"
             ],
             [
              0.8888888888888888,
              "#fdca26"
             ],
             [
              1,
              "#f0f921"
             ]
            ],
            "type": "histogram2dcontour"
           }
          ],
          "mesh3d": [
           {
            "colorbar": {
             "outlinewidth": 0,
             "ticks": ""
            },
            "type": "mesh3d"
           }
          ],
          "parcoords": [
           {
            "line": {
             "colorbar": {
              "outlinewidth": 0,
              "ticks": ""
             }
            },
            "type": "parcoords"
           }
          ],
          "pie": [
           {
            "automargin": true,
            "type": "pie"
           }
          ],
          "scatter": [
           {
            "fillpattern": {
             "fillmode": "overlay",
             "size": 10,
             "solidity": 0.2
            },
            "type": "scatter"
           }
          ],
          "scatter3d": [
           {
            "line": {
             "colorbar": {
              "outlinewidth": 0,
              "ticks": ""
             }
            },
            "marker": {
             "colorbar": {
              "outlinewidth": 0,
              "ticks": ""
             }
            },
            "type": "scatter3d"
           }
          ],
          "scattercarpet": [
           {
            "marker": {
             "colorbar": {
              "outlinewidth": 0,
              "ticks": ""
             }
            },
            "type": "scattercarpet"
           }
          ],
          "scattergeo": [
           {
            "marker": {
             "colorbar": {
              "outlinewidth": 0,
              "ticks": ""
             }
            },
            "type": "scattergeo"
           }
          ],
          "scattergl": [
           {
            "marker": {
             "colorbar": {
              "outlinewidth": 0,
              "ticks": ""
             }
            },
            "type": "scattergl"
           }
          ],
          "scattermapbox": [
           {
            "marker": {
             "colorbar": {
              "outlinewidth": 0,
              "ticks": ""
             }
            },
            "type": "scattermapbox"
           }
          ],
          "scatterpolar": [
           {
            "marker": {
             "colorbar": {
              "outlinewidth": 0,
              "ticks": ""
             }
            },
            "type": "scatterpolar"
           }
          ],
          "scatterpolargl": [
           {
            "marker": {
             "colorbar": {
              "outlinewidth": 0,
              "ticks": ""
             }
            },
            "type": "scatterpolargl"
           }
          ],
          "scatterternary": [
           {
            "marker": {
             "colorbar": {
              "outlinewidth": 0,
              "ticks": ""
             }
            },
            "type": "scatterternary"
           }
          ],
          "surface": [
           {
            "colorbar": {
             "outlinewidth": 0,
             "ticks": ""
            },
            "colorscale": [
             [
              0,
              "#0d0887"
             ],
             [
              0.1111111111111111,
              "#46039f"
             ],
             [
              0.2222222222222222,
              "#7201a8"
             ],
             [
              0.3333333333333333,
              "#9c179e"
             ],
             [
              0.4444444444444444,
              "#bd3786"
             ],
             [
              0.5555555555555556,
              "#d8576b"
             ],
             [
              0.6666666666666666,
              "#ed7953"
             ],
             [
              0.7777777777777778,
              "#fb9f3a"
             ],
             [
              0.8888888888888888,
              "#fdca26"
             ],
             [
              1,
              "#f0f921"
             ]
            ],
            "type": "surface"
           }
          ],
          "table": [
           {
            "cells": {
             "fill": {
              "color": "#EBF0F8"
             },
             "line": {
              "color": "white"
             }
            },
            "header": {
             "fill": {
              "color": "#C8D4E3"
             },
             "line": {
              "color": "white"
             }
            },
            "type": "table"
           }
          ]
         },
         "layout": {
          "annotationdefaults": {
           "arrowcolor": "#2a3f5f",
           "arrowhead": 0,
           "arrowwidth": 1
          },
          "autotypenumbers": "strict",
          "coloraxis": {
           "colorbar": {
            "outlinewidth": 0,
            "ticks": ""
           }
          },
          "colorscale": {
           "diverging": [
            [
             0,
             "#8e0152"
            ],
            [
             0.1,
             "#c51b7d"
            ],
            [
             0.2,
             "#de77ae"
            ],
            [
             0.3,
             "#f1b6da"
            ],
            [
             0.4,
             "#fde0ef"
            ],
            [
             0.5,
             "#f7f7f7"
            ],
            [
             0.6,
             "#e6f5d0"
            ],
            [
             0.7,
             "#b8e186"
            ],
            [
             0.8,
             "#7fbc41"
            ],
            [
             0.9,
             "#4d9221"
            ],
            [
             1,
             "#276419"
            ]
           ],
           "sequential": [
            [
             0,
             "#0d0887"
            ],
            [
             0.1111111111111111,
             "#46039f"
            ],
            [
             0.2222222222222222,
             "#7201a8"
            ],
            [
             0.3333333333333333,
             "#9c179e"
            ],
            [
             0.4444444444444444,
             "#bd3786"
            ],
            [
             0.5555555555555556,
             "#d8576b"
            ],
            [
             0.6666666666666666,
             "#ed7953"
            ],
            [
             0.7777777777777778,
             "#fb9f3a"
            ],
            [
             0.8888888888888888,
             "#fdca26"
            ],
            [
             1,
             "#f0f921"
            ]
           ],
           "sequentialminus": [
            [
             0,
             "#0d0887"
            ],
            [
             0.1111111111111111,
             "#46039f"
            ],
            [
             0.2222222222222222,
             "#7201a8"
            ],
            [
             0.3333333333333333,
             "#9c179e"
            ],
            [
             0.4444444444444444,
             "#bd3786"
            ],
            [
             0.5555555555555556,
             "#d8576b"
            ],
            [
             0.6666666666666666,
             "#ed7953"
            ],
            [
             0.7777777777777778,
             "#fb9f3a"
            ],
            [
             0.8888888888888888,
             "#fdca26"
            ],
            [
             1,
             "#f0f921"
            ]
           ]
          },
          "colorway": [
           "#636efa",
           "#EF553B",
           "#00cc96",
           "#ab63fa",
           "#FFA15A",
           "#19d3f3",
           "#FF6692",
           "#B6E880",
           "#FF97FF",
           "#FECB52"
          ],
          "font": {
           "color": "#2a3f5f"
          },
          "geo": {
           "bgcolor": "white",
           "lakecolor": "white",
           "landcolor": "#E5ECF6",
           "showlakes": true,
           "showland": true,
           "subunitcolor": "white"
          },
          "hoverlabel": {
           "align": "left"
          },
          "hovermode": "closest",
          "mapbox": {
           "style": "light"
          },
          "paper_bgcolor": "white",
          "plot_bgcolor": "#E5ECF6",
          "polar": {
           "angularaxis": {
            "gridcolor": "white",
            "linecolor": "white",
            "ticks": ""
           },
           "bgcolor": "#E5ECF6",
           "radialaxis": {
            "gridcolor": "white",
            "linecolor": "white",
            "ticks": ""
           }
          },
          "scene": {
           "xaxis": {
            "backgroundcolor": "#E5ECF6",
            "gridcolor": "white",
            "gridwidth": 2,
            "linecolor": "white",
            "showbackground": true,
            "ticks": "",
            "zerolinecolor": "white"
           },
           "yaxis": {
            "backgroundcolor": "#E5ECF6",
            "gridcolor": "white",
            "gridwidth": 2,
            "linecolor": "white",
            "showbackground": true,
            "ticks": "",
            "zerolinecolor": "white"
           },
           "zaxis": {
            "backgroundcolor": "#E5ECF6",
            "gridcolor": "white",
            "gridwidth": 2,
            "linecolor": "white",
            "showbackground": true,
            "ticks": "",
            "zerolinecolor": "white"
           }
          },
          "shapedefaults": {
           "line": {
            "color": "#2a3f5f"
           }
          },
          "ternary": {
           "aaxis": {
            "gridcolor": "white",
            "linecolor": "white",
            "ticks": ""
           },
           "baxis": {
            "gridcolor": "white",
            "linecolor": "white",
            "ticks": ""
           },
           "bgcolor": "#E5ECF6",
           "caxis": {
            "gridcolor": "white",
            "linecolor": "white",
            "ticks": ""
           }
          },
          "title": {
           "x": 0.05
          },
          "xaxis": {
           "automargin": true,
           "gridcolor": "white",
           "linecolor": "white",
           "ticks": "",
           "title": {
            "standoff": 15
           },
           "zerolinecolor": "white",
           "zerolinewidth": 2
          },
          "yaxis": {
           "automargin": true,
           "gridcolor": "white",
           "linecolor": "white",
           "ticks": "",
           "title": {
            "standoff": 15
           },
           "zerolinecolor": "white",
           "zerolinewidth": 2
          }
         }
        },
        "title": {
         "text": "researchAndDevelopment_QoQ"
        },
        "xaxis": {
         "anchor": "y",
         "domain": [
          0,
          1
         ],
         "title": {
          "text": "fiscalDateEnding"
         }
        },
        "yaxis": {
         "anchor": "x",
         "domain": [
          0,
          1
         ],
         "title": {
          "text": "researchAndDevelopment_QoQ"
         }
        }
       }
      }
     },
     "metadata": {},
     "output_type": "display_data"
    },
    {
     "data": {
      "application/vnd.plotly.v1+json": {
       "config": {
        "plotlyServerURL": "https://plot.ly"
       },
       "data": [
        {
         "alignmentgroup": "True",
         "hovertemplate": "fiscalDateEnding=%{x}<br>operatingExpenses_QoQ=%{y}<extra></extra>",
         "legendgroup": "",
         "marker": {
          "color": "#636efa",
          "pattern": {
           "shape": ""
          }
         },
         "name": "",
         "offsetgroup": "",
         "orientation": "v",
         "showlegend": false,
         "textposition": "auto",
         "type": "bar",
         "x": [
          "2014-09-30",
          "2014-12-31",
          "2015-03-31",
          "2015-06-30",
          "2015-09-30",
          "2015-12-31",
          "2016-03-31",
          "2016-06-30",
          "2016-09-30",
          "2016-12-31",
          "2017-03-31",
          "2017-06-30",
          "2017-09-30",
          "2017-12-31",
          "2018-03-31",
          "2018-06-30",
          "2018-09-30",
          "2018-12-31",
          "2019-03-31",
          "2019-06-30",
          "2019-09-30",
          "2019-12-31",
          "2020-03-31",
          "2020-06-30",
          "2020-09-30",
          "2020-12-31",
          "2021-03-31",
          "2021-06-30",
          "2021-09-30",
          "2021-12-31",
          "2022-03-31",
          "2022-06-30",
          "2022-09-30",
          "2022-12-31",
          "2023-03-31",
          "2023-06-30",
          "2023-09-30",
          "2023-12-31",
          "2024-03-31",
          "2024-06-30"
         ],
         "xaxis": "x",
         "y": [
          null,
          11.123853211009171,
          -4.835618457909474,
          -2.1068938807126236,
          9.669251463839213,
          11.991341991341997,
          -6.365159128978226,
          1.8577129489472988,
          7.876249662253443,
          9.75579211020663,
          -4.301688726608854,
          4.554667938476209,
          0.8324780476679283,
          17.529970594888034,
          2.7521170130869965,
          2.0415808203783525,
          2.3219530102789987,
          17.992645080276247,
          -8.612694792854425,
          3.709865247047084,
          10.314404876483806,
          14.79569579758615,
          -10.063968585724236,
          -5.908450704225354,
          3.6075144076042287,
          9.564400780177706,
          -2.5911518428166413,
          10.274807093542716,
          1.0680088386938458,
          24.207457791813436,
          -10.434187365538827,
          9.880991374604209,
          3.3336645468998505,
          8.3994422808789,
          7.859487270469256,
          -13.973188584587549,
          6.228489483747612,
          18.08036718714845,
          -18.619717236385814,
          2.130648560056203
         ],
         "yaxis": "y"
        }
       ],
       "layout": {
        "barmode": "relative",
        "legend": {
         "tracegroupgap": 0
        },
        "template": {
         "data": {
          "bar": [
           {
            "error_x": {
             "color": "#2a3f5f"
            },
            "error_y": {
             "color": "#2a3f5f"
            },
            "marker": {
             "line": {
              "color": "#E5ECF6",
              "width": 0.5
             },
             "pattern": {
              "fillmode": "overlay",
              "size": 10,
              "solidity": 0.2
             }
            },
            "type": "bar"
           }
          ],
          "barpolar": [
           {
            "marker": {
             "line": {
              "color": "#E5ECF6",
              "width": 0.5
             },
             "pattern": {
              "fillmode": "overlay",
              "size": 10,
              "solidity": 0.2
             }
            },
            "type": "barpolar"
           }
          ],
          "carpet": [
           {
            "aaxis": {
             "endlinecolor": "#2a3f5f",
             "gridcolor": "white",
             "linecolor": "white",
             "minorgridcolor": "white",
             "startlinecolor": "#2a3f5f"
            },
            "baxis": {
             "endlinecolor": "#2a3f5f",
             "gridcolor": "white",
             "linecolor": "white",
             "minorgridcolor": "white",
             "startlinecolor": "#2a3f5f"
            },
            "type": "carpet"
           }
          ],
          "choropleth": [
           {
            "colorbar": {
             "outlinewidth": 0,
             "ticks": ""
            },
            "type": "choropleth"
           }
          ],
          "contour": [
           {
            "colorbar": {
             "outlinewidth": 0,
             "ticks": ""
            },
            "colorscale": [
             [
              0,
              "#0d0887"
             ],
             [
              0.1111111111111111,
              "#46039f"
             ],
             [
              0.2222222222222222,
              "#7201a8"
             ],
             [
              0.3333333333333333,
              "#9c179e"
             ],
             [
              0.4444444444444444,
              "#bd3786"
             ],
             [
              0.5555555555555556,
              "#d8576b"
             ],
             [
              0.6666666666666666,
              "#ed7953"
             ],
             [
              0.7777777777777778,
              "#fb9f3a"
             ],
             [
              0.8888888888888888,
              "#fdca26"
             ],
             [
              1,
              "#f0f921"
             ]
            ],
            "type": "contour"
           }
          ],
          "contourcarpet": [
           {
            "colorbar": {
             "outlinewidth": 0,
             "ticks": ""
            },
            "type": "contourcarpet"
           }
          ],
          "heatmap": [
           {
            "colorbar": {
             "outlinewidth": 0,
             "ticks": ""
            },
            "colorscale": [
             [
              0,
              "#0d0887"
             ],
             [
              0.1111111111111111,
              "#46039f"
             ],
             [
              0.2222222222222222,
              "#7201a8"
             ],
             [
              0.3333333333333333,
              "#9c179e"
             ],
             [
              0.4444444444444444,
              "#bd3786"
             ],
             [
              0.5555555555555556,
              "#d8576b"
             ],
             [
              0.6666666666666666,
              "#ed7953"
             ],
             [
              0.7777777777777778,
              "#fb9f3a"
             ],
             [
              0.8888888888888888,
              "#fdca26"
             ],
             [
              1,
              "#f0f921"
             ]
            ],
            "type": "heatmap"
           }
          ],
          "heatmapgl": [
           {
            "colorbar": {
             "outlinewidth": 0,
             "ticks": ""
            },
            "colorscale": [
             [
              0,
              "#0d0887"
             ],
             [
              0.1111111111111111,
              "#46039f"
             ],
             [
              0.2222222222222222,
              "#7201a8"
             ],
             [
              0.3333333333333333,
              "#9c179e"
             ],
             [
              0.4444444444444444,
              "#bd3786"
             ],
             [
              0.5555555555555556,
              "#d8576b"
             ],
             [
              0.6666666666666666,
              "#ed7953"
             ],
             [
              0.7777777777777778,
              "#fb9f3a"
             ],
             [
              0.8888888888888888,
              "#fdca26"
             ],
             [
              1,
              "#f0f921"
             ]
            ],
            "type": "heatmapgl"
           }
          ],
          "histogram": [
           {
            "marker": {
             "pattern": {
              "fillmode": "overlay",
              "size": 10,
              "solidity": 0.2
             }
            },
            "type": "histogram"
           }
          ],
          "histogram2d": [
           {
            "colorbar": {
             "outlinewidth": 0,
             "ticks": ""
            },
            "colorscale": [
             [
              0,
              "#0d0887"
             ],
             [
              0.1111111111111111,
              "#46039f"
             ],
             [
              0.2222222222222222,
              "#7201a8"
             ],
             [
              0.3333333333333333,
              "#9c179e"
             ],
             [
              0.4444444444444444,
              "#bd3786"
             ],
             [
              0.5555555555555556,
              "#d8576b"
             ],
             [
              0.6666666666666666,
              "#ed7953"
             ],
             [
              0.7777777777777778,
              "#fb9f3a"
             ],
             [
              0.8888888888888888,
              "#fdca26"
             ],
             [
              1,
              "#f0f921"
             ]
            ],
            "type": "histogram2d"
           }
          ],
          "histogram2dcontour": [
           {
            "colorbar": {
             "outlinewidth": 0,
             "ticks": ""
            },
            "colorscale": [
             [
              0,
              "#0d0887"
             ],
             [
              0.1111111111111111,
              "#46039f"
             ],
             [
              0.2222222222222222,
              "#7201a8"
             ],
             [
              0.3333333333333333,
              "#9c179e"
             ],
             [
              0.4444444444444444,
              "#bd3786"
             ],
             [
              0.5555555555555556,
              "#d8576b"
             ],
             [
              0.6666666666666666,
              "#ed7953"
             ],
             [
              0.7777777777777778,
              "#fb9f3a"
             ],
             [
              0.8888888888888888,
              "#fdca26"
             ],
             [
              1,
              "#f0f921"
             ]
            ],
            "type": "histogram2dcontour"
           }
          ],
          "mesh3d": [
           {
            "colorbar": {
             "outlinewidth": 0,
             "ticks": ""
            },
            "type": "mesh3d"
           }
          ],
          "parcoords": [
           {
            "line": {
             "colorbar": {
              "outlinewidth": 0,
              "ticks": ""
             }
            },
            "type": "parcoords"
           }
          ],
          "pie": [
           {
            "automargin": true,
            "type": "pie"
           }
          ],
          "scatter": [
           {
            "fillpattern": {
             "fillmode": "overlay",
             "size": 10,
             "solidity": 0.2
            },
            "type": "scatter"
           }
          ],
          "scatter3d": [
           {
            "line": {
             "colorbar": {
              "outlinewidth": 0,
              "ticks": ""
             }
            },
            "marker": {
             "colorbar": {
              "outlinewidth": 0,
              "ticks": ""
             }
            },
            "type": "scatter3d"
           }
          ],
          "scattercarpet": [
           {
            "marker": {
             "colorbar": {
              "outlinewidth": 0,
              "ticks": ""
             }
            },
            "type": "scattercarpet"
           }
          ],
          "scattergeo": [
           {
            "marker": {
             "colorbar": {
              "outlinewidth": 0,
              "ticks": ""
             }
            },
            "type": "scattergeo"
           }
          ],
          "scattergl": [
           {
            "marker": {
             "colorbar": {
              "outlinewidth": 0,
              "ticks": ""
             }
            },
            "type": "scattergl"
           }
          ],
          "scattermapbox": [
           {
            "marker": {
             "colorbar": {
              "outlinewidth": 0,
              "ticks": ""
             }
            },
            "type": "scattermapbox"
           }
          ],
          "scatterpolar": [
           {
            "marker": {
             "colorbar": {
              "outlinewidth": 0,
              "ticks": ""
             }
            },
            "type": "scatterpolar"
           }
          ],
          "scatterpolargl": [
           {
            "marker": {
             "colorbar": {
              "outlinewidth": 0,
              "ticks": ""
             }
            },
            "type": "scatterpolargl"
           }
          ],
          "scatterternary": [
           {
            "marker": {
             "colorbar": {
              "outlinewidth": 0,
              "ticks": ""
             }
            },
            "type": "scatterternary"
           }
          ],
          "surface": [
           {
            "colorbar": {
             "outlinewidth": 0,
             "ticks": ""
            },
            "colorscale": [
             [
              0,
              "#0d0887"
             ],
             [
              0.1111111111111111,
              "#46039f"
             ],
             [
              0.2222222222222222,
              "#7201a8"
             ],
             [
              0.3333333333333333,
              "#9c179e"
             ],
             [
              0.4444444444444444,
              "#bd3786"
             ],
             [
              0.5555555555555556,
              "#d8576b"
             ],
             [
              0.6666666666666666,
              "#ed7953"
             ],
             [
              0.7777777777777778,
              "#fb9f3a"
             ],
             [
              0.8888888888888888,
              "#fdca26"
             ],
             [
              1,
              "#f0f921"
             ]
            ],
            "type": "surface"
           }
          ],
          "table": [
           {
            "cells": {
             "fill": {
              "color": "#EBF0F8"
             },
             "line": {
              "color": "white"
             }
            },
            "header": {
             "fill": {
              "color": "#C8D4E3"
             },
             "line": {
              "color": "white"
             }
            },
            "type": "table"
           }
          ]
         },
         "layout": {
          "annotationdefaults": {
           "arrowcolor": "#2a3f5f",
           "arrowhead": 0,
           "arrowwidth": 1
          },
          "autotypenumbers": "strict",
          "coloraxis": {
           "colorbar": {
            "outlinewidth": 0,
            "ticks": ""
           }
          },
          "colorscale": {
           "diverging": [
            [
             0,
             "#8e0152"
            ],
            [
             0.1,
             "#c51b7d"
            ],
            [
             0.2,
             "#de77ae"
            ],
            [
             0.3,
             "#f1b6da"
            ],
            [
             0.4,
             "#fde0ef"
            ],
            [
             0.5,
             "#f7f7f7"
            ],
            [
             0.6,
             "#e6f5d0"
            ],
            [
             0.7,
             "#b8e186"
            ],
            [
             0.8,
             "#7fbc41"
            ],
            [
             0.9,
             "#4d9221"
            ],
            [
             1,
             "#276419"
            ]
           ],
           "sequential": [
            [
             0,
             "#0d0887"
            ],
            [
             0.1111111111111111,
             "#46039f"
            ],
            [
             0.2222222222222222,
             "#7201a8"
            ],
            [
             0.3333333333333333,
             "#9c179e"
            ],
            [
             0.4444444444444444,
             "#bd3786"
            ],
            [
             0.5555555555555556,
             "#d8576b"
            ],
            [
             0.6666666666666666,
             "#ed7953"
            ],
            [
             0.7777777777777778,
             "#fb9f3a"
            ],
            [
             0.8888888888888888,
             "#fdca26"
            ],
            [
             1,
             "#f0f921"
            ]
           ],
           "sequentialminus": [
            [
             0,
             "#0d0887"
            ],
            [
             0.1111111111111111,
             "#46039f"
            ],
            [
             0.2222222222222222,
             "#7201a8"
            ],
            [
             0.3333333333333333,
             "#9c179e"
            ],
            [
             0.4444444444444444,
             "#bd3786"
            ],
            [
             0.5555555555555556,
             "#d8576b"
            ],
            [
             0.6666666666666666,
             "#ed7953"
            ],
            [
             0.7777777777777778,
             "#fb9f3a"
            ],
            [
             0.8888888888888888,
             "#fdca26"
            ],
            [
             1,
             "#f0f921"
            ]
           ]
          },
          "colorway": [
           "#636efa",
           "#EF553B",
           "#00cc96",
           "#ab63fa",
           "#FFA15A",
           "#19d3f3",
           "#FF6692",
           "#B6E880",
           "#FF97FF",
           "#FECB52"
          ],
          "font": {
           "color": "#2a3f5f"
          },
          "geo": {
           "bgcolor": "white",
           "lakecolor": "white",
           "landcolor": "#E5ECF6",
           "showlakes": true,
           "showland": true,
           "subunitcolor": "white"
          },
          "hoverlabel": {
           "align": "left"
          },
          "hovermode": "closest",
          "mapbox": {
           "style": "light"
          },
          "paper_bgcolor": "white",
          "plot_bgcolor": "#E5ECF6",
          "polar": {
           "angularaxis": {
            "gridcolor": "white",
            "linecolor": "white",
            "ticks": ""
           },
           "bgcolor": "#E5ECF6",
           "radialaxis": {
            "gridcolor": "white",
            "linecolor": "white",
            "ticks": ""
           }
          },
          "scene": {
           "xaxis": {
            "backgroundcolor": "#E5ECF6",
            "gridcolor": "white",
            "gridwidth": 2,
            "linecolor": "white",
            "showbackground": true,
            "ticks": "",
            "zerolinecolor": "white"
           },
           "yaxis": {
            "backgroundcolor": "#E5ECF6",
            "gridcolor": "white",
            "gridwidth": 2,
            "linecolor": "white",
            "showbackground": true,
            "ticks": "",
            "zerolinecolor": "white"
           },
           "zaxis": {
            "backgroundcolor": "#E5ECF6",
            "gridcolor": "white",
            "gridwidth": 2,
            "linecolor": "white",
            "showbackground": true,
            "ticks": "",
            "zerolinecolor": "white"
           }
          },
          "shapedefaults": {
           "line": {
            "color": "#2a3f5f"
           }
          },
          "ternary": {
           "aaxis": {
            "gridcolor": "white",
            "linecolor": "white",
            "ticks": ""
           },
           "baxis": {
            "gridcolor": "white",
            "linecolor": "white",
            "ticks": ""
           },
           "bgcolor": "#E5ECF6",
           "caxis": {
            "gridcolor": "white",
            "linecolor": "white",
            "ticks": ""
           }
          },
          "title": {
           "x": 0.05
          },
          "xaxis": {
           "automargin": true,
           "gridcolor": "white",
           "linecolor": "white",
           "ticks": "",
           "title": {
            "standoff": 15
           },
           "zerolinecolor": "white",
           "zerolinewidth": 2
          },
          "yaxis": {
           "automargin": true,
           "gridcolor": "white",
           "linecolor": "white",
           "ticks": "",
           "title": {
            "standoff": 15
           },
           "zerolinecolor": "white",
           "zerolinewidth": 2
          }
         }
        },
        "title": {
         "text": "operatingExpenses_QoQ"
        },
        "xaxis": {
         "anchor": "y",
         "domain": [
          0,
          1
         ],
         "title": {
          "text": "fiscalDateEnding"
         }
        },
        "yaxis": {
         "anchor": "x",
         "domain": [
          0,
          1
         ],
         "title": {
          "text": "operatingExpenses_QoQ"
         }
        }
       }
      }
     },
     "metadata": {},
     "output_type": "display_data"
    },
    {
     "data": {
      "application/vnd.plotly.v1+json": {
       "config": {
        "plotlyServerURL": "https://plot.ly"
       },
       "data": [
        {
         "alignmentgroup": "True",
         "hovertemplate": "fiscalDateEnding=%{x}<br>investmentIncomeNet_QoQ=%{y}<extra></extra>",
         "legendgroup": "",
         "marker": {
          "color": "#636efa",
          "pattern": {
           "shape": ""
          }
         },
         "name": "",
         "offsetgroup": "",
         "orientation": "v",
         "showlegend": false,
         "textposition": "auto",
         "type": "bar",
         "x": [
          "2014-09-30",
          "2014-12-31",
          "2015-03-31",
          "2015-06-30",
          "2015-09-30",
          "2015-12-31",
          "2016-03-31",
          "2016-06-30",
          "2016-09-30",
          "2016-12-31",
          "2017-03-31",
          "2017-06-30",
          "2017-09-30",
          "2017-12-31",
          "2018-03-31",
          "2018-06-30",
          "2018-09-30",
          "2018-12-31",
          "2019-03-31",
          "2019-06-30",
          "2019-09-30",
          "2019-12-31",
          "2020-03-31",
          "2020-06-30",
          "2020-09-30",
          "2020-12-31",
          "2021-03-31",
          "2021-06-30",
          "2021-09-30",
          "2021-12-31",
          "2022-03-31",
          "2022-06-30",
          "2022-09-30",
          "2022-12-31",
          "2023-03-31",
          "2023-06-30",
          "2023-09-30",
          "2023-12-31",
          "2024-03-31",
          "2024-06-30"
         ],
         "xaxis": "x",
         "y": [
          null,
          null,
          null,
          null,
          null,
          null,
          null,
          null,
          null,
          null,
          null,
          null,
          null,
          null,
          null,
          null,
          null,
          null,
          null,
          null,
          null,
          null,
          null,
          null,
          null,
          null,
          null,
          null,
          null,
          null,
          null,
          null,
          null,
          null,
          null,
          null,
          null,
          null,
          null,
          null
         ],
         "yaxis": "y"
        }
       ],
       "layout": {
        "barmode": "relative",
        "legend": {
         "tracegroupgap": 0
        },
        "template": {
         "data": {
          "bar": [
           {
            "error_x": {
             "color": "#2a3f5f"
            },
            "error_y": {
             "color": "#2a3f5f"
            },
            "marker": {
             "line": {
              "color": "#E5ECF6",
              "width": 0.5
             },
             "pattern": {
              "fillmode": "overlay",
              "size": 10,
              "solidity": 0.2
             }
            },
            "type": "bar"
           }
          ],
          "barpolar": [
           {
            "marker": {
             "line": {
              "color": "#E5ECF6",
              "width": 0.5
             },
             "pattern": {
              "fillmode": "overlay",
              "size": 10,
              "solidity": 0.2
             }
            },
            "type": "barpolar"
           }
          ],
          "carpet": [
           {
            "aaxis": {
             "endlinecolor": "#2a3f5f",
             "gridcolor": "white",
             "linecolor": "white",
             "minorgridcolor": "white",
             "startlinecolor": "#2a3f5f"
            },
            "baxis": {
             "endlinecolor": "#2a3f5f",
             "gridcolor": "white",
             "linecolor": "white",
             "minorgridcolor": "white",
             "startlinecolor": "#2a3f5f"
            },
            "type": "carpet"
           }
          ],
          "choropleth": [
           {
            "colorbar": {
             "outlinewidth": 0,
             "ticks": ""
            },
            "type": "choropleth"
           }
          ],
          "contour": [
           {
            "colorbar": {
             "outlinewidth": 0,
             "ticks": ""
            },
            "colorscale": [
             [
              0,
              "#0d0887"
             ],
             [
              0.1111111111111111,
              "#46039f"
             ],
             [
              0.2222222222222222,
              "#7201a8"
             ],
             [
              0.3333333333333333,
              "#9c179e"
             ],
             [
              0.4444444444444444,
              "#bd3786"
             ],
             [
              0.5555555555555556,
              "#d8576b"
             ],
             [
              0.6666666666666666,
              "#ed7953"
             ],
             [
              0.7777777777777778,
              "#fb9f3a"
             ],
             [
              0.8888888888888888,
              "#fdca26"
             ],
             [
              1,
              "#f0f921"
             ]
            ],
            "type": "contour"
           }
          ],
          "contourcarpet": [
           {
            "colorbar": {
             "outlinewidth": 0,
             "ticks": ""
            },
            "type": "contourcarpet"
           }
          ],
          "heatmap": [
           {
            "colorbar": {
             "outlinewidth": 0,
             "ticks": ""
            },
            "colorscale": [
             [
              0,
              "#0d0887"
             ],
             [
              0.1111111111111111,
              "#46039f"
             ],
             [
              0.2222222222222222,
              "#7201a8"
             ],
             [
              0.3333333333333333,
              "#9c179e"
             ],
             [
              0.4444444444444444,
              "#bd3786"
             ],
             [
              0.5555555555555556,
              "#d8576b"
             ],
             [
              0.6666666666666666,
              "#ed7953"
             ],
             [
              0.7777777777777778,
              "#fb9f3a"
             ],
             [
              0.8888888888888888,
              "#fdca26"
             ],
             [
              1,
              "#f0f921"
             ]
            ],
            "type": "heatmap"
           }
          ],
          "heatmapgl": [
           {
            "colorbar": {
             "outlinewidth": 0,
             "ticks": ""
            },
            "colorscale": [
             [
              0,
              "#0d0887"
             ],
             [
              0.1111111111111111,
              "#46039f"
             ],
             [
              0.2222222222222222,
              "#7201a8"
             ],
             [
              0.3333333333333333,
              "#9c179e"
             ],
             [
              0.4444444444444444,
              "#bd3786"
             ],
             [
              0.5555555555555556,
              "#d8576b"
             ],
             [
              0.6666666666666666,
              "#ed7953"
             ],
             [
              0.7777777777777778,
              "#fb9f3a"
             ],
             [
              0.8888888888888888,
              "#fdca26"
             ],
             [
              1,
              "#f0f921"
             ]
            ],
            "type": "heatmapgl"
           }
          ],
          "histogram": [
           {
            "marker": {
             "pattern": {
              "fillmode": "overlay",
              "size": 10,
              "solidity": 0.2
             }
            },
            "type": "histogram"
           }
          ],
          "histogram2d": [
           {
            "colorbar": {
             "outlinewidth": 0,
             "ticks": ""
            },
            "colorscale": [
             [
              0,
              "#0d0887"
             ],
             [
              0.1111111111111111,
              "#46039f"
             ],
             [
              0.2222222222222222,
              "#7201a8"
             ],
             [
              0.3333333333333333,
              "#9c179e"
             ],
             [
              0.4444444444444444,
              "#bd3786"
             ],
             [
              0.5555555555555556,
              "#d8576b"
             ],
             [
              0.6666666666666666,
              "#ed7953"
             ],
             [
              0.7777777777777778,
              "#fb9f3a"
             ],
             [
              0.8888888888888888,
              "#fdca26"
             ],
             [
              1,
              "#f0f921"
             ]
            ],
            "type": "histogram2d"
           }
          ],
          "histogram2dcontour": [
           {
            "colorbar": {
             "outlinewidth": 0,
             "ticks": ""
            },
            "colorscale": [
             [
              0,
              "#0d0887"
             ],
             [
              0.1111111111111111,
              "#46039f"
             ],
             [
              0.2222222222222222,
              "#7201a8"
             ],
             [
              0.3333333333333333,
              "#9c179e"
             ],
             [
              0.4444444444444444,
              "#bd3786"
             ],
             [
              0.5555555555555556,
              "#d8576b"
             ],
             [
              0.6666666666666666,
              "#ed7953"
             ],
             [
              0.7777777777777778,
              "#fb9f3a"
             ],
             [
              0.8888888888888888,
              "#fdca26"
             ],
             [
              1,
              "#f0f921"
             ]
            ],
            "type": "histogram2dcontour"
           }
          ],
          "mesh3d": [
           {
            "colorbar": {
             "outlinewidth": 0,
             "ticks": ""
            },
            "type": "mesh3d"
           }
          ],
          "parcoords": [
           {
            "line": {
             "colorbar": {
              "outlinewidth": 0,
              "ticks": ""
             }
            },
            "type": "parcoords"
           }
          ],
          "pie": [
           {
            "automargin": true,
            "type": "pie"
           }
          ],
          "scatter": [
           {
            "fillpattern": {
             "fillmode": "overlay",
             "size": 10,
             "solidity": 0.2
            },
            "type": "scatter"
           }
          ],
          "scatter3d": [
           {
            "line": {
             "colorbar": {
              "outlinewidth": 0,
              "ticks": ""
             }
            },
            "marker": {
             "colorbar": {
              "outlinewidth": 0,
              "ticks": ""
             }
            },
            "type": "scatter3d"
           }
          ],
          "scattercarpet": [
           {
            "marker": {
             "colorbar": {
              "outlinewidth": 0,
              "ticks": ""
             }
            },
            "type": "scattercarpet"
           }
          ],
          "scattergeo": [
           {
            "marker": {
             "colorbar": {
              "outlinewidth": 0,
              "ticks": ""
             }
            },
            "type": "scattergeo"
           }
          ],
          "scattergl": [
           {
            "marker": {
             "colorbar": {
              "outlinewidth": 0,
              "ticks": ""
             }
            },
            "type": "scattergl"
           }
          ],
          "scattermapbox": [
           {
            "marker": {
             "colorbar": {
              "outlinewidth": 0,
              "ticks": ""
             }
            },
            "type": "scattermapbox"
           }
          ],
          "scatterpolar": [
           {
            "marker": {
             "colorbar": {
              "outlinewidth": 0,
              "ticks": ""
             }
            },
            "type": "scatterpolar"
           }
          ],
          "scatterpolargl": [
           {
            "marker": {
             "colorbar": {
              "outlinewidth": 0,
              "ticks": ""
             }
            },
            "type": "scatterpolargl"
           }
          ],
          "scatterternary": [
           {
            "marker": {
             "colorbar": {
              "outlinewidth": 0,
              "ticks": ""
             }
            },
            "type": "scatterternary"
           }
          ],
          "surface": [
           {
            "colorbar": {
             "outlinewidth": 0,
             "ticks": ""
            },
            "colorscale": [
             [
              0,
              "#0d0887"
             ],
             [
              0.1111111111111111,
              "#46039f"
             ],
             [
              0.2222222222222222,
              "#7201a8"
             ],
             [
              0.3333333333333333,
              "#9c179e"
             ],
             [
              0.4444444444444444,
              "#bd3786"
             ],
             [
              0.5555555555555556,
              "#d8576b"
             ],
             [
              0.6666666666666666,
              "#ed7953"
             ],
             [
              0.7777777777777778,
              "#fb9f3a"
             ],
             [
              0.8888888888888888,
              "#fdca26"
             ],
             [
              1,
              "#f0f921"
             ]
            ],
            "type": "surface"
           }
          ],
          "table": [
           {
            "cells": {
             "fill": {
              "color": "#EBF0F8"
             },
             "line": {
              "color": "white"
             }
            },
            "header": {
             "fill": {
              "color": "#C8D4E3"
             },
             "line": {
              "color": "white"
             }
            },
            "type": "table"
           }
          ]
         },
         "layout": {
          "annotationdefaults": {
           "arrowcolor": "#2a3f5f",
           "arrowhead": 0,
           "arrowwidth": 1
          },
          "autotypenumbers": "strict",
          "coloraxis": {
           "colorbar": {
            "outlinewidth": 0,
            "ticks": ""
           }
          },
          "colorscale": {
           "diverging": [
            [
             0,
             "#8e0152"
            ],
            [
             0.1,
             "#c51b7d"
            ],
            [
             0.2,
             "#de77ae"
            ],
            [
             0.3,
             "#f1b6da"
            ],
            [
             0.4,
             "#fde0ef"
            ],
            [
             0.5,
             "#f7f7f7"
            ],
            [
             0.6,
             "#e6f5d0"
            ],
            [
             0.7,
             "#b8e186"
            ],
            [
             0.8,
             "#7fbc41"
            ],
            [
             0.9,
             "#4d9221"
            ],
            [
             1,
             "#276419"
            ]
           ],
           "sequential": [
            [
             0,
             "#0d0887"
            ],
            [
             0.1111111111111111,
             "#46039f"
            ],
            [
             0.2222222222222222,
             "#7201a8"
            ],
            [
             0.3333333333333333,
             "#9c179e"
            ],
            [
             0.4444444444444444,
             "#bd3786"
            ],
            [
             0.5555555555555556,
             "#d8576b"
            ],
            [
             0.6666666666666666,
             "#ed7953"
            ],
            [
             0.7777777777777778,
             "#fb9f3a"
            ],
            [
             0.8888888888888888,
             "#fdca26"
            ],
            [
             1,
             "#f0f921"
            ]
           ],
           "sequentialminus": [
            [
             0,
             "#0d0887"
            ],
            [
             0.1111111111111111,
             "#46039f"
            ],
            [
             0.2222222222222222,
             "#7201a8"
            ],
            [
             0.3333333333333333,
             "#9c179e"
            ],
            [
             0.4444444444444444,
             "#bd3786"
            ],
            [
             0.5555555555555556,
             "#d8576b"
            ],
            [
             0.6666666666666666,
             "#ed7953"
            ],
            [
             0.7777777777777778,
             "#fb9f3a"
            ],
            [
             0.8888888888888888,
             "#fdca26"
            ],
            [
             1,
             "#f0f921"
            ]
           ]
          },
          "colorway": [
           "#636efa",
           "#EF553B",
           "#00cc96",
           "#ab63fa",
           "#FFA15A",
           "#19d3f3",
           "#FF6692",
           "#B6E880",
           "#FF97FF",
           "#FECB52"
          ],
          "font": {
           "color": "#2a3f5f"
          },
          "geo": {
           "bgcolor": "white",
           "lakecolor": "white",
           "landcolor": "#E5ECF6",
           "showlakes": true,
           "showland": true,
           "subunitcolor": "white"
          },
          "hoverlabel": {
           "align": "left"
          },
          "hovermode": "closest",
          "mapbox": {
           "style": "light"
          },
          "paper_bgcolor": "white",
          "plot_bgcolor": "#E5ECF6",
          "polar": {
           "angularaxis": {
            "gridcolor": "white",
            "linecolor": "white",
            "ticks": ""
           },
           "bgcolor": "#E5ECF6",
           "radialaxis": {
            "gridcolor": "white",
            "linecolor": "white",
            "ticks": ""
           }
          },
          "scene": {
           "xaxis": {
            "backgroundcolor": "#E5ECF6",
            "gridcolor": "white",
            "gridwidth": 2,
            "linecolor": "white",
            "showbackground": true,
            "ticks": "",
            "zerolinecolor": "white"
           },
           "yaxis": {
            "backgroundcolor": "#E5ECF6",
            "gridcolor": "white",
            "gridwidth": 2,
            "linecolor": "white",
            "showbackground": true,
            "ticks": "",
            "zerolinecolor": "white"
           },
           "zaxis": {
            "backgroundcolor": "#E5ECF6",
            "gridcolor": "white",
            "gridwidth": 2,
            "linecolor": "white",
            "showbackground": true,
            "ticks": "",
            "zerolinecolor": "white"
           }
          },
          "shapedefaults": {
           "line": {
            "color": "#2a3f5f"
           }
          },
          "ternary": {
           "aaxis": {
            "gridcolor": "white",
            "linecolor": "white",
            "ticks": ""
           },
           "baxis": {
            "gridcolor": "white",
            "linecolor": "white",
            "ticks": ""
           },
           "bgcolor": "#E5ECF6",
           "caxis": {
            "gridcolor": "white",
            "linecolor": "white",
            "ticks": ""
           }
          },
          "title": {
           "x": 0.05
          },
          "xaxis": {
           "automargin": true,
           "gridcolor": "white",
           "linecolor": "white",
           "ticks": "",
           "title": {
            "standoff": 15
           },
           "zerolinecolor": "white",
           "zerolinewidth": 2
          },
          "yaxis": {
           "automargin": true,
           "gridcolor": "white",
           "linecolor": "white",
           "ticks": "",
           "title": {
            "standoff": 15
           },
           "zerolinecolor": "white",
           "zerolinewidth": 2
          }
         }
        },
        "title": {
         "text": "investmentIncomeNet_QoQ"
        },
        "xaxis": {
         "anchor": "y",
         "domain": [
          0,
          1
         ],
         "title": {
          "text": "fiscalDateEnding"
         }
        },
        "yaxis": {
         "anchor": "x",
         "domain": [
          0,
          1
         ],
         "title": {
          "text": "investmentIncomeNet_QoQ"
         }
        }
       }
      }
     },
     "metadata": {},
     "output_type": "display_data"
    },
    {
     "data": {
      "application/vnd.plotly.v1+json": {
       "config": {
        "plotlyServerURL": "https://plot.ly"
       },
       "data": [
        {
         "alignmentgroup": "True",
         "hovertemplate": "fiscalDateEnding=%{x}<br>netInterestIncome_QoQ=%{y}<extra></extra>",
         "legendgroup": "",
         "marker": {
          "color": "#636efa",
          "pattern": {
           "shape": ""
          }
         },
         "name": "",
         "offsetgroup": "",
         "orientation": "v",
         "showlegend": false,
         "textposition": "auto",
         "type": "bar",
         "x": [
          "2014-09-30",
          "2014-12-31",
          "2015-03-31",
          "2015-06-30",
          "2015-09-30",
          "2015-12-31",
          "2016-03-31",
          "2016-06-30",
          "2016-09-30",
          "2016-12-31",
          "2017-03-31",
          "2017-06-30",
          "2017-09-30",
          "2017-12-31",
          "2018-03-31",
          "2018-06-30",
          "2018-09-30",
          "2018-12-31",
          "2019-03-31",
          "2019-06-30",
          "2019-09-30",
          "2019-12-31",
          "2020-03-31",
          "2020-06-30",
          "2020-09-30",
          "2020-12-31",
          "2021-03-31",
          "2021-06-30",
          "2021-09-30",
          "2021-12-31",
          "2022-03-31",
          "2022-06-30",
          "2022-09-30",
          "2022-12-31",
          "2023-03-31",
          "2023-06-30",
          "2023-09-30",
          "2023-12-31",
          "2024-03-31",
          "2024-06-30"
         ],
         "xaxis": "x",
         "y": [
          null,
          null,
          null,
          null,
          null,
          0,
          15.384615384615374,
          6.666666666666665,
          -9.375,
          13.793103448275868,
          -24.242424242424242,
          -16.000000000000004,
          28.57142857142858,
          33.33333333333333,
          -16.666666666666664,
          -9.999999999999998,
          3.703703703703698,
          3.571428571428581,
          20.68965517241379,
          -28.57142857142857,
          -7.9999999999999964,
          -26.086956521739136,
          23.529411764705888,
          -38.095238095238095,
          269.2307692307692,
          10.416666666666675,
          43.39622641509433,
          0,
          1.3157894736842035,
          51.94805194805194,
          -29.059829059829056,
          0,
          21.68674698795181,
          -10.89108910891089,
          -11.111111111111116,
          -46.25,
          169.7674418604651,
          -40.51724137931034,
          36.23188405797102,
          -1188.2978723404256
         ],
         "yaxis": "y"
        }
       ],
       "layout": {
        "barmode": "relative",
        "legend": {
         "tracegroupgap": 0
        },
        "template": {
         "data": {
          "bar": [
           {
            "error_x": {
             "color": "#2a3f5f"
            },
            "error_y": {
             "color": "#2a3f5f"
            },
            "marker": {
             "line": {
              "color": "#E5ECF6",
              "width": 0.5
             },
             "pattern": {
              "fillmode": "overlay",
              "size": 10,
              "solidity": 0.2
             }
            },
            "type": "bar"
           }
          ],
          "barpolar": [
           {
            "marker": {
             "line": {
              "color": "#E5ECF6",
              "width": 0.5
             },
             "pattern": {
              "fillmode": "overlay",
              "size": 10,
              "solidity": 0.2
             }
            },
            "type": "barpolar"
           }
          ],
          "carpet": [
           {
            "aaxis": {
             "endlinecolor": "#2a3f5f",
             "gridcolor": "white",
             "linecolor": "white",
             "minorgridcolor": "white",
             "startlinecolor": "#2a3f5f"
            },
            "baxis": {
             "endlinecolor": "#2a3f5f",
             "gridcolor": "white",
             "linecolor": "white",
             "minorgridcolor": "white",
             "startlinecolor": "#2a3f5f"
            },
            "type": "carpet"
           }
          ],
          "choropleth": [
           {
            "colorbar": {
             "outlinewidth": 0,
             "ticks": ""
            },
            "type": "choropleth"
           }
          ],
          "contour": [
           {
            "colorbar": {
             "outlinewidth": 0,
             "ticks": ""
            },
            "colorscale": [
             [
              0,
              "#0d0887"
             ],
             [
              0.1111111111111111,
              "#46039f"
             ],
             [
              0.2222222222222222,
              "#7201a8"
             ],
             [
              0.3333333333333333,
              "#9c179e"
             ],
             [
              0.4444444444444444,
              "#bd3786"
             ],
             [
              0.5555555555555556,
              "#d8576b"
             ],
             [
              0.6666666666666666,
              "#ed7953"
             ],
             [
              0.7777777777777778,
              "#fb9f3a"
             ],
             [
              0.8888888888888888,
              "#fdca26"
             ],
             [
              1,
              "#f0f921"
             ]
            ],
            "type": "contour"
           }
          ],
          "contourcarpet": [
           {
            "colorbar": {
             "outlinewidth": 0,
             "ticks": ""
            },
            "type": "contourcarpet"
           }
          ],
          "heatmap": [
           {
            "colorbar": {
             "outlinewidth": 0,
             "ticks": ""
            },
            "colorscale": [
             [
              0,
              "#0d0887"
             ],
             [
              0.1111111111111111,
              "#46039f"
             ],
             [
              0.2222222222222222,
              "#7201a8"
             ],
             [
              0.3333333333333333,
              "#9c179e"
             ],
             [
              0.4444444444444444,
              "#bd3786"
             ],
             [
              0.5555555555555556,
              "#d8576b"
             ],
             [
              0.6666666666666666,
              "#ed7953"
             ],
             [
              0.7777777777777778,
              "#fb9f3a"
             ],
             [
              0.8888888888888888,
              "#fdca26"
             ],
             [
              1,
              "#f0f921"
             ]
            ],
            "type": "heatmap"
           }
          ],
          "heatmapgl": [
           {
            "colorbar": {
             "outlinewidth": 0,
             "ticks": ""
            },
            "colorscale": [
             [
              0,
              "#0d0887"
             ],
             [
              0.1111111111111111,
              "#46039f"
             ],
             [
              0.2222222222222222,
              "#7201a8"
             ],
             [
              0.3333333333333333,
              "#9c179e"
             ],
             [
              0.4444444444444444,
              "#bd3786"
             ],
             [
              0.5555555555555556,
              "#d8576b"
             ],
             [
              0.6666666666666666,
              "#ed7953"
             ],
             [
              0.7777777777777778,
              "#fb9f3a"
             ],
             [
              0.8888888888888888,
              "#fdca26"
             ],
             [
              1,
              "#f0f921"
             ]
            ],
            "type": "heatmapgl"
           }
          ],
          "histogram": [
           {
            "marker": {
             "pattern": {
              "fillmode": "overlay",
              "size": 10,
              "solidity": 0.2
             }
            },
            "type": "histogram"
           }
          ],
          "histogram2d": [
           {
            "colorbar": {
             "outlinewidth": 0,
             "ticks": ""
            },
            "colorscale": [
             [
              0,
              "#0d0887"
             ],
             [
              0.1111111111111111,
              "#46039f"
             ],
             [
              0.2222222222222222,
              "#7201a8"
             ],
             [
              0.3333333333333333,
              "#9c179e"
             ],
             [
              0.4444444444444444,
              "#bd3786"
             ],
             [
              0.5555555555555556,
              "#d8576b"
             ],
             [
              0.6666666666666666,
              "#ed7953"
             ],
             [
              0.7777777777777778,
              "#fb9f3a"
             ],
             [
              0.8888888888888888,
              "#fdca26"
             ],
             [
              1,
              "#f0f921"
             ]
            ],
            "type": "histogram2d"
           }
          ],
          "histogram2dcontour": [
           {
            "colorbar": {
             "outlinewidth": 0,
             "ticks": ""
            },
            "colorscale": [
             [
              0,
              "#0d0887"
             ],
             [
              0.1111111111111111,
              "#46039f"
             ],
             [
              0.2222222222222222,
              "#7201a8"
             ],
             [
              0.3333333333333333,
              "#9c179e"
             ],
             [
              0.4444444444444444,
              "#bd3786"
             ],
             [
              0.5555555555555556,
              "#d8576b"
             ],
             [
              0.6666666666666666,
              "#ed7953"
             ],
             [
              0.7777777777777778,
              "#fb9f3a"
             ],
             [
              0.8888888888888888,
              "#fdca26"
             ],
             [
              1,
              "#f0f921"
             ]
            ],
            "type": "histogram2dcontour"
           }
          ],
          "mesh3d": [
           {
            "colorbar": {
             "outlinewidth": 0,
             "ticks": ""
            },
            "type": "mesh3d"
           }
          ],
          "parcoords": [
           {
            "line": {
             "colorbar": {
              "outlinewidth": 0,
              "ticks": ""
             }
            },
            "type": "parcoords"
           }
          ],
          "pie": [
           {
            "automargin": true,
            "type": "pie"
           }
          ],
          "scatter": [
           {
            "fillpattern": {
             "fillmode": "overlay",
             "size": 10,
             "solidity": 0.2
            },
            "type": "scatter"
           }
          ],
          "scatter3d": [
           {
            "line": {
             "colorbar": {
              "outlinewidth": 0,
              "ticks": ""
             }
            },
            "marker": {
             "colorbar": {
              "outlinewidth": 0,
              "ticks": ""
             }
            },
            "type": "scatter3d"
           }
          ],
          "scattercarpet": [
           {
            "marker": {
             "colorbar": {
              "outlinewidth": 0,
              "ticks": ""
             }
            },
            "type": "scattercarpet"
           }
          ],
          "scattergeo": [
           {
            "marker": {
             "colorbar": {
              "outlinewidth": 0,
              "ticks": ""
             }
            },
            "type": "scattergeo"
           }
          ],
          "scattergl": [
           {
            "marker": {
             "colorbar": {
              "outlinewidth": 0,
              "ticks": ""
             }
            },
            "type": "scattergl"
           }
          ],
          "scattermapbox": [
           {
            "marker": {
             "colorbar": {
              "outlinewidth": 0,
              "ticks": ""
             }
            },
            "type": "scattermapbox"
           }
          ],
          "scatterpolar": [
           {
            "marker": {
             "colorbar": {
              "outlinewidth": 0,
              "ticks": ""
             }
            },
            "type": "scatterpolar"
           }
          ],
          "scatterpolargl": [
           {
            "marker": {
             "colorbar": {
              "outlinewidth": 0,
              "ticks": ""
             }
            },
            "type": "scatterpolargl"
           }
          ],
          "scatterternary": [
           {
            "marker": {
             "colorbar": {
              "outlinewidth": 0,
              "ticks": ""
             }
            },
            "type": "scatterternary"
           }
          ],
          "surface": [
           {
            "colorbar": {
             "outlinewidth": 0,
             "ticks": ""
            },
            "colorscale": [
             [
              0,
              "#0d0887"
             ],
             [
              0.1111111111111111,
              "#46039f"
             ],
             [
              0.2222222222222222,
              "#7201a8"
             ],
             [
              0.3333333333333333,
              "#9c179e"
             ],
             [
              0.4444444444444444,
              "#bd3786"
             ],
             [
              0.5555555555555556,
              "#d8576b"
             ],
             [
              0.6666666666666666,
              "#ed7953"
             ],
             [
              0.7777777777777778,
              "#fb9f3a"
             ],
             [
              0.8888888888888888,
              "#fdca26"
             ],
             [
              1,
              "#f0f921"
             ]
            ],
            "type": "surface"
           }
          ],
          "table": [
           {
            "cells": {
             "fill": {
              "color": "#EBF0F8"
             },
             "line": {
              "color": "white"
             }
            },
            "header": {
             "fill": {
              "color": "#C8D4E3"
             },
             "line": {
              "color": "white"
             }
            },
            "type": "table"
           }
          ]
         },
         "layout": {
          "annotationdefaults": {
           "arrowcolor": "#2a3f5f",
           "arrowhead": 0,
           "arrowwidth": 1
          },
          "autotypenumbers": "strict",
          "coloraxis": {
           "colorbar": {
            "outlinewidth": 0,
            "ticks": ""
           }
          },
          "colorscale": {
           "diverging": [
            [
             0,
             "#8e0152"
            ],
            [
             0.1,
             "#c51b7d"
            ],
            [
             0.2,
             "#de77ae"
            ],
            [
             0.3,
             "#f1b6da"
            ],
            [
             0.4,
             "#fde0ef"
            ],
            [
             0.5,
             "#f7f7f7"
            ],
            [
             0.6,
             "#e6f5d0"
            ],
            [
             0.7,
             "#b8e186"
            ],
            [
             0.8,
             "#7fbc41"
            ],
            [
             0.9,
             "#4d9221"
            ],
            [
             1,
             "#276419"
            ]
           ],
           "sequential": [
            [
             0,
             "#0d0887"
            ],
            [
             0.1111111111111111,
             "#46039f"
            ],
            [
             0.2222222222222222,
             "#7201a8"
            ],
            [
             0.3333333333333333,
             "#9c179e"
            ],
            [
             0.4444444444444444,
             "#bd3786"
            ],
            [
             0.5555555555555556,
             "#d8576b"
            ],
            [
             0.6666666666666666,
             "#ed7953"
            ],
            [
             0.7777777777777778,
             "#fb9f3a"
            ],
            [
             0.8888888888888888,
             "#fdca26"
            ],
            [
             1,
             "#f0f921"
            ]
           ],
           "sequentialminus": [
            [
             0,
             "#0d0887"
            ],
            [
             0.1111111111111111,
             "#46039f"
            ],
            [
             0.2222222222222222,
             "#7201a8"
            ],
            [
             0.3333333333333333,
             "#9c179e"
            ],
            [
             0.4444444444444444,
             "#bd3786"
            ],
            [
             0.5555555555555556,
             "#d8576b"
            ],
            [
             0.6666666666666666,
             "#ed7953"
            ],
            [
             0.7777777777777778,
             "#fb9f3a"
            ],
            [
             0.8888888888888888,
             "#fdca26"
            ],
            [
             1,
             "#f0f921"
            ]
           ]
          },
          "colorway": [
           "#636efa",
           "#EF553B",
           "#00cc96",
           "#ab63fa",
           "#FFA15A",
           "#19d3f3",
           "#FF6692",
           "#B6E880",
           "#FF97FF",
           "#FECB52"
          ],
          "font": {
           "color": "#2a3f5f"
          },
          "geo": {
           "bgcolor": "white",
           "lakecolor": "white",
           "landcolor": "#E5ECF6",
           "showlakes": true,
           "showland": true,
           "subunitcolor": "white"
          },
          "hoverlabel": {
           "align": "left"
          },
          "hovermode": "closest",
          "mapbox": {
           "style": "light"
          },
          "paper_bgcolor": "white",
          "plot_bgcolor": "#E5ECF6",
          "polar": {
           "angularaxis": {
            "gridcolor": "white",
            "linecolor": "white",
            "ticks": ""
           },
           "bgcolor": "#E5ECF6",
           "radialaxis": {
            "gridcolor": "white",
            "linecolor": "white",
            "ticks": ""
           }
          },
          "scene": {
           "xaxis": {
            "backgroundcolor": "#E5ECF6",
            "gridcolor": "white",
            "gridwidth": 2,
            "linecolor": "white",
            "showbackground": true,
            "ticks": "",
            "zerolinecolor": "white"
           },
           "yaxis": {
            "backgroundcolor": "#E5ECF6",
            "gridcolor": "white",
            "gridwidth": 2,
            "linecolor": "white",
            "showbackground": true,
            "ticks": "",
            "zerolinecolor": "white"
           },
           "zaxis": {
            "backgroundcolor": "#E5ECF6",
            "gridcolor": "white",
            "gridwidth": 2,
            "linecolor": "white",
            "showbackground": true,
            "ticks": "",
            "zerolinecolor": "white"
           }
          },
          "shapedefaults": {
           "line": {
            "color": "#2a3f5f"
           }
          },
          "ternary": {
           "aaxis": {
            "gridcolor": "white",
            "linecolor": "white",
            "ticks": ""
           },
           "baxis": {
            "gridcolor": "white",
            "linecolor": "white",
            "ticks": ""
           },
           "bgcolor": "#E5ECF6",
           "caxis": {
            "gridcolor": "white",
            "linecolor": "white",
            "ticks": ""
           }
          },
          "title": {
           "x": 0.05
          },
          "xaxis": {
           "automargin": true,
           "gridcolor": "white",
           "linecolor": "white",
           "ticks": "",
           "title": {
            "standoff": 15
           },
           "zerolinecolor": "white",
           "zerolinewidth": 2
          },
          "yaxis": {
           "automargin": true,
           "gridcolor": "white",
           "linecolor": "white",
           "ticks": "",
           "title": {
            "standoff": 15
           },
           "zerolinecolor": "white",
           "zerolinewidth": 2
          }
         }
        },
        "title": {
         "text": "netInterestIncome_QoQ"
        },
        "xaxis": {
         "anchor": "y",
         "domain": [
          0,
          1
         ],
         "title": {
          "text": "fiscalDateEnding"
         }
        },
        "yaxis": {
         "anchor": "x",
         "domain": [
          0,
          1
         ],
         "title": {
          "text": "netInterestIncome_QoQ"
         }
        }
       }
      }
     },
     "metadata": {},
     "output_type": "display_data"
    },
    {
     "data": {
      "application/vnd.plotly.v1+json": {
       "config": {
        "plotlyServerURL": "https://plot.ly"
       },
       "data": [
        {
         "alignmentgroup": "True",
         "hovertemplate": "fiscalDateEnding=%{x}<br>interestIncome_QoQ=%{y}<extra></extra>",
         "legendgroup": "",
         "marker": {
          "color": "#636efa",
          "pattern": {
           "shape": ""
          }
         },
         "name": "",
         "offsetgroup": "",
         "orientation": "v",
         "showlegend": false,
         "textposition": "auto",
         "type": "bar",
         "x": [
          "2014-09-30",
          "2014-12-31",
          "2015-03-31",
          "2015-06-30",
          "2015-09-30",
          "2015-12-31",
          "2016-03-31",
          "2016-06-30",
          "2016-09-30",
          "2016-12-31",
          "2017-03-31",
          "2017-06-30",
          "2017-09-30",
          "2017-12-31",
          "2018-03-31",
          "2018-06-30",
          "2018-09-30",
          "2018-12-31",
          "2019-03-31",
          "2019-06-30",
          "2019-09-30",
          "2019-12-31",
          "2020-03-31",
          "2020-06-30",
          "2020-09-30",
          "2020-12-31",
          "2021-03-31",
          "2021-06-30",
          "2021-09-30",
          "2021-12-31",
          "2022-03-31",
          "2022-06-30",
          "2022-09-30",
          "2022-12-31",
          "2023-03-31",
          "2023-06-30",
          "2023-09-30",
          "2023-12-31",
          "2024-03-31",
          "2024-06-30"
         ],
         "xaxis": "x",
         "y": [
          null,
          null,
          null,
          null,
          null,
          null,
          null,
          null,
          null,
          null,
          null,
          null,
          null,
          null,
          null,
          null,
          null,
          null,
          null,
          -53.91672547635851,
          -3.369065849923425,
          -1.5847860538827252,
          -5.636070853462161,
          -26.109215017064848,
          6.235565819861422,
          -16.086956521739125,
          -10.621761658031092,
          12.753623188405804,
          -0.5141388174807249,
          -2.3255813953488413,
          9.523809523809534,
          17.391304347826097,
          26.543209876543216,
          7.154471544715446,
          20.94081942336874,
          11.91969887076536,
          19.506726457399104,
          4.12757973733584,
          -4.414414414414414,
          2.7332704995287394
         ],
         "yaxis": "y"
        }
       ],
       "layout": {
        "barmode": "relative",
        "legend": {
         "tracegroupgap": 0
        },
        "template": {
         "data": {
          "bar": [
           {
            "error_x": {
             "color": "#2a3f5f"
            },
            "error_y": {
             "color": "#2a3f5f"
            },
            "marker": {
             "line": {
              "color": "#E5ECF6",
              "width": 0.5
             },
             "pattern": {
              "fillmode": "overlay",
              "size": 10,
              "solidity": 0.2
             }
            },
            "type": "bar"
           }
          ],
          "barpolar": [
           {
            "marker": {
             "line": {
              "color": "#E5ECF6",
              "width": 0.5
             },
             "pattern": {
              "fillmode": "overlay",
              "size": 10,
              "solidity": 0.2
             }
            },
            "type": "barpolar"
           }
          ],
          "carpet": [
           {
            "aaxis": {
             "endlinecolor": "#2a3f5f",
             "gridcolor": "white",
             "linecolor": "white",
             "minorgridcolor": "white",
             "startlinecolor": "#2a3f5f"
            },
            "baxis": {
             "endlinecolor": "#2a3f5f",
             "gridcolor": "white",
             "linecolor": "white",
             "minorgridcolor": "white",
             "startlinecolor": "#2a3f5f"
            },
            "type": "carpet"
           }
          ],
          "choropleth": [
           {
            "colorbar": {
             "outlinewidth": 0,
             "ticks": ""
            },
            "type": "choropleth"
           }
          ],
          "contour": [
           {
            "colorbar": {
             "outlinewidth": 0,
             "ticks": ""
            },
            "colorscale": [
             [
              0,
              "#0d0887"
             ],
             [
              0.1111111111111111,
              "#46039f"
             ],
             [
              0.2222222222222222,
              "#7201a8"
             ],
             [
              0.3333333333333333,
              "#9c179e"
             ],
             [
              0.4444444444444444,
              "#bd3786"
             ],
             [
              0.5555555555555556,
              "#d8576b"
             ],
             [
              0.6666666666666666,
              "#ed7953"
             ],
             [
              0.7777777777777778,
              "#fb9f3a"
             ],
             [
              0.8888888888888888,
              "#fdca26"
             ],
             [
              1,
              "#f0f921"
             ]
            ],
            "type": "contour"
           }
          ],
          "contourcarpet": [
           {
            "colorbar": {
             "outlinewidth": 0,
             "ticks": ""
            },
            "type": "contourcarpet"
           }
          ],
          "heatmap": [
           {
            "colorbar": {
             "outlinewidth": 0,
             "ticks": ""
            },
            "colorscale": [
             [
              0,
              "#0d0887"
             ],
             [
              0.1111111111111111,
              "#46039f"
             ],
             [
              0.2222222222222222,
              "#7201a8"
             ],
             [
              0.3333333333333333,
              "#9c179e"
             ],
             [
              0.4444444444444444,
              "#bd3786"
             ],
             [
              0.5555555555555556,
              "#d8576b"
             ],
             [
              0.6666666666666666,
              "#ed7953"
             ],
             [
              0.7777777777777778,
              "#fb9f3a"
             ],
             [
              0.8888888888888888,
              "#fdca26"
             ],
             [
              1,
              "#f0f921"
             ]
            ],
            "type": "heatmap"
           }
          ],
          "heatmapgl": [
           {
            "colorbar": {
             "outlinewidth": 0,
             "ticks": ""
            },
            "colorscale": [
             [
              0,
              "#0d0887"
             ],
             [
              0.1111111111111111,
              "#46039f"
             ],
             [
              0.2222222222222222,
              "#7201a8"
             ],
             [
              0.3333333333333333,
              "#9c179e"
             ],
             [
              0.4444444444444444,
              "#bd3786"
             ],
             [
              0.5555555555555556,
              "#d8576b"
             ],
             [
              0.6666666666666666,
              "#ed7953"
             ],
             [
              0.7777777777777778,
              "#fb9f3a"
             ],
             [
              0.8888888888888888,
              "#fdca26"
             ],
             [
              1,
              "#f0f921"
             ]
            ],
            "type": "heatmapgl"
           }
          ],
          "histogram": [
           {
            "marker": {
             "pattern": {
              "fillmode": "overlay",
              "size": 10,
              "solidity": 0.2
             }
            },
            "type": "histogram"
           }
          ],
          "histogram2d": [
           {
            "colorbar": {
             "outlinewidth": 0,
             "ticks": ""
            },
            "colorscale": [
             [
              0,
              "#0d0887"
             ],
             [
              0.1111111111111111,
              "#46039f"
             ],
             [
              0.2222222222222222,
              "#7201a8"
             ],
             [
              0.3333333333333333,
              "#9c179e"
             ],
             [
              0.4444444444444444,
              "#bd3786"
             ],
             [
              0.5555555555555556,
              "#d8576b"
             ],
             [
              0.6666666666666666,
              "#ed7953"
             ],
             [
              0.7777777777777778,
              "#fb9f3a"
             ],
             [
              0.8888888888888888,
              "#fdca26"
             ],
             [
              1,
              "#f0f921"
             ]
            ],
            "type": "histogram2d"
           }
          ],
          "histogram2dcontour": [
           {
            "colorbar": {
             "outlinewidth": 0,
             "ticks": ""
            },
            "colorscale": [
             [
              0,
              "#0d0887"
             ],
             [
              0.1111111111111111,
              "#46039f"
             ],
             [
              0.2222222222222222,
              "#7201a8"
             ],
             [
              0.3333333333333333,
              "#9c179e"
             ],
             [
              0.4444444444444444,
              "#bd3786"
             ],
             [
              0.5555555555555556,
              "#d8576b"
             ],
             [
              0.6666666666666666,
              "#ed7953"
             ],
             [
              0.7777777777777778,
              "#fb9f3a"
             ],
             [
              0.8888888888888888,
              "#fdca26"
             ],
             [
              1,
              "#f0f921"
             ]
            ],
            "type": "histogram2dcontour"
           }
          ],
          "mesh3d": [
           {
            "colorbar": {
             "outlinewidth": 0,
             "ticks": ""
            },
            "type": "mesh3d"
           }
          ],
          "parcoords": [
           {
            "line": {
             "colorbar": {
              "outlinewidth": 0,
              "ticks": ""
             }
            },
            "type": "parcoords"
           }
          ],
          "pie": [
           {
            "automargin": true,
            "type": "pie"
           }
          ],
          "scatter": [
           {
            "fillpattern": {
             "fillmode": "overlay",
             "size": 10,
             "solidity": 0.2
            },
            "type": "scatter"
           }
          ],
          "scatter3d": [
           {
            "line": {
             "colorbar": {
              "outlinewidth": 0,
              "ticks": ""
             }
            },
            "marker": {
             "colorbar": {
              "outlinewidth": 0,
              "ticks": ""
             }
            },
            "type": "scatter3d"
           }
          ],
          "scattercarpet": [
           {
            "marker": {
             "colorbar": {
              "outlinewidth": 0,
              "ticks": ""
             }
            },
            "type": "scattercarpet"
           }
          ],
          "scattergeo": [
           {
            "marker": {
             "colorbar": {
              "outlinewidth": 0,
              "ticks": ""
             }
            },
            "type": "scattergeo"
           }
          ],
          "scattergl": [
           {
            "marker": {
             "colorbar": {
              "outlinewidth": 0,
              "ticks": ""
             }
            },
            "type": "scattergl"
           }
          ],
          "scattermapbox": [
           {
            "marker": {
             "colorbar": {
              "outlinewidth": 0,
              "ticks": ""
             }
            },
            "type": "scattermapbox"
           }
          ],
          "scatterpolar": [
           {
            "marker": {
             "colorbar": {
              "outlinewidth": 0,
              "ticks": ""
             }
            },
            "type": "scatterpolar"
           }
          ],
          "scatterpolargl": [
           {
            "marker": {
             "colorbar": {
              "outlinewidth": 0,
              "ticks": ""
             }
            },
            "type": "scatterpolargl"
           }
          ],
          "scatterternary": [
           {
            "marker": {
             "colorbar": {
              "outlinewidth": 0,
              "ticks": ""
             }
            },
            "type": "scatterternary"
           }
          ],
          "surface": [
           {
            "colorbar": {
             "outlinewidth": 0,
             "ticks": ""
            },
            "colorscale": [
             [
              0,
              "#0d0887"
             ],
             [
              0.1111111111111111,
              "#46039f"
             ],
             [
              0.2222222222222222,
              "#7201a8"
             ],
             [
              0.3333333333333333,
              "#9c179e"
             ],
             [
              0.4444444444444444,
              "#bd3786"
             ],
             [
              0.5555555555555556,
              "#d8576b"
             ],
             [
              0.6666666666666666,
              "#ed7953"
             ],
             [
              0.7777777777777778,
              "#fb9f3a"
             ],
             [
              0.8888888888888888,
              "#fdca26"
             ],
             [
              1,
              "#f0f921"
             ]
            ],
            "type": "surface"
           }
          ],
          "table": [
           {
            "cells": {
             "fill": {
              "color": "#EBF0F8"
             },
             "line": {
              "color": "white"
             }
            },
            "header": {
             "fill": {
              "color": "#C8D4E3"
             },
             "line": {
              "color": "white"
             }
            },
            "type": "table"
           }
          ]
         },
         "layout": {
          "annotationdefaults": {
           "arrowcolor": "#2a3f5f",
           "arrowhead": 0,
           "arrowwidth": 1
          },
          "autotypenumbers": "strict",
          "coloraxis": {
           "colorbar": {
            "outlinewidth": 0,
            "ticks": ""
           }
          },
          "colorscale": {
           "diverging": [
            [
             0,
             "#8e0152"
            ],
            [
             0.1,
             "#c51b7d"
            ],
            [
             0.2,
             "#de77ae"
            ],
            [
             0.3,
             "#f1b6da"
            ],
            [
             0.4,
             "#fde0ef"
            ],
            [
             0.5,
             "#f7f7f7"
            ],
            [
             0.6,
             "#e6f5d0"
            ],
            [
             0.7,
             "#b8e186"
            ],
            [
             0.8,
             "#7fbc41"
            ],
            [
             0.9,
             "#4d9221"
            ],
            [
             1,
             "#276419"
            ]
           ],
           "sequential": [
            [
             0,
             "#0d0887"
            ],
            [
             0.1111111111111111,
             "#46039f"
            ],
            [
             0.2222222222222222,
             "#7201a8"
            ],
            [
             0.3333333333333333,
             "#9c179e"
            ],
            [
             0.4444444444444444,
             "#bd3786"
            ],
            [
             0.5555555555555556,
             "#d8576b"
            ],
            [
             0.6666666666666666,
             "#ed7953"
            ],
            [
             0.7777777777777778,
             "#fb9f3a"
            ],
            [
             0.8888888888888888,
             "#fdca26"
            ],
            [
             1,
             "#f0f921"
            ]
           ],
           "sequentialminus": [
            [
             0,
             "#0d0887"
            ],
            [
             0.1111111111111111,
             "#46039f"
            ],
            [
             0.2222222222222222,
             "#7201a8"
            ],
            [
             0.3333333333333333,
             "#9c179e"
            ],
            [
             0.4444444444444444,
             "#bd3786"
            ],
            [
             0.5555555555555556,
             "#d8576b"
            ],
            [
             0.6666666666666666,
             "#ed7953"
            ],
            [
             0.7777777777777778,
             "#fb9f3a"
            ],
            [
             0.8888888888888888,
             "#fdca26"
            ],
            [
             1,
             "#f0f921"
            ]
           ]
          },
          "colorway": [
           "#636efa",
           "#EF553B",
           "#00cc96",
           "#ab63fa",
           "#FFA15A",
           "#19d3f3",
           "#FF6692",
           "#B6E880",
           "#FF97FF",
           "#FECB52"
          ],
          "font": {
           "color": "#2a3f5f"
          },
          "geo": {
           "bgcolor": "white",
           "lakecolor": "white",
           "landcolor": "#E5ECF6",
           "showlakes": true,
           "showland": true,
           "subunitcolor": "white"
          },
          "hoverlabel": {
           "align": "left"
          },
          "hovermode": "closest",
          "mapbox": {
           "style": "light"
          },
          "paper_bgcolor": "white",
          "plot_bgcolor": "#E5ECF6",
          "polar": {
           "angularaxis": {
            "gridcolor": "white",
            "linecolor": "white",
            "ticks": ""
           },
           "bgcolor": "#E5ECF6",
           "radialaxis": {
            "gridcolor": "white",
            "linecolor": "white",
            "ticks": ""
           }
          },
          "scene": {
           "xaxis": {
            "backgroundcolor": "#E5ECF6",
            "gridcolor": "white",
            "gridwidth": 2,
            "linecolor": "white",
            "showbackground": true,
            "ticks": "",
            "zerolinecolor": "white"
           },
           "yaxis": {
            "backgroundcolor": "#E5ECF6",
            "gridcolor": "white",
            "gridwidth": 2,
            "linecolor": "white",
            "showbackground": true,
            "ticks": "",
            "zerolinecolor": "white"
           },
           "zaxis": {
            "backgroundcolor": "#E5ECF6",
            "gridcolor": "white",
            "gridwidth": 2,
            "linecolor": "white",
            "showbackground": true,
            "ticks": "",
            "zerolinecolor": "white"
           }
          },
          "shapedefaults": {
           "line": {
            "color": "#2a3f5f"
           }
          },
          "ternary": {
           "aaxis": {
            "gridcolor": "white",
            "linecolor": "white",
            "ticks": ""
           },
           "baxis": {
            "gridcolor": "white",
            "linecolor": "white",
            "ticks": ""
           },
           "bgcolor": "#E5ECF6",
           "caxis": {
            "gridcolor": "white",
            "linecolor": "white",
            "ticks": ""
           }
          },
          "title": {
           "x": 0.05
          },
          "xaxis": {
           "automargin": true,
           "gridcolor": "white",
           "linecolor": "white",
           "ticks": "",
           "title": {
            "standoff": 15
           },
           "zerolinecolor": "white",
           "zerolinewidth": 2
          },
          "yaxis": {
           "automargin": true,
           "gridcolor": "white",
           "linecolor": "white",
           "ticks": "",
           "title": {
            "standoff": 15
           },
           "zerolinecolor": "white",
           "zerolinewidth": 2
          }
         }
        },
        "title": {
         "text": "interestIncome_QoQ"
        },
        "xaxis": {
         "anchor": "y",
         "domain": [
          0,
          1
         ],
         "title": {
          "text": "fiscalDateEnding"
         }
        },
        "yaxis": {
         "anchor": "x",
         "domain": [
          0,
          1
         ],
         "title": {
          "text": "interestIncome_QoQ"
         }
        }
       }
      }
     },
     "metadata": {},
     "output_type": "display_data"
    },
    {
     "data": {
      "application/vnd.plotly.v1+json": {
       "config": {
        "plotlyServerURL": "https://plot.ly"
       },
       "data": [
        {
         "alignmentgroup": "True",
         "hovertemplate": "fiscalDateEnding=%{x}<br>interestExpense_QoQ=%{y}<extra></extra>",
         "legendgroup": "",
         "marker": {
          "color": "#636efa",
          "pattern": {
           "shape": ""
          }
         },
         "name": "",
         "offsetgroup": "",
         "orientation": "v",
         "showlegend": false,
         "textposition": "auto",
         "type": "bar",
         "x": [
          "2014-09-30",
          "2014-12-31",
          "2015-03-31",
          "2015-06-30",
          "2015-09-30",
          "2015-12-31",
          "2016-03-31",
          "2016-06-30",
          "2016-09-30",
          "2016-12-31",
          "2017-03-31",
          "2017-06-30",
          "2017-09-30",
          "2017-12-31",
          "2018-03-31",
          "2018-06-30",
          "2018-09-30",
          "2018-12-31",
          "2019-03-31",
          "2019-06-30",
          "2019-09-30",
          "2019-12-31",
          "2020-03-31",
          "2020-06-30",
          "2020-09-30",
          "2020-12-31",
          "2021-03-31",
          "2021-06-30",
          "2021-09-30",
          "2021-12-31",
          "2022-03-31",
          "2022-06-30",
          "2022-09-30",
          "2022-12-31",
          "2023-03-31",
          "2023-06-30",
          "2023-09-30",
          "2023-12-31",
          "2024-03-31",
          "2024-06-30"
         ],
         "xaxis": "x",
         "y": [
          null,
          0,
          4.0000000000000036,
          0,
          0,
          0,
          15.384615384615374,
          6.666666666666665,
          -9.375,
          13.793103448275868,
          -24.242424242424242,
          -16.000000000000004,
          28.57142857142858,
          33.33333333333333,
          -16.666666666666664,
          -9.999999999999998,
          3.703703703703698,
          3.571428571428581,
          20.68965517241379,
          -28.57142857142857,
          -7.9999999999999964,
          -26.086956521739136,
          23.529411764705888,
          -38.095238095238095,
          269.2307692307692,
          10.416666666666675,
          43.39622641509433,
          0,
          1.3157894736842035,
          51.94805194805194,
          -29.059829059829056,
          0,
          21.68674698795181,
          -10.89108910891089,
          -11.111111111111116,
          -46.25,
          169.7674418604651,
          -40.51724137931034,
          36.23188405797102,
          -54.255319148936174
         ],
         "yaxis": "y"
        }
       ],
       "layout": {
        "barmode": "relative",
        "legend": {
         "tracegroupgap": 0
        },
        "template": {
         "data": {
          "bar": [
           {
            "error_x": {
             "color": "#2a3f5f"
            },
            "error_y": {
             "color": "#2a3f5f"
            },
            "marker": {
             "line": {
              "color": "#E5ECF6",
              "width": 0.5
             },
             "pattern": {
              "fillmode": "overlay",
              "size": 10,
              "solidity": 0.2
             }
            },
            "type": "bar"
           }
          ],
          "barpolar": [
           {
            "marker": {
             "line": {
              "color": "#E5ECF6",
              "width": 0.5
             },
             "pattern": {
              "fillmode": "overlay",
              "size": 10,
              "solidity": 0.2
             }
            },
            "type": "barpolar"
           }
          ],
          "carpet": [
           {
            "aaxis": {
             "endlinecolor": "#2a3f5f",
             "gridcolor": "white",
             "linecolor": "white",
             "minorgridcolor": "white",
             "startlinecolor": "#2a3f5f"
            },
            "baxis": {
             "endlinecolor": "#2a3f5f",
             "gridcolor": "white",
             "linecolor": "white",
             "minorgridcolor": "white",
             "startlinecolor": "#2a3f5f"
            },
            "type": "carpet"
           }
          ],
          "choropleth": [
           {
            "colorbar": {
             "outlinewidth": 0,
             "ticks": ""
            },
            "type": "choropleth"
           }
          ],
          "contour": [
           {
            "colorbar": {
             "outlinewidth": 0,
             "ticks": ""
            },
            "colorscale": [
             [
              0,
              "#0d0887"
             ],
             [
              0.1111111111111111,
              "#46039f"
             ],
             [
              0.2222222222222222,
              "#7201a8"
             ],
             [
              0.3333333333333333,
              "#9c179e"
             ],
             [
              0.4444444444444444,
              "#bd3786"
             ],
             [
              0.5555555555555556,
              "#d8576b"
             ],
             [
              0.6666666666666666,
              "#ed7953"
             ],
             [
              0.7777777777777778,
              "#fb9f3a"
             ],
             [
              0.8888888888888888,
              "#fdca26"
             ],
             [
              1,
              "#f0f921"
             ]
            ],
            "type": "contour"
           }
          ],
          "contourcarpet": [
           {
            "colorbar": {
             "outlinewidth": 0,
             "ticks": ""
            },
            "type": "contourcarpet"
           }
          ],
          "heatmap": [
           {
            "colorbar": {
             "outlinewidth": 0,
             "ticks": ""
            },
            "colorscale": [
             [
              0,
              "#0d0887"
             ],
             [
              0.1111111111111111,
              "#46039f"
             ],
             [
              0.2222222222222222,
              "#7201a8"
             ],
             [
              0.3333333333333333,
              "#9c179e"
             ],
             [
              0.4444444444444444,
              "#bd3786"
             ],
             [
              0.5555555555555556,
              "#d8576b"
             ],
             [
              0.6666666666666666,
              "#ed7953"
             ],
             [
              0.7777777777777778,
              "#fb9f3a"
             ],
             [
              0.8888888888888888,
              "#fdca26"
             ],
             [
              1,
              "#f0f921"
             ]
            ],
            "type": "heatmap"
           }
          ],
          "heatmapgl": [
           {
            "colorbar": {
             "outlinewidth": 0,
             "ticks": ""
            },
            "colorscale": [
             [
              0,
              "#0d0887"
             ],
             [
              0.1111111111111111,
              "#46039f"
             ],
             [
              0.2222222222222222,
              "#7201a8"
             ],
             [
              0.3333333333333333,
              "#9c179e"
             ],
             [
              0.4444444444444444,
              "#bd3786"
             ],
             [
              0.5555555555555556,
              "#d8576b"
             ],
             [
              0.6666666666666666,
              "#ed7953"
             ],
             [
              0.7777777777777778,
              "#fb9f3a"
             ],
             [
              0.8888888888888888,
              "#fdca26"
             ],
             [
              1,
              "#f0f921"
             ]
            ],
            "type": "heatmapgl"
           }
          ],
          "histogram": [
           {
            "marker": {
             "pattern": {
              "fillmode": "overlay",
              "size": 10,
              "solidity": 0.2
             }
            },
            "type": "histogram"
           }
          ],
          "histogram2d": [
           {
            "colorbar": {
             "outlinewidth": 0,
             "ticks": ""
            },
            "colorscale": [
             [
              0,
              "#0d0887"
             ],
             [
              0.1111111111111111,
              "#46039f"
             ],
             [
              0.2222222222222222,
              "#7201a8"
             ],
             [
              0.3333333333333333,
              "#9c179e"
             ],
             [
              0.4444444444444444,
              "#bd3786"
             ],
             [
              0.5555555555555556,
              "#d8576b"
             ],
             [
              0.6666666666666666,
              "#ed7953"
             ],
             [
              0.7777777777777778,
              "#fb9f3a"
             ],
             [
              0.8888888888888888,
              "#fdca26"
             ],
             [
              1,
              "#f0f921"
             ]
            ],
            "type": "histogram2d"
           }
          ],
          "histogram2dcontour": [
           {
            "colorbar": {
             "outlinewidth": 0,
             "ticks": ""
            },
            "colorscale": [
             [
              0,
              "#0d0887"
             ],
             [
              0.1111111111111111,
              "#46039f"
             ],
             [
              0.2222222222222222,
              "#7201a8"
             ],
             [
              0.3333333333333333,
              "#9c179e"
             ],
             [
              0.4444444444444444,
              "#bd3786"
             ],
             [
              0.5555555555555556,
              "#d8576b"
             ],
             [
              0.6666666666666666,
              "#ed7953"
             ],
             [
              0.7777777777777778,
              "#fb9f3a"
             ],
             [
              0.8888888888888888,
              "#fdca26"
             ],
             [
              1,
              "#f0f921"
             ]
            ],
            "type": "histogram2dcontour"
           }
          ],
          "mesh3d": [
           {
            "colorbar": {
             "outlinewidth": 0,
             "ticks": ""
            },
            "type": "mesh3d"
           }
          ],
          "parcoords": [
           {
            "line": {
             "colorbar": {
              "outlinewidth": 0,
              "ticks": ""
             }
            },
            "type": "parcoords"
           }
          ],
          "pie": [
           {
            "automargin": true,
            "type": "pie"
           }
          ],
          "scatter": [
           {
            "fillpattern": {
             "fillmode": "overlay",
             "size": 10,
             "solidity": 0.2
            },
            "type": "scatter"
           }
          ],
          "scatter3d": [
           {
            "line": {
             "colorbar": {
              "outlinewidth": 0,
              "ticks": ""
             }
            },
            "marker": {
             "colorbar": {
              "outlinewidth": 0,
              "ticks": ""
             }
            },
            "type": "scatter3d"
           }
          ],
          "scattercarpet": [
           {
            "marker": {
             "colorbar": {
              "outlinewidth": 0,
              "ticks": ""
             }
            },
            "type": "scattercarpet"
           }
          ],
          "scattergeo": [
           {
            "marker": {
             "colorbar": {
              "outlinewidth": 0,
              "ticks": ""
             }
            },
            "type": "scattergeo"
           }
          ],
          "scattergl": [
           {
            "marker": {
             "colorbar": {
              "outlinewidth": 0,
              "ticks": ""
             }
            },
            "type": "scattergl"
           }
          ],
          "scattermapbox": [
           {
            "marker": {
             "colorbar": {
              "outlinewidth": 0,
              "ticks": ""
             }
            },
            "type": "scattermapbox"
           }
          ],
          "scatterpolar": [
           {
            "marker": {
             "colorbar": {
              "outlinewidth": 0,
              "ticks": ""
             }
            },
            "type": "scatterpolar"
           }
          ],
          "scatterpolargl": [
           {
            "marker": {
             "colorbar": {
              "outlinewidth": 0,
              "ticks": ""
             }
            },
            "type": "scatterpolargl"
           }
          ],
          "scatterternary": [
           {
            "marker": {
             "colorbar": {
              "outlinewidth": 0,
              "ticks": ""
             }
            },
            "type": "scatterternary"
           }
          ],
          "surface": [
           {
            "colorbar": {
             "outlinewidth": 0,
             "ticks": ""
            },
            "colorscale": [
             [
              0,
              "#0d0887"
             ],
             [
              0.1111111111111111,
              "#46039f"
             ],
             [
              0.2222222222222222,
              "#7201a8"
             ],
             [
              0.3333333333333333,
              "#9c179e"
             ],
             [
              0.4444444444444444,
              "#bd3786"
             ],
             [
              0.5555555555555556,
              "#d8576b"
             ],
             [
              0.6666666666666666,
              "#ed7953"
             ],
             [
              0.7777777777777778,
              "#fb9f3a"
             ],
             [
              0.8888888888888888,
              "#fdca26"
             ],
             [
              1,
              "#f0f921"
             ]
            ],
            "type": "surface"
           }
          ],
          "table": [
           {
            "cells": {
             "fill": {
              "color": "#EBF0F8"
             },
             "line": {
              "color": "white"
             }
            },
            "header": {
             "fill": {
              "color": "#C8D4E3"
             },
             "line": {
              "color": "white"
             }
            },
            "type": "table"
           }
          ]
         },
         "layout": {
          "annotationdefaults": {
           "arrowcolor": "#2a3f5f",
           "arrowhead": 0,
           "arrowwidth": 1
          },
          "autotypenumbers": "strict",
          "coloraxis": {
           "colorbar": {
            "outlinewidth": 0,
            "ticks": ""
           }
          },
          "colorscale": {
           "diverging": [
            [
             0,
             "#8e0152"
            ],
            [
             0.1,
             "#c51b7d"
            ],
            [
             0.2,
             "#de77ae"
            ],
            [
             0.3,
             "#f1b6da"
            ],
            [
             0.4,
             "#fde0ef"
            ],
            [
             0.5,
             "#f7f7f7"
            ],
            [
             0.6,
             "#e6f5d0"
            ],
            [
             0.7,
             "#b8e186"
            ],
            [
             0.8,
             "#7fbc41"
            ],
            [
             0.9,
             "#4d9221"
            ],
            [
             1,
             "#276419"
            ]
           ],
           "sequential": [
            [
             0,
             "#0d0887"
            ],
            [
             0.1111111111111111,
             "#46039f"
            ],
            [
             0.2222222222222222,
             "#7201a8"
            ],
            [
             0.3333333333333333,
             "#9c179e"
            ],
            [
             0.4444444444444444,
             "#bd3786"
            ],
            [
             0.5555555555555556,
             "#d8576b"
            ],
            [
             0.6666666666666666,
             "#ed7953"
            ],
            [
             0.7777777777777778,
             "#fb9f3a"
            ],
            [
             0.8888888888888888,
             "#fdca26"
            ],
            [
             1,
             "#f0f921"
            ]
           ],
           "sequentialminus": [
            [
             0,
             "#0d0887"
            ],
            [
             0.1111111111111111,
             "#46039f"
            ],
            [
             0.2222222222222222,
             "#7201a8"
            ],
            [
             0.3333333333333333,
             "#9c179e"
            ],
            [
             0.4444444444444444,
             "#bd3786"
            ],
            [
             0.5555555555555556,
             "#d8576b"
            ],
            [
             0.6666666666666666,
             "#ed7953"
            ],
            [
             0.7777777777777778,
             "#fb9f3a"
            ],
            [
             0.8888888888888888,
             "#fdca26"
            ],
            [
             1,
             "#f0f921"
            ]
           ]
          },
          "colorway": [
           "#636efa",
           "#EF553B",
           "#00cc96",
           "#ab63fa",
           "#FFA15A",
           "#19d3f3",
           "#FF6692",
           "#B6E880",
           "#FF97FF",
           "#FECB52"
          ],
          "font": {
           "color": "#2a3f5f"
          },
          "geo": {
           "bgcolor": "white",
           "lakecolor": "white",
           "landcolor": "#E5ECF6",
           "showlakes": true,
           "showland": true,
           "subunitcolor": "white"
          },
          "hoverlabel": {
           "align": "left"
          },
          "hovermode": "closest",
          "mapbox": {
           "style": "light"
          },
          "paper_bgcolor": "white",
          "plot_bgcolor": "#E5ECF6",
          "polar": {
           "angularaxis": {
            "gridcolor": "white",
            "linecolor": "white",
            "ticks": ""
           },
           "bgcolor": "#E5ECF6",
           "radialaxis": {
            "gridcolor": "white",
            "linecolor": "white",
            "ticks": ""
           }
          },
          "scene": {
           "xaxis": {
            "backgroundcolor": "#E5ECF6",
            "gridcolor": "white",
            "gridwidth": 2,
            "linecolor": "white",
            "showbackground": true,
            "ticks": "",
            "zerolinecolor": "white"
           },
           "yaxis": {
            "backgroundcolor": "#E5ECF6",
            "gridcolor": "white",
            "gridwidth": 2,
            "linecolor": "white",
            "showbackground": true,
            "ticks": "",
            "zerolinecolor": "white"
           },
           "zaxis": {
            "backgroundcolor": "#E5ECF6",
            "gridcolor": "white",
            "gridwidth": 2,
            "linecolor": "white",
            "showbackground": true,
            "ticks": "",
            "zerolinecolor": "white"
           }
          },
          "shapedefaults": {
           "line": {
            "color": "#2a3f5f"
           }
          },
          "ternary": {
           "aaxis": {
            "gridcolor": "white",
            "linecolor": "white",
            "ticks": ""
           },
           "baxis": {
            "gridcolor": "white",
            "linecolor": "white",
            "ticks": ""
           },
           "bgcolor": "#E5ECF6",
           "caxis": {
            "gridcolor": "white",
            "linecolor": "white",
            "ticks": ""
           }
          },
          "title": {
           "x": 0.05
          },
          "xaxis": {
           "automargin": true,
           "gridcolor": "white",
           "linecolor": "white",
           "ticks": "",
           "title": {
            "standoff": 15
           },
           "zerolinecolor": "white",
           "zerolinewidth": 2
          },
          "yaxis": {
           "automargin": true,
           "gridcolor": "white",
           "linecolor": "white",
           "ticks": "",
           "title": {
            "standoff": 15
           },
           "zerolinecolor": "white",
           "zerolinewidth": 2
          }
         }
        },
        "title": {
         "text": "interestExpense_QoQ"
        },
        "xaxis": {
         "anchor": "y",
         "domain": [
          0,
          1
         ],
         "title": {
          "text": "fiscalDateEnding"
         }
        },
        "yaxis": {
         "anchor": "x",
         "domain": [
          0,
          1
         ],
         "title": {
          "text": "interestExpense_QoQ"
         }
        }
       }
      }
     },
     "metadata": {},
     "output_type": "display_data"
    },
    {
     "data": {
      "application/vnd.plotly.v1+json": {
       "config": {
        "plotlyServerURL": "https://plot.ly"
       },
       "data": [
        {
         "alignmentgroup": "True",
         "hovertemplate": "fiscalDateEnding=%{x}<br>nonInterestIncome_QoQ=%{y}<extra></extra>",
         "legendgroup": "",
         "marker": {
          "color": "#636efa",
          "pattern": {
           "shape": ""
          }
         },
         "name": "",
         "offsetgroup": "",
         "orientation": "v",
         "showlegend": false,
         "textposition": "auto",
         "type": "bar",
         "x": [
          "2014-09-30",
          "2014-12-31",
          "2015-03-31",
          "2015-06-30",
          "2015-09-30",
          "2015-12-31",
          "2016-03-31",
          "2016-06-30",
          "2016-09-30",
          "2016-12-31",
          "2017-03-31",
          "2017-06-30",
          "2017-09-30",
          "2017-12-31",
          "2018-03-31",
          "2018-06-30",
          "2018-09-30",
          "2018-12-31",
          "2019-03-31",
          "2019-06-30",
          "2019-09-30",
          "2019-12-31",
          "2020-03-31",
          "2020-06-30",
          "2020-09-30",
          "2020-12-31",
          "2021-03-31",
          "2021-06-30",
          "2021-09-30",
          "2021-12-31",
          "2022-03-31",
          "2022-06-30",
          "2022-09-30",
          "2022-12-31",
          "2023-03-31",
          "2023-06-30",
          "2023-09-30",
          "2023-12-31",
          "2024-03-31",
          "2024-06-30"
         ],
         "xaxis": "x",
         "y": [
          null,
          null,
          null,
          null,
          null,
          61.00000000000001,
          15.527950310559003,
          -31.182795698924725,
          -3.90625,
          -69.10569105691057,
          -94.73684210526316,
          2200,
          15.217391304347828,
          -62.264150943396224,
          -155710,
          6.500224921277553,
          2.7575803288580447,
          19.398690507648485,
          -10.360005901736091,
          7.17910734370284,
          3.726644484259012,
          13.240882396486198,
          -9.984310991022404,
          -6.170418784797871,
          19.135213229792836,
          -371.7679414439777,
          -144.23930452520776,
          11.601433743403167,
          4.914460942543575,
          -379.42312129836165,
          -137.51507110257157,
          2.471309911655073,
          -0.43680004582820064,
          6.990693459530206,
          -6.204541482367809,
          6.679471375741763,
          2.6832021067906275,
          11.403635031338744,
          -5.485212243651483,
          5.302729035144416
         ],
         "yaxis": "y"
        }
       ],
       "layout": {
        "barmode": "relative",
        "legend": {
         "tracegroupgap": 0
        },
        "template": {
         "data": {
          "bar": [
           {
            "error_x": {
             "color": "#2a3f5f"
            },
            "error_y": {
             "color": "#2a3f5f"
            },
            "marker": {
             "line": {
              "color": "#E5ECF6",
              "width": 0.5
             },
             "pattern": {
              "fillmode": "overlay",
              "size": 10,
              "solidity": 0.2
             }
            },
            "type": "bar"
           }
          ],
          "barpolar": [
           {
            "marker": {
             "line": {
              "color": "#E5ECF6",
              "width": 0.5
             },
             "pattern": {
              "fillmode": "overlay",
              "size": 10,
              "solidity": 0.2
             }
            },
            "type": "barpolar"
           }
          ],
          "carpet": [
           {
            "aaxis": {
             "endlinecolor": "#2a3f5f",
             "gridcolor": "white",
             "linecolor": "white",
             "minorgridcolor": "white",
             "startlinecolor": "#2a3f5f"
            },
            "baxis": {
             "endlinecolor": "#2a3f5f",
             "gridcolor": "white",
             "linecolor": "white",
             "minorgridcolor": "white",
             "startlinecolor": "#2a3f5f"
            },
            "type": "carpet"
           }
          ],
          "choropleth": [
           {
            "colorbar": {
             "outlinewidth": 0,
             "ticks": ""
            },
            "type": "choropleth"
           }
          ],
          "contour": [
           {
            "colorbar": {
             "outlinewidth": 0,
             "ticks": ""
            },
            "colorscale": [
             [
              0,
              "#0d0887"
             ],
             [
              0.1111111111111111,
              "#46039f"
             ],
             [
              0.2222222222222222,
              "#7201a8"
             ],
             [
              0.3333333333333333,
              "#9c179e"
             ],
             [
              0.4444444444444444,
              "#bd3786"
             ],
             [
              0.5555555555555556,
              "#d8576b"
             ],
             [
              0.6666666666666666,
              "#ed7953"
             ],
             [
              0.7777777777777778,
              "#fb9f3a"
             ],
             [
              0.8888888888888888,
              "#fdca26"
             ],
             [
              1,
              "#f0f921"
             ]
            ],
            "type": "contour"
           }
          ],
          "contourcarpet": [
           {
            "colorbar": {
             "outlinewidth": 0,
             "ticks": ""
            },
            "type": "contourcarpet"
           }
          ],
          "heatmap": [
           {
            "colorbar": {
             "outlinewidth": 0,
             "ticks": ""
            },
            "colorscale": [
             [
              0,
              "#0d0887"
             ],
             [
              0.1111111111111111,
              "#46039f"
             ],
             [
              0.2222222222222222,
              "#7201a8"
             ],
             [
              0.3333333333333333,
              "#9c179e"
             ],
             [
              0.4444444444444444,
              "#bd3786"
             ],
             [
              0.5555555555555556,
              "#d8576b"
             ],
             [
              0.6666666666666666,
              "#ed7953"
             ],
             [
              0.7777777777777778,
              "#fb9f3a"
             ],
             [
              0.8888888888888888,
              "#fdca26"
             ],
             [
              1,
              "#f0f921"
             ]
            ],
            "type": "heatmap"
           }
          ],
          "heatmapgl": [
           {
            "colorbar": {
             "outlinewidth": 0,
             "ticks": ""
            },
            "colorscale": [
             [
              0,
              "#0d0887"
             ],
             [
              0.1111111111111111,
              "#46039f"
             ],
             [
              0.2222222222222222,
              "#7201a8"
             ],
             [
              0.3333333333333333,
              "#9c179e"
             ],
             [
              0.4444444444444444,
              "#bd3786"
             ],
             [
              0.5555555555555556,
              "#d8576b"
             ],
             [
              0.6666666666666666,
              "#ed7953"
             ],
             [
              0.7777777777777778,
              "#fb9f3a"
             ],
             [
              0.8888888888888888,
              "#fdca26"
             ],
             [
              1,
              "#f0f921"
             ]
            ],
            "type": "heatmapgl"
           }
          ],
          "histogram": [
           {
            "marker": {
             "pattern": {
              "fillmode": "overlay",
              "size": 10,
              "solidity": 0.2
             }
            },
            "type": "histogram"
           }
          ],
          "histogram2d": [
           {
            "colorbar": {
             "outlinewidth": 0,
             "ticks": ""
            },
            "colorscale": [
             [
              0,
              "#0d0887"
             ],
             [
              0.1111111111111111,
              "#46039f"
             ],
             [
              0.2222222222222222,
              "#7201a8"
             ],
             [
              0.3333333333333333,
              "#9c179e"
             ],
             [
              0.4444444444444444,
              "#bd3786"
             ],
             [
              0.5555555555555556,
              "#d8576b"
             ],
             [
              0.6666666666666666,
              "#ed7953"
             ],
             [
              0.7777777777777778,
              "#fb9f3a"
             ],
             [
              0.8888888888888888,
              "#fdca26"
             ],
             [
              1,
              "#f0f921"
             ]
            ],
            "type": "histogram2d"
           }
          ],
          "histogram2dcontour": [
           {
            "colorbar": {
             "outlinewidth": 0,
             "ticks": ""
            },
            "colorscale": [
             [
              0,
              "#0d0887"
             ],
             [
              0.1111111111111111,
              "#46039f"
             ],
             [
              0.2222222222222222,
              "#7201a8"
             ],
             [
              0.3333333333333333,
              "#9c179e"
             ],
             [
              0.4444444444444444,
              "#bd3786"
             ],
             [
              0.5555555555555556,
              "#d8576b"
             ],
             [
              0.6666666666666666,
              "#ed7953"
             ],
             [
              0.7777777777777778,
              "#fb9f3a"
             ],
             [
              0.8888888888888888,
              "#fdca26"
             ],
             [
              1,
              "#f0f921"
             ]
            ],
            "type": "histogram2dcontour"
           }
          ],
          "mesh3d": [
           {
            "colorbar": {
             "outlinewidth": 0,
             "ticks": ""
            },
            "type": "mesh3d"
           }
          ],
          "parcoords": [
           {
            "line": {
             "colorbar": {
              "outlinewidth": 0,
              "ticks": ""
             }
            },
            "type": "parcoords"
           }
          ],
          "pie": [
           {
            "automargin": true,
            "type": "pie"
           }
          ],
          "scatter": [
           {
            "fillpattern": {
             "fillmode": "overlay",
             "size": 10,
             "solidity": 0.2
            },
            "type": "scatter"
           }
          ],
          "scatter3d": [
           {
            "line": {
             "colorbar": {
              "outlinewidth": 0,
              "ticks": ""
             }
            },
            "marker": {
             "colorbar": {
              "outlinewidth": 0,
              "ticks": ""
             }
            },
            "type": "scatter3d"
           }
          ],
          "scattercarpet": [
           {
            "marker": {
             "colorbar": {
              "outlinewidth": 0,
              "ticks": ""
             }
            },
            "type": "scattercarpet"
           }
          ],
          "scattergeo": [
           {
            "marker": {
             "colorbar": {
              "outlinewidth": 0,
              "ticks": ""
             }
            },
            "type": "scattergeo"
           }
          ],
          "scattergl": [
           {
            "marker": {
             "colorbar": {
              "outlinewidth": 0,
              "ticks": ""
             }
            },
            "type": "scattergl"
           }
          ],
          "scattermapbox": [
           {
            "marker": {
             "colorbar": {
              "outlinewidth": 0,
              "ticks": ""
             }
            },
            "type": "scattermapbox"
           }
          ],
          "scatterpolar": [
           {
            "marker": {
             "colorbar": {
              "outlinewidth": 0,
              "ticks": ""
             }
            },
            "type": "scatterpolar"
           }
          ],
          "scatterpolargl": [
           {
            "marker": {
             "colorbar": {
              "outlinewidth": 0,
              "ticks": ""
             }
            },
            "type": "scatterpolargl"
           }
          ],
          "scatterternary": [
           {
            "marker": {
             "colorbar": {
              "outlinewidth": 0,
              "ticks": ""
             }
            },
            "type": "scatterternary"
           }
          ],
          "surface": [
           {
            "colorbar": {
             "outlinewidth": 0,
             "ticks": ""
            },
            "colorscale": [
             [
              0,
              "#0d0887"
             ],
             [
              0.1111111111111111,
              "#46039f"
             ],
             [
              0.2222222222222222,
              "#7201a8"
             ],
             [
              0.3333333333333333,
              "#9c179e"
             ],
             [
              0.4444444444444444,
              "#bd3786"
             ],
             [
              0.5555555555555556,
              "#d8576b"
             ],
             [
              0.6666666666666666,
              "#ed7953"
             ],
             [
              0.7777777777777778,
              "#fb9f3a"
             ],
             [
              0.8888888888888888,
              "#fdca26"
             ],
             [
              1,
              "#f0f921"
             ]
            ],
            "type": "surface"
           }
          ],
          "table": [
           {
            "cells": {
             "fill": {
              "color": "#EBF0F8"
             },
             "line": {
              "color": "white"
             }
            },
            "header": {
             "fill": {
              "color": "#C8D4E3"
             },
             "line": {
              "color": "white"
             }
            },
            "type": "table"
           }
          ]
         },
         "layout": {
          "annotationdefaults": {
           "arrowcolor": "#2a3f5f",
           "arrowhead": 0,
           "arrowwidth": 1
          },
          "autotypenumbers": "strict",
          "coloraxis": {
           "colorbar": {
            "outlinewidth": 0,
            "ticks": ""
           }
          },
          "colorscale": {
           "diverging": [
            [
             0,
             "#8e0152"
            ],
            [
             0.1,
             "#c51b7d"
            ],
            [
             0.2,
             "#de77ae"
            ],
            [
             0.3,
             "#f1b6da"
            ],
            [
             0.4,
             "#fde0ef"
            ],
            [
             0.5,
             "#f7f7f7"
            ],
            [
             0.6,
             "#e6f5d0"
            ],
            [
             0.7,
             "#b8e186"
            ],
            [
             0.8,
             "#7fbc41"
            ],
            [
             0.9,
             "#4d9221"
            ],
            [
             1,
             "#276419"
            ]
           ],
           "sequential": [
            [
             0,
             "#0d0887"
            ],
            [
             0.1111111111111111,
             "#46039f"
            ],
            [
             0.2222222222222222,
             "#7201a8"
            ],
            [
             0.3333333333333333,
             "#9c179e"
            ],
            [
             0.4444444444444444,
             "#bd3786"
            ],
            [
             0.5555555555555556,
             "#d8576b"
            ],
            [
             0.6666666666666666,
             "#ed7953"
            ],
            [
             0.7777777777777778,
             "#fb9f3a"
            ],
            [
             0.8888888888888888,
             "#fdca26"
            ],
            [
             1,
             "#f0f921"
            ]
           ],
           "sequentialminus": [
            [
             0,
             "#0d0887"
            ],
            [
             0.1111111111111111,
             "#46039f"
            ],
            [
             0.2222222222222222,
             "#7201a8"
            ],
            [
             0.3333333333333333,
             "#9c179e"
            ],
            [
             0.4444444444444444,
             "#bd3786"
            ],
            [
             0.5555555555555556,
             "#d8576b"
            ],
            [
             0.6666666666666666,
             "#ed7953"
            ],
            [
             0.7777777777777778,
             "#fb9f3a"
            ],
            [
             0.8888888888888888,
             "#fdca26"
            ],
            [
             1,
             "#f0f921"
            ]
           ]
          },
          "colorway": [
           "#636efa",
           "#EF553B",
           "#00cc96",
           "#ab63fa",
           "#FFA15A",
           "#19d3f3",
           "#FF6692",
           "#B6E880",
           "#FF97FF",
           "#FECB52"
          ],
          "font": {
           "color": "#2a3f5f"
          },
          "geo": {
           "bgcolor": "white",
           "lakecolor": "white",
           "landcolor": "#E5ECF6",
           "showlakes": true,
           "showland": true,
           "subunitcolor": "white"
          },
          "hoverlabel": {
           "align": "left"
          },
          "hovermode": "closest",
          "mapbox": {
           "style": "light"
          },
          "paper_bgcolor": "white",
          "plot_bgcolor": "#E5ECF6",
          "polar": {
           "angularaxis": {
            "gridcolor": "white",
            "linecolor": "white",
            "ticks": ""
           },
           "bgcolor": "#E5ECF6",
           "radialaxis": {
            "gridcolor": "white",
            "linecolor": "white",
            "ticks": ""
           }
          },
          "scene": {
           "xaxis": {
            "backgroundcolor": "#E5ECF6",
            "gridcolor": "white",
            "gridwidth": 2,
            "linecolor": "white",
            "showbackground": true,
            "ticks": "",
            "zerolinecolor": "white"
           },
           "yaxis": {
            "backgroundcolor": "#E5ECF6",
            "gridcolor": "white",
            "gridwidth": 2,
            "linecolor": "white",
            "showbackground": true,
            "ticks": "",
            "zerolinecolor": "white"
           },
           "zaxis": {
            "backgroundcolor": "#E5ECF6",
            "gridcolor": "white",
            "gridwidth": 2,
            "linecolor": "white",
            "showbackground": true,
            "ticks": "",
            "zerolinecolor": "white"
           }
          },
          "shapedefaults": {
           "line": {
            "color": "#2a3f5f"
           }
          },
          "ternary": {
           "aaxis": {
            "gridcolor": "white",
            "linecolor": "white",
            "ticks": ""
           },
           "baxis": {
            "gridcolor": "white",
            "linecolor": "white",
            "ticks": ""
           },
           "bgcolor": "#E5ECF6",
           "caxis": {
            "gridcolor": "white",
            "linecolor": "white",
            "ticks": ""
           }
          },
          "title": {
           "x": 0.05
          },
          "xaxis": {
           "automargin": true,
           "gridcolor": "white",
           "linecolor": "white",
           "ticks": "",
           "title": {
            "standoff": 15
           },
           "zerolinecolor": "white",
           "zerolinewidth": 2
          },
          "yaxis": {
           "automargin": true,
           "gridcolor": "white",
           "linecolor": "white",
           "ticks": "",
           "title": {
            "standoff": 15
           },
           "zerolinecolor": "white",
           "zerolinewidth": 2
          }
         }
        },
        "title": {
         "text": "nonInterestIncome_QoQ"
        },
        "xaxis": {
         "anchor": "y",
         "domain": [
          0,
          1
         ],
         "title": {
          "text": "fiscalDateEnding"
         }
        },
        "yaxis": {
         "anchor": "x",
         "domain": [
          0,
          1
         ],
         "title": {
          "text": "nonInterestIncome_QoQ"
         }
        }
       }
      }
     },
     "metadata": {},
     "output_type": "display_data"
    },
    {
     "data": {
      "application/vnd.plotly.v1+json": {
       "config": {
        "plotlyServerURL": "https://plot.ly"
       },
       "data": [
        {
         "alignmentgroup": "True",
         "hovertemplate": "fiscalDateEnding=%{x}<br>otherNonOperatingIncome_QoQ=%{y}<extra></extra>",
         "legendgroup": "",
         "marker": {
          "color": "#636efa",
          "pattern": {
           "shape": ""
          }
         },
         "name": "",
         "offsetgroup": "",
         "orientation": "v",
         "showlegend": false,
         "textposition": "auto",
         "type": "bar",
         "x": [
          "2014-09-30",
          "2014-12-31",
          "2015-03-31",
          "2015-06-30",
          "2015-09-30",
          "2015-12-31",
          "2016-03-31",
          "2016-06-30",
          "2016-09-30",
          "2016-12-31",
          "2017-03-31",
          "2017-06-30",
          "2017-09-30",
          "2017-12-31",
          "2018-03-31",
          "2018-06-30",
          "2018-09-30",
          "2018-12-31",
          "2019-03-31",
          "2019-06-30",
          "2019-09-30",
          "2019-12-31",
          "2020-03-31",
          "2020-06-30",
          "2020-09-30",
          "2020-12-31",
          "2021-03-31",
          "2021-06-30",
          "2021-09-30",
          "2021-12-31",
          "2022-03-31",
          "2022-06-30",
          "2022-09-30",
          "2022-12-31",
          "2023-03-31",
          "2023-06-30",
          "2023-09-30",
          "2023-12-31",
          "2024-03-31",
          "2024-06-30"
         ],
         "xaxis": "x",
         "y": [
          null,
          96.15384615384615,
          -31.372549019607842,
          -5.714285714285716,
          48.484848484848484,
          -28.57142857142857,
          -62.857142857142854,
          38.46153846153846,
          22.222222222222232,
          59.09090909090908,
          -2.857142857142858,
          0,
          38.23529411764706,
          -8.510638297872342,
          393.0232558139535,
          -76.88679245283019,
          0,
          38.775510204081634,
          -22.058823529411764,
          0,
          28.301886792452823,
          -205.88235294117646,
          -125,
          -916.6666666666666,
          -40.136054421768705,
          377.27272727272725,
          -188.8095238095238,
          -124.12868632707774,
          -108.88888888888889,
          1400,
          -204.16666666666669,
          -307.2,
          -44.78764478764479,
          -27.27272727272727,
          26.923076923076916,
          -28.787878787878785,
          27.65957446808511,
          -139.16666666666666,
          -642.5531914893617,
          -45.09803921568627
         ],
         "yaxis": "y"
        }
       ],
       "layout": {
        "barmode": "relative",
        "legend": {
         "tracegroupgap": 0
        },
        "template": {
         "data": {
          "bar": [
           {
            "error_x": {
             "color": "#2a3f5f"
            },
            "error_y": {
             "color": "#2a3f5f"
            },
            "marker": {
             "line": {
              "color": "#E5ECF6",
              "width": 0.5
             },
             "pattern": {
              "fillmode": "overlay",
              "size": 10,
              "solidity": 0.2
             }
            },
            "type": "bar"
           }
          ],
          "barpolar": [
           {
            "marker": {
             "line": {
              "color": "#E5ECF6",
              "width": 0.5
             },
             "pattern": {
              "fillmode": "overlay",
              "size": 10,
              "solidity": 0.2
             }
            },
            "type": "barpolar"
           }
          ],
          "carpet": [
           {
            "aaxis": {
             "endlinecolor": "#2a3f5f",
             "gridcolor": "white",
             "linecolor": "white",
             "minorgridcolor": "white",
             "startlinecolor": "#2a3f5f"
            },
            "baxis": {
             "endlinecolor": "#2a3f5f",
             "gridcolor": "white",
             "linecolor": "white",
             "minorgridcolor": "white",
             "startlinecolor": "#2a3f5f"
            },
            "type": "carpet"
           }
          ],
          "choropleth": [
           {
            "colorbar": {
             "outlinewidth": 0,
             "ticks": ""
            },
            "type": "choropleth"
           }
          ],
          "contour": [
           {
            "colorbar": {
             "outlinewidth": 0,
             "ticks": ""
            },
            "colorscale": [
             [
              0,
              "#0d0887"
             ],
             [
              0.1111111111111111,
              "#46039f"
             ],
             [
              0.2222222222222222,
              "#7201a8"
             ],
             [
              0.3333333333333333,
              "#9c179e"
             ],
             [
              0.4444444444444444,
              "#bd3786"
             ],
             [
              0.5555555555555556,
              "#d8576b"
             ],
             [
              0.6666666666666666,
              "#ed7953"
             ],
             [
              0.7777777777777778,
              "#fb9f3a"
             ],
             [
              0.8888888888888888,
              "#fdca26"
             ],
             [
              1,
              "#f0f921"
             ]
            ],
            "type": "contour"
           }
          ],
          "contourcarpet": [
           {
            "colorbar": {
             "outlinewidth": 0,
             "ticks": ""
            },
            "type": "contourcarpet"
           }
          ],
          "heatmap": [
           {
            "colorbar": {
             "outlinewidth": 0,
             "ticks": ""
            },
            "colorscale": [
             [
              0,
              "#0d0887"
             ],
             [
              0.1111111111111111,
              "#46039f"
             ],
             [
              0.2222222222222222,
              "#7201a8"
             ],
             [
              0.3333333333333333,
              "#9c179e"
             ],
             [
              0.4444444444444444,
              "#bd3786"
             ],
             [
              0.5555555555555556,
              "#d8576b"
             ],
             [
              0.6666666666666666,
              "#ed7953"
             ],
             [
              0.7777777777777778,
              "#fb9f3a"
             ],
             [
              0.8888888888888888,
              "#fdca26"
             ],
             [
              1,
              "#f0f921"
             ]
            ],
            "type": "heatmap"
           }
          ],
          "heatmapgl": [
           {
            "colorbar": {
             "outlinewidth": 0,
             "ticks": ""
            },
            "colorscale": [
             [
              0,
              "#0d0887"
             ],
             [
              0.1111111111111111,
              "#46039f"
             ],
             [
              0.2222222222222222,
              "#7201a8"
             ],
             [
              0.3333333333333333,
              "#9c179e"
             ],
             [
              0.4444444444444444,
              "#bd3786"
             ],
             [
              0.5555555555555556,
              "#d8576b"
             ],
             [
              0.6666666666666666,
              "#ed7953"
             ],
             [
              0.7777777777777778,
              "#fb9f3a"
             ],
             [
              0.8888888888888888,
              "#fdca26"
             ],
             [
              1,
              "#f0f921"
             ]
            ],
            "type": "heatmapgl"
           }
          ],
          "histogram": [
           {
            "marker": {
             "pattern": {
              "fillmode": "overlay",
              "size": 10,
              "solidity": 0.2
             }
            },
            "type": "histogram"
           }
          ],
          "histogram2d": [
           {
            "colorbar": {
             "outlinewidth": 0,
             "ticks": ""
            },
            "colorscale": [
             [
              0,
              "#0d0887"
             ],
             [
              0.1111111111111111,
              "#46039f"
             ],
             [
              0.2222222222222222,
              "#7201a8"
             ],
             [
              0.3333333333333333,
              "#9c179e"
             ],
             [
              0.4444444444444444,
              "#bd3786"
             ],
             [
              0.5555555555555556,
              "#d8576b"
             ],
             [
              0.6666666666666666,
              "#ed7953"
             ],
             [
              0.7777777777777778,
              "#fb9f3a"
             ],
             [
              0.8888888888888888,
              "#fdca26"
             ],
             [
              1,
              "#f0f921"
             ]
            ],
            "type": "histogram2d"
           }
          ],
          "histogram2dcontour": [
           {
            "colorbar": {
             "outlinewidth": 0,
             "ticks": ""
            },
            "colorscale": [
             [
              0,
              "#0d0887"
             ],
             [
              0.1111111111111111,
              "#46039f"
             ],
             [
              0.2222222222222222,
              "#7201a8"
             ],
             [
              0.3333333333333333,
              "#9c179e"
             ],
             [
              0.4444444444444444,
              "#bd3786"
             ],
             [
              0.5555555555555556,
              "#d8576b"
             ],
             [
              0.6666666666666666,
              "#ed7953"
             ],
             [
              0.7777777777777778,
              "#fb9f3a"
             ],
             [
              0.8888888888888888,
              "#fdca26"
             ],
             [
              1,
              "#f0f921"
             ]
            ],
            "type": "histogram2dcontour"
           }
          ],
          "mesh3d": [
           {
            "colorbar": {
             "outlinewidth": 0,
             "ticks": ""
            },
            "type": "mesh3d"
           }
          ],
          "parcoords": [
           {
            "line": {
             "colorbar": {
              "outlinewidth": 0,
              "ticks": ""
             }
            },
            "type": "parcoords"
           }
          ],
          "pie": [
           {
            "automargin": true,
            "type": "pie"
           }
          ],
          "scatter": [
           {
            "fillpattern": {
             "fillmode": "overlay",
             "size": 10,
             "solidity": 0.2
            },
            "type": "scatter"
           }
          ],
          "scatter3d": [
           {
            "line": {
             "colorbar": {
              "outlinewidth": 0,
              "ticks": ""
             }
            },
            "marker": {
             "colorbar": {
              "outlinewidth": 0,
              "ticks": ""
             }
            },
            "type": "scatter3d"
           }
          ],
          "scattercarpet": [
           {
            "marker": {
             "colorbar": {
              "outlinewidth": 0,
              "ticks": ""
             }
            },
            "type": "scattercarpet"
           }
          ],
          "scattergeo": [
           {
            "marker": {
             "colorbar": {
              "outlinewidth": 0,
              "ticks": ""
             }
            },
            "type": "scattergeo"
           }
          ],
          "scattergl": [
           {
            "marker": {
             "colorbar": {
              "outlinewidth": 0,
              "ticks": ""
             }
            },
            "type": "scattergl"
           }
          ],
          "scattermapbox": [
           {
            "marker": {
             "colorbar": {
              "outlinewidth": 0,
              "ticks": ""
             }
            },
            "type": "scattermapbox"
           }
          ],
          "scatterpolar": [
           {
            "marker": {
             "colorbar": {
              "outlinewidth": 0,
              "ticks": ""
             }
            },
            "type": "scatterpolar"
           }
          ],
          "scatterpolargl": [
           {
            "marker": {
             "colorbar": {
              "outlinewidth": 0,
              "ticks": ""
             }
            },
            "type": "scatterpolargl"
           }
          ],
          "scatterternary": [
           {
            "marker": {
             "colorbar": {
              "outlinewidth": 0,
              "ticks": ""
             }
            },
            "type": "scatterternary"
           }
          ],
          "surface": [
           {
            "colorbar": {
             "outlinewidth": 0,
             "ticks": ""
            },
            "colorscale": [
             [
              0,
              "#0d0887"
             ],
             [
              0.1111111111111111,
              "#46039f"
             ],
             [
              0.2222222222222222,
              "#7201a8"
             ],
             [
              0.3333333333333333,
              "#9c179e"
             ],
             [
              0.4444444444444444,
              "#bd3786"
             ],
             [
              0.5555555555555556,
              "#d8576b"
             ],
             [
              0.6666666666666666,
              "#ed7953"
             ],
             [
              0.7777777777777778,
              "#fb9f3a"
             ],
             [
              0.8888888888888888,
              "#fdca26"
             ],
             [
              1,
              "#f0f921"
             ]
            ],
            "type": "surface"
           }
          ],
          "table": [
           {
            "cells": {
             "fill": {
              "color": "#EBF0F8"
             },
             "line": {
              "color": "white"
             }
            },
            "header": {
             "fill": {
              "color": "#C8D4E3"
             },
             "line": {
              "color": "white"
             }
            },
            "type": "table"
           }
          ]
         },
         "layout": {
          "annotationdefaults": {
           "arrowcolor": "#2a3f5f",
           "arrowhead": 0,
           "arrowwidth": 1
          },
          "autotypenumbers": "strict",
          "coloraxis": {
           "colorbar": {
            "outlinewidth": 0,
            "ticks": ""
           }
          },
          "colorscale": {
           "diverging": [
            [
             0,
             "#8e0152"
            ],
            [
             0.1,
             "#c51b7d"
            ],
            [
             0.2,
             "#de77ae"
            ],
            [
             0.3,
             "#f1b6da"
            ],
            [
             0.4,
             "#fde0ef"
            ],
            [
             0.5,
             "#f7f7f7"
            ],
            [
             0.6,
             "#e6f5d0"
            ],
            [
             0.7,
             "#b8e186"
            ],
            [
             0.8,
             "#7fbc41"
            ],
            [
             0.9,
             "#4d9221"
            ],
            [
             1,
             "#276419"
            ]
           ],
           "sequential": [
            [
             0,
             "#0d0887"
            ],
            [
             0.1111111111111111,
             "#46039f"
            ],
            [
             0.2222222222222222,
             "#7201a8"
            ],
            [
             0.3333333333333333,
             "#9c179e"
            ],
            [
             0.4444444444444444,
             "#bd3786"
            ],
            [
             0.5555555555555556,
             "#d8576b"
            ],
            [
             0.6666666666666666,
             "#ed7953"
            ],
            [
             0.7777777777777778,
             "#fb9f3a"
            ],
            [
             0.8888888888888888,
             "#fdca26"
            ],
            [
             1,
             "#f0f921"
            ]
           ],
           "sequentialminus": [
            [
             0,
             "#0d0887"
            ],
            [
             0.1111111111111111,
             "#46039f"
            ],
            [
             0.2222222222222222,
             "#7201a8"
            ],
            [
             0.3333333333333333,
             "#9c179e"
            ],
            [
             0.4444444444444444,
             "#bd3786"
            ],
            [
             0.5555555555555556,
             "#d8576b"
            ],
            [
             0.6666666666666666,
             "#ed7953"
            ],
            [
             0.7777777777777778,
             "#fb9f3a"
            ],
            [
             0.8888888888888888,
             "#fdca26"
            ],
            [
             1,
             "#f0f921"
            ]
           ]
          },
          "colorway": [
           "#636efa",
           "#EF553B",
           "#00cc96",
           "#ab63fa",
           "#FFA15A",
           "#19d3f3",
           "#FF6692",
           "#B6E880",
           "#FF97FF",
           "#FECB52"
          ],
          "font": {
           "color": "#2a3f5f"
          },
          "geo": {
           "bgcolor": "white",
           "lakecolor": "white",
           "landcolor": "#E5ECF6",
           "showlakes": true,
           "showland": true,
           "subunitcolor": "white"
          },
          "hoverlabel": {
           "align": "left"
          },
          "hovermode": "closest",
          "mapbox": {
           "style": "light"
          },
          "paper_bgcolor": "white",
          "plot_bgcolor": "#E5ECF6",
          "polar": {
           "angularaxis": {
            "gridcolor": "white",
            "linecolor": "white",
            "ticks": ""
           },
           "bgcolor": "#E5ECF6",
           "radialaxis": {
            "gridcolor": "white",
            "linecolor": "white",
            "ticks": ""
           }
          },
          "scene": {
           "xaxis": {
            "backgroundcolor": "#E5ECF6",
            "gridcolor": "white",
            "gridwidth": 2,
            "linecolor": "white",
            "showbackground": true,
            "ticks": "",
            "zerolinecolor": "white"
           },
           "yaxis": {
            "backgroundcolor": "#E5ECF6",
            "gridcolor": "white",
            "gridwidth": 2,
            "linecolor": "white",
            "showbackground": true,
            "ticks": "",
            "zerolinecolor": "white"
           },
           "zaxis": {
            "backgroundcolor": "#E5ECF6",
            "gridcolor": "white",
            "gridwidth": 2,
            "linecolor": "white",
            "showbackground": true,
            "ticks": "",
            "zerolinecolor": "white"
           }
          },
          "shapedefaults": {
           "line": {
            "color": "#2a3f5f"
           }
          },
          "ternary": {
           "aaxis": {
            "gridcolor": "white",
            "linecolor": "white",
            "ticks": ""
           },
           "baxis": {
            "gridcolor": "white",
            "linecolor": "white",
            "ticks": ""
           },
           "bgcolor": "#E5ECF6",
           "caxis": {
            "gridcolor": "white",
            "linecolor": "white",
            "ticks": ""
           }
          },
          "title": {
           "x": 0.05
          },
          "xaxis": {
           "automargin": true,
           "gridcolor": "white",
           "linecolor": "white",
           "ticks": "",
           "title": {
            "standoff": 15
           },
           "zerolinecolor": "white",
           "zerolinewidth": 2
          },
          "yaxis": {
           "automargin": true,
           "gridcolor": "white",
           "linecolor": "white",
           "ticks": "",
           "title": {
            "standoff": 15
           },
           "zerolinecolor": "white",
           "zerolinewidth": 2
          }
         }
        },
        "title": {
         "text": "otherNonOperatingIncome_QoQ"
        },
        "xaxis": {
         "anchor": "y",
         "domain": [
          0,
          1
         ],
         "title": {
          "text": "fiscalDateEnding"
         }
        },
        "yaxis": {
         "anchor": "x",
         "domain": [
          0,
          1
         ],
         "title": {
          "text": "otherNonOperatingIncome_QoQ"
         }
        }
       }
      }
     },
     "metadata": {},
     "output_type": "display_data"
    },
    {
     "data": {
      "application/vnd.plotly.v1+json": {
       "config": {
        "plotlyServerURL": "https://plot.ly"
       },
       "data": [
        {
         "alignmentgroup": "True",
         "hovertemplate": "fiscalDateEnding=%{x}<br>depreciation_QoQ=%{y}<extra></extra>",
         "legendgroup": "",
         "marker": {
          "color": "#636efa",
          "pattern": {
           "shape": ""
          }
         },
         "name": "",
         "offsetgroup": "",
         "orientation": "v",
         "showlegend": false,
         "textposition": "auto",
         "type": "bar",
         "x": [
          "2014-09-30",
          "2014-12-31",
          "2015-03-31",
          "2015-06-30",
          "2015-09-30",
          "2015-12-31",
          "2016-03-31",
          "2016-06-30",
          "2016-09-30",
          "2016-12-31",
          "2017-03-31",
          "2017-06-30",
          "2017-09-30",
          "2017-12-31",
          "2018-03-31",
          "2018-06-30",
          "2018-09-30",
          "2018-12-31",
          "2019-03-31",
          "2019-06-30",
          "2019-09-30",
          "2019-12-31",
          "2020-03-31",
          "2020-06-30",
          "2020-09-30",
          "2020-12-31",
          "2021-03-31",
          "2021-06-30",
          "2021-09-30",
          "2021-12-31",
          "2022-03-31",
          "2022-06-30",
          "2022-09-30",
          "2022-12-31",
          "2023-03-31",
          "2023-06-30",
          "2023-09-30",
          "2023-12-31",
          "2024-03-31",
          "2024-06-30"
         ],
         "xaxis": "x",
         "y": [
          null,
          null,
          null,
          null,
          null,
          null,
          null,
          null,
          null,
          null,
          null,
          null,
          null,
          null,
          null,
          null,
          null,
          null,
          null,
          null,
          null,
          null,
          null,
          null,
          null,
          null,
          null,
          null,
          null,
          null,
          null,
          null,
          null,
          null,
          null,
          7.1726755218216365,
          0,
          0,
          20.856940509915024,
          8.643422209200114
         ],
         "yaxis": "y"
        }
       ],
       "layout": {
        "barmode": "relative",
        "legend": {
         "tracegroupgap": 0
        },
        "template": {
         "data": {
          "bar": [
           {
            "error_x": {
             "color": "#2a3f5f"
            },
            "error_y": {
             "color": "#2a3f5f"
            },
            "marker": {
             "line": {
              "color": "#E5ECF6",
              "width": 0.5
             },
             "pattern": {
              "fillmode": "overlay",
              "size": 10,
              "solidity": 0.2
             }
            },
            "type": "bar"
           }
          ],
          "barpolar": [
           {
            "marker": {
             "line": {
              "color": "#E5ECF6",
              "width": 0.5
             },
             "pattern": {
              "fillmode": "overlay",
              "size": 10,
              "solidity": 0.2
             }
            },
            "type": "barpolar"
           }
          ],
          "carpet": [
           {
            "aaxis": {
             "endlinecolor": "#2a3f5f",
             "gridcolor": "white",
             "linecolor": "white",
             "minorgridcolor": "white",
             "startlinecolor": "#2a3f5f"
            },
            "baxis": {
             "endlinecolor": "#2a3f5f",
             "gridcolor": "white",
             "linecolor": "white",
             "minorgridcolor": "white",
             "startlinecolor": "#2a3f5f"
            },
            "type": "carpet"
           }
          ],
          "choropleth": [
           {
            "colorbar": {
             "outlinewidth": 0,
             "ticks": ""
            },
            "type": "choropleth"
           }
          ],
          "contour": [
           {
            "colorbar": {
             "outlinewidth": 0,
             "ticks": ""
            },
            "colorscale": [
             [
              0,
              "#0d0887"
             ],
             [
              0.1111111111111111,
              "#46039f"
             ],
             [
              0.2222222222222222,
              "#7201a8"
             ],
             [
              0.3333333333333333,
              "#9c179e"
             ],
             [
              0.4444444444444444,
              "#bd3786"
             ],
             [
              0.5555555555555556,
              "#d8576b"
             ],
             [
              0.6666666666666666,
              "#ed7953"
             ],
             [
              0.7777777777777778,
              "#fb9f3a"
             ],
             [
              0.8888888888888888,
              "#fdca26"
             ],
             [
              1,
              "#f0f921"
             ]
            ],
            "type": "contour"
           }
          ],
          "contourcarpet": [
           {
            "colorbar": {
             "outlinewidth": 0,
             "ticks": ""
            },
            "type": "contourcarpet"
           }
          ],
          "heatmap": [
           {
            "colorbar": {
             "outlinewidth": 0,
             "ticks": ""
            },
            "colorscale": [
             [
              0,
              "#0d0887"
             ],
             [
              0.1111111111111111,
              "#46039f"
             ],
             [
              0.2222222222222222,
              "#7201a8"
             ],
             [
              0.3333333333333333,
              "#9c179e"
             ],
             [
              0.4444444444444444,
              "#bd3786"
             ],
             [
              0.5555555555555556,
              "#d8576b"
             ],
             [
              0.6666666666666666,
              "#ed7953"
             ],
             [
              0.7777777777777778,
              "#fb9f3a"
             ],
             [
              0.8888888888888888,
              "#fdca26"
             ],
             [
              1,
              "#f0f921"
             ]
            ],
            "type": "heatmap"
           }
          ],
          "heatmapgl": [
           {
            "colorbar": {
             "outlinewidth": 0,
             "ticks": ""
            },
            "colorscale": [
             [
              0,
              "#0d0887"
             ],
             [
              0.1111111111111111,
              "#46039f"
             ],
             [
              0.2222222222222222,
              "#7201a8"
             ],
             [
              0.3333333333333333,
              "#9c179e"
             ],
             [
              0.4444444444444444,
              "#bd3786"
             ],
             [
              0.5555555555555556,
              "#d8576b"
             ],
             [
              0.6666666666666666,
              "#ed7953"
             ],
             [
              0.7777777777777778,
              "#fb9f3a"
             ],
             [
              0.8888888888888888,
              "#fdca26"
             ],
             [
              1,
              "#f0f921"
             ]
            ],
            "type": "heatmapgl"
           }
          ],
          "histogram": [
           {
            "marker": {
             "pattern": {
              "fillmode": "overlay",
              "size": 10,
              "solidity": 0.2
             }
            },
            "type": "histogram"
           }
          ],
          "histogram2d": [
           {
            "colorbar": {
             "outlinewidth": 0,
             "ticks": ""
            },
            "colorscale": [
             [
              0,
              "#0d0887"
             ],
             [
              0.1111111111111111,
              "#46039f"
             ],
             [
              0.2222222222222222,
              "#7201a8"
             ],
             [
              0.3333333333333333,
              "#9c179e"
             ],
             [
              0.4444444444444444,
              "#bd3786"
             ],
             [
              0.5555555555555556,
              "#d8576b"
             ],
             [
              0.6666666666666666,
              "#ed7953"
             ],
             [
              0.7777777777777778,
              "#fb9f3a"
             ],
             [
              0.8888888888888888,
              "#fdca26"
             ],
             [
              1,
              "#f0f921"
             ]
            ],
            "type": "histogram2d"
           }
          ],
          "histogram2dcontour": [
           {
            "colorbar": {
             "outlinewidth": 0,
             "ticks": ""
            },
            "colorscale": [
             [
              0,
              "#0d0887"
             ],
             [
              0.1111111111111111,
              "#46039f"
             ],
             [
              0.2222222222222222,
              "#7201a8"
             ],
             [
              0.3333333333333333,
              "#9c179e"
             ],
             [
              0.4444444444444444,
              "#bd3786"
             ],
             [
              0.5555555555555556,
              "#d8576b"
             ],
             [
              0.6666666666666666,
              "#ed7953"
             ],
             [
              0.7777777777777778,
              "#fb9f3a"
             ],
             [
              0.8888888888888888,
              "#fdca26"
             ],
             [
              1,
              "#f0f921"
             ]
            ],
            "type": "histogram2dcontour"
           }
          ],
          "mesh3d": [
           {
            "colorbar": {
             "outlinewidth": 0,
             "ticks": ""
            },
            "type": "mesh3d"
           }
          ],
          "parcoords": [
           {
            "line": {
             "colorbar": {
              "outlinewidth": 0,
              "ticks": ""
             }
            },
            "type": "parcoords"
           }
          ],
          "pie": [
           {
            "automargin": true,
            "type": "pie"
           }
          ],
          "scatter": [
           {
            "fillpattern": {
             "fillmode": "overlay",
             "size": 10,
             "solidity": 0.2
            },
            "type": "scatter"
           }
          ],
          "scatter3d": [
           {
            "line": {
             "colorbar": {
              "outlinewidth": 0,
              "ticks": ""
             }
            },
            "marker": {
             "colorbar": {
              "outlinewidth": 0,
              "ticks": ""
             }
            },
            "type": "scatter3d"
           }
          ],
          "scattercarpet": [
           {
            "marker": {
             "colorbar": {
              "outlinewidth": 0,
              "ticks": ""
             }
            },
            "type": "scattercarpet"
           }
          ],
          "scattergeo": [
           {
            "marker": {
             "colorbar": {
              "outlinewidth": 0,
              "ticks": ""
             }
            },
            "type": "scattergeo"
           }
          ],
          "scattergl": [
           {
            "marker": {
             "colorbar": {
              "outlinewidth": 0,
              "ticks": ""
             }
            },
            "type": "scattergl"
           }
          ],
          "scattermapbox": [
           {
            "marker": {
             "colorbar": {
              "outlinewidth": 0,
              "ticks": ""
             }
            },
            "type": "scattermapbox"
           }
          ],
          "scatterpolar": [
           {
            "marker": {
             "colorbar": {
              "outlinewidth": 0,
              "ticks": ""
             }
            },
            "type": "scatterpolar"
           }
          ],
          "scatterpolargl": [
           {
            "marker": {
             "colorbar": {
              "outlinewidth": 0,
              "ticks": ""
             }
            },
            "type": "scatterpolargl"
           }
          ],
          "scatterternary": [
           {
            "marker": {
             "colorbar": {
              "outlinewidth": 0,
              "ticks": ""
             }
            },
            "type": "scatterternary"
           }
          ],
          "surface": [
           {
            "colorbar": {
             "outlinewidth": 0,
             "ticks": ""
            },
            "colorscale": [
             [
              0,
              "#0d0887"
             ],
             [
              0.1111111111111111,
              "#46039f"
             ],
             [
              0.2222222222222222,
              "#7201a8"
             ],
             [
              0.3333333333333333,
              "#9c179e"
             ],
             [
              0.4444444444444444,
              "#bd3786"
             ],
             [
              0.5555555555555556,
              "#d8576b"
             ],
             [
              0.6666666666666666,
              "#ed7953"
             ],
             [
              0.7777777777777778,
              "#fb9f3a"
             ],
             [
              0.8888888888888888,
              "#fdca26"
             ],
             [
              1,
              "#f0f921"
             ]
            ],
            "type": "surface"
           }
          ],
          "table": [
           {
            "cells": {
             "fill": {
              "color": "#EBF0F8"
             },
             "line": {
              "color": "white"
             }
            },
            "header": {
             "fill": {
              "color": "#C8D4E3"
             },
             "line": {
              "color": "white"
             }
            },
            "type": "table"
           }
          ]
         },
         "layout": {
          "annotationdefaults": {
           "arrowcolor": "#2a3f5f",
           "arrowhead": 0,
           "arrowwidth": 1
          },
          "autotypenumbers": "strict",
          "coloraxis": {
           "colorbar": {
            "outlinewidth": 0,
            "ticks": ""
           }
          },
          "colorscale": {
           "diverging": [
            [
             0,
             "#8e0152"
            ],
            [
             0.1,
             "#c51b7d"
            ],
            [
             0.2,
             "#de77ae"
            ],
            [
             0.3,
             "#f1b6da"
            ],
            [
             0.4,
             "#fde0ef"
            ],
            [
             0.5,
             "#f7f7f7"
            ],
            [
             0.6,
             "#e6f5d0"
            ],
            [
             0.7,
             "#b8e186"
            ],
            [
             0.8,
             "#7fbc41"
            ],
            [
             0.9,
             "#4d9221"
            ],
            [
             1,
             "#276419"
            ]
           ],
           "sequential": [
            [
             0,
             "#0d0887"
            ],
            [
             0.1111111111111111,
             "#46039f"
            ],
            [
             0.2222222222222222,
             "#7201a8"
            ],
            [
             0.3333333333333333,
             "#9c179e"
            ],
            [
             0.4444444444444444,
             "#bd3786"
            ],
            [
             0.5555555555555556,
             "#d8576b"
            ],
            [
             0.6666666666666666,
             "#ed7953"
            ],
            [
             0.7777777777777778,
             "#fb9f3a"
            ],
            [
             0.8888888888888888,
             "#fdca26"
            ],
            [
             1,
             "#f0f921"
            ]
           ],
           "sequentialminus": [
            [
             0,
             "#0d0887"
            ],
            [
             0.1111111111111111,
             "#46039f"
            ],
            [
             0.2222222222222222,
             "#7201a8"
            ],
            [
             0.3333333333333333,
             "#9c179e"
            ],
            [
             0.4444444444444444,
             "#bd3786"
            ],
            [
             0.5555555555555556,
             "#d8576b"
            ],
            [
             0.6666666666666666,
             "#ed7953"
            ],
            [
             0.7777777777777778,
             "#fb9f3a"
            ],
            [
             0.8888888888888888,
             "#fdca26"
            ],
            [
             1,
             "#f0f921"
            ]
           ]
          },
          "colorway": [
           "#636efa",
           "#EF553B",
           "#00cc96",
           "#ab63fa",
           "#FFA15A",
           "#19d3f3",
           "#FF6692",
           "#B6E880",
           "#FF97FF",
           "#FECB52"
          ],
          "font": {
           "color": "#2a3f5f"
          },
          "geo": {
           "bgcolor": "white",
           "lakecolor": "white",
           "landcolor": "#E5ECF6",
           "showlakes": true,
           "showland": true,
           "subunitcolor": "white"
          },
          "hoverlabel": {
           "align": "left"
          },
          "hovermode": "closest",
          "mapbox": {
           "style": "light"
          },
          "paper_bgcolor": "white",
          "plot_bgcolor": "#E5ECF6",
          "polar": {
           "angularaxis": {
            "gridcolor": "white",
            "linecolor": "white",
            "ticks": ""
           },
           "bgcolor": "#E5ECF6",
           "radialaxis": {
            "gridcolor": "white",
            "linecolor": "white",
            "ticks": ""
           }
          },
          "scene": {
           "xaxis": {
            "backgroundcolor": "#E5ECF6",
            "gridcolor": "white",
            "gridwidth": 2,
            "linecolor": "white",
            "showbackground": true,
            "ticks": "",
            "zerolinecolor": "white"
           },
           "yaxis": {
            "backgroundcolor": "#E5ECF6",
            "gridcolor": "white",
            "gridwidth": 2,
            "linecolor": "white",
            "showbackground": true,
            "ticks": "",
            "zerolinecolor": "white"
           },
           "zaxis": {
            "backgroundcolor": "#E5ECF6",
            "gridcolor": "white",
            "gridwidth": 2,
            "linecolor": "white",
            "showbackground": true,
            "ticks": "",
            "zerolinecolor": "white"
           }
          },
          "shapedefaults": {
           "line": {
            "color": "#2a3f5f"
           }
          },
          "ternary": {
           "aaxis": {
            "gridcolor": "white",
            "linecolor": "white",
            "ticks": ""
           },
           "baxis": {
            "gridcolor": "white",
            "linecolor": "white",
            "ticks": ""
           },
           "bgcolor": "#E5ECF6",
           "caxis": {
            "gridcolor": "white",
            "linecolor": "white",
            "ticks": ""
           }
          },
          "title": {
           "x": 0.05
          },
          "xaxis": {
           "automargin": true,
           "gridcolor": "white",
           "linecolor": "white",
           "ticks": "",
           "title": {
            "standoff": 15
           },
           "zerolinecolor": "white",
           "zerolinewidth": 2
          },
          "yaxis": {
           "automargin": true,
           "gridcolor": "white",
           "linecolor": "white",
           "ticks": "",
           "title": {
            "standoff": 15
           },
           "zerolinecolor": "white",
           "zerolinewidth": 2
          }
         }
        },
        "title": {
         "text": "depreciation_QoQ"
        },
        "xaxis": {
         "anchor": "y",
         "domain": [
          0,
          1
         ],
         "title": {
          "text": "fiscalDateEnding"
         }
        },
        "yaxis": {
         "anchor": "x",
         "domain": [
          0,
          1
         ],
         "title": {
          "text": "depreciation_QoQ"
         }
        }
       }
      }
     },
     "metadata": {},
     "output_type": "display_data"
    },
    {
     "data": {
      "application/vnd.plotly.v1+json": {
       "config": {
        "plotlyServerURL": "https://plot.ly"
       },
       "data": [
        {
         "alignmentgroup": "True",
         "hovertemplate": "fiscalDateEnding=%{x}<br>depreciationAndAmortization_QoQ=%{y}<extra></extra>",
         "legendgroup": "",
         "marker": {
          "color": "#636efa",
          "pattern": {
           "shape": ""
          }
         },
         "name": "",
         "offsetgroup": "",
         "orientation": "v",
         "showlegend": false,
         "textposition": "auto",
         "type": "bar",
         "x": [
          "2014-09-30",
          "2014-12-31",
          "2015-03-31",
          "2015-06-30",
          "2015-09-30",
          "2015-12-31",
          "2016-03-31",
          "2016-06-30",
          "2016-09-30",
          "2016-12-31",
          "2017-03-31",
          "2017-06-30",
          "2017-09-30",
          "2017-12-31",
          "2018-03-31",
          "2018-06-30",
          "2018-09-30",
          "2018-12-31",
          "2019-03-31",
          "2019-06-30",
          "2019-09-30",
          "2019-12-31",
          "2020-03-31",
          "2020-06-30",
          "2020-09-30",
          "2020-12-31",
          "2021-03-31",
          "2021-06-30",
          "2021-09-30",
          "2021-12-31",
          "2022-03-31",
          "2022-06-30",
          "2022-09-30",
          "2022-12-31",
          "2023-03-31",
          "2023-06-30",
          "2023-09-30",
          "2023-12-31",
          "2024-03-31",
          "2024-06-30"
         ],
         "xaxis": "x",
         "y": [
          null,
          -18.09954751131222,
          -7.103393843725336,
          4.8428207306711935,
          1.1345218800648205,
          12.5,
          -2.350427350427353,
          8.679795769511301,
          7.114093959731549,
          5.701754385964919,
          -10.906935388263184,
          8.1170991350632,
          8.369230769230773,
          15.048268029528678,
          -1.9743336623889385,
          6.445115810674729,
          11.400189214758761,
          9.554140127388532,
          1.2790697674418539,
          8.495981630309979,
          2.998236331569659,
          16.88356164383562,
          -8.936419572223853,
          8.944658944658945,
          2.717070289427048,
          7.101782633697518,
          -26.093959731543627,
          6.974209952778776,
          12.190152801358245,
          4.085956416464898,
          22.564699040418734,
          14.922894424673782,
          -1.7547481420313815,
          7.711704139525111,
          -18.415918845103395,
          2.3912003825920625,
          -11.256422232601594,
          -58.86842105263158,
          118.3621241202815,
          0
         ],
         "yaxis": "y"
        }
       ],
       "layout": {
        "barmode": "relative",
        "legend": {
         "tracegroupgap": 0
        },
        "template": {
         "data": {
          "bar": [
           {
            "error_x": {
             "color": "#2a3f5f"
            },
            "error_y": {
             "color": "#2a3f5f"
            },
            "marker": {
             "line": {
              "color": "#E5ECF6",
              "width": 0.5
             },
             "pattern": {
              "fillmode": "overlay",
              "size": 10,
              "solidity": 0.2
             }
            },
            "type": "bar"
           }
          ],
          "barpolar": [
           {
            "marker": {
             "line": {
              "color": "#E5ECF6",
              "width": 0.5
             },
             "pattern": {
              "fillmode": "overlay",
              "size": 10,
              "solidity": 0.2
             }
            },
            "type": "barpolar"
           }
          ],
          "carpet": [
           {
            "aaxis": {
             "endlinecolor": "#2a3f5f",
             "gridcolor": "white",
             "linecolor": "white",
             "minorgridcolor": "white",
             "startlinecolor": "#2a3f5f"
            },
            "baxis": {
             "endlinecolor": "#2a3f5f",
             "gridcolor": "white",
             "linecolor": "white",
             "minorgridcolor": "white",
             "startlinecolor": "#2a3f5f"
            },
            "type": "carpet"
           }
          ],
          "choropleth": [
           {
            "colorbar": {
             "outlinewidth": 0,
             "ticks": ""
            },
            "type": "choropleth"
           }
          ],
          "contour": [
           {
            "colorbar": {
             "outlinewidth": 0,
             "ticks": ""
            },
            "colorscale": [
             [
              0,
              "#0d0887"
             ],
             [
              0.1111111111111111,
              "#46039f"
             ],
             [
              0.2222222222222222,
              "#7201a8"
             ],
             [
              0.3333333333333333,
              "#9c179e"
             ],
             [
              0.4444444444444444,
              "#bd3786"
             ],
             [
              0.5555555555555556,
              "#d8576b"
             ],
             [
              0.6666666666666666,
              "#ed7953"
             ],
             [
              0.7777777777777778,
              "#fb9f3a"
             ],
             [
              0.8888888888888888,
              "#fdca26"
             ],
             [
              1,
              "#f0f921"
             ]
            ],
            "type": "contour"
           }
          ],
          "contourcarpet": [
           {
            "colorbar": {
             "outlinewidth": 0,
             "ticks": ""
            },
            "type": "contourcarpet"
           }
          ],
          "heatmap": [
           {
            "colorbar": {
             "outlinewidth": 0,
             "ticks": ""
            },
            "colorscale": [
             [
              0,
              "#0d0887"
             ],
             [
              0.1111111111111111,
              "#46039f"
             ],
             [
              0.2222222222222222,
              "#7201a8"
             ],
             [
              0.3333333333333333,
              "#9c179e"
             ],
             [
              0.4444444444444444,
              "#bd3786"
             ],
             [
              0.5555555555555556,
              "#d8576b"
             ],
             [
              0.6666666666666666,
              "#ed7953"
             ],
             [
              0.7777777777777778,
              "#fb9f3a"
             ],
             [
              0.8888888888888888,
              "#fdca26"
             ],
             [
              1,
              "#f0f921"
             ]
            ],
            "type": "heatmap"
           }
          ],
          "heatmapgl": [
           {
            "colorbar": {
             "outlinewidth": 0,
             "ticks": ""
            },
            "colorscale": [
             [
              0,
              "#0d0887"
             ],
             [
              0.1111111111111111,
              "#46039f"
             ],
             [
              0.2222222222222222,
              "#7201a8"
             ],
             [
              0.3333333333333333,
              "#9c179e"
             ],
             [
              0.4444444444444444,
              "#bd3786"
             ],
             [
              0.5555555555555556,
              "#d8576b"
             ],
             [
              0.6666666666666666,
              "#ed7953"
             ],
             [
              0.7777777777777778,
              "#fb9f3a"
             ],
             [
              0.8888888888888888,
              "#fdca26"
             ],
             [
              1,
              "#f0f921"
             ]
            ],
            "type": "heatmapgl"
           }
          ],
          "histogram": [
           {
            "marker": {
             "pattern": {
              "fillmode": "overlay",
              "size": 10,
              "solidity": 0.2
             }
            },
            "type": "histogram"
           }
          ],
          "histogram2d": [
           {
            "colorbar": {
             "outlinewidth": 0,
             "ticks": ""
            },
            "colorscale": [
             [
              0,
              "#0d0887"
             ],
             [
              0.1111111111111111,
              "#46039f"
             ],
             [
              0.2222222222222222,
              "#7201a8"
             ],
             [
              0.3333333333333333,
              "#9c179e"
             ],
             [
              0.4444444444444444,
              "#bd3786"
             ],
             [
              0.5555555555555556,
              "#d8576b"
             ],
             [
              0.6666666666666666,
              "#ed7953"
             ],
             [
              0.7777777777777778,
              "#fb9f3a"
             ],
             [
              0.8888888888888888,
              "#fdca26"
             ],
             [
              1,
              "#f0f921"
             ]
            ],
            "type": "histogram2d"
           }
          ],
          "histogram2dcontour": [
           {
            "colorbar": {
             "outlinewidth": 0,
             "ticks": ""
            },
            "colorscale": [
             [
              0,
              "#0d0887"
             ],
             [
              0.1111111111111111,
              "#46039f"
             ],
             [
              0.2222222222222222,
              "#7201a8"
             ],
             [
              0.3333333333333333,
              "#9c179e"
             ],
             [
              0.4444444444444444,
              "#bd3786"
             ],
             [
              0.5555555555555556,
              "#d8576b"
             ],
             [
              0.6666666666666666,
              "#ed7953"
             ],
             [
              0.7777777777777778,
              "#fb9f3a"
             ],
             [
              0.8888888888888888,
              "#fdca26"
             ],
             [
              1,
              "#f0f921"
             ]
            ],
            "type": "histogram2dcontour"
           }
          ],
          "mesh3d": [
           {
            "colorbar": {
             "outlinewidth": 0,
             "ticks": ""
            },
            "type": "mesh3d"
           }
          ],
          "parcoords": [
           {
            "line": {
             "colorbar": {
              "outlinewidth": 0,
              "ticks": ""
             }
            },
            "type": "parcoords"
           }
          ],
          "pie": [
           {
            "automargin": true,
            "type": "pie"
           }
          ],
          "scatter": [
           {
            "fillpattern": {
             "fillmode": "overlay",
             "size": 10,
             "solidity": 0.2
            },
            "type": "scatter"
           }
          ],
          "scatter3d": [
           {
            "line": {
             "colorbar": {
              "outlinewidth": 0,
              "ticks": ""
             }
            },
            "marker": {
             "colorbar": {
              "outlinewidth": 0,
              "ticks": ""
             }
            },
            "type": "scatter3d"
           }
          ],
          "scattercarpet": [
           {
            "marker": {
             "colorbar": {
              "outlinewidth": 0,
              "ticks": ""
             }
            },
            "type": "scattercarpet"
           }
          ],
          "scattergeo": [
           {
            "marker": {
             "colorbar": {
              "outlinewidth": 0,
              "ticks": ""
             }
            },
            "type": "scattergeo"
           }
          ],
          "scattergl": [
           {
            "marker": {
             "colorbar": {
              "outlinewidth": 0,
              "ticks": ""
             }
            },
            "type": "scattergl"
           }
          ],
          "scattermapbox": [
           {
            "marker": {
             "colorbar": {
              "outlinewidth": 0,
              "ticks": ""
             }
            },
            "type": "scattermapbox"
           }
          ],
          "scatterpolar": [
           {
            "marker": {
             "colorbar": {
              "outlinewidth": 0,
              "ticks": ""
             }
            },
            "type": "scatterpolar"
           }
          ],
          "scatterpolargl": [
           {
            "marker": {
             "colorbar": {
              "outlinewidth": 0,
              "ticks": ""
             }
            },
            "type": "scatterpolargl"
           }
          ],
          "scatterternary": [
           {
            "marker": {
             "colorbar": {
              "outlinewidth": 0,
              "ticks": ""
             }
            },
            "type": "scatterternary"
           }
          ],
          "surface": [
           {
            "colorbar": {
             "outlinewidth": 0,
             "ticks": ""
            },
            "colorscale": [
             [
              0,
              "#0d0887"
             ],
             [
              0.1111111111111111,
              "#46039f"
             ],
             [
              0.2222222222222222,
              "#7201a8"
             ],
             [
              0.3333333333333333,
              "#9c179e"
             ],
             [
              0.4444444444444444,
              "#bd3786"
             ],
             [
              0.5555555555555556,
              "#d8576b"
             ],
             [
              0.6666666666666666,
              "#ed7953"
             ],
             [
              0.7777777777777778,
              "#fb9f3a"
             ],
             [
              0.8888888888888888,
              "#fdca26"
             ],
             [
              1,
              "#f0f921"
             ]
            ],
            "type": "surface"
           }
          ],
          "table": [
           {
            "cells": {
             "fill": {
              "color": "#EBF0F8"
             },
             "line": {
              "color": "white"
             }
            },
            "header": {
             "fill": {
              "color": "#C8D4E3"
             },
             "line": {
              "color": "white"
             }
            },
            "type": "table"
           }
          ]
         },
         "layout": {
          "annotationdefaults": {
           "arrowcolor": "#2a3f5f",
           "arrowhead": 0,
           "arrowwidth": 1
          },
          "autotypenumbers": "strict",
          "coloraxis": {
           "colorbar": {
            "outlinewidth": 0,
            "ticks": ""
           }
          },
          "colorscale": {
           "diverging": [
            [
             0,
             "#8e0152"
            ],
            [
             0.1,
             "#c51b7d"
            ],
            [
             0.2,
             "#de77ae"
            ],
            [
             0.3,
             "#f1b6da"
            ],
            [
             0.4,
             "#fde0ef"
            ],
            [
             0.5,
             "#f7f7f7"
            ],
            [
             0.6,
             "#e6f5d0"
            ],
            [
             0.7,
             "#b8e186"
            ],
            [
             0.8,
             "#7fbc41"
            ],
            [
             0.9,
             "#4d9221"
            ],
            [
             1,
             "#276419"
            ]
           ],
           "sequential": [
            [
             0,
             "#0d0887"
            ],
            [
             0.1111111111111111,
             "#46039f"
            ],
            [
             0.2222222222222222,
             "#7201a8"
            ],
            [
             0.3333333333333333,
             "#9c179e"
            ],
            [
             0.4444444444444444,
             "#bd3786"
            ],
            [
             0.5555555555555556,
             "#d8576b"
            ],
            [
             0.6666666666666666,
             "#ed7953"
            ],
            [
             0.7777777777777778,
             "#fb9f3a"
            ],
            [
             0.8888888888888888,
             "#fdca26"
            ],
            [
             1,
             "#f0f921"
            ]
           ],
           "sequentialminus": [
            [
             0,
             "#0d0887"
            ],
            [
             0.1111111111111111,
             "#46039f"
            ],
            [
             0.2222222222222222,
             "#7201a8"
            ],
            [
             0.3333333333333333,
             "#9c179e"
            ],
            [
             0.4444444444444444,
             "#bd3786"
            ],
            [
             0.5555555555555556,
             "#d8576b"
            ],
            [
             0.6666666666666666,
             "#ed7953"
            ],
            [
             0.7777777777777778,
             "#fb9f3a"
            ],
            [
             0.8888888888888888,
             "#fdca26"
            ],
            [
             1,
             "#f0f921"
            ]
           ]
          },
          "colorway": [
           "#636efa",
           "#EF553B",
           "#00cc96",
           "#ab63fa",
           "#FFA15A",
           "#19d3f3",
           "#FF6692",
           "#B6E880",
           "#FF97FF",
           "#FECB52"
          ],
          "font": {
           "color": "#2a3f5f"
          },
          "geo": {
           "bgcolor": "white",
           "lakecolor": "white",
           "landcolor": "#E5ECF6",
           "showlakes": true,
           "showland": true,
           "subunitcolor": "white"
          },
          "hoverlabel": {
           "align": "left"
          },
          "hovermode": "closest",
          "mapbox": {
           "style": "light"
          },
          "paper_bgcolor": "white",
          "plot_bgcolor": "#E5ECF6",
          "polar": {
           "angularaxis": {
            "gridcolor": "white",
            "linecolor": "white",
            "ticks": ""
           },
           "bgcolor": "#E5ECF6",
           "radialaxis": {
            "gridcolor": "white",
            "linecolor": "white",
            "ticks": ""
           }
          },
          "scene": {
           "xaxis": {
            "backgroundcolor": "#E5ECF6",
            "gridcolor": "white",
            "gridwidth": 2,
            "linecolor": "white",
            "showbackground": true,
            "ticks": "",
            "zerolinecolor": "white"
           },
           "yaxis": {
            "backgroundcolor": "#E5ECF6",
            "gridcolor": "white",
            "gridwidth": 2,
            "linecolor": "white",
            "showbackground": true,
            "ticks": "",
            "zerolinecolor": "white"
           },
           "zaxis": {
            "backgroundcolor": "#E5ECF6",
            "gridcolor": "white",
            "gridwidth": 2,
            "linecolor": "white",
            "showbackground": true,
            "ticks": "",
            "zerolinecolor": "white"
           }
          },
          "shapedefaults": {
           "line": {
            "color": "#2a3f5f"
           }
          },
          "ternary": {
           "aaxis": {
            "gridcolor": "white",
            "linecolor": "white",
            "ticks": ""
           },
           "baxis": {
            "gridcolor": "white",
            "linecolor": "white",
            "ticks": ""
           },
           "bgcolor": "#E5ECF6",
           "caxis": {
            "gridcolor": "white",
            "linecolor": "white",
            "ticks": ""
           }
          },
          "title": {
           "x": 0.05
          },
          "xaxis": {
           "automargin": true,
           "gridcolor": "white",
           "linecolor": "white",
           "ticks": "",
           "title": {
            "standoff": 15
           },
           "zerolinecolor": "white",
           "zerolinewidth": 2
          },
          "yaxis": {
           "automargin": true,
           "gridcolor": "white",
           "linecolor": "white",
           "ticks": "",
           "title": {
            "standoff": 15
           },
           "zerolinecolor": "white",
           "zerolinewidth": 2
          }
         }
        },
        "title": {
         "text": "depreciationAndAmortization_QoQ"
        },
        "xaxis": {
         "anchor": "y",
         "domain": [
          0,
          1
         ],
         "title": {
          "text": "fiscalDateEnding"
         }
        },
        "yaxis": {
         "anchor": "x",
         "domain": [
          0,
          1
         ],
         "title": {
          "text": "depreciationAndAmortization_QoQ"
         }
        }
       }
      }
     },
     "metadata": {},
     "output_type": "display_data"
    },
    {
     "data": {
      "application/vnd.plotly.v1+json": {
       "config": {
        "plotlyServerURL": "https://plot.ly"
       },
       "data": [
        {
         "alignmentgroup": "True",
         "hovertemplate": "fiscalDateEnding=%{x}<br>incomeBeforeTax_QoQ=%{y}<extra></extra>",
         "legendgroup": "",
         "marker": {
          "color": "#636efa",
          "pattern": {
           "shape": ""
          }
         },
         "name": "",
         "offsetgroup": "",
         "orientation": "v",
         "showlegend": false,
         "textposition": "auto",
         "type": "bar",
         "x": [
          "2014-09-30",
          "2014-12-31",
          "2015-03-31",
          "2015-06-30",
          "2015-09-30",
          "2015-12-31",
          "2016-03-31",
          "2016-06-30",
          "2016-09-30",
          "2016-12-31",
          "2017-03-31",
          "2017-06-30",
          "2017-09-30",
          "2017-12-31",
          "2018-03-31",
          "2018-06-30",
          "2018-09-30",
          "2018-12-31",
          "2019-03-31",
          "2019-06-30",
          "2019-09-30",
          "2019-12-31",
          "2020-03-31",
          "2020-06-30",
          "2020-09-30",
          "2020-12-31",
          "2021-03-31",
          "2021-06-30",
          "2021-09-30",
          "2021-12-31",
          "2022-03-31",
          "2022-06-30",
          "2022-09-30",
          "2022-12-31",
          "2023-03-31",
          "2023-06-30",
          "2023-09-30",
          "2023-12-31",
          "2024-03-31",
          "2024-06-30"
         ],
         "xaxis": "x",
         "y": [
          null,
          49.618736383442275,
          -16.199490353112488,
          7.645525629887051,
          -1.311541565778851,
          6.317726436311588,
          -1.3653846153846128,
          19.302008188730756,
          -1.2093479326687362,
          13.432588916459887,
          -0.5541782120460859,
          -35.81170259568852,
          82.2938085446653,
          0.4887830555207362,
          31.491643801446756,
          -60.02086692592241,
          139.2170818505338,
          -0.10909451552117977,
          -19.122319301032565,
          49.11613061625337,
          -28.97011607804396,
          24.061196105702365,
          -27.53176382660688,
          6.7036225344849765,
          61.399057629575935,
          39.89819597275246,
          13.879822355396222,
          3.298407179438989,
          4.907891744371162,
          5.801248699271588,
          -22.407999344316043,
          0.42252033379106546,
          -14.626065004733357,
          5.630505759871873,
          6.170175540910949,
          20.313100796484473,
          -3.2233027439163564,
          15.167240647261405,
          15.9880386695068,
          -2.6982164930248964
         ],
         "yaxis": "y"
        }
       ],
       "layout": {
        "barmode": "relative",
        "legend": {
         "tracegroupgap": 0
        },
        "template": {
         "data": {
          "bar": [
           {
            "error_x": {
             "color": "#2a3f5f"
            },
            "error_y": {
             "color": "#2a3f5f"
            },
            "marker": {
             "line": {
              "color": "#E5ECF6",
              "width": 0.5
             },
             "pattern": {
              "fillmode": "overlay",
              "size": 10,
              "solidity": 0.2
             }
            },
            "type": "bar"
           }
          ],
          "barpolar": [
           {
            "marker": {
             "line": {
              "color": "#E5ECF6",
              "width": 0.5
             },
             "pattern": {
              "fillmode": "overlay",
              "size": 10,
              "solidity": 0.2
             }
            },
            "type": "barpolar"
           }
          ],
          "carpet": [
           {
            "aaxis": {
             "endlinecolor": "#2a3f5f",
             "gridcolor": "white",
             "linecolor": "white",
             "minorgridcolor": "white",
             "startlinecolor": "#2a3f5f"
            },
            "baxis": {
             "endlinecolor": "#2a3f5f",
             "gridcolor": "white",
             "linecolor": "white",
             "minorgridcolor": "white",
             "startlinecolor": "#2a3f5f"
            },
            "type": "carpet"
           }
          ],
          "choropleth": [
           {
            "colorbar": {
             "outlinewidth": 0,
             "ticks": ""
            },
            "type": "choropleth"
           }
          ],
          "contour": [
           {
            "colorbar": {
             "outlinewidth": 0,
             "ticks": ""
            },
            "colorscale": [
             [
              0,
              "#0d0887"
             ],
             [
              0.1111111111111111,
              "#46039f"
             ],
             [
              0.2222222222222222,
              "#7201a8"
             ],
             [
              0.3333333333333333,
              "#9c179e"
             ],
             [
              0.4444444444444444,
              "#bd3786"
             ],
             [
              0.5555555555555556,
              "#d8576b"
             ],
             [
              0.6666666666666666,
              "#ed7953"
             ],
             [
              0.7777777777777778,
              "#fb9f3a"
             ],
             [
              0.8888888888888888,
              "#fdca26"
             ],
             [
              1,
              "#f0f921"
             ]
            ],
            "type": "contour"
           }
          ],
          "contourcarpet": [
           {
            "colorbar": {
             "outlinewidth": 0,
             "ticks": ""
            },
            "type": "contourcarpet"
           }
          ],
          "heatmap": [
           {
            "colorbar": {
             "outlinewidth": 0,
             "ticks": ""
            },
            "colorscale": [
             [
              0,
              "#0d0887"
             ],
             [
              0.1111111111111111,
              "#46039f"
             ],
             [
              0.2222222222222222,
              "#7201a8"
             ],
             [
              0.3333333333333333,
              "#9c179e"
             ],
             [
              0.4444444444444444,
              "#bd3786"
             ],
             [
              0.5555555555555556,
              "#d8576b"
             ],
             [
              0.6666666666666666,
              "#ed7953"
             ],
             [
              0.7777777777777778,
              "#fb9f3a"
             ],
             [
              0.8888888888888888,
              "#fdca26"
             ],
             [
              1,
              "#f0f921"
             ]
            ],
            "type": "heatmap"
           }
          ],
          "heatmapgl": [
           {
            "colorbar": {
             "outlinewidth": 0,
             "ticks": ""
            },
            "colorscale": [
             [
              0,
              "#0d0887"
             ],
             [
              0.1111111111111111,
              "#46039f"
             ],
             [
              0.2222222222222222,
              "#7201a8"
             ],
             [
              0.3333333333333333,
              "#9c179e"
             ],
             [
              0.4444444444444444,
              "#bd3786"
             ],
             [
              0.5555555555555556,
              "#d8576b"
             ],
             [
              0.6666666666666666,
              "#ed7953"
             ],
             [
              0.7777777777777778,
              "#fb9f3a"
             ],
             [
              0.8888888888888888,
              "#fdca26"
             ],
             [
              1,
              "#f0f921"
             ]
            ],
            "type": "heatmapgl"
           }
          ],
          "histogram": [
           {
            "marker": {
             "pattern": {
              "fillmode": "overlay",
              "size": 10,
              "solidity": 0.2
             }
            },
            "type": "histogram"
           }
          ],
          "histogram2d": [
           {
            "colorbar": {
             "outlinewidth": 0,
             "ticks": ""
            },
            "colorscale": [
             [
              0,
              "#0d0887"
             ],
             [
              0.1111111111111111,
              "#46039f"
             ],
             [
              0.2222222222222222,
              "#7201a8"
             ],
             [
              0.3333333333333333,
              "#9c179e"
             ],
             [
              0.4444444444444444,
              "#bd3786"
             ],
             [
              0.5555555555555556,
              "#d8576b"
             ],
             [
              0.6666666666666666,
              "#ed7953"
             ],
             [
              0.7777777777777778,
              "#fb9f3a"
             ],
             [
              0.8888888888888888,
              "#fdca26"
             ],
             [
              1,
              "#f0f921"
             ]
            ],
            "type": "histogram2d"
           }
          ],
          "histogram2dcontour": [
           {
            "colorbar": {
             "outlinewidth": 0,
             "ticks": ""
            },
            "colorscale": [
             [
              0,
              "#0d0887"
             ],
             [
              0.1111111111111111,
              "#46039f"
             ],
             [
              0.2222222222222222,
              "#7201a8"
             ],
             [
              0.3333333333333333,
              "#9c179e"
             ],
             [
              0.4444444444444444,
              "#bd3786"
             ],
             [
              0.5555555555555556,
              "#d8576b"
             ],
             [
              0.6666666666666666,
              "#ed7953"
             ],
             [
              0.7777777777777778,
              "#fb9f3a"
             ],
             [
              0.8888888888888888,
              "#fdca26"
             ],
             [
              1,
              "#f0f921"
             ]
            ],
            "type": "histogram2dcontour"
           }
          ],
          "mesh3d": [
           {
            "colorbar": {
             "outlinewidth": 0,
             "ticks": ""
            },
            "type": "mesh3d"
           }
          ],
          "parcoords": [
           {
            "line": {
             "colorbar": {
              "outlinewidth": 0,
              "ticks": ""
             }
            },
            "type": "parcoords"
           }
          ],
          "pie": [
           {
            "automargin": true,
            "type": "pie"
           }
          ],
          "scatter": [
           {
            "fillpattern": {
             "fillmode": "overlay",
             "size": 10,
             "solidity": 0.2
            },
            "type": "scatter"
           }
          ],
          "scatter3d": [
           {
            "line": {
             "colorbar": {
              "outlinewidth": 0,
              "ticks": ""
             }
            },
            "marker": {
             "colorbar": {
              "outlinewidth": 0,
              "ticks": ""
             }
            },
            "type": "scatter3d"
           }
          ],
          "scattercarpet": [
           {
            "marker": {
             "colorbar": {
              "outlinewidth": 0,
              "ticks": ""
             }
            },
            "type": "scattercarpet"
           }
          ],
          "scattergeo": [
           {
            "marker": {
             "colorbar": {
              "outlinewidth": 0,
              "ticks": ""
             }
            },
            "type": "scattergeo"
           }
          ],
          "scattergl": [
           {
            "marker": {
             "colorbar": {
              "outlinewidth": 0,
              "ticks": ""
             }
            },
            "type": "scattergl"
           }
          ],
          "scattermapbox": [
           {
            "marker": {
             "colorbar": {
              "outlinewidth": 0,
              "ticks": ""
             }
            },
            "type": "scattermapbox"
           }
          ],
          "scatterpolar": [
           {
            "marker": {
             "colorbar": {
              "outlinewidth": 0,
              "ticks": ""
             }
            },
            "type": "scatterpolar"
           }
          ],
          "scatterpolargl": [
           {
            "marker": {
             "colorbar": {
              "outlinewidth": 0,
              "ticks": ""
             }
            },
            "type": "scatterpolargl"
           }
          ],
          "scatterternary": [
           {
            "marker": {
             "colorbar": {
              "outlinewidth": 0,
              "ticks": ""
             }
            },
            "type": "scatterternary"
           }
          ],
          "surface": [
           {
            "colorbar": {
             "outlinewidth": 0,
             "ticks": ""
            },
            "colorscale": [
             [
              0,
              "#0d0887"
             ],
             [
              0.1111111111111111,
              "#46039f"
             ],
             [
              0.2222222222222222,
              "#7201a8"
             ],
             [
              0.3333333333333333,
              "#9c179e"
             ],
             [
              0.4444444444444444,
              "#bd3786"
             ],
             [
              0.5555555555555556,
              "#d8576b"
             ],
             [
              0.6666666666666666,
              "#ed7953"
             ],
             [
              0.7777777777777778,
              "#fb9f3a"
             ],
             [
              0.8888888888888888,
              "#fdca26"
             ],
             [
              1,
              "#f0f921"
             ]
            ],
            "type": "surface"
           }
          ],
          "table": [
           {
            "cells": {
             "fill": {
              "color": "#EBF0F8"
             },
             "line": {
              "color": "white"
             }
            },
            "header": {
             "fill": {
              "color": "#C8D4E3"
             },
             "line": {
              "color": "white"
             }
            },
            "type": "table"
           }
          ]
         },
         "layout": {
          "annotationdefaults": {
           "arrowcolor": "#2a3f5f",
           "arrowhead": 0,
           "arrowwidth": 1
          },
          "autotypenumbers": "strict",
          "coloraxis": {
           "colorbar": {
            "outlinewidth": 0,
            "ticks": ""
           }
          },
          "colorscale": {
           "diverging": [
            [
             0,
             "#8e0152"
            ],
            [
             0.1,
             "#c51b7d"
            ],
            [
             0.2,
             "#de77ae"
            ],
            [
             0.3,
             "#f1b6da"
            ],
            [
             0.4,
             "#fde0ef"
            ],
            [
             0.5,
             "#f7f7f7"
            ],
            [
             0.6,
             "#e6f5d0"
            ],
            [
             0.7,
             "#b8e186"
            ],
            [
             0.8,
             "#7fbc41"
            ],
            [
             0.9,
             "#4d9221"
            ],
            [
             1,
             "#276419"
            ]
           ],
           "sequential": [
            [
             0,
             "#0d0887"
            ],
            [
             0.1111111111111111,
             "#46039f"
            ],
            [
             0.2222222222222222,
             "#7201a8"
            ],
            [
             0.3333333333333333,
             "#9c179e"
            ],
            [
             0.4444444444444444,
             "#bd3786"
            ],
            [
             0.5555555555555556,
             "#d8576b"
            ],
            [
             0.6666666666666666,
             "#ed7953"
            ],
            [
             0.7777777777777778,
             "#fb9f3a"
            ],
            [
             0.8888888888888888,
             "#fdca26"
            ],
            [
             1,
             "#f0f921"
            ]
           ],
           "sequentialminus": [
            [
             0,
             "#0d0887"
            ],
            [
             0.1111111111111111,
             "#46039f"
            ],
            [
             0.2222222222222222,
             "#7201a8"
            ],
            [
             0.3333333333333333,
             "#9c179e"
            ],
            [
             0.4444444444444444,
             "#bd3786"
            ],
            [
             0.5555555555555556,
             "#d8576b"
            ],
            [
             0.6666666666666666,
             "#ed7953"
            ],
            [
             0.7777777777777778,
             "#fb9f3a"
            ],
            [
             0.8888888888888888,
             "#fdca26"
            ],
            [
             1,
             "#f0f921"
            ]
           ]
          },
          "colorway": [
           "#636efa",
           "#EF553B",
           "#00cc96",
           "#ab63fa",
           "#FFA15A",
           "#19d3f3",
           "#FF6692",
           "#B6E880",
           "#FF97FF",
           "#FECB52"
          ],
          "font": {
           "color": "#2a3f5f"
          },
          "geo": {
           "bgcolor": "white",
           "lakecolor": "white",
           "landcolor": "#E5ECF6",
           "showlakes": true,
           "showland": true,
           "subunitcolor": "white"
          },
          "hoverlabel": {
           "align": "left"
          },
          "hovermode": "closest",
          "mapbox": {
           "style": "light"
          },
          "paper_bgcolor": "white",
          "plot_bgcolor": "#E5ECF6",
          "polar": {
           "angularaxis": {
            "gridcolor": "white",
            "linecolor": "white",
            "ticks": ""
           },
           "bgcolor": "#E5ECF6",
           "radialaxis": {
            "gridcolor": "white",
            "linecolor": "white",
            "ticks": ""
           }
          },
          "scene": {
           "xaxis": {
            "backgroundcolor": "#E5ECF6",
            "gridcolor": "white",
            "gridwidth": 2,
            "linecolor": "white",
            "showbackground": true,
            "ticks": "",
            "zerolinecolor": "white"
           },
           "yaxis": {
            "backgroundcolor": "#E5ECF6",
            "gridcolor": "white",
            "gridwidth": 2,
            "linecolor": "white",
            "showbackground": true,
            "ticks": "",
            "zerolinecolor": "white"
           },
           "zaxis": {
            "backgroundcolor": "#E5ECF6",
            "gridcolor": "white",
            "gridwidth": 2,
            "linecolor": "white",
            "showbackground": true,
            "ticks": "",
            "zerolinecolor": "white"
           }
          },
          "shapedefaults": {
           "line": {
            "color": "#2a3f5f"
           }
          },
          "ternary": {
           "aaxis": {
            "gridcolor": "white",
            "linecolor": "white",
            "ticks": ""
           },
           "baxis": {
            "gridcolor": "white",
            "linecolor": "white",
            "ticks": ""
           },
           "bgcolor": "#E5ECF6",
           "caxis": {
            "gridcolor": "white",
            "linecolor": "white",
            "ticks": ""
           }
          },
          "title": {
           "x": 0.05
          },
          "xaxis": {
           "automargin": true,
           "gridcolor": "white",
           "linecolor": "white",
           "ticks": "",
           "title": {
            "standoff": 15
           },
           "zerolinecolor": "white",
           "zerolinewidth": 2
          },
          "yaxis": {
           "automargin": true,
           "gridcolor": "white",
           "linecolor": "white",
           "ticks": "",
           "title": {
            "standoff": 15
           },
           "zerolinecolor": "white",
           "zerolinewidth": 2
          }
         }
        },
        "title": {
         "text": "incomeBeforeTax_QoQ"
        },
        "xaxis": {
         "anchor": "y",
         "domain": [
          0,
          1
         ],
         "title": {
          "text": "fiscalDateEnding"
         }
        },
        "yaxis": {
         "anchor": "x",
         "domain": [
          0,
          1
         ],
         "title": {
          "text": "incomeBeforeTax_QoQ"
         }
        }
       }
      }
     },
     "metadata": {},
     "output_type": "display_data"
    },
    {
     "data": {
      "application/vnd.plotly.v1+json": {
       "config": {
        "plotlyServerURL": "https://plot.ly"
       },
       "data": [
        {
         "alignmentgroup": "True",
         "hovertemplate": "fiscalDateEnding=%{x}<br>incomeTaxExpense_QoQ=%{y}<extra></extra>",
         "legendgroup": "",
         "marker": {
          "color": "#636efa",
          "pattern": {
           "shape": ""
          }
         },
         "name": "",
         "offsetgroup": "",
         "orientation": "v",
         "showlegend": false,
         "textposition": "auto",
         "type": "bar",
         "x": [
          "2014-09-30",
          "2014-12-31",
          "2015-03-31",
          "2015-06-30",
          "2015-09-30",
          "2015-12-31",
          "2016-03-31",
          "2016-06-30",
          "2016-09-30",
          "2016-12-31",
          "2017-03-31",
          "2017-06-30",
          "2017-09-30",
          "2017-12-31",
          "2018-03-31",
          "2018-06-30",
          "2018-09-30",
          "2018-12-31",
          "2019-03-31",
          "2019-06-30",
          "2019-09-30",
          "2019-12-31",
          "2020-03-31",
          "2020-06-30",
          "2020-09-30",
          "2020-12-31",
          "2021-03-31",
          "2021-06-30",
          "2021-09-30",
          "2021-12-31",
          "2022-03-31",
          "2022-06-30",
          "2022-09-30",
          "2022-12-31",
          "2023-03-31",
          "2023-06-30",
          "2023-09-30",
          "2023-12-31",
          "2024-03-31",
          "2024-06-30"
         ],
         "xaxis": "x",
         "y": [
          null,
          -12.218649517684888,
          32.967032967032964,
          -5.876951331496782,
          -11.024390243902438,
          -69.62719298245614,
          232.85198555956677,
          34.70715835140999,
          -20.772946859903385,
          54.87804878048781,
          -8.595800524934383,
          -38.76525484565686,
          46.18991793669402,
          785.1643945469126,
          -89.65392281210364,
          -10.683012259194392,
          -12.647058823529411,
          26.150392817059487,
          32.47330960854094,
          47.75016789791806,
          -29.09090909090909,
          -97.88461538461539,
          2690.909090909091,
          43.10532030401737,
          60.24279210925645,
          63.92045454545454,
          -3.1484690930098203,
          3.191172084700278,
          19.306358381502896,
          -8.914728682170548,
          -33.56382978723404,
          20.576461168935147,
          -22.875166002656044,
          51.657339647008186,
          -10.474027817201248,
          12.07989854153455,
          -57.34087694483734,
          147.01591511936337,
          24.91275167785234,
          -15.495379325166558
         ],
         "yaxis": "y"
        }
       ],
       "layout": {
        "barmode": "relative",
        "legend": {
         "tracegroupgap": 0
        },
        "template": {
         "data": {
          "bar": [
           {
            "error_x": {
             "color": "#2a3f5f"
            },
            "error_y": {
             "color": "#2a3f5f"
            },
            "marker": {
             "line": {
              "color": "#E5ECF6",
              "width": 0.5
             },
             "pattern": {
              "fillmode": "overlay",
              "size": 10,
              "solidity": 0.2
             }
            },
            "type": "bar"
           }
          ],
          "barpolar": [
           {
            "marker": {
             "line": {
              "color": "#E5ECF6",
              "width": 0.5
             },
             "pattern": {
              "fillmode": "overlay",
              "size": 10,
              "solidity": 0.2
             }
            },
            "type": "barpolar"
           }
          ],
          "carpet": [
           {
            "aaxis": {
             "endlinecolor": "#2a3f5f",
             "gridcolor": "white",
             "linecolor": "white",
             "minorgridcolor": "white",
             "startlinecolor": "#2a3f5f"
            },
            "baxis": {
             "endlinecolor": "#2a3f5f",
             "gridcolor": "white",
             "linecolor": "white",
             "minorgridcolor": "white",
             "startlinecolor": "#2a3f5f"
            },
            "type": "carpet"
           }
          ],
          "choropleth": [
           {
            "colorbar": {
             "outlinewidth": 0,
             "ticks": ""
            },
            "type": "choropleth"
           }
          ],
          "contour": [
           {
            "colorbar": {
             "outlinewidth": 0,
             "ticks": ""
            },
            "colorscale": [
             [
              0,
              "#0d0887"
             ],
             [
              0.1111111111111111,
              "#46039f"
             ],
             [
              0.2222222222222222,
              "#7201a8"
             ],
             [
              0.3333333333333333,
              "#9c179e"
             ],
             [
              0.4444444444444444,
              "#bd3786"
             ],
             [
              0.5555555555555556,
              "#d8576b"
             ],
             [
              0.6666666666666666,
              "#ed7953"
             ],
             [
              0.7777777777777778,
              "#fb9f3a"
             ],
             [
              0.8888888888888888,
              "#fdca26"
             ],
             [
              1,
              "#f0f921"
             ]
            ],
            "type": "contour"
           }
          ],
          "contourcarpet": [
           {
            "colorbar": {
             "outlinewidth": 0,
             "ticks": ""
            },
            "type": "contourcarpet"
           }
          ],
          "heatmap": [
           {
            "colorbar": {
             "outlinewidth": 0,
             "ticks": ""
            },
            "colorscale": [
             [
              0,
              "#0d0887"
             ],
             [
              0.1111111111111111,
              "#46039f"
             ],
             [
              0.2222222222222222,
              "#7201a8"
             ],
             [
              0.3333333333333333,
              "#9c179e"
             ],
             [
              0.4444444444444444,
              "#bd3786"
             ],
             [
              0.5555555555555556,
              "#d8576b"
             ],
             [
              0.6666666666666666,
              "#ed7953"
             ],
             [
              0.7777777777777778,
              "#fb9f3a"
             ],
             [
              0.8888888888888888,
              "#fdca26"
             ],
             [
              1,
              "#f0f921"
             ]
            ],
            "type": "heatmap"
           }
          ],
          "heatmapgl": [
           {
            "colorbar": {
             "outlinewidth": 0,
             "ticks": ""
            },
            "colorscale": [
             [
              0,
              "#0d0887"
             ],
             [
              0.1111111111111111,
              "#46039f"
             ],
             [
              0.2222222222222222,
              "#7201a8"
             ],
             [
              0.3333333333333333,
              "#9c179e"
             ],
             [
              0.4444444444444444,
              "#bd3786"
             ],
             [
              0.5555555555555556,
              "#d8576b"
             ],
             [
              0.6666666666666666,
              "#ed7953"
             ],
             [
              0.7777777777777778,
              "#fb9f3a"
             ],
             [
              0.8888888888888888,
              "#fdca26"
             ],
             [
              1,
              "#f0f921"
             ]
            ],
            "type": "heatmapgl"
           }
          ],
          "histogram": [
           {
            "marker": {
             "pattern": {
              "fillmode": "overlay",
              "size": 10,
              "solidity": 0.2
             }
            },
            "type": "histogram"
           }
          ],
          "histogram2d": [
           {
            "colorbar": {
             "outlinewidth": 0,
             "ticks": ""
            },
            "colorscale": [
             [
              0,
              "#0d0887"
             ],
             [
              0.1111111111111111,
              "#46039f"
             ],
             [
              0.2222222222222222,
              "#7201a8"
             ],
             [
              0.3333333333333333,
              "#9c179e"
             ],
             [
              0.4444444444444444,
              "#bd3786"
             ],
             [
              0.5555555555555556,
              "#d8576b"
             ],
             [
              0.6666666666666666,
              "#ed7953"
             ],
             [
              0.7777777777777778,
              "#fb9f3a"
             ],
             [
              0.8888888888888888,
              "#fdca26"
             ],
             [
              1,
              "#f0f921"
             ]
            ],
            "type": "histogram2d"
           }
          ],
          "histogram2dcontour": [
           {
            "colorbar": {
             "outlinewidth": 0,
             "ticks": ""
            },
            "colorscale": [
             [
              0,
              "#0d0887"
             ],
             [
              0.1111111111111111,
              "#46039f"
             ],
             [
              0.2222222222222222,
              "#7201a8"
             ],
             [
              0.3333333333333333,
              "#9c179e"
             ],
             [
              0.4444444444444444,
              "#bd3786"
             ],
             [
              0.5555555555555556,
              "#d8576b"
             ],
             [
              0.6666666666666666,
              "#ed7953"
             ],
             [
              0.7777777777777778,
              "#fb9f3a"
             ],
             [
              0.8888888888888888,
              "#fdca26"
             ],
             [
              1,
              "#f0f921"
             ]
            ],
            "type": "histogram2dcontour"
           }
          ],
          "mesh3d": [
           {
            "colorbar": {
             "outlinewidth": 0,
             "ticks": ""
            },
            "type": "mesh3d"
           }
          ],
          "parcoords": [
           {
            "line": {
             "colorbar": {
              "outlinewidth": 0,
              "ticks": ""
             }
            },
            "type": "parcoords"
           }
          ],
          "pie": [
           {
            "automargin": true,
            "type": "pie"
           }
          ],
          "scatter": [
           {
            "fillpattern": {
             "fillmode": "overlay",
             "size": 10,
             "solidity": 0.2
            },
            "type": "scatter"
           }
          ],
          "scatter3d": [
           {
            "line": {
             "colorbar": {
              "outlinewidth": 0,
              "ticks": ""
             }
            },
            "marker": {
             "colorbar": {
              "outlinewidth": 0,
              "ticks": ""
             }
            },
            "type": "scatter3d"
           }
          ],
          "scattercarpet": [
           {
            "marker": {
             "colorbar": {
              "outlinewidth": 0,
              "ticks": ""
             }
            },
            "type": "scattercarpet"
           }
          ],
          "scattergeo": [
           {
            "marker": {
             "colorbar": {
              "outlinewidth": 0,
              "ticks": ""
             }
            },
            "type": "scattergeo"
           }
          ],
          "scattergl": [
           {
            "marker": {
             "colorbar": {
              "outlinewidth": 0,
              "ticks": ""
             }
            },
            "type": "scattergl"
           }
          ],
          "scattermapbox": [
           {
            "marker": {
             "colorbar": {
              "outlinewidth": 0,
              "ticks": ""
             }
            },
            "type": "scattermapbox"
           }
          ],
          "scatterpolar": [
           {
            "marker": {
             "colorbar": {
              "outlinewidth": 0,
              "ticks": ""
             }
            },
            "type": "scatterpolar"
           }
          ],
          "scatterpolargl": [
           {
            "marker": {
             "colorbar": {
              "outlinewidth": 0,
              "ticks": ""
             }
            },
            "type": "scatterpolargl"
           }
          ],
          "scatterternary": [
           {
            "marker": {
             "colorbar": {
              "outlinewidth": 0,
              "ticks": ""
             }
            },
            "type": "scatterternary"
           }
          ],
          "surface": [
           {
            "colorbar": {
             "outlinewidth": 0,
             "ticks": ""
            },
            "colorscale": [
             [
              0,
              "#0d0887"
             ],
             [
              0.1111111111111111,
              "#46039f"
             ],
             [
              0.2222222222222222,
              "#7201a8"
             ],
             [
              0.3333333333333333,
              "#9c179e"
             ],
             [
              0.4444444444444444,
              "#bd3786"
             ],
             [
              0.5555555555555556,
              "#d8576b"
             ],
             [
              0.6666666666666666,
              "#ed7953"
             ],
             [
              0.7777777777777778,
              "#fb9f3a"
             ],
             [
              0.8888888888888888,
              "#fdca26"
             ],
             [
              1,
              "#f0f921"
             ]
            ],
            "type": "surface"
           }
          ],
          "table": [
           {
            "cells": {
             "fill": {
              "color": "#EBF0F8"
             },
             "line": {
              "color": "white"
             }
            },
            "header": {
             "fill": {
              "color": "#C8D4E3"
             },
             "line": {
              "color": "white"
             }
            },
            "type": "table"
           }
          ]
         },
         "layout": {
          "annotationdefaults": {
           "arrowcolor": "#2a3f5f",
           "arrowhead": 0,
           "arrowwidth": 1
          },
          "autotypenumbers": "strict",
          "coloraxis": {
           "colorbar": {
            "outlinewidth": 0,
            "ticks": ""
           }
          },
          "colorscale": {
           "diverging": [
            [
             0,
             "#8e0152"
            ],
            [
             0.1,
             "#c51b7d"
            ],
            [
             0.2,
             "#de77ae"
            ],
            [
             0.3,
             "#f1b6da"
            ],
            [
             0.4,
             "#fde0ef"
            ],
            [
             0.5,
             "#f7f7f7"
            ],
            [
             0.6,
             "#e6f5d0"
            ],
            [
             0.7,
             "#b8e186"
            ],
            [
             0.8,
             "#7fbc41"
            ],
            [
             0.9,
             "#4d9221"
            ],
            [
             1,
             "#276419"
            ]
           ],
           "sequential": [
            [
             0,
             "#0d0887"
            ],
            [
             0.1111111111111111,
             "#46039f"
            ],
            [
             0.2222222222222222,
             "#7201a8"
            ],
            [
             0.3333333333333333,
             "#9c179e"
            ],
            [
             0.4444444444444444,
             "#bd3786"
            ],
            [
             0.5555555555555556,
             "#d8576b"
            ],
            [
             0.6666666666666666,
             "#ed7953"
            ],
            [
             0.7777777777777778,
             "#fb9f3a"
            ],
            [
             0.8888888888888888,
             "#fdca26"
            ],
            [
             1,
             "#f0f921"
            ]
           ],
           "sequentialminus": [
            [
             0,
             "#0d0887"
            ],
            [
             0.1111111111111111,
             "#46039f"
            ],
            [
             0.2222222222222222,
             "#7201a8"
            ],
            [
             0.3333333333333333,
             "#9c179e"
            ],
            [
             0.4444444444444444,
             "#bd3786"
            ],
            [
             0.5555555555555556,
             "#d8576b"
            ],
            [
             0.6666666666666666,
             "#ed7953"
            ],
            [
             0.7777777777777778,
             "#fb9f3a"
            ],
            [
             0.8888888888888888,
             "#fdca26"
            ],
            [
             1,
             "#f0f921"
            ]
           ]
          },
          "colorway": [
           "#636efa",
           "#EF553B",
           "#00cc96",
           "#ab63fa",
           "#FFA15A",
           "#19d3f3",
           "#FF6692",
           "#B6E880",
           "#FF97FF",
           "#FECB52"
          ],
          "font": {
           "color": "#2a3f5f"
          },
          "geo": {
           "bgcolor": "white",
           "lakecolor": "white",
           "landcolor": "#E5ECF6",
           "showlakes": true,
           "showland": true,
           "subunitcolor": "white"
          },
          "hoverlabel": {
           "align": "left"
          },
          "hovermode": "closest",
          "mapbox": {
           "style": "light"
          },
          "paper_bgcolor": "white",
          "plot_bgcolor": "#E5ECF6",
          "polar": {
           "angularaxis": {
            "gridcolor": "white",
            "linecolor": "white",
            "ticks": ""
           },
           "bgcolor": "#E5ECF6",
           "radialaxis": {
            "gridcolor": "white",
            "linecolor": "white",
            "ticks": ""
           }
          },
          "scene": {
           "xaxis": {
            "backgroundcolor": "#E5ECF6",
            "gridcolor": "white",
            "gridwidth": 2,
            "linecolor": "white",
            "showbackground": true,
            "ticks": "",
            "zerolinecolor": "white"
           },
           "yaxis": {
            "backgroundcolor": "#E5ECF6",
            "gridcolor": "white",
            "gridwidth": 2,
            "linecolor": "white",
            "showbackground": true,
            "ticks": "",
            "zerolinecolor": "white"
           },
           "zaxis": {
            "backgroundcolor": "#E5ECF6",
            "gridcolor": "white",
            "gridwidth": 2,
            "linecolor": "white",
            "showbackground": true,
            "ticks": "",
            "zerolinecolor": "white"
           }
          },
          "shapedefaults": {
           "line": {
            "color": "#2a3f5f"
           }
          },
          "ternary": {
           "aaxis": {
            "gridcolor": "white",
            "linecolor": "white",
            "ticks": ""
           },
           "baxis": {
            "gridcolor": "white",
            "linecolor": "white",
            "ticks": ""
           },
           "bgcolor": "#E5ECF6",
           "caxis": {
            "gridcolor": "white",
            "linecolor": "white",
            "ticks": ""
           }
          },
          "title": {
           "x": 0.05
          },
          "xaxis": {
           "automargin": true,
           "gridcolor": "white",
           "linecolor": "white",
           "ticks": "",
           "title": {
            "standoff": 15
           },
           "zerolinecolor": "white",
           "zerolinewidth": 2
          },
          "yaxis": {
           "automargin": true,
           "gridcolor": "white",
           "linecolor": "white",
           "ticks": "",
           "title": {
            "standoff": 15
           },
           "zerolinecolor": "white",
           "zerolinewidth": 2
          }
         }
        },
        "title": {
         "text": "incomeTaxExpense_QoQ"
        },
        "xaxis": {
         "anchor": "y",
         "domain": [
          0,
          1
         ],
         "title": {
          "text": "fiscalDateEnding"
         }
        },
        "yaxis": {
         "anchor": "x",
         "domain": [
          0,
          1
         ],
         "title": {
          "text": "incomeTaxExpense_QoQ"
         }
        }
       }
      }
     },
     "metadata": {},
     "output_type": "display_data"
    },
    {
     "data": {
      "application/vnd.plotly.v1+json": {
       "config": {
        "plotlyServerURL": "https://plot.ly"
       },
       "data": [
        {
         "alignmentgroup": "True",
         "hovertemplate": "fiscalDateEnding=%{x}<br>interestAndDebtExpense_QoQ=%{y}<extra></extra>",
         "legendgroup": "",
         "marker": {
          "color": "#636efa",
          "pattern": {
           "shape": ""
          }
         },
         "name": "",
         "offsetgroup": "",
         "orientation": "v",
         "showlegend": false,
         "textposition": "auto",
         "type": "bar",
         "x": [
          "2014-09-30",
          "2014-12-31",
          "2015-03-31",
          "2015-06-30",
          "2015-09-30",
          "2015-12-31",
          "2016-03-31",
          "2016-06-30",
          "2016-09-30",
          "2016-12-31",
          "2017-03-31",
          "2017-06-30",
          "2017-09-30",
          "2017-12-31",
          "2018-03-31",
          "2018-06-30",
          "2018-09-30",
          "2018-12-31",
          "2019-03-31",
          "2019-06-30",
          "2019-09-30",
          "2019-12-31",
          "2020-03-31",
          "2020-06-30",
          "2020-09-30",
          "2020-12-31",
          "2021-03-31",
          "2021-06-30",
          "2021-09-30",
          "2021-12-31",
          "2022-03-31",
          "2022-06-30",
          "2022-09-30",
          "2022-12-31",
          "2023-03-31",
          "2023-06-30",
          "2023-09-30",
          "2023-12-31",
          "2024-03-31",
          "2024-06-30"
         ],
         "xaxis": "x",
         "y": [
          null,
          null,
          null,
          null,
          null,
          0,
          15.384615384615374,
          6.666666666666665,
          -9.375,
          13.793103448275868,
          -24.242424242424242,
          -16.000000000000004,
          28.57142857142858,
          33.33333333333333,
          -16.666666666666664,
          -9.999999999999998,
          3.703703703703698,
          3.571428571428581,
          20.68965517241379,
          -28.57142857142857,
          -7.9999999999999964,
          -26.086956521739136,
          23.529411764705888,
          -38.095238095238095,
          269.2307692307692,
          10.416666666666675,
          43.39622641509433,
          0,
          1.3157894736842035,
          51.94805194805194,
          -29.059829059829056,
          0,
          21.68674698795181,
          -10.89108910891089,
          -11.111111111111116,
          -46.25,
          169.7674418604651,
          -40.51724137931034,
          36.23188405797102,
          -28.723404255319153
         ],
         "yaxis": "y"
        }
       ],
       "layout": {
        "barmode": "relative",
        "legend": {
         "tracegroupgap": 0
        },
        "template": {
         "data": {
          "bar": [
           {
            "error_x": {
             "color": "#2a3f5f"
            },
            "error_y": {
             "color": "#2a3f5f"
            },
            "marker": {
             "line": {
              "color": "#E5ECF6",
              "width": 0.5
             },
             "pattern": {
              "fillmode": "overlay",
              "size": 10,
              "solidity": 0.2
             }
            },
            "type": "bar"
           }
          ],
          "barpolar": [
           {
            "marker": {
             "line": {
              "color": "#E5ECF6",
              "width": 0.5
             },
             "pattern": {
              "fillmode": "overlay",
              "size": 10,
              "solidity": 0.2
             }
            },
            "type": "barpolar"
           }
          ],
          "carpet": [
           {
            "aaxis": {
             "endlinecolor": "#2a3f5f",
             "gridcolor": "white",
             "linecolor": "white",
             "minorgridcolor": "white",
             "startlinecolor": "#2a3f5f"
            },
            "baxis": {
             "endlinecolor": "#2a3f5f",
             "gridcolor": "white",
             "linecolor": "white",
             "minorgridcolor": "white",
             "startlinecolor": "#2a3f5f"
            },
            "type": "carpet"
           }
          ],
          "choropleth": [
           {
            "colorbar": {
             "outlinewidth": 0,
             "ticks": ""
            },
            "type": "choropleth"
           }
          ],
          "contour": [
           {
            "colorbar": {
             "outlinewidth": 0,
             "ticks": ""
            },
            "colorscale": [
             [
              0,
              "#0d0887"
             ],
             [
              0.1111111111111111,
              "#46039f"
             ],
             [
              0.2222222222222222,
              "#7201a8"
             ],
             [
              0.3333333333333333,
              "#9c179e"
             ],
             [
              0.4444444444444444,
              "#bd3786"
             ],
             [
              0.5555555555555556,
              "#d8576b"
             ],
             [
              0.6666666666666666,
              "#ed7953"
             ],
             [
              0.7777777777777778,
              "#fb9f3a"
             ],
             [
              0.8888888888888888,
              "#fdca26"
             ],
             [
              1,
              "#f0f921"
             ]
            ],
            "type": "contour"
           }
          ],
          "contourcarpet": [
           {
            "colorbar": {
             "outlinewidth": 0,
             "ticks": ""
            },
            "type": "contourcarpet"
           }
          ],
          "heatmap": [
           {
            "colorbar": {
             "outlinewidth": 0,
             "ticks": ""
            },
            "colorscale": [
             [
              0,
              "#0d0887"
             ],
             [
              0.1111111111111111,
              "#46039f"
             ],
             [
              0.2222222222222222,
              "#7201a8"
             ],
             [
              0.3333333333333333,
              "#9c179e"
             ],
             [
              0.4444444444444444,
              "#bd3786"
             ],
             [
              0.5555555555555556,
              "#d8576b"
             ],
             [
              0.6666666666666666,
              "#ed7953"
             ],
             [
              0.7777777777777778,
              "#fb9f3a"
             ],
             [
              0.8888888888888888,
              "#fdca26"
             ],
             [
              1,
              "#f0f921"
             ]
            ],
            "type": "heatmap"
           }
          ],
          "heatmapgl": [
           {
            "colorbar": {
             "outlinewidth": 0,
             "ticks": ""
            },
            "colorscale": [
             [
              0,
              "#0d0887"
             ],
             [
              0.1111111111111111,
              "#46039f"
             ],
             [
              0.2222222222222222,
              "#7201a8"
             ],
             [
              0.3333333333333333,
              "#9c179e"
             ],
             [
              0.4444444444444444,
              "#bd3786"
             ],
             [
              0.5555555555555556,
              "#d8576b"
             ],
             [
              0.6666666666666666,
              "#ed7953"
             ],
             [
              0.7777777777777778,
              "#fb9f3a"
             ],
             [
              0.8888888888888888,
              "#fdca26"
             ],
             [
              1,
              "#f0f921"
             ]
            ],
            "type": "heatmapgl"
           }
          ],
          "histogram": [
           {
            "marker": {
             "pattern": {
              "fillmode": "overlay",
              "size": 10,
              "solidity": 0.2
             }
            },
            "type": "histogram"
           }
          ],
          "histogram2d": [
           {
            "colorbar": {
             "outlinewidth": 0,
             "ticks": ""
            },
            "colorscale": [
             [
              0,
              "#0d0887"
             ],
             [
              0.1111111111111111,
              "#46039f"
             ],
             [
              0.2222222222222222,
              "#7201a8"
             ],
             [
              0.3333333333333333,
              "#9c179e"
             ],
             [
              0.4444444444444444,
              "#bd3786"
             ],
             [
              0.5555555555555556,
              "#d8576b"
             ],
             [
              0.6666666666666666,
              "#ed7953"
             ],
             [
              0.7777777777777778,
              "#fb9f3a"
             ],
             [
              0.8888888888888888,
              "#fdca26"
             ],
             [
              1,
              "#f0f921"
             ]
            ],
            "type": "histogram2d"
           }
          ],
          "histogram2dcontour": [
           {
            "colorbar": {
             "outlinewidth": 0,
             "ticks": ""
            },
            "colorscale": [
             [
              0,
              "#0d0887"
             ],
             [
              0.1111111111111111,
              "#46039f"
             ],
             [
              0.2222222222222222,
              "#7201a8"
             ],
             [
              0.3333333333333333,
              "#9c179e"
             ],
             [
              0.4444444444444444,
              "#bd3786"
             ],
             [
              0.5555555555555556,
              "#d8576b"
             ],
             [
              0.6666666666666666,
              "#ed7953"
             ],
             [
              0.7777777777777778,
              "#fb9f3a"
             ],
             [
              0.8888888888888888,
              "#fdca26"
             ],
             [
              1,
              "#f0f921"
             ]
            ],
            "type": "histogram2dcontour"
           }
          ],
          "mesh3d": [
           {
            "colorbar": {
             "outlinewidth": 0,
             "ticks": ""
            },
            "type": "mesh3d"
           }
          ],
          "parcoords": [
           {
            "line": {
             "colorbar": {
              "outlinewidth": 0,
              "ticks": ""
             }
            },
            "type": "parcoords"
           }
          ],
          "pie": [
           {
            "automargin": true,
            "type": "pie"
           }
          ],
          "scatter": [
           {
            "fillpattern": {
             "fillmode": "overlay",
             "size": 10,
             "solidity": 0.2
            },
            "type": "scatter"
           }
          ],
          "scatter3d": [
           {
            "line": {
             "colorbar": {
              "outlinewidth": 0,
              "ticks": ""
             }
            },
            "marker": {
             "colorbar": {
              "outlinewidth": 0,
              "ticks": ""
             }
            },
            "type": "scatter3d"
           }
          ],
          "scattercarpet": [
           {
            "marker": {
             "colorbar": {
              "outlinewidth": 0,
              "ticks": ""
             }
            },
            "type": "scattercarpet"
           }
          ],
          "scattergeo": [
           {
            "marker": {
             "colorbar": {
              "outlinewidth": 0,
              "ticks": ""
             }
            },
            "type": "scattergeo"
           }
          ],
          "scattergl": [
           {
            "marker": {
             "colorbar": {
              "outlinewidth": 0,
              "ticks": ""
             }
            },
            "type": "scattergl"
           }
          ],
          "scattermapbox": [
           {
            "marker": {
             "colorbar": {
              "outlinewidth": 0,
              "ticks": ""
             }
            },
            "type": "scattermapbox"
           }
          ],
          "scatterpolar": [
           {
            "marker": {
             "colorbar": {
              "outlinewidth": 0,
              "ticks": ""
             }
            },
            "type": "scatterpolar"
           }
          ],
          "scatterpolargl": [
           {
            "marker": {
             "colorbar": {
              "outlinewidth": 0,
              "ticks": ""
             }
            },
            "type": "scatterpolargl"
           }
          ],
          "scatterternary": [
           {
            "marker": {
             "colorbar": {
              "outlinewidth": 0,
              "ticks": ""
             }
            },
            "type": "scatterternary"
           }
          ],
          "surface": [
           {
            "colorbar": {
             "outlinewidth": 0,
             "ticks": ""
            },
            "colorscale": [
             [
              0,
              "#0d0887"
             ],
             [
              0.1111111111111111,
              "#46039f"
             ],
             [
              0.2222222222222222,
              "#7201a8"
             ],
             [
              0.3333333333333333,
              "#9c179e"
             ],
             [
              0.4444444444444444,
              "#bd3786"
             ],
             [
              0.5555555555555556,
              "#d8576b"
             ],
             [
              0.6666666666666666,
              "#ed7953"
             ],
             [
              0.7777777777777778,
              "#fb9f3a"
             ],
             [
              0.8888888888888888,
              "#fdca26"
             ],
             [
              1,
              "#f0f921"
             ]
            ],
            "type": "surface"
           }
          ],
          "table": [
           {
            "cells": {
             "fill": {
              "color": "#EBF0F8"
             },
             "line": {
              "color": "white"
             }
            },
            "header": {
             "fill": {
              "color": "#C8D4E3"
             },
             "line": {
              "color": "white"
             }
            },
            "type": "table"
           }
          ]
         },
         "layout": {
          "annotationdefaults": {
           "arrowcolor": "#2a3f5f",
           "arrowhead": 0,
           "arrowwidth": 1
          },
          "autotypenumbers": "strict",
          "coloraxis": {
           "colorbar": {
            "outlinewidth": 0,
            "ticks": ""
           }
          },
          "colorscale": {
           "diverging": [
            [
             0,
             "#8e0152"
            ],
            [
             0.1,
             "#c51b7d"
            ],
            [
             0.2,
             "#de77ae"
            ],
            [
             0.3,
             "#f1b6da"
            ],
            [
             0.4,
             "#fde0ef"
            ],
            [
             0.5,
             "#f7f7f7"
            ],
            [
             0.6,
             "#e6f5d0"
            ],
            [
             0.7,
             "#b8e186"
            ],
            [
             0.8,
             "#7fbc41"
            ],
            [
             0.9,
             "#4d9221"
            ],
            [
             1,
             "#276419"
            ]
           ],
           "sequential": [
            [
             0,
             "#0d0887"
            ],
            [
             0.1111111111111111,
             "#46039f"
            ],
            [
             0.2222222222222222,
             "#7201a8"
            ],
            [
             0.3333333333333333,
             "#9c179e"
            ],
            [
             0.4444444444444444,
             "#bd3786"
            ],
            [
             0.5555555555555556,
             "#d8576b"
            ],
            [
             0.6666666666666666,
             "#ed7953"
            ],
            [
             0.7777777777777778,
             "#fb9f3a"
            ],
            [
             0.8888888888888888,
             "#fdca26"
            ],
            [
             1,
             "#f0f921"
            ]
           ],
           "sequentialminus": [
            [
             0,
             "#0d0887"
            ],
            [
             0.1111111111111111,
             "#46039f"
            ],
            [
             0.2222222222222222,
             "#7201a8"
            ],
            [
             0.3333333333333333,
             "#9c179e"
            ],
            [
             0.4444444444444444,
             "#bd3786"
            ],
            [
             0.5555555555555556,
             "#d8576b"
            ],
            [
             0.6666666666666666,
             "#ed7953"
            ],
            [
             0.7777777777777778,
             "#fb9f3a"
            ],
            [
             0.8888888888888888,
             "#fdca26"
            ],
            [
             1,
             "#f0f921"
            ]
           ]
          },
          "colorway": [
           "#636efa",
           "#EF553B",
           "#00cc96",
           "#ab63fa",
           "#FFA15A",
           "#19d3f3",
           "#FF6692",
           "#B6E880",
           "#FF97FF",
           "#FECB52"
          ],
          "font": {
           "color": "#2a3f5f"
          },
          "geo": {
           "bgcolor": "white",
           "lakecolor": "white",
           "landcolor": "#E5ECF6",
           "showlakes": true,
           "showland": true,
           "subunitcolor": "white"
          },
          "hoverlabel": {
           "align": "left"
          },
          "hovermode": "closest",
          "mapbox": {
           "style": "light"
          },
          "paper_bgcolor": "white",
          "plot_bgcolor": "#E5ECF6",
          "polar": {
           "angularaxis": {
            "gridcolor": "white",
            "linecolor": "white",
            "ticks": ""
           },
           "bgcolor": "#E5ECF6",
           "radialaxis": {
            "gridcolor": "white",
            "linecolor": "white",
            "ticks": ""
           }
          },
          "scene": {
           "xaxis": {
            "backgroundcolor": "#E5ECF6",
            "gridcolor": "white",
            "gridwidth": 2,
            "linecolor": "white",
            "showbackground": true,
            "ticks": "",
            "zerolinecolor": "white"
           },
           "yaxis": {
            "backgroundcolor": "#E5ECF6",
            "gridcolor": "white",
            "gridwidth": 2,
            "linecolor": "white",
            "showbackground": true,
            "ticks": "",
            "zerolinecolor": "white"
           },
           "zaxis": {
            "backgroundcolor": "#E5ECF6",
            "gridcolor": "white",
            "gridwidth": 2,
            "linecolor": "white",
            "showbackground": true,
            "ticks": "",
            "zerolinecolor": "white"
           }
          },
          "shapedefaults": {
           "line": {
            "color": "#2a3f5f"
           }
          },
          "ternary": {
           "aaxis": {
            "gridcolor": "white",
            "linecolor": "white",
            "ticks": ""
           },
           "baxis": {
            "gridcolor": "white",
            "linecolor": "white",
            "ticks": ""
           },
           "bgcolor": "#E5ECF6",
           "caxis": {
            "gridcolor": "white",
            "linecolor": "white",
            "ticks": ""
           }
          },
          "title": {
           "x": 0.05
          },
          "xaxis": {
           "automargin": true,
           "gridcolor": "white",
           "linecolor": "white",
           "ticks": "",
           "title": {
            "standoff": 15
           },
           "zerolinecolor": "white",
           "zerolinewidth": 2
          },
          "yaxis": {
           "automargin": true,
           "gridcolor": "white",
           "linecolor": "white",
           "ticks": "",
           "title": {
            "standoff": 15
           },
           "zerolinecolor": "white",
           "zerolinewidth": 2
          }
         }
        },
        "title": {
         "text": "interestAndDebtExpense_QoQ"
        },
        "xaxis": {
         "anchor": "y",
         "domain": [
          0,
          1
         ],
         "title": {
          "text": "fiscalDateEnding"
         }
        },
        "yaxis": {
         "anchor": "x",
         "domain": [
          0,
          1
         ],
         "title": {
          "text": "interestAndDebtExpense_QoQ"
         }
        }
       }
      }
     },
     "metadata": {},
     "output_type": "display_data"
    },
    {
     "data": {
      "application/vnd.plotly.v1+json": {
       "config": {
        "plotlyServerURL": "https://plot.ly"
       },
       "data": [
        {
         "alignmentgroup": "True",
         "hovertemplate": "fiscalDateEnding=%{x}<br>netIncomeFromContinuingOperations_QoQ=%{y}<extra></extra>",
         "legendgroup": "",
         "marker": {
          "color": "#636efa",
          "pattern": {
           "shape": ""
          }
         },
         "name": "",
         "offsetgroup": "",
         "orientation": "v",
         "showlegend": false,
         "textposition": "auto",
         "type": "bar",
         "x": [
          "2014-09-30",
          "2014-12-31",
          "2015-03-31",
          "2015-06-30",
          "2015-09-30",
          "2015-12-31",
          "2016-03-31",
          "2016-06-30",
          "2016-09-30",
          "2016-12-31",
          "2017-03-31",
          "2017-06-30",
          "2017-09-30",
          "2017-12-31",
          "2018-03-31",
          "2018-06-30",
          "2018-09-30",
          "2018-12-31",
          "2019-03-31",
          "2019-06-30",
          "2019-09-30",
          "2019-12-31",
          "2020-03-31",
          "2020-06-30",
          "2020-09-30",
          "2020-12-31",
          "2021-03-31",
          "2021-06-30",
          "2021-09-30",
          "2021-12-31",
          "2022-03-31",
          "2022-06-30",
          "2022-09-30",
          "2022-12-31",
          "2023-03-31",
          "2023-06-30",
          "2023-09-30",
          "2023-12-31",
          "2024-03-31",
          "2024-06-30"
         ],
         "xaxis": "x",
         "y": [
          null,
          26.812585499316,
          -5.204962243797196,
          -3.0156472261735456,
          16.720445878556767,
          23.724553908017086,
          -16.67682307536055,
          17.844953681131148,
          3.434009102192803,
          10.840000000000005,
          -2.9772645254420804,
          -34.7033661893249,
          90.85730561093706,
          -146.00805849873154,
          -404.9302627311061,
          -66.01425380278694,
          187.6995305164319,
          -2.654482158398608,
          -25.603486812695575,
          49.42166140904312,
          -28.94340002010657,
          50.97623089983021,
          -35.938524974229225,
          1.7992978349912203,
          61.61804857019686,
          35.38721436827599,
          17.75136271097393,
          3.3184606804238737,
          2.2186234817813677,
          9.00929446556824,
          -20.37593256467397,
          -2.640545144804085,
          -13.073365829271344,
          -2.0560747663551426,
          10.474163241338807,
          22.03840276393596,
          7.191855400696867,
          5.068820153385145,
          14.381012229902845,
          -0.1817259741357491
         ],
         "yaxis": "y"
        }
       ],
       "layout": {
        "barmode": "relative",
        "legend": {
         "tracegroupgap": 0
        },
        "template": {
         "data": {
          "bar": [
           {
            "error_x": {
             "color": "#2a3f5f"
            },
            "error_y": {
             "color": "#2a3f5f"
            },
            "marker": {
             "line": {
              "color": "#E5ECF6",
              "width": 0.5
             },
             "pattern": {
              "fillmode": "overlay",
              "size": 10,
              "solidity": 0.2
             }
            },
            "type": "bar"
           }
          ],
          "barpolar": [
           {
            "marker": {
             "line": {
              "color": "#E5ECF6",
              "width": 0.5
             },
             "pattern": {
              "fillmode": "overlay",
              "size": 10,
              "solidity": 0.2
             }
            },
            "type": "barpolar"
           }
          ],
          "carpet": [
           {
            "aaxis": {
             "endlinecolor": "#2a3f5f",
             "gridcolor": "white",
             "linecolor": "white",
             "minorgridcolor": "white",
             "startlinecolor": "#2a3f5f"
            },
            "baxis": {
             "endlinecolor": "#2a3f5f",
             "gridcolor": "white",
             "linecolor": "white",
             "minorgridcolor": "white",
             "startlinecolor": "#2a3f5f"
            },
            "type": "carpet"
           }
          ],
          "choropleth": [
           {
            "colorbar": {
             "outlinewidth": 0,
             "ticks": ""
            },
            "type": "choropleth"
           }
          ],
          "contour": [
           {
            "colorbar": {
             "outlinewidth": 0,
             "ticks": ""
            },
            "colorscale": [
             [
              0,
              "#0d0887"
             ],
             [
              0.1111111111111111,
              "#46039f"
             ],
             [
              0.2222222222222222,
              "#7201a8"
             ],
             [
              0.3333333333333333,
              "#9c179e"
             ],
             [
              0.4444444444444444,
              "#bd3786"
             ],
             [
              0.5555555555555556,
              "#d8576b"
             ],
             [
              0.6666666666666666,
              "#ed7953"
             ],
             [
              0.7777777777777778,
              "#fb9f3a"
             ],
             [
              0.8888888888888888,
              "#fdca26"
             ],
             [
              1,
              "#f0f921"
             ]
            ],
            "type": "contour"
           }
          ],
          "contourcarpet": [
           {
            "colorbar": {
             "outlinewidth": 0,
             "ticks": ""
            },
            "type": "contourcarpet"
           }
          ],
          "heatmap": [
           {
            "colorbar": {
             "outlinewidth": 0,
             "ticks": ""
            },
            "colorscale": [
             [
              0,
              "#0d0887"
             ],
             [
              0.1111111111111111,
              "#46039f"
             ],
             [
              0.2222222222222222,
              "#7201a8"
             ],
             [
              0.3333333333333333,
              "#9c179e"
             ],
             [
              0.4444444444444444,
              "#bd3786"
             ],
             [
              0.5555555555555556,
              "#d8576b"
             ],
             [
              0.6666666666666666,
              "#ed7953"
             ],
             [
              0.7777777777777778,
              "#fb9f3a"
             ],
             [
              0.8888888888888888,
              "#fdca26"
             ],
             [
              1,
              "#f0f921"
             ]
            ],
            "type": "heatmap"
           }
          ],
          "heatmapgl": [
           {
            "colorbar": {
             "outlinewidth": 0,
             "ticks": ""
            },
            "colorscale": [
             [
              0,
              "#0d0887"
             ],
             [
              0.1111111111111111,
              "#46039f"
             ],
             [
              0.2222222222222222,
              "#7201a8"
             ],
             [
              0.3333333333333333,
              "#9c179e"
             ],
             [
              0.4444444444444444,
              "#bd3786"
             ],
             [
              0.5555555555555556,
              "#d8576b"
             ],
             [
              0.6666666666666666,
              "#ed7953"
             ],
             [
              0.7777777777777778,
              "#fb9f3a"
             ],
             [
              0.8888888888888888,
              "#fdca26"
             ],
             [
              1,
              "#f0f921"
             ]
            ],
            "type": "heatmapgl"
           }
          ],
          "histogram": [
           {
            "marker": {
             "pattern": {
              "fillmode": "overlay",
              "size": 10,
              "solidity": 0.2
             }
            },
            "type": "histogram"
           }
          ],
          "histogram2d": [
           {
            "colorbar": {
             "outlinewidth": 0,
             "ticks": ""
            },
            "colorscale": [
             [
              0,
              "#0d0887"
             ],
             [
              0.1111111111111111,
              "#46039f"
             ],
             [
              0.2222222222222222,
              "#7201a8"
             ],
             [
              0.3333333333333333,
              "#9c179e"
             ],
             [
              0.4444444444444444,
              "#bd3786"
             ],
             [
              0.5555555555555556,
              "#d8576b"
             ],
             [
              0.6666666666666666,
              "#ed7953"
             ],
             [
              0.7777777777777778,
              "#fb9f3a"
             ],
             [
              0.8888888888888888,
              "#fdca26"
             ],
             [
              1,
              "#f0f921"
             ]
            ],
            "type": "histogram2d"
           }
          ],
          "histogram2dcontour": [
           {
            "colorbar": {
             "outlinewidth": 0,
             "ticks": ""
            },
            "colorscale": [
             [
              0,
              "#0d0887"
             ],
             [
              0.1111111111111111,
              "#46039f"
             ],
             [
              0.2222222222222222,
              "#7201a8"
             ],
             [
              0.3333333333333333,
              "#9c179e"
             ],
             [
              0.4444444444444444,
              "#bd3786"
             ],
             [
              0.5555555555555556,
              "#d8576b"
             ],
             [
              0.6666666666666666,
              "#ed7953"
             ],
             [
              0.7777777777777778,
              "#fb9f3a"
             ],
             [
              0.8888888888888888,
              "#fdca26"
             ],
             [
              1,
              "#f0f921"
             ]
            ],
            "type": "histogram2dcontour"
           }
          ],
          "mesh3d": [
           {
            "colorbar": {
             "outlinewidth": 0,
             "ticks": ""
            },
            "type": "mesh3d"
           }
          ],
          "parcoords": [
           {
            "line": {
             "colorbar": {
              "outlinewidth": 0,
              "ticks": ""
             }
            },
            "type": "parcoords"
           }
          ],
          "pie": [
           {
            "automargin": true,
            "type": "pie"
           }
          ],
          "scatter": [
           {
            "fillpattern": {
             "fillmode": "overlay",
             "size": 10,
             "solidity": 0.2
            },
            "type": "scatter"
           }
          ],
          "scatter3d": [
           {
            "line": {
             "colorbar": {
              "outlinewidth": 0,
              "ticks": ""
             }
            },
            "marker": {
             "colorbar": {
              "outlinewidth": 0,
              "ticks": ""
             }
            },
            "type": "scatter3d"
           }
          ],
          "scattercarpet": [
           {
            "marker": {
             "colorbar": {
              "outlinewidth": 0,
              "ticks": ""
             }
            },
            "type": "scattercarpet"
           }
          ],
          "scattergeo": [
           {
            "marker": {
             "colorbar": {
              "outlinewidth": 0,
              "ticks": ""
             }
            },
            "type": "scattergeo"
           }
          ],
          "scattergl": [
           {
            "marker": {
             "colorbar": {
              "outlinewidth": 0,
              "ticks": ""
             }
            },
            "type": "scattergl"
           }
          ],
          "scattermapbox": [
           {
            "marker": {
             "colorbar": {
              "outlinewidth": 0,
              "ticks": ""
             }
            },
            "type": "scattermapbox"
           }
          ],
          "scatterpolar": [
           {
            "marker": {
             "colorbar": {
              "outlinewidth": 0,
              "ticks": ""
             }
            },
            "type": "scatterpolar"
           }
          ],
          "scatterpolargl": [
           {
            "marker": {
             "colorbar": {
              "outlinewidth": 0,
              "ticks": ""
             }
            },
            "type": "scatterpolargl"
           }
          ],
          "scatterternary": [
           {
            "marker": {
             "colorbar": {
              "outlinewidth": 0,
              "ticks": ""
             }
            },
            "type": "scatterternary"
           }
          ],
          "surface": [
           {
            "colorbar": {
             "outlinewidth": 0,
             "ticks": ""
            },
            "colorscale": [
             [
              0,
              "#0d0887"
             ],
             [
              0.1111111111111111,
              "#46039f"
             ],
             [
              0.2222222222222222,
              "#7201a8"
             ],
             [
              0.3333333333333333,
              "#9c179e"
             ],
             [
              0.4444444444444444,
              "#bd3786"
             ],
             [
              0.5555555555555556,
              "#d8576b"
             ],
             [
              0.6666666666666666,
              "#ed7953"
             ],
             [
              0.7777777777777778,
              "#fb9f3a"
             ],
             [
              0.8888888888888888,
              "#fdca26"
             ],
             [
              1,
              "#f0f921"
             ]
            ],
            "type": "surface"
           }
          ],
          "table": [
           {
            "cells": {
             "fill": {
              "color": "#EBF0F8"
             },
             "line": {
              "color": "white"
             }
            },
            "header": {
             "fill": {
              "color": "#C8D4E3"
             },
             "line": {
              "color": "white"
             }
            },
            "type": "table"
           }
          ]
         },
         "layout": {
          "annotationdefaults": {
           "arrowcolor": "#2a3f5f",
           "arrowhead": 0,
           "arrowwidth": 1
          },
          "autotypenumbers": "strict",
          "coloraxis": {
           "colorbar": {
            "outlinewidth": 0,
            "ticks": ""
           }
          },
          "colorscale": {
           "diverging": [
            [
             0,
             "#8e0152"
            ],
            [
             0.1,
             "#c51b7d"
            ],
            [
             0.2,
             "#de77ae"
            ],
            [
             0.3,
             "#f1b6da"
            ],
            [
             0.4,
             "#fde0ef"
            ],
            [
             0.5,
             "#f7f7f7"
            ],
            [
             0.6,
             "#e6f5d0"
            ],
            [
             0.7,
             "#b8e186"
            ],
            [
             0.8,
             "#7fbc41"
            ],
            [
             0.9,
             "#4d9221"
            ],
            [
             1,
             "#276419"
            ]
           ],
           "sequential": [
            [
             0,
             "#0d0887"
            ],
            [
             0.1111111111111111,
             "#46039f"
            ],
            [
             0.2222222222222222,
             "#7201a8"
            ],
            [
             0.3333333333333333,
             "#9c179e"
            ],
            [
             0.4444444444444444,
             "#bd3786"
            ],
            [
             0.5555555555555556,
             "#d8576b"
            ],
            [
             0.6666666666666666,
             "#ed7953"
            ],
            [
             0.7777777777777778,
             "#fb9f3a"
            ],
            [
             0.8888888888888888,
             "#fdca26"
            ],
            [
             1,
             "#f0f921"
            ]
           ],
           "sequentialminus": [
            [
             0,
             "#0d0887"
            ],
            [
             0.1111111111111111,
             "#46039f"
            ],
            [
             0.2222222222222222,
             "#7201a8"
            ],
            [
             0.3333333333333333,
             "#9c179e"
            ],
            [
             0.4444444444444444,
             "#bd3786"
            ],
            [
             0.5555555555555556,
             "#d8576b"
            ],
            [
             0.6666666666666666,
             "#ed7953"
            ],
            [
             0.7777777777777778,
             "#fb9f3a"
            ],
            [
             0.8888888888888888,
             "#fdca26"
            ],
            [
             1,
             "#f0f921"
            ]
           ]
          },
          "colorway": [
           "#636efa",
           "#EF553B",
           "#00cc96",
           "#ab63fa",
           "#FFA15A",
           "#19d3f3",
           "#FF6692",
           "#B6E880",
           "#FF97FF",
           "#FECB52"
          ],
          "font": {
           "color": "#2a3f5f"
          },
          "geo": {
           "bgcolor": "white",
           "lakecolor": "white",
           "landcolor": "#E5ECF6",
           "showlakes": true,
           "showland": true,
           "subunitcolor": "white"
          },
          "hoverlabel": {
           "align": "left"
          },
          "hovermode": "closest",
          "mapbox": {
           "style": "light"
          },
          "paper_bgcolor": "white",
          "plot_bgcolor": "#E5ECF6",
          "polar": {
           "angularaxis": {
            "gridcolor": "white",
            "linecolor": "white",
            "ticks": ""
           },
           "bgcolor": "#E5ECF6",
           "radialaxis": {
            "gridcolor": "white",
            "linecolor": "white",
            "ticks": ""
           }
          },
          "scene": {
           "xaxis": {
            "backgroundcolor": "#E5ECF6",
            "gridcolor": "white",
            "gridwidth": 2,
            "linecolor": "white",
            "showbackground": true,
            "ticks": "",
            "zerolinecolor": "white"
           },
           "yaxis": {
            "backgroundcolor": "#E5ECF6",
            "gridcolor": "white",
            "gridwidth": 2,
            "linecolor": "white",
            "showbackground": true,
            "ticks": "",
            "zerolinecolor": "white"
           },
           "zaxis": {
            "backgroundcolor": "#E5ECF6",
            "gridcolor": "white",
            "gridwidth": 2,
            "linecolor": "white",
            "showbackground": true,
            "ticks": "",
            "zerolinecolor": "white"
           }
          },
          "shapedefaults": {
           "line": {
            "color": "#2a3f5f"
           }
          },
          "ternary": {
           "aaxis": {
            "gridcolor": "white",
            "linecolor": "white",
            "ticks": ""
           },
           "baxis": {
            "gridcolor": "white",
            "linecolor": "white",
            "ticks": ""
           },
           "bgcolor": "#E5ECF6",
           "caxis": {
            "gridcolor": "white",
            "linecolor": "white",
            "ticks": ""
           }
          },
          "title": {
           "x": 0.05
          },
          "xaxis": {
           "automargin": true,
           "gridcolor": "white",
           "linecolor": "white",
           "ticks": "",
           "title": {
            "standoff": 15
           },
           "zerolinecolor": "white",
           "zerolinewidth": 2
          },
          "yaxis": {
           "automargin": true,
           "gridcolor": "white",
           "linecolor": "white",
           "ticks": "",
           "title": {
            "standoff": 15
           },
           "zerolinecolor": "white",
           "zerolinewidth": 2
          }
         }
        },
        "title": {
         "text": "netIncomeFromContinuingOperations_QoQ"
        },
        "xaxis": {
         "anchor": "y",
         "domain": [
          0,
          1
         ],
         "title": {
          "text": "fiscalDateEnding"
         }
        },
        "yaxis": {
         "anchor": "x",
         "domain": [
          0,
          1
         ],
         "title": {
          "text": "netIncomeFromContinuingOperations_QoQ"
         }
        }
       }
      }
     },
     "metadata": {},
     "output_type": "display_data"
    },
    {
     "data": {
      "application/vnd.plotly.v1+json": {
       "config": {
        "plotlyServerURL": "https://plot.ly"
       },
       "data": [
        {
         "alignmentgroup": "True",
         "hovertemplate": "fiscalDateEnding=%{x}<br>comprehensiveIncomeNetOfTax_QoQ=%{y}<extra></extra>",
         "legendgroup": "",
         "marker": {
          "color": "#636efa",
          "pattern": {
           "shape": ""
          }
         },
         "name": "",
         "offsetgroup": "",
         "orientation": "v",
         "showlegend": false,
         "textposition": "auto",
         "type": "bar",
         "x": [
          "2014-09-30",
          "2014-12-31",
          "2015-03-31",
          "2015-06-30",
          "2015-09-30",
          "2015-12-31",
          "2016-03-31",
          "2016-06-30",
          "2016-09-30",
          "2016-12-31",
          "2017-03-31",
          "2017-06-30",
          "2017-09-30",
          "2017-12-31",
          "2018-03-31",
          "2018-06-30",
          "2018-09-30",
          "2018-12-31",
          "2019-03-31",
          "2019-06-30",
          "2019-09-30",
          "2019-12-31",
          "2020-03-31",
          "2020-06-30",
          "2020-09-30",
          "2020-12-31",
          "2021-03-31",
          "2021-06-30",
          "2021-09-30",
          "2021-12-31",
          "2022-03-31",
          "2022-06-30",
          "2022-09-30",
          "2022-12-31",
          "2023-03-31",
          "2023-06-30",
          "2023-09-30",
          "2023-12-31",
          "2024-03-31",
          "2024-06-30"
         ],
         "xaxis": "x",
         "y": [
          null,
          121.9953596287703,
          -34.84531772575251,
          8.213025344882908,
          -1.6898903053661374,
          39.95778045838358,
          3.1458737341090393,
          4.867349070399007,
          3.1872509960159334,
          -23.49420849420849,
          42.795861720918495,
          -29.934617423573073,
          94.55233291298866,
          -142.33860513352346,
          -400.7042253521127,
          -76.17350575297831,
          286.36752136752136,
          -7.996902997456035,
          -13.284443375811495,
          47.45598225426313,
          -34.5336592704024,
          52.735889702714346,
          -34.45228020686413,
          11.31831874910343,
          49.34278350515464,
          36.45698507205108,
          9.358796003541169,
          8.234069619521222,
          -2.0301314242974655,
          5.938488384774776,
          -27.88387296031297,
          1.5203426124196895,
          -23.461998171974972,
          36.6250229652765,
          11.974719289988567,
          10.345862855770394,
          1.4529030853784652,
          25.085818493885427,
          -0.41164615582521824,
          0.951560818083963
         ],
         "yaxis": "y"
        }
       ],
       "layout": {
        "barmode": "relative",
        "legend": {
         "tracegroupgap": 0
        },
        "template": {
         "data": {
          "bar": [
           {
            "error_x": {
             "color": "#2a3f5f"
            },
            "error_y": {
             "color": "#2a3f5f"
            },
            "marker": {
             "line": {
              "color": "#E5ECF6",
              "width": 0.5
             },
             "pattern": {
              "fillmode": "overlay",
              "size": 10,
              "solidity": 0.2
             }
            },
            "type": "bar"
           }
          ],
          "barpolar": [
           {
            "marker": {
             "line": {
              "color": "#E5ECF6",
              "width": 0.5
             },
             "pattern": {
              "fillmode": "overlay",
              "size": 10,
              "solidity": 0.2
             }
            },
            "type": "barpolar"
           }
          ],
          "carpet": [
           {
            "aaxis": {
             "endlinecolor": "#2a3f5f",
             "gridcolor": "white",
             "linecolor": "white",
             "minorgridcolor": "white",
             "startlinecolor": "#2a3f5f"
            },
            "baxis": {
             "endlinecolor": "#2a3f5f",
             "gridcolor": "white",
             "linecolor": "white",
             "minorgridcolor": "white",
             "startlinecolor": "#2a3f5f"
            },
            "type": "carpet"
           }
          ],
          "choropleth": [
           {
            "colorbar": {
             "outlinewidth": 0,
             "ticks": ""
            },
            "type": "choropleth"
           }
          ],
          "contour": [
           {
            "colorbar": {
             "outlinewidth": 0,
             "ticks": ""
            },
            "colorscale": [
             [
              0,
              "#0d0887"
             ],
             [
              0.1111111111111111,
              "#46039f"
             ],
             [
              0.2222222222222222,
              "#7201a8"
             ],
             [
              0.3333333333333333,
              "#9c179e"
             ],
             [
              0.4444444444444444,
              "#bd3786"
             ],
             [
              0.5555555555555556,
              "#d8576b"
             ],
             [
              0.6666666666666666,
              "#ed7953"
             ],
             [
              0.7777777777777778,
              "#fb9f3a"
             ],
             [
              0.8888888888888888,
              "#fdca26"
             ],
             [
              1,
              "#f0f921"
             ]
            ],
            "type": "contour"
           }
          ],
          "contourcarpet": [
           {
            "colorbar": {
             "outlinewidth": 0,
             "ticks": ""
            },
            "type": "contourcarpet"
           }
          ],
          "heatmap": [
           {
            "colorbar": {
             "outlinewidth": 0,
             "ticks": ""
            },
            "colorscale": [
             [
              0,
              "#0d0887"
             ],
             [
              0.1111111111111111,
              "#46039f"
             ],
             [
              0.2222222222222222,
              "#7201a8"
             ],
             [
              0.3333333333333333,
              "#9c179e"
             ],
             [
              0.4444444444444444,
              "#bd3786"
             ],
             [
              0.5555555555555556,
              "#d8576b"
             ],
             [
              0.6666666666666666,
              "#ed7953"
             ],
             [
              0.7777777777777778,
              "#fb9f3a"
             ],
             [
              0.8888888888888888,
              "#fdca26"
             ],
             [
              1,
              "#f0f921"
             ]
            ],
            "type": "heatmap"
           }
          ],
          "heatmapgl": [
           {
            "colorbar": {
             "outlinewidth": 0,
             "ticks": ""
            },
            "colorscale": [
             [
              0,
              "#0d0887"
             ],
             [
              0.1111111111111111,
              "#46039f"
             ],
             [
              0.2222222222222222,
              "#7201a8"
             ],
             [
              0.3333333333333333,
              "#9c179e"
             ],
             [
              0.4444444444444444,
              "#bd3786"
             ],
             [
              0.5555555555555556,
              "#d8576b"
             ],
             [
              0.6666666666666666,
              "#ed7953"
             ],
             [
              0.7777777777777778,
              "#fb9f3a"
             ],
             [
              0.8888888888888888,
              "#fdca26"
             ],
             [
              1,
              "#f0f921"
             ]
            ],
            "type": "heatmapgl"
           }
          ],
          "histogram": [
           {
            "marker": {
             "pattern": {
              "fillmode": "overlay",
              "size": 10,
              "solidity": 0.2
             }
            },
            "type": "histogram"
           }
          ],
          "histogram2d": [
           {
            "colorbar": {
             "outlinewidth": 0,
             "ticks": ""
            },
            "colorscale": [
             [
              0,
              "#0d0887"
             ],
             [
              0.1111111111111111,
              "#46039f"
             ],
             [
              0.2222222222222222,
              "#7201a8"
             ],
             [
              0.3333333333333333,
              "#9c179e"
             ],
             [
              0.4444444444444444,
              "#bd3786"
             ],
             [
              0.5555555555555556,
              "#d8576b"
             ],
             [
              0.6666666666666666,
              "#ed7953"
             ],
             [
              0.7777777777777778,
              "#fb9f3a"
             ],
             [
              0.8888888888888888,
              "#fdca26"
             ],
             [
              1,
              "#f0f921"
             ]
            ],
            "type": "histogram2d"
           }
          ],
          "histogram2dcontour": [
           {
            "colorbar": {
             "outlinewidth": 0,
             "ticks": ""
            },
            "colorscale": [
             [
              0,
              "#0d0887"
             ],
             [
              0.1111111111111111,
              "#46039f"
             ],
             [
              0.2222222222222222,
              "#7201a8"
             ],
             [
              0.3333333333333333,
              "#9c179e"
             ],
             [
              0.4444444444444444,
              "#bd3786"
             ],
             [
              0.5555555555555556,
              "#d8576b"
             ],
             [
              0.6666666666666666,
              "#ed7953"
             ],
             [
              0.7777777777777778,
              "#fb9f3a"
             ],
             [
              0.8888888888888888,
              "#fdca26"
             ],
             [
              1,
              "#f0f921"
             ]
            ],
            "type": "histogram2dcontour"
           }
          ],
          "mesh3d": [
           {
            "colorbar": {
             "outlinewidth": 0,
             "ticks": ""
            },
            "type": "mesh3d"
           }
          ],
          "parcoords": [
           {
            "line": {
             "colorbar": {
              "outlinewidth": 0,
              "ticks": ""
             }
            },
            "type": "parcoords"
           }
          ],
          "pie": [
           {
            "automargin": true,
            "type": "pie"
           }
          ],
          "scatter": [
           {
            "fillpattern": {
             "fillmode": "overlay",
             "size": 10,
             "solidity": 0.2
            },
            "type": "scatter"
           }
          ],
          "scatter3d": [
           {
            "line": {
             "colorbar": {
              "outlinewidth": 0,
              "ticks": ""
             }
            },
            "marker": {
             "colorbar": {
              "outlinewidth": 0,
              "ticks": ""
             }
            },
            "type": "scatter3d"
           }
          ],
          "scattercarpet": [
           {
            "marker": {
             "colorbar": {
              "outlinewidth": 0,
              "ticks": ""
             }
            },
            "type": "scattercarpet"
           }
          ],
          "scattergeo": [
           {
            "marker": {
             "colorbar": {
              "outlinewidth": 0,
              "ticks": ""
             }
            },
            "type": "scattergeo"
           }
          ],
          "scattergl": [
           {
            "marker": {
             "colorbar": {
              "outlinewidth": 0,
              "ticks": ""
             }
            },
            "type": "scattergl"
           }
          ],
          "scattermapbox": [
           {
            "marker": {
             "colorbar": {
              "outlinewidth": 0,
              "ticks": ""
             }
            },
            "type": "scattermapbox"
           }
          ],
          "scatterpolar": [
           {
            "marker": {
             "colorbar": {
              "outlinewidth": 0,
              "ticks": ""
             }
            },
            "type": "scatterpolar"
           }
          ],
          "scatterpolargl": [
           {
            "marker": {
             "colorbar": {
              "outlinewidth": 0,
              "ticks": ""
             }
            },
            "type": "scatterpolargl"
           }
          ],
          "scatterternary": [
           {
            "marker": {
             "colorbar": {
              "outlinewidth": 0,
              "ticks": ""
             }
            },
            "type": "scatterternary"
           }
          ],
          "surface": [
           {
            "colorbar": {
             "outlinewidth": 0,
             "ticks": ""
            },
            "colorscale": [
             [
              0,
              "#0d0887"
             ],
             [
              0.1111111111111111,
              "#46039f"
             ],
             [
              0.2222222222222222,
              "#7201a8"
             ],
             [
              0.3333333333333333,
              "#9c179e"
             ],
             [
              0.4444444444444444,
              "#bd3786"
             ],
             [
              0.5555555555555556,
              "#d8576b"
             ],
             [
              0.6666666666666666,
              "#ed7953"
             ],
             [
              0.7777777777777778,
              "#fb9f3a"
             ],
             [
              0.8888888888888888,
              "#fdca26"
             ],
             [
              1,
              "#f0f921"
             ]
            ],
            "type": "surface"
           }
          ],
          "table": [
           {
            "cells": {
             "fill": {
              "color": "#EBF0F8"
             },
             "line": {
              "color": "white"
             }
            },
            "header": {
             "fill": {
              "color": "#C8D4E3"
             },
             "line": {
              "color": "white"
             }
            },
            "type": "table"
           }
          ]
         },
         "layout": {
          "annotationdefaults": {
           "arrowcolor": "#2a3f5f",
           "arrowhead": 0,
           "arrowwidth": 1
          },
          "autotypenumbers": "strict",
          "coloraxis": {
           "colorbar": {
            "outlinewidth": 0,
            "ticks": ""
           }
          },
          "colorscale": {
           "diverging": [
            [
             0,
             "#8e0152"
            ],
            [
             0.1,
             "#c51b7d"
            ],
            [
             0.2,
             "#de77ae"
            ],
            [
             0.3,
             "#f1b6da"
            ],
            [
             0.4,
             "#fde0ef"
            ],
            [
             0.5,
             "#f7f7f7"
            ],
            [
             0.6,
             "#e6f5d0"
            ],
            [
             0.7,
             "#b8e186"
            ],
            [
             0.8,
             "#7fbc41"
            ],
            [
             0.9,
             "#4d9221"
            ],
            [
             1,
             "#276419"
            ]
           ],
           "sequential": [
            [
             0,
             "#0d0887"
            ],
            [
             0.1111111111111111,
             "#46039f"
            ],
            [
             0.2222222222222222,
             "#7201a8"
            ],
            [
             0.3333333333333333,
             "#9c179e"
            ],
            [
             0.4444444444444444,
             "#bd3786"
            ],
            [
             0.5555555555555556,
             "#d8576b"
            ],
            [
             0.6666666666666666,
             "#ed7953"
            ],
            [
             0.7777777777777778,
             "#fb9f3a"
            ],
            [
             0.8888888888888888,
             "#fdca26"
            ],
            [
             1,
             "#f0f921"
            ]
           ],
           "sequentialminus": [
            [
             0,
             "#0d0887"
            ],
            [
             0.1111111111111111,
             "#46039f"
            ],
            [
             0.2222222222222222,
             "#7201a8"
            ],
            [
             0.3333333333333333,
             "#9c179e"
            ],
            [
             0.4444444444444444,
             "#bd3786"
            ],
            [
             0.5555555555555556,
             "#d8576b"
            ],
            [
             0.6666666666666666,
             "#ed7953"
            ],
            [
             0.7777777777777778,
             "#fb9f3a"
            ],
            [
             0.8888888888888888,
             "#fdca26"
            ],
            [
             1,
             "#f0f921"
            ]
           ]
          },
          "colorway": [
           "#636efa",
           "#EF553B",
           "#00cc96",
           "#ab63fa",
           "#FFA15A",
           "#19d3f3",
           "#FF6692",
           "#B6E880",
           "#FF97FF",
           "#FECB52"
          ],
          "font": {
           "color": "#2a3f5f"
          },
          "geo": {
           "bgcolor": "white",
           "lakecolor": "white",
           "landcolor": "#E5ECF6",
           "showlakes": true,
           "showland": true,
           "subunitcolor": "white"
          },
          "hoverlabel": {
           "align": "left"
          },
          "hovermode": "closest",
          "mapbox": {
           "style": "light"
          },
          "paper_bgcolor": "white",
          "plot_bgcolor": "#E5ECF6",
          "polar": {
           "angularaxis": {
            "gridcolor": "white",
            "linecolor": "white",
            "ticks": ""
           },
           "bgcolor": "#E5ECF6",
           "radialaxis": {
            "gridcolor": "white",
            "linecolor": "white",
            "ticks": ""
           }
          },
          "scene": {
           "xaxis": {
            "backgroundcolor": "#E5ECF6",
            "gridcolor": "white",
            "gridwidth": 2,
            "linecolor": "white",
            "showbackground": true,
            "ticks": "",
            "zerolinecolor": "white"
           },
           "yaxis": {
            "backgroundcolor": "#E5ECF6",
            "gridcolor": "white",
            "gridwidth": 2,
            "linecolor": "white",
            "showbackground": true,
            "ticks": "",
            "zerolinecolor": "white"
           },
           "zaxis": {
            "backgroundcolor": "#E5ECF6",
            "gridcolor": "white",
            "gridwidth": 2,
            "linecolor": "white",
            "showbackground": true,
            "ticks": "",
            "zerolinecolor": "white"
           }
          },
          "shapedefaults": {
           "line": {
            "color": "#2a3f5f"
           }
          },
          "ternary": {
           "aaxis": {
            "gridcolor": "white",
            "linecolor": "white",
            "ticks": ""
           },
           "baxis": {
            "gridcolor": "white",
            "linecolor": "white",
            "ticks": ""
           },
           "bgcolor": "#E5ECF6",
           "caxis": {
            "gridcolor": "white",
            "linecolor": "white",
            "ticks": ""
           }
          },
          "title": {
           "x": 0.05
          },
          "xaxis": {
           "automargin": true,
           "gridcolor": "white",
           "linecolor": "white",
           "ticks": "",
           "title": {
            "standoff": 15
           },
           "zerolinecolor": "white",
           "zerolinewidth": 2
          },
          "yaxis": {
           "automargin": true,
           "gridcolor": "white",
           "linecolor": "white",
           "ticks": "",
           "title": {
            "standoff": 15
           },
           "zerolinecolor": "white",
           "zerolinewidth": 2
          }
         }
        },
        "title": {
         "text": "comprehensiveIncomeNetOfTax_QoQ"
        },
        "xaxis": {
         "anchor": "y",
         "domain": [
          0,
          1
         ],
         "title": {
          "text": "fiscalDateEnding"
         }
        },
        "yaxis": {
         "anchor": "x",
         "domain": [
          0,
          1
         ],
         "title": {
          "text": "comprehensiveIncomeNetOfTax_QoQ"
         }
        }
       }
      }
     },
     "metadata": {},
     "output_type": "display_data"
    },
    {
     "data": {
      "application/vnd.plotly.v1+json": {
       "config": {
        "plotlyServerURL": "https://plot.ly"
       },
       "data": [
        {
         "alignmentgroup": "True",
         "hovertemplate": "fiscalDateEnding=%{x}<br>ebit_QoQ=%{y}<extra></extra>",
         "legendgroup": "",
         "marker": {
          "color": "#636efa",
          "pattern": {
           "shape": ""
          }
         },
         "name": "",
         "offsetgroup": "",
         "orientation": "v",
         "showlegend": false,
         "textposition": "auto",
         "type": "bar",
         "x": [
          "2014-09-30",
          "2014-12-31",
          "2015-03-31",
          "2015-06-30",
          "2015-09-30",
          "2015-12-31",
          "2016-03-31",
          "2016-06-30",
          "2016-09-30",
          "2016-12-31",
          "2017-03-31",
          "2017-06-30",
          "2017-09-30",
          "2017-12-31",
          "2018-03-31",
          "2018-06-30",
          "2018-09-30",
          "2018-12-31",
          "2019-03-31",
          "2019-06-30",
          "2019-09-30",
          "2019-12-31",
          "2020-03-31",
          "2020-06-30",
          "2020-09-30",
          "2020-12-31",
          "2021-03-31",
          "2021-06-30",
          "2021-09-30",
          "2021-12-31",
          "2022-03-31",
          "2022-06-30",
          "2022-09-30",
          "2022-12-31",
          "2023-03-31",
          "2023-06-30",
          "2023-09-30",
          "2023-12-31",
          "2024-03-31",
          "2024-06-30"
         ],
         "xaxis": "x",
         "y": [
          null,
          49.28320259670003,
          -16.10799057800326,
          7.602591792656588,
          -1.3046969088719385,
          6.284319707138497,
          -1.2820512820512775,
          19.22853266136848,
          -1.2518289708990382,
          13.43431017451433,
          -0.667634252539917,
          -35.73933372296902,
          82.03728967712595,
          0.5995503372470568,
          31.27638440526446,
          -59.87893691478294,
          138.35454974068836,
          -0.09890218573830323,
          -19.008019008019005,
          48.78376726561544,
          -28.927045678606632,
          23.927869610449658,
          -27.450797500233183,
          6.582669066598101,
          61.72496984318456,
          39.79264563287834,
          13.963291004161782,
          3.2866707242848348,
          4.895516975658398,
          5.954798841882369,
          -22.439740609323376,
          0.42067623705106527,
          -14.468241084987167,
          5.528345781804833,
          6.0799443058536795,
          20.02187585452557,
          -2.8843525015948224,
          14.864167409562246,
          16.045096197050768,
          -3.463691083811471
         ],
         "yaxis": "y"
        }
       ],
       "layout": {
        "barmode": "relative",
        "legend": {
         "tracegroupgap": 0
        },
        "template": {
         "data": {
          "bar": [
           {
            "error_x": {
             "color": "#2a3f5f"
            },
            "error_y": {
             "color": "#2a3f5f"
            },
            "marker": {
             "line": {
              "color": "#E5ECF6",
              "width": 0.5
             },
             "pattern": {
              "fillmode": "overlay",
              "size": 10,
              "solidity": 0.2
             }
            },
            "type": "bar"
           }
          ],
          "barpolar": [
           {
            "marker": {
             "line": {
              "color": "#E5ECF6",
              "width": 0.5
             },
             "pattern": {
              "fillmode": "overlay",
              "size": 10,
              "solidity": 0.2
             }
            },
            "type": "barpolar"
           }
          ],
          "carpet": [
           {
            "aaxis": {
             "endlinecolor": "#2a3f5f",
             "gridcolor": "white",
             "linecolor": "white",
             "minorgridcolor": "white",
             "startlinecolor": "#2a3f5f"
            },
            "baxis": {
             "endlinecolor": "#2a3f5f",
             "gridcolor": "white",
             "linecolor": "white",
             "minorgridcolor": "white",
             "startlinecolor": "#2a3f5f"
            },
            "type": "carpet"
           }
          ],
          "choropleth": [
           {
            "colorbar": {
             "outlinewidth": 0,
             "ticks": ""
            },
            "type": "choropleth"
           }
          ],
          "contour": [
           {
            "colorbar": {
             "outlinewidth": 0,
             "ticks": ""
            },
            "colorscale": [
             [
              0,
              "#0d0887"
             ],
             [
              0.1111111111111111,
              "#46039f"
             ],
             [
              0.2222222222222222,
              "#7201a8"
             ],
             [
              0.3333333333333333,
              "#9c179e"
             ],
             [
              0.4444444444444444,
              "#bd3786"
             ],
             [
              0.5555555555555556,
              "#d8576b"
             ],
             [
              0.6666666666666666,
              "#ed7953"
             ],
             [
              0.7777777777777778,
              "#fb9f3a"
             ],
             [
              0.8888888888888888,
              "#fdca26"
             ],
             [
              1,
              "#f0f921"
             ]
            ],
            "type": "contour"
           }
          ],
          "contourcarpet": [
           {
            "colorbar": {
             "outlinewidth": 0,
             "ticks": ""
            },
            "type": "contourcarpet"
           }
          ],
          "heatmap": [
           {
            "colorbar": {
             "outlinewidth": 0,
             "ticks": ""
            },
            "colorscale": [
             [
              0,
              "#0d0887"
             ],
             [
              0.1111111111111111,
              "#46039f"
             ],
             [
              0.2222222222222222,
              "#7201a8"
             ],
             [
              0.3333333333333333,
              "#9c179e"
             ],
             [
              0.4444444444444444,
              "#bd3786"
             ],
             [
              0.5555555555555556,
              "#d8576b"
             ],
             [
              0.6666666666666666,
              "#ed7953"
             ],
             [
              0.7777777777777778,
              "#fb9f3a"
             ],
             [
              0.8888888888888888,
              "#fdca26"
             ],
             [
              1,
              "#f0f921"
             ]
            ],
            "type": "heatmap"
           }
          ],
          "heatmapgl": [
           {
            "colorbar": {
             "outlinewidth": 0,
             "ticks": ""
            },
            "colorscale": [
             [
              0,
              "#0d0887"
             ],
             [
              0.1111111111111111,
              "#46039f"
             ],
             [
              0.2222222222222222,
              "#7201a8"
             ],
             [
              0.3333333333333333,
              "#9c179e"
             ],
             [
              0.4444444444444444,
              "#bd3786"
             ],
             [
              0.5555555555555556,
              "#d8576b"
             ],
             [
              0.6666666666666666,
              "#ed7953"
             ],
             [
              0.7777777777777778,
              "#fb9f3a"
             ],
             [
              0.8888888888888888,
              "#fdca26"
             ],
             [
              1,
              "#f0f921"
             ]
            ],
            "type": "heatmapgl"
           }
          ],
          "histogram": [
           {
            "marker": {
             "pattern": {
              "fillmode": "overlay",
              "size": 10,
              "solidity": 0.2
             }
            },
            "type": "histogram"
           }
          ],
          "histogram2d": [
           {
            "colorbar": {
             "outlinewidth": 0,
             "ticks": ""
            },
            "colorscale": [
             [
              0,
              "#0d0887"
             ],
             [
              0.1111111111111111,
              "#46039f"
             ],
             [
              0.2222222222222222,
              "#7201a8"
             ],
             [
              0.3333333333333333,
              "#9c179e"
             ],
             [
              0.4444444444444444,
              "#bd3786"
             ],
             [
              0.5555555555555556,
              "#d8576b"
             ],
             [
              0.6666666666666666,
              "#ed7953"
             ],
             [
              0.7777777777777778,
              "#fb9f3a"
             ],
             [
              0.8888888888888888,
              "#fdca26"
             ],
             [
              1,
              "#f0f921"
             ]
            ],
            "type": "histogram2d"
           }
          ],
          "histogram2dcontour": [
           {
            "colorbar": {
             "outlinewidth": 0,
             "ticks": ""
            },
            "colorscale": [
             [
              0,
              "#0d0887"
             ],
             [
              0.1111111111111111,
              "#46039f"
             ],
             [
              0.2222222222222222,
              "#7201a8"
             ],
             [
              0.3333333333333333,
              "#9c179e"
             ],
             [
              0.4444444444444444,
              "#bd3786"
             ],
             [
              0.5555555555555556,
              "#d8576b"
             ],
             [
              0.6666666666666666,
              "#ed7953"
             ],
             [
              0.7777777777777778,
              "#fb9f3a"
             ],
             [
              0.8888888888888888,
              "#fdca26"
             ],
             [
              1,
              "#f0f921"
             ]
            ],
            "type": "histogram2dcontour"
           }
          ],
          "mesh3d": [
           {
            "colorbar": {
             "outlinewidth": 0,
             "ticks": ""
            },
            "type": "mesh3d"
           }
          ],
          "parcoords": [
           {
            "line": {
             "colorbar": {
              "outlinewidth": 0,
              "ticks": ""
             }
            },
            "type": "parcoords"
           }
          ],
          "pie": [
           {
            "automargin": true,
            "type": "pie"
           }
          ],
          "scatter": [
           {
            "fillpattern": {
             "fillmode": "overlay",
             "size": 10,
             "solidity": 0.2
            },
            "type": "scatter"
           }
          ],
          "scatter3d": [
           {
            "line": {
             "colorbar": {
              "outlinewidth": 0,
              "ticks": ""
             }
            },
            "marker": {
             "colorbar": {
              "outlinewidth": 0,
              "ticks": ""
             }
            },
            "type": "scatter3d"
           }
          ],
          "scattercarpet": [
           {
            "marker": {
             "colorbar": {
              "outlinewidth": 0,
              "ticks": ""
             }
            },
            "type": "scattercarpet"
           }
          ],
          "scattergeo": [
           {
            "marker": {
             "colorbar": {
              "outlinewidth": 0,
              "ticks": ""
             }
            },
            "type": "scattergeo"
           }
          ],
          "scattergl": [
           {
            "marker": {
             "colorbar": {
              "outlinewidth": 0,
              "ticks": ""
             }
            },
            "type": "scattergl"
           }
          ],
          "scattermapbox": [
           {
            "marker": {
             "colorbar": {
              "outlinewidth": 0,
              "ticks": ""
             }
            },
            "type": "scattermapbox"
           }
          ],
          "scatterpolar": [
           {
            "marker": {
             "colorbar": {
              "outlinewidth": 0,
              "ticks": ""
             }
            },
            "type": "scatterpolar"
           }
          ],
          "scatterpolargl": [
           {
            "marker": {
             "colorbar": {
              "outlinewidth": 0,
              "ticks": ""
             }
            },
            "type": "scatterpolargl"
           }
          ],
          "scatterternary": [
           {
            "marker": {
             "colorbar": {
              "outlinewidth": 0,
              "ticks": ""
             }
            },
            "type": "scatterternary"
           }
          ],
          "surface": [
           {
            "colorbar": {
             "outlinewidth": 0,
             "ticks": ""
            },
            "colorscale": [
             [
              0,
              "#0d0887"
             ],
             [
              0.1111111111111111,
              "#46039f"
             ],
             [
              0.2222222222222222,
              "#7201a8"
             ],
             [
              0.3333333333333333,
              "#9c179e"
             ],
             [
              0.4444444444444444,
              "#bd3786"
             ],
             [
              0.5555555555555556,
              "#d8576b"
             ],
             [
              0.6666666666666666,
              "#ed7953"
             ],
             [
              0.7777777777777778,
              "#fb9f3a"
             ],
             [
              0.8888888888888888,
              "#fdca26"
             ],
             [
              1,
              "#f0f921"
             ]
            ],
            "type": "surface"
           }
          ],
          "table": [
           {
            "cells": {
             "fill": {
              "color": "#EBF0F8"
             },
             "line": {
              "color": "white"
             }
            },
            "header": {
             "fill": {
              "color": "#C8D4E3"
             },
             "line": {
              "color": "white"
             }
            },
            "type": "table"
           }
          ]
         },
         "layout": {
          "annotationdefaults": {
           "arrowcolor": "#2a3f5f",
           "arrowhead": 0,
           "arrowwidth": 1
          },
          "autotypenumbers": "strict",
          "coloraxis": {
           "colorbar": {
            "outlinewidth": 0,
            "ticks": ""
           }
          },
          "colorscale": {
           "diverging": [
            [
             0,
             "#8e0152"
            ],
            [
             0.1,
             "#c51b7d"
            ],
            [
             0.2,
             "#de77ae"
            ],
            [
             0.3,
             "#f1b6da"
            ],
            [
             0.4,
             "#fde0ef"
            ],
            [
             0.5,
             "#f7f7f7"
            ],
            [
             0.6,
             "#e6f5d0"
            ],
            [
             0.7,
             "#b8e186"
            ],
            [
             0.8,
             "#7fbc41"
            ],
            [
             0.9,
             "#4d9221"
            ],
            [
             1,
             "#276419"
            ]
           ],
           "sequential": [
            [
             0,
             "#0d0887"
            ],
            [
             0.1111111111111111,
             "#46039f"
            ],
            [
             0.2222222222222222,
             "#7201a8"
            ],
            [
             0.3333333333333333,
             "#9c179e"
            ],
            [
             0.4444444444444444,
             "#bd3786"
            ],
            [
             0.5555555555555556,
             "#d8576b"
            ],
            [
             0.6666666666666666,
             "#ed7953"
            ],
            [
             0.7777777777777778,
             "#fb9f3a"
            ],
            [
             0.8888888888888888,
             "#fdca26"
            ],
            [
             1,
             "#f0f921"
            ]
           ],
           "sequentialminus": [
            [
             0,
             "#0d0887"
            ],
            [
             0.1111111111111111,
             "#46039f"
            ],
            [
             0.2222222222222222,
             "#7201a8"
            ],
            [
             0.3333333333333333,
             "#9c179e"
            ],
            [
             0.4444444444444444,
             "#bd3786"
            ],
            [
             0.5555555555555556,
             "#d8576b"
            ],
            [
             0.6666666666666666,
             "#ed7953"
            ],
            [
             0.7777777777777778,
             "#fb9f3a"
            ],
            [
             0.8888888888888888,
             "#fdca26"
            ],
            [
             1,
             "#f0f921"
            ]
           ]
          },
          "colorway": [
           "#636efa",
           "#EF553B",
           "#00cc96",
           "#ab63fa",
           "#FFA15A",
           "#19d3f3",
           "#FF6692",
           "#B6E880",
           "#FF97FF",
           "#FECB52"
          ],
          "font": {
           "color": "#2a3f5f"
          },
          "geo": {
           "bgcolor": "white",
           "lakecolor": "white",
           "landcolor": "#E5ECF6",
           "showlakes": true,
           "showland": true,
           "subunitcolor": "white"
          },
          "hoverlabel": {
           "align": "left"
          },
          "hovermode": "closest",
          "mapbox": {
           "style": "light"
          },
          "paper_bgcolor": "white",
          "plot_bgcolor": "#E5ECF6",
          "polar": {
           "angularaxis": {
            "gridcolor": "white",
            "linecolor": "white",
            "ticks": ""
           },
           "bgcolor": "#E5ECF6",
           "radialaxis": {
            "gridcolor": "white",
            "linecolor": "white",
            "ticks": ""
           }
          },
          "scene": {
           "xaxis": {
            "backgroundcolor": "#E5ECF6",
            "gridcolor": "white",
            "gridwidth": 2,
            "linecolor": "white",
            "showbackground": true,
            "ticks": "",
            "zerolinecolor": "white"
           },
           "yaxis": {
            "backgroundcolor": "#E5ECF6",
            "gridcolor": "white",
            "gridwidth": 2,
            "linecolor": "white",
            "showbackground": true,
            "ticks": "",
            "zerolinecolor": "white"
           },
           "zaxis": {
            "backgroundcolor": "#E5ECF6",
            "gridcolor": "white",
            "gridwidth": 2,
            "linecolor": "white",
            "showbackground": true,
            "ticks": "",
            "zerolinecolor": "white"
           }
          },
          "shapedefaults": {
           "line": {
            "color": "#2a3f5f"
           }
          },
          "ternary": {
           "aaxis": {
            "gridcolor": "white",
            "linecolor": "white",
            "ticks": ""
           },
           "baxis": {
            "gridcolor": "white",
            "linecolor": "white",
            "ticks": ""
           },
           "bgcolor": "#E5ECF6",
           "caxis": {
            "gridcolor": "white",
            "linecolor": "white",
            "ticks": ""
           }
          },
          "title": {
           "x": 0.05
          },
          "xaxis": {
           "automargin": true,
           "gridcolor": "white",
           "linecolor": "white",
           "ticks": "",
           "title": {
            "standoff": 15
           },
           "zerolinecolor": "white",
           "zerolinewidth": 2
          },
          "yaxis": {
           "automargin": true,
           "gridcolor": "white",
           "linecolor": "white",
           "ticks": "",
           "title": {
            "standoff": 15
           },
           "zerolinecolor": "white",
           "zerolinewidth": 2
          }
         }
        },
        "title": {
         "text": "ebit_QoQ"
        },
        "xaxis": {
         "anchor": "y",
         "domain": [
          0,
          1
         ],
         "title": {
          "text": "fiscalDateEnding"
         }
        },
        "yaxis": {
         "anchor": "x",
         "domain": [
          0,
          1
         ],
         "title": {
          "text": "ebit_QoQ"
         }
        }
       }
      }
     },
     "metadata": {},
     "output_type": "display_data"
    },
    {
     "data": {
      "application/vnd.plotly.v1+json": {
       "config": {
        "plotlyServerURL": "https://plot.ly"
       },
       "data": [
        {
         "alignmentgroup": "True",
         "hovertemplate": "fiscalDateEnding=%{x}<br>ebitda_QoQ=%{y}<extra></extra>",
         "legendgroup": "",
         "marker": {
          "color": "#636efa",
          "pattern": {
           "shape": ""
          }
         },
         "name": "",
         "offsetgroup": "",
         "orientation": "v",
         "showlegend": false,
         "textposition": "auto",
         "type": "bar",
         "x": [
          "2014-09-30",
          "2014-12-31",
          "2015-03-31",
          "2015-06-30",
          "2015-09-30",
          "2015-12-31",
          "2016-03-31",
          "2016-06-30",
          "2016-09-30",
          "2016-12-31",
          "2017-03-31",
          "2017-06-30",
          "2017-09-30",
          "2017-12-31",
          "2018-03-31",
          "2018-06-30",
          "2018-09-30",
          "2018-12-31",
          "2019-03-31",
          "2019-06-30",
          "2019-09-30",
          "2019-12-31",
          "2020-03-31",
          "2020-06-30",
          "2020-09-30",
          "2020-12-31",
          "2021-03-31",
          "2021-06-30",
          "2021-09-30",
          "2021-12-31",
          "2022-03-31",
          "2022-06-30",
          "2022-09-30",
          "2022-12-31",
          "2023-03-31",
          "2023-06-30",
          "2023-09-30",
          "2023-12-31",
          "2024-03-31",
          "2024-06-30"
         ],
         "xaxis": "x",
         "y": [
          null,
          7.493834187061288,
          -0.7412636780797732,
          7.734708392603129,
          -1.6999504868790205,
          19.089993284083274,
          -1.3675454673621856,
          11.249285305889089,
          -1.027881279712195,
          12.76126184603401,
          -3.0969376007368155,
          4.799809908518471,
          12.186826890375247,
          2.40501212611155,
          -5.358200118413259,
          8.35157960588051,
          7.467282525019248,
          2.1848137535816603,
          -0.6659656501927791,
          8.168666196189122,
          6.091991518512474,
          5.273272349911595,
          -14.063526834611173,
          -15.65978417877475,
          50.65484585935926,
          29.008960813160357,
          -0.22807381297946794,
          15.201579384871145,
          10.15603860377019,
          4.982395807745843,
          -5.202199430643839,
          -0.04936443292608006,
          -9.890109890109889,
          6.357906275691971,
          -7.253285235763974,
          20.94272352641571,
          -3.7404287901990796,
          0.46533826512349385,
          14.350752177355508,
          0
         ],
         "yaxis": "y"
        }
       ],
       "layout": {
        "barmode": "relative",
        "legend": {
         "tracegroupgap": 0
        },
        "template": {
         "data": {
          "bar": [
           {
            "error_x": {
             "color": "#2a3f5f"
            },
            "error_y": {
             "color": "#2a3f5f"
            },
            "marker": {
             "line": {
              "color": "#E5ECF6",
              "width": 0.5
             },
             "pattern": {
              "fillmode": "overlay",
              "size": 10,
              "solidity": 0.2
             }
            },
            "type": "bar"
           }
          ],
          "barpolar": [
           {
            "marker": {
             "line": {
              "color": "#E5ECF6",
              "width": 0.5
             },
             "pattern": {
              "fillmode": "overlay",
              "size": 10,
              "solidity": 0.2
             }
            },
            "type": "barpolar"
           }
          ],
          "carpet": [
           {
            "aaxis": {
             "endlinecolor": "#2a3f5f",
             "gridcolor": "white",
             "linecolor": "white",
             "minorgridcolor": "white",
             "startlinecolor": "#2a3f5f"
            },
            "baxis": {
             "endlinecolor": "#2a3f5f",
             "gridcolor": "white",
             "linecolor": "white",
             "minorgridcolor": "white",
             "startlinecolor": "#2a3f5f"
            },
            "type": "carpet"
           }
          ],
          "choropleth": [
           {
            "colorbar": {
             "outlinewidth": 0,
             "ticks": ""
            },
            "type": "choropleth"
           }
          ],
          "contour": [
           {
            "colorbar": {
             "outlinewidth": 0,
             "ticks": ""
            },
            "colorscale": [
             [
              0,
              "#0d0887"
             ],
             [
              0.1111111111111111,
              "#46039f"
             ],
             [
              0.2222222222222222,
              "#7201a8"
             ],
             [
              0.3333333333333333,
              "#9c179e"
             ],
             [
              0.4444444444444444,
              "#bd3786"
             ],
             [
              0.5555555555555556,
              "#d8576b"
             ],
             [
              0.6666666666666666,
              "#ed7953"
             ],
             [
              0.7777777777777778,
              "#fb9f3a"
             ],
             [
              0.8888888888888888,
              "#fdca26"
             ],
             [
              1,
              "#f0f921"
             ]
            ],
            "type": "contour"
           }
          ],
          "contourcarpet": [
           {
            "colorbar": {
             "outlinewidth": 0,
             "ticks": ""
            },
            "type": "contourcarpet"
           }
          ],
          "heatmap": [
           {
            "colorbar": {
             "outlinewidth": 0,
             "ticks": ""
            },
            "colorscale": [
             [
              0,
              "#0d0887"
             ],
             [
              0.1111111111111111,
              "#46039f"
             ],
             [
              0.2222222222222222,
              "#7201a8"
             ],
             [
              0.3333333333333333,
              "#9c179e"
             ],
             [
              0.4444444444444444,
              "#bd3786"
             ],
             [
              0.5555555555555556,
              "#d8576b"
             ],
             [
              0.6666666666666666,
              "#ed7953"
             ],
             [
              0.7777777777777778,
              "#fb9f3a"
             ],
             [
              0.8888888888888888,
              "#fdca26"
             ],
             [
              1,
              "#f0f921"
             ]
            ],
            "type": "heatmap"
           }
          ],
          "heatmapgl": [
           {
            "colorbar": {
             "outlinewidth": 0,
             "ticks": ""
            },
            "colorscale": [
             [
              0,
              "#0d0887"
             ],
             [
              0.1111111111111111,
              "#46039f"
             ],
             [
              0.2222222222222222,
              "#7201a8"
             ],
             [
              0.3333333333333333,
              "#9c179e"
             ],
             [
              0.4444444444444444,
              "#bd3786"
             ],
             [
              0.5555555555555556,
              "#d8576b"
             ],
             [
              0.6666666666666666,
              "#ed7953"
             ],
             [
              0.7777777777777778,
              "#fb9f3a"
             ],
             [
              0.8888888888888888,
              "#fdca26"
             ],
             [
              1,
              "#f0f921"
             ]
            ],
            "type": "heatmapgl"
           }
          ],
          "histogram": [
           {
            "marker": {
             "pattern": {
              "fillmode": "overlay",
              "size": 10,
              "solidity": 0.2
             }
            },
            "type": "histogram"
           }
          ],
          "histogram2d": [
           {
            "colorbar": {
             "outlinewidth": 0,
             "ticks": ""
            },
            "colorscale": [
             [
              0,
              "#0d0887"
             ],
             [
              0.1111111111111111,
              "#46039f"
             ],
             [
              0.2222222222222222,
              "#7201a8"
             ],
             [
              0.3333333333333333,
              "#9c179e"
             ],
             [
              0.4444444444444444,
              "#bd3786"
             ],
             [
              0.5555555555555556,
              "#d8576b"
             ],
             [
              0.6666666666666666,
              "#ed7953"
             ],
             [
              0.7777777777777778,
              "#fb9f3a"
             ],
             [
              0.8888888888888888,
              "#fdca26"
             ],
             [
              1,
              "#f0f921"
             ]
            ],
            "type": "histogram2d"
           }
          ],
          "histogram2dcontour": [
           {
            "colorbar": {
             "outlinewidth": 0,
             "ticks": ""
            },
            "colorscale": [
             [
              0,
              "#0d0887"
             ],
             [
              0.1111111111111111,
              "#46039f"
             ],
             [
              0.2222222222222222,
              "#7201a8"
             ],
             [
              0.3333333333333333,
              "#9c179e"
             ],
             [
              0.4444444444444444,
              "#bd3786"
             ],
             [
              0.5555555555555556,
              "#d8576b"
             ],
             [
              0.6666666666666666,
              "#ed7953"
             ],
             [
              0.7777777777777778,
              "#fb9f3a"
             ],
             [
              0.8888888888888888,
              "#fdca26"
             ],
             [
              1,
              "#f0f921"
             ]
            ],
            "type": "histogram2dcontour"
           }
          ],
          "mesh3d": [
           {
            "colorbar": {
             "outlinewidth": 0,
             "ticks": ""
            },
            "type": "mesh3d"
           }
          ],
          "parcoords": [
           {
            "line": {
             "colorbar": {
              "outlinewidth": 0,
              "ticks": ""
             }
            },
            "type": "parcoords"
           }
          ],
          "pie": [
           {
            "automargin": true,
            "type": "pie"
           }
          ],
          "scatter": [
           {
            "fillpattern": {
             "fillmode": "overlay",
             "size": 10,
             "solidity": 0.2
            },
            "type": "scatter"
           }
          ],
          "scatter3d": [
           {
            "line": {
             "colorbar": {
              "outlinewidth": 0,
              "ticks": ""
             }
            },
            "marker": {
             "colorbar": {
              "outlinewidth": 0,
              "ticks": ""
             }
            },
            "type": "scatter3d"
           }
          ],
          "scattercarpet": [
           {
            "marker": {
             "colorbar": {
              "outlinewidth": 0,
              "ticks": ""
             }
            },
            "type": "scattercarpet"
           }
          ],
          "scattergeo": [
           {
            "marker": {
             "colorbar": {
              "outlinewidth": 0,
              "ticks": ""
             }
            },
            "type": "scattergeo"
           }
          ],
          "scattergl": [
           {
            "marker": {
             "colorbar": {
              "outlinewidth": 0,
              "ticks": ""
             }
            },
            "type": "scattergl"
           }
          ],
          "scattermapbox": [
           {
            "marker": {
             "colorbar": {
              "outlinewidth": 0,
              "ticks": ""
             }
            },
            "type": "scattermapbox"
           }
          ],
          "scatterpolar": [
           {
            "marker": {
             "colorbar": {
              "outlinewidth": 0,
              "ticks": ""
             }
            },
            "type": "scatterpolar"
           }
          ],
          "scatterpolargl": [
           {
            "marker": {
             "colorbar": {
              "outlinewidth": 0,
              "ticks": ""
             }
            },
            "type": "scatterpolargl"
           }
          ],
          "scatterternary": [
           {
            "marker": {
             "colorbar": {
              "outlinewidth": 0,
              "ticks": ""
             }
            },
            "type": "scatterternary"
           }
          ],
          "surface": [
           {
            "colorbar": {
             "outlinewidth": 0,
             "ticks": ""
            },
            "colorscale": [
             [
              0,
              "#0d0887"
             ],
             [
              0.1111111111111111,
              "#46039f"
             ],
             [
              0.2222222222222222,
              "#7201a8"
             ],
             [
              0.3333333333333333,
              "#9c179e"
             ],
             [
              0.4444444444444444,
              "#bd3786"
             ],
             [
              0.5555555555555556,
              "#d8576b"
             ],
             [
              0.6666666666666666,
              "#ed7953"
             ],
             [
              0.7777777777777778,
              "#fb9f3a"
             ],
             [
              0.8888888888888888,
              "#fdca26"
             ],
             [
              1,
              "#f0f921"
             ]
            ],
            "type": "surface"
           }
          ],
          "table": [
           {
            "cells": {
             "fill": {
              "color": "#EBF0F8"
             },
             "line": {
              "color": "white"
             }
            },
            "header": {
             "fill": {
              "color": "#C8D4E3"
             },
             "line": {
              "color": "white"
             }
            },
            "type": "table"
           }
          ]
         },
         "layout": {
          "annotationdefaults": {
           "arrowcolor": "#2a3f5f",
           "arrowhead": 0,
           "arrowwidth": 1
          },
          "autotypenumbers": "strict",
          "coloraxis": {
           "colorbar": {
            "outlinewidth": 0,
            "ticks": ""
           }
          },
          "colorscale": {
           "diverging": [
            [
             0,
             "#8e0152"
            ],
            [
             0.1,
             "#c51b7d"
            ],
            [
             0.2,
             "#de77ae"
            ],
            [
             0.3,
             "#f1b6da"
            ],
            [
             0.4,
             "#fde0ef"
            ],
            [
             0.5,
             "#f7f7f7"
            ],
            [
             0.6,
             "#e6f5d0"
            ],
            [
             0.7,
             "#b8e186"
            ],
            [
             0.8,
             "#7fbc41"
            ],
            [
             0.9,
             "#4d9221"
            ],
            [
             1,
             "#276419"
            ]
           ],
           "sequential": [
            [
             0,
             "#0d0887"
            ],
            [
             0.1111111111111111,
             "#46039f"
            ],
            [
             0.2222222222222222,
             "#7201a8"
            ],
            [
             0.3333333333333333,
             "#9c179e"
            ],
            [
             0.4444444444444444,
             "#bd3786"
            ],
            [
             0.5555555555555556,
             "#d8576b"
            ],
            [
             0.6666666666666666,
             "#ed7953"
            ],
            [
             0.7777777777777778,
             "#fb9f3a"
            ],
            [
             0.8888888888888888,
             "#fdca26"
            ],
            [
             1,
             "#f0f921"
            ]
           ],
           "sequentialminus": [
            [
             0,
             "#0d0887"
            ],
            [
             0.1111111111111111,
             "#46039f"
            ],
            [
             0.2222222222222222,
             "#7201a8"
            ],
            [
             0.3333333333333333,
             "#9c179e"
            ],
            [
             0.4444444444444444,
             "#bd3786"
            ],
            [
             0.5555555555555556,
             "#d8576b"
            ],
            [
             0.6666666666666666,
             "#ed7953"
            ],
            [
             0.7777777777777778,
             "#fb9f3a"
            ],
            [
             0.8888888888888888,
             "#fdca26"
            ],
            [
             1,
             "#f0f921"
            ]
           ]
          },
          "colorway": [
           "#636efa",
           "#EF553B",
           "#00cc96",
           "#ab63fa",
           "#FFA15A",
           "#19d3f3",
           "#FF6692",
           "#B6E880",
           "#FF97FF",
           "#FECB52"
          ],
          "font": {
           "color": "#2a3f5f"
          },
          "geo": {
           "bgcolor": "white",
           "lakecolor": "white",
           "landcolor": "#E5ECF6",
           "showlakes": true,
           "showland": true,
           "subunitcolor": "white"
          },
          "hoverlabel": {
           "align": "left"
          },
          "hovermode": "closest",
          "mapbox": {
           "style": "light"
          },
          "paper_bgcolor": "white",
          "plot_bgcolor": "#E5ECF6",
          "polar": {
           "angularaxis": {
            "gridcolor": "white",
            "linecolor": "white",
            "ticks": ""
           },
           "bgcolor": "#E5ECF6",
           "radialaxis": {
            "gridcolor": "white",
            "linecolor": "white",
            "ticks": ""
           }
          },
          "scene": {
           "xaxis": {
            "backgroundcolor": "#E5ECF6",
            "gridcolor": "white",
            "gridwidth": 2,
            "linecolor": "white",
            "showbackground": true,
            "ticks": "",
            "zerolinecolor": "white"
           },
           "yaxis": {
            "backgroundcolor": "#E5ECF6",
            "gridcolor": "white",
            "gridwidth": 2,
            "linecolor": "white",
            "showbackground": true,
            "ticks": "",
            "zerolinecolor": "white"
           },
           "zaxis": {
            "backgroundcolor": "#E5ECF6",
            "gridcolor": "white",
            "gridwidth": 2,
            "linecolor": "white",
            "showbackground": true,
            "ticks": "",
            "zerolinecolor": "white"
           }
          },
          "shapedefaults": {
           "line": {
            "color": "#2a3f5f"
           }
          },
          "ternary": {
           "aaxis": {
            "gridcolor": "white",
            "linecolor": "white",
            "ticks": ""
           },
           "baxis": {
            "gridcolor": "white",
            "linecolor": "white",
            "ticks": ""
           },
           "bgcolor": "#E5ECF6",
           "caxis": {
            "gridcolor": "white",
            "linecolor": "white",
            "ticks": ""
           }
          },
          "title": {
           "x": 0.05
          },
          "xaxis": {
           "automargin": true,
           "gridcolor": "white",
           "linecolor": "white",
           "ticks": "",
           "title": {
            "standoff": 15
           },
           "zerolinecolor": "white",
           "zerolinewidth": 2
          },
          "yaxis": {
           "automargin": true,
           "gridcolor": "white",
           "linecolor": "white",
           "ticks": "",
           "title": {
            "standoff": 15
           },
           "zerolinecolor": "white",
           "zerolinewidth": 2
          }
         }
        },
        "title": {
         "text": "ebitda_QoQ"
        },
        "xaxis": {
         "anchor": "y",
         "domain": [
          0,
          1
         ],
         "title": {
          "text": "fiscalDateEnding"
         }
        },
        "yaxis": {
         "anchor": "x",
         "domain": [
          0,
          1
         ],
         "title": {
          "text": "ebitda_QoQ"
         }
        }
       }
      }
     },
     "metadata": {},
     "output_type": "display_data"
    },
    {
     "data": {
      "application/vnd.plotly.v1+json": {
       "config": {
        "plotlyServerURL": "https://plot.ly"
       },
       "data": [
        {
         "alignmentgroup": "True",
         "hovertemplate": "fiscalDateEnding=%{x}<br>netIncome_QoQ=%{y}<extra></extra>",
         "legendgroup": "",
         "marker": {
          "color": "#636efa",
          "pattern": {
           "shape": ""
          }
         },
         "name": "",
         "offsetgroup": "",
         "orientation": "v",
         "showlegend": false,
         "textposition": "auto",
         "type": "bar",
         "x": [
          "2014-09-30",
          "2014-12-31",
          "2015-03-31",
          "2015-06-30",
          "2015-09-30",
          "2015-12-31",
          "2016-03-31",
          "2016-06-30",
          "2016-09-30",
          "2016-12-31",
          "2017-03-31",
          "2017-06-30",
          "2017-09-30",
          "2017-12-31",
          "2018-03-31",
          "2018-06-30",
          "2018-09-30",
          "2018-12-31",
          "2019-03-31",
          "2019-06-30",
          "2019-09-30",
          "2019-12-31",
          "2020-03-31",
          "2020-06-30",
          "2020-09-30",
          "2020-12-31",
          "2021-03-31",
          "2021-06-30",
          "2021-09-30",
          "2021-12-31",
          "2022-03-31",
          "2022-06-30",
          "2022-09-30",
          "2022-12-31",
          "2023-03-31",
          "2023-06-30",
          "2023-09-30",
          "2023-12-31",
          "2024-03-31",
          "2024-06-30"
         ],
         "xaxis": "x",
         "y": [
          null,
          70.68273092369478,
          -24.812834224598934,
          11.834992887624463,
          1.2210633426608997,
          23.724553908017086,
          -14.543977249644524,
          15.92583788923223,
          3.7728111543982035,
          5.374431930448531,
          1.7438589911869418,
          -35.05344636933284,
          91.03291713961409,
          -144.86036838978015,
          -411.2913907284768,
          -66.01425380278694,
          187.6995305164319,
          -2.654482158398608,
          -25.603486812695575,
          49.42166140904312,
          -28.94340002010657,
          50.97623089983021,
          -35.938524974229225,
          1.7992978349912203,
          61.61804857019686,
          35.38721436827599,
          17.75136271097393,
          3.3184606804238737,
          2.2186234817813677,
          9.00929446556824,
          -20.37593256467397,
          -2.640545144804085,
          -13.073365829271344,
          -2.0560747663551426,
          10.474163241338807,
          22.03840276393596,
          7.191855400696867,
          5.068820153385145,
          14.381012229902845,
          -0.1817259741357491
         ],
         "yaxis": "y"
        }
       ],
       "layout": {
        "barmode": "relative",
        "legend": {
         "tracegroupgap": 0
        },
        "template": {
         "data": {
          "bar": [
           {
            "error_x": {
             "color": "#2a3f5f"
            },
            "error_y": {
             "color": "#2a3f5f"
            },
            "marker": {
             "line": {
              "color": "#E5ECF6",
              "width": 0.5
             },
             "pattern": {
              "fillmode": "overlay",
              "size": 10,
              "solidity": 0.2
             }
            },
            "type": "bar"
           }
          ],
          "barpolar": [
           {
            "marker": {
             "line": {
              "color": "#E5ECF6",
              "width": 0.5
             },
             "pattern": {
              "fillmode": "overlay",
              "size": 10,
              "solidity": 0.2
             }
            },
            "type": "barpolar"
           }
          ],
          "carpet": [
           {
            "aaxis": {
             "endlinecolor": "#2a3f5f",
             "gridcolor": "white",
             "linecolor": "white",
             "minorgridcolor": "white",
             "startlinecolor": "#2a3f5f"
            },
            "baxis": {
             "endlinecolor": "#2a3f5f",
             "gridcolor": "white",
             "linecolor": "white",
             "minorgridcolor": "white",
             "startlinecolor": "#2a3f5f"
            },
            "type": "carpet"
           }
          ],
          "choropleth": [
           {
            "colorbar": {
             "outlinewidth": 0,
             "ticks": ""
            },
            "type": "choropleth"
           }
          ],
          "contour": [
           {
            "colorbar": {
             "outlinewidth": 0,
             "ticks": ""
            },
            "colorscale": [
             [
              0,
              "#0d0887"
             ],
             [
              0.1111111111111111,
              "#46039f"
             ],
             [
              0.2222222222222222,
              "#7201a8"
             ],
             [
              0.3333333333333333,
              "#9c179e"
             ],
             [
              0.4444444444444444,
              "#bd3786"
             ],
             [
              0.5555555555555556,
              "#d8576b"
             ],
             [
              0.6666666666666666,
              "#ed7953"
             ],
             [
              0.7777777777777778,
              "#fb9f3a"
             ],
             [
              0.8888888888888888,
              "#fdca26"
             ],
             [
              1,
              "#f0f921"
             ]
            ],
            "type": "contour"
           }
          ],
          "contourcarpet": [
           {
            "colorbar": {
             "outlinewidth": 0,
             "ticks": ""
            },
            "type": "contourcarpet"
           }
          ],
          "heatmap": [
           {
            "colorbar": {
             "outlinewidth": 0,
             "ticks": ""
            },
            "colorscale": [
             [
              0,
              "#0d0887"
             ],
             [
              0.1111111111111111,
              "#46039f"
             ],
             [
              0.2222222222222222,
              "#7201a8"
             ],
             [
              0.3333333333333333,
              "#9c179e"
             ],
             [
              0.4444444444444444,
              "#bd3786"
             ],
             [
              0.5555555555555556,
              "#d8576b"
             ],
             [
              0.6666666666666666,
              "#ed7953"
             ],
             [
              0.7777777777777778,
              "#fb9f3a"
             ],
             [
              0.8888888888888888,
              "#fdca26"
             ],
             [
              1,
              "#f0f921"
             ]
            ],
            "type": "heatmap"
           }
          ],
          "heatmapgl": [
           {
            "colorbar": {
             "outlinewidth": 0,
             "ticks": ""
            },
            "colorscale": [
             [
              0,
              "#0d0887"
             ],
             [
              0.1111111111111111,
              "#46039f"
             ],
             [
              0.2222222222222222,
              "#7201a8"
             ],
             [
              0.3333333333333333,
              "#9c179e"
             ],
             [
              0.4444444444444444,
              "#bd3786"
             ],
             [
              0.5555555555555556,
              "#d8576b"
             ],
             [
              0.6666666666666666,
              "#ed7953"
             ],
             [
              0.7777777777777778,
              "#fb9f3a"
             ],
             [
              0.8888888888888888,
              "#fdca26"
             ],
             [
              1,
              "#f0f921"
             ]
            ],
            "type": "heatmapgl"
           }
          ],
          "histogram": [
           {
            "marker": {
             "pattern": {
              "fillmode": "overlay",
              "size": 10,
              "solidity": 0.2
             }
            },
            "type": "histogram"
           }
          ],
          "histogram2d": [
           {
            "colorbar": {
             "outlinewidth": 0,
             "ticks": ""
            },
            "colorscale": [
             [
              0,
              "#0d0887"
             ],
             [
              0.1111111111111111,
              "#46039f"
             ],
             [
              0.2222222222222222,
              "#7201a8"
             ],
             [
              0.3333333333333333,
              "#9c179e"
             ],
             [
              0.4444444444444444,
              "#bd3786"
             ],
             [
              0.5555555555555556,
              "#d8576b"
             ],
             [
              0.6666666666666666,
              "#ed7953"
             ],
             [
              0.7777777777777778,
              "#fb9f3a"
             ],
             [
              0.8888888888888888,
              "#fdca26"
             ],
             [
              1,
              "#f0f921"
             ]
            ],
            "type": "histogram2d"
           }
          ],
          "histogram2dcontour": [
           {
            "colorbar": {
             "outlinewidth": 0,
             "ticks": ""
            },
            "colorscale": [
             [
              0,
              "#0d0887"
             ],
             [
              0.1111111111111111,
              "#46039f"
             ],
             [
              0.2222222222222222,
              "#7201a8"
             ],
             [
              0.3333333333333333,
              "#9c179e"
             ],
             [
              0.4444444444444444,
              "#bd3786"
             ],
             [
              0.5555555555555556,
              "#d8576b"
             ],
             [
              0.6666666666666666,
              "#ed7953"
             ],
             [
              0.7777777777777778,
              "#fb9f3a"
             ],
             [
              0.8888888888888888,
              "#fdca26"
             ],
             [
              1,
              "#f0f921"
             ]
            ],
            "type": "histogram2dcontour"
           }
          ],
          "mesh3d": [
           {
            "colorbar": {
             "outlinewidth": 0,
             "ticks": ""
            },
            "type": "mesh3d"
           }
          ],
          "parcoords": [
           {
            "line": {
             "colorbar": {
              "outlinewidth": 0,
              "ticks": ""
             }
            },
            "type": "parcoords"
           }
          ],
          "pie": [
           {
            "automargin": true,
            "type": "pie"
           }
          ],
          "scatter": [
           {
            "fillpattern": {
             "fillmode": "overlay",
             "size": 10,
             "solidity": 0.2
            },
            "type": "scatter"
           }
          ],
          "scatter3d": [
           {
            "line": {
             "colorbar": {
              "outlinewidth": 0,
              "ticks": ""
             }
            },
            "marker": {
             "colorbar": {
              "outlinewidth": 0,
              "ticks": ""
             }
            },
            "type": "scatter3d"
           }
          ],
          "scattercarpet": [
           {
            "marker": {
             "colorbar": {
              "outlinewidth": 0,
              "ticks": ""
             }
            },
            "type": "scattercarpet"
           }
          ],
          "scattergeo": [
           {
            "marker": {
             "colorbar": {
              "outlinewidth": 0,
              "ticks": ""
             }
            },
            "type": "scattergeo"
           }
          ],
          "scattergl": [
           {
            "marker": {
             "colorbar": {
              "outlinewidth": 0,
              "ticks": ""
             }
            },
            "type": "scattergl"
           }
          ],
          "scattermapbox": [
           {
            "marker": {
             "colorbar": {
              "outlinewidth": 0,
              "ticks": ""
             }
            },
            "type": "scattermapbox"
           }
          ],
          "scatterpolar": [
           {
            "marker": {
             "colorbar": {
              "outlinewidth": 0,
              "ticks": ""
             }
            },
            "type": "scatterpolar"
           }
          ],
          "scatterpolargl": [
           {
            "marker": {
             "colorbar": {
              "outlinewidth": 0,
              "ticks": ""
             }
            },
            "type": "scatterpolargl"
           }
          ],
          "scatterternary": [
           {
            "marker": {
             "colorbar": {
              "outlinewidth": 0,
              "ticks": ""
             }
            },
            "type": "scatterternary"
           }
          ],
          "surface": [
           {
            "colorbar": {
             "outlinewidth": 0,
             "ticks": ""
            },
            "colorscale": [
             [
              0,
              "#0d0887"
             ],
             [
              0.1111111111111111,
              "#46039f"
             ],
             [
              0.2222222222222222,
              "#7201a8"
             ],
             [
              0.3333333333333333,
              "#9c179e"
             ],
             [
              0.4444444444444444,
              "#bd3786"
             ],
             [
              0.5555555555555556,
              "#d8576b"
             ],
             [
              0.6666666666666666,
              "#ed7953"
             ],
             [
              0.7777777777777778,
              "#fb9f3a"
             ],
             [
              0.8888888888888888,
              "#fdca26"
             ],
             [
              1,
              "#f0f921"
             ]
            ],
            "type": "surface"
           }
          ],
          "table": [
           {
            "cells": {
             "fill": {
              "color": "#EBF0F8"
             },
             "line": {
              "color": "white"
             }
            },
            "header": {
             "fill": {
              "color": "#C8D4E3"
             },
             "line": {
              "color": "white"
             }
            },
            "type": "table"
           }
          ]
         },
         "layout": {
          "annotationdefaults": {
           "arrowcolor": "#2a3f5f",
           "arrowhead": 0,
           "arrowwidth": 1
          },
          "autotypenumbers": "strict",
          "coloraxis": {
           "colorbar": {
            "outlinewidth": 0,
            "ticks": ""
           }
          },
          "colorscale": {
           "diverging": [
            [
             0,
             "#8e0152"
            ],
            [
             0.1,
             "#c51b7d"
            ],
            [
             0.2,
             "#de77ae"
            ],
            [
             0.3,
             "#f1b6da"
            ],
            [
             0.4,
             "#fde0ef"
            ],
            [
             0.5,
             "#f7f7f7"
            ],
            [
             0.6,
             "#e6f5d0"
            ],
            [
             0.7,
             "#b8e186"
            ],
            [
             0.8,
             "#7fbc41"
            ],
            [
             0.9,
             "#4d9221"
            ],
            [
             1,
             "#276419"
            ]
           ],
           "sequential": [
            [
             0,
             "#0d0887"
            ],
            [
             0.1111111111111111,
             "#46039f"
            ],
            [
             0.2222222222222222,
             "#7201a8"
            ],
            [
             0.3333333333333333,
             "#9c179e"
            ],
            [
             0.4444444444444444,
             "#bd3786"
            ],
            [
             0.5555555555555556,
             "#d8576b"
            ],
            [
             0.6666666666666666,
             "#ed7953"
            ],
            [
             0.7777777777777778,
             "#fb9f3a"
            ],
            [
             0.8888888888888888,
             "#fdca26"
            ],
            [
             1,
             "#f0f921"
            ]
           ],
           "sequentialminus": [
            [
             0,
             "#0d0887"
            ],
            [
             0.1111111111111111,
             "#46039f"
            ],
            [
             0.2222222222222222,
             "#7201a8"
            ],
            [
             0.3333333333333333,
             "#9c179e"
            ],
            [
             0.4444444444444444,
             "#bd3786"
            ],
            [
             0.5555555555555556,
             "#d8576b"
            ],
            [
             0.6666666666666666,
             "#ed7953"
            ],
            [
             0.7777777777777778,
             "#fb9f3a"
            ],
            [
             0.8888888888888888,
             "#fdca26"
            ],
            [
             1,
             "#f0f921"
            ]
           ]
          },
          "colorway": [
           "#636efa",
           "#EF553B",
           "#00cc96",
           "#ab63fa",
           "#FFA15A",
           "#19d3f3",
           "#FF6692",
           "#B6E880",
           "#FF97FF",
           "#FECB52"
          ],
          "font": {
           "color": "#2a3f5f"
          },
          "geo": {
           "bgcolor": "white",
           "lakecolor": "white",
           "landcolor": "#E5ECF6",
           "showlakes": true,
           "showland": true,
           "subunitcolor": "white"
          },
          "hoverlabel": {
           "align": "left"
          },
          "hovermode": "closest",
          "mapbox": {
           "style": "light"
          },
          "paper_bgcolor": "white",
          "plot_bgcolor": "#E5ECF6",
          "polar": {
           "angularaxis": {
            "gridcolor": "white",
            "linecolor": "white",
            "ticks": ""
           },
           "bgcolor": "#E5ECF6",
           "radialaxis": {
            "gridcolor": "white",
            "linecolor": "white",
            "ticks": ""
           }
          },
          "scene": {
           "xaxis": {
            "backgroundcolor": "#E5ECF6",
            "gridcolor": "white",
            "gridwidth": 2,
            "linecolor": "white",
            "showbackground": true,
            "ticks": "",
            "zerolinecolor": "white"
           },
           "yaxis": {
            "backgroundcolor": "#E5ECF6",
            "gridcolor": "white",
            "gridwidth": 2,
            "linecolor": "white",
            "showbackground": true,
            "ticks": "",
            "zerolinecolor": "white"
           },
           "zaxis": {
            "backgroundcolor": "#E5ECF6",
            "gridcolor": "white",
            "gridwidth": 2,
            "linecolor": "white",
            "showbackground": true,
            "ticks": "",
            "zerolinecolor": "white"
           }
          },
          "shapedefaults": {
           "line": {
            "color": "#2a3f5f"
           }
          },
          "ternary": {
           "aaxis": {
            "gridcolor": "white",
            "linecolor": "white",
            "ticks": ""
           },
           "baxis": {
            "gridcolor": "white",
            "linecolor": "white",
            "ticks": ""
           },
           "bgcolor": "#E5ECF6",
           "caxis": {
            "gridcolor": "white",
            "linecolor": "white",
            "ticks": ""
           }
          },
          "title": {
           "x": 0.05
          },
          "xaxis": {
           "automargin": true,
           "gridcolor": "white",
           "linecolor": "white",
           "ticks": "",
           "title": {
            "standoff": 15
           },
           "zerolinecolor": "white",
           "zerolinewidth": 2
          },
          "yaxis": {
           "automargin": true,
           "gridcolor": "white",
           "linecolor": "white",
           "ticks": "",
           "title": {
            "standoff": 15
           },
           "zerolinecolor": "white",
           "zerolinewidth": 2
          }
         }
        },
        "title": {
         "text": "netIncome_QoQ"
        },
        "xaxis": {
         "anchor": "y",
         "domain": [
          0,
          1
         ],
         "title": {
          "text": "fiscalDateEnding"
         }
        },
        "yaxis": {
         "anchor": "x",
         "domain": [
          0,
          1
         ],
         "title": {
          "text": "netIncome_QoQ"
         }
        }
       }
      }
     },
     "metadata": {},
     "output_type": "display_data"
    }
   ],
   "source": [
    "# List of columns to plot\n",
    "# columns_to_plot = qtr_income_df.columns[1:]  # Exclude the 'fiscalDateEnding' column\n",
    "\n",
    "# Create bar charts for each column\n",
    "for column in qtr_income_QoQ_metric_cols:\n",
    "    fig = px.bar(qtr_income_df, x='fiscalDateEnding', y=column, title=column)\n",
    "    fig.show()"
   ]
  },
  {
   "cell_type": "markdown",
   "metadata": {},
   "source": [
    "# IPO\n"
   ]
  },
  {
   "cell_type": "code",
   "execution_count": 25,
   "metadata": {},
   "outputs": [],
   "source": [
    "# replace the \"demo\" apikey below with your own key from https://www.alphavantage.co/support/#api-key\n",
    "CSV_URL = 'https://www.alphavantage.co/query?function=IPO_CALENDAR&apikey={alpha_vantage_api_key}'\n",
    "\n",
    "with requests.Session() as s:\n",
    "    download = s.get(CSV_URL)\n",
    "    decoded_content = download.content.decode('utf-8')\n",
    "    cr = csv.reader(decoded_content.splitlines(), delimiter=',')\n",
    "    my_list = list(cr)\n",
    "\n",
    "    IPO_df = pd.DataFrame(columns=my_list[0]\n",
    "                          ,data=my_list[1::])"
   ]
  },
  {
   "cell_type": "code",
   "execution_count": null,
   "metadata": {},
   "outputs": [],
   "source": []
  },
  {
   "cell_type": "code",
   "execution_count": null,
   "metadata": {},
   "outputs": [],
   "source": []
  },
  {
   "cell_type": "code",
   "execution_count": 5,
   "metadata": {},
   "outputs": [],
   "source": [
    "# Function to get the list of S&P 500 companies and their sectors\n",
    "def get_sp500_companies():\n",
    "    # Fetch the S&P 500 company symbols and sectors from a reliable source (e.g., Wikipedia)\n",
    "    url = 'https://en.wikipedia.org/wiki/List_of_S%26P_500_companies'\n",
    "    tables = pd.read_html(url)\n",
    "    \n",
    "    # Extract the relevant table containing the company symbols and sectors\n",
    "    sp500_df = tables[0]\n",
    "    \n",
    "    # Return the DataFrame containing S&P 500 companies and sectors\n",
    "    return sp500_df[['Symbol', 'GICS Sector', 'GICS Sub-Industry']]\n",
    "\n",
    "\n",
    "# Function to create a dictionary of sectors and sub-sectors\n",
    "def create_sector_subsector_dict(df):\n",
    "    sector_subsector_dict = {}\n",
    "    for index, row in df.iterrows():\n",
    "        sector = row['GICS Sector']\n",
    "        subsector = row['GICS Sub-Industry']\n",
    "        if sector not in sector_subsector_dict:\n",
    "            sector_subsector_dict[sector] = [subsector]\n",
    "        else:\n",
    "            sector_subsector_dict[sector].append(subsector)\n",
    "    return sector_subsector_dict\n",
    "\n",
    "# Function to filter the S&P 500 companies by sector\n",
    "def company_sector_list(df, sector):\n",
    "    return df[df['GICS Sector'] == sector]['Symbol'].tolist()\n",
    "\n",
    "def company_sub_sector_list(df, sub_sector):\n",
    "    return df[df['GICS Sub-Industry'] == sub_sector]['Symbol'].tolist()\n",
    "\n",
    "\n",
    "# Get the list of S&P 500 companies and their sectors\n",
    "sp500_df  = get_sp500_companies()\n",
    "\n",
    "sp500_companies_sectors = sp500_df ['GICS Sector'].value_counts().index\n",
    "sp500_companies_sub_sectors = sp500_df ['GICS Sub-Industry'].value_counts().index\n",
    "\n",
    "sector_subsector_dict = create_sector_subsector_dict(sp500_df)\n",
    "\n",
    "\n",
    "# Function to create a DataFrame from the sector_subsector_dict\n",
    "def create_sector_dataframe():\n",
    "    # Create a list to store dictionacompany_sector_listries representing each row of data\n",
    "    data = []\n",
    "    \n",
    "    # Filter the DataFrame to get stocks in the specified sector\n",
    "    for sector in sp500_companies_sectors:\n",
    "        sector_stocks_list = company_sector_list(sp500_df, sector)\n",
    "\n",
    "        # Iterate over the stocks in the sector and create a dictionary for each\n",
    "        for i, ticker in enumerate(sector_stocks_list, start=1):\n",
    "            # Create a dictionary for the current stock in the sector\n",
    "            row_data = {'Sector': sector, 'Ticker': ticker}\n",
    "            # Append the dictionary to the list\n",
    "            data.append(row_data)\n",
    "    \n",
    "    # Create a DataFrame from the list of dictionaries\n",
    "    df = pd.DataFrame(data)\n",
    "    return df\n",
    "\n",
    "\n",
    "sector_subsector_dict = create_sector_subsector_dict(sp500_df)\n",
    "\n",
    "\n",
    "sector_ticker_df = create_sector_dataframe()\n",
    "sector_ticker_list = sector_ticker_df[sector_ticker_df['Sector'] == 'Consumer Staples']['Ticker'].tolist()"
   ]
  },
  {
   "cell_type": "code",
   "execution_count": 6,
   "metadata": {},
   "outputs": [
    {
     "data": {
      "text/html": [
       "<div>\n",
       "<style scoped>\n",
       "    .dataframe tbody tr th:only-of-type {\n",
       "        vertical-align: middle;\n",
       "    }\n",
       "\n",
       "    .dataframe tbody tr th {\n",
       "        vertical-align: top;\n",
       "    }\n",
       "\n",
       "    .dataframe thead th {\n",
       "        text-align: right;\n",
       "    }\n",
       "</style>\n",
       "<table border=\"1\" class=\"dataframe\">\n",
       "  <thead>\n",
       "    <tr style=\"text-align: right;\">\n",
       "      <th>Sector</th>\n",
       "      <th>Communication Services</th>\n",
       "      <th>Consumer Discretionary</th>\n",
       "      <th>Consumer Staples</th>\n",
       "      <th>Energy</th>\n",
       "      <th>Financials</th>\n",
       "      <th>Health Care</th>\n",
       "      <th>Industrials</th>\n",
       "      <th>Information Technology</th>\n",
       "      <th>Materials</th>\n",
       "      <th>Real Estate</th>\n",
       "      <th>Utilities</th>\n",
       "    </tr>\n",
       "  </thead>\n",
       "  <tbody>\n",
       "    <tr>\n",
       "      <th>Ticker</th>\n",
       "      <td>[GOOGL, GOOG, T, CHTR, CMCSA, EA, FOXA, FOX, I...</td>\n",
       "      <td>[ABNB, AMZN, APTV, AZO, BBWI, BBY, BKNG, BWA, ...</td>\n",
       "      <td>[MO, ADM, BF.B, BG, CPB, CHD, CLX, KO, CL, CAG...</td>\n",
       "      <td>[APA, BKR, CVX, COP, CTRA, DVN, FANG, EOG, EQT...</td>\n",
       "      <td>[AFL, ALL, AXP, AIG, AMP, AON, ACGL, AJG, AIZ,...</td>\n",
       "      <td>[ABT, ABBV, A, ALGN, AMGN, BAX, BDX, BIO, TECH...</td>\n",
       "      <td>[MMM, AOS, ALLE, AAL, AME, ADP, AXON, BA, BR, ...</td>\n",
       "      <td>[ACN, ADBE, AMD, AKAM, APH, ADI, ANSS, AAPL, A...</td>\n",
       "      <td>[APD, ALB, AMCR, AVY, BALL, CE, CF, CTVA, DOW,...</td>\n",
       "      <td>[ARE, AMT, AVB, BXP, CPT, CBRE, CSGP, CCI, DLR...</td>\n",
       "      <td>[AES, LNT, AEE, AEP, AWK, ATO, CNP, CMS, ED, C...</td>\n",
       "    </tr>\n",
       "  </tbody>\n",
       "</table>\n",
       "</div>"
      ],
      "text/plain": [
       "Sector                             Communication Services  \\\n",
       "Ticker  [GOOGL, GOOG, T, CHTR, CMCSA, EA, FOXA, FOX, I...   \n",
       "\n",
       "Sector                             Consumer Discretionary  \\\n",
       "Ticker  [ABNB, AMZN, APTV, AZO, BBWI, BBY, BKNG, BWA, ...   \n",
       "\n",
       "Sector                                   Consumer Staples  \\\n",
       "Ticker  [MO, ADM, BF.B, BG, CPB, CHD, CLX, KO, CL, CAG...   \n",
       "\n",
       "Sector                                             Energy  \\\n",
       "Ticker  [APA, BKR, CVX, COP, CTRA, DVN, FANG, EOG, EQT...   \n",
       "\n",
       "Sector                                         Financials  \\\n",
       "Ticker  [AFL, ALL, AXP, AIG, AMP, AON, ACGL, AJG, AIZ,...   \n",
       "\n",
       "Sector                                        Health Care  \\\n",
       "Ticker  [ABT, ABBV, A, ALGN, AMGN, BAX, BDX, BIO, TECH...   \n",
       "\n",
       "Sector                                        Industrials  \\\n",
       "Ticker  [MMM, AOS, ALLE, AAL, AME, ADP, AXON, BA, BR, ...   \n",
       "\n",
       "Sector                             Information Technology  \\\n",
       "Ticker  [ACN, ADBE, AMD, AKAM, APH, ADI, ANSS, AAPL, A...   \n",
       "\n",
       "Sector                                          Materials  \\\n",
       "Ticker  [APD, ALB, AMCR, AVY, BALL, CE, CF, CTVA, DOW,...   \n",
       "\n",
       "Sector                                        Real Estate  \\\n",
       "Ticker  [ARE, AMT, AVB, BXP, CPT, CBRE, CSGP, CCI, DLR...   \n",
       "\n",
       "Sector                                          Utilities  \n",
       "Ticker  [AES, LNT, AEE, AEP, AWK, ATO, CNP, CMS, ED, C...  "
      ]
     },
     "execution_count": 6,
     "metadata": {},
     "output_type": "execute_result"
    }
   ],
   "source": [
    "# Pivot the DataFrame\n",
    "pivot_sector_ticker_df = sector_ticker_df.groupby('Sector')['Ticker'].apply(list).reset_index()\n",
    "\n",
    "# Transpose to get sectors as columns\n",
    "pivot_sector_ticker_df = pivot_sector_ticker_df.set_index('Sector').T\n",
    "\n",
    "pivot_sector_ticker_df"
   ]
  },
  {
   "cell_type": "code",
   "execution_count": 15,
   "metadata": {},
   "outputs": [
    {
     "data": {
      "text/plain": [
       "['AFL',\n",
       " 'ALL',\n",
       " 'AXP',\n",
       " 'AIG',\n",
       " 'AMP',\n",
       " 'AON',\n",
       " 'ACGL',\n",
       " 'AJG',\n",
       " 'AIZ',\n",
       " 'BAC',\n",
       " 'BK',\n",
       " 'BRK.B',\n",
       " 'BLK',\n",
       " 'BX',\n",
       " 'BRO',\n",
       " 'COF',\n",
       " 'CBOE',\n",
       " 'SCHW',\n",
       " 'CB',\n",
       " 'CINF',\n",
       " 'C',\n",
       " 'CFG',\n",
       " 'CME',\n",
       " 'CPAY',\n",
       " 'DFS',\n",
       " 'EG',\n",
       " 'FDS',\n",
       " 'FIS',\n",
       " 'FITB',\n",
       " 'FI',\n",
       " 'BEN',\n",
       " 'GPN',\n",
       " 'GL',\n",
       " 'GS',\n",
       " 'HIG',\n",
       " 'HBAN',\n",
       " 'ICE',\n",
       " 'IVZ',\n",
       " 'JKHY',\n",
       " 'JPM',\n",
       " 'KEY',\n",
       " 'KKR',\n",
       " 'L',\n",
       " 'MTB',\n",
       " 'MKTX',\n",
       " 'MMC',\n",
       " 'MA',\n",
       " 'MET',\n",
       " 'MCO',\n",
       " 'MS',\n",
       " 'MSCI',\n",
       " 'NDAQ',\n",
       " 'NTRS',\n",
       " 'PYPL',\n",
       " 'PNC',\n",
       " 'PFG',\n",
       " 'PGR',\n",
       " 'PRU',\n",
       " 'RJF',\n",
       " 'RF',\n",
       " 'SPGI',\n",
       " 'STT',\n",
       " 'SYF',\n",
       " 'TROW',\n",
       " 'TRV',\n",
       " 'TFC',\n",
       " 'USB',\n",
       " 'V',\n",
       " 'WRB',\n",
       " 'WFC',\n",
       " 'WTW']"
      ]
     },
     "execution_count": 15,
     "metadata": {},
     "output_type": "execute_result"
    }
   ],
   "source": [
    "pivot_sector_ticker_df['Financials'].iloc[0]"
   ]
  },
  {
   "cell_type": "code",
   "execution_count": 16,
   "metadata": {},
   "outputs": [
    {
     "data": {
      "text/plain": [
       "71"
      ]
     },
     "execution_count": 16,
     "metadata": {},
     "output_type": "execute_result"
    }
   ],
   "source": [
    "len(pivot_sector_ticker_df['Financials'].iloc[0])"
   ]
  },
  {
   "cell_type": "markdown",
   "metadata": {},
   "source": [
    "## Appendix"
   ]
  },
  {
   "cell_type": "code",
   "execution_count": 128,
   "metadata": {},
   "outputs": [],
   "source": [
    "# Consumer Staples\n",
    "\n",
    "ticker_symbols = [\n",
    "    'MO',\n",
    "    'ADM',\n",
    "    # 'BF.B', # DATA ISSUE\n",
    "    'BG',\n",
    "    'CPB',\n",
    "    'CHD',\n",
    "    'CLX',\n",
    "    'KO',\n",
    "    'CL',\n",
    "    'CAG',\n",
    "    'STZ', # !!\n",
    "    'COST',\n",
    "    'DG',\n",
    "    'DLTR', # !!\n",
    "    'EL',\n",
    "    'GIS',\n",
    "    'HSY',\n",
    "    'HRL',\n",
    "    'K',\n",
    "    'KVUE',\n",
    "    'KDP',\n",
    "    'KMB',\n",
    "    'KHC',\n",
    "    # 'KR', # DATA ISSUE\n",
    "    'LW',\n",
    "    # 'MKC', # DATA ISSUE\n",
    "    'TAP',\n",
    "    'MDLZ',\n",
    "    'MNST',\n",
    "    'PEP',\n",
    "    'PM',\n",
    "    'PG',\n",
    "    'SJM',\n",
    "    'SYY',\n",
    "    'TGT', # !!\n",
    "    'TSN', # !!\n",
    "    # 'WBA', # DATA ISSUE\n",
    "    'WMT'\n",
    "]"
   ]
  },
  {
   "cell_type": "code",
   "execution_count": null,
   "metadata": {},
   "outputs": [],
   "source": [
    "# Energy\n",
    "\n",
    "ticker_symbols = [\n",
    "'APA',\n",
    " 'BKR', # !! HIGH PE, LOW PROFITABILITY, HIGH FORECAST,  BUT CANNOT BEAT FORECAST, 总结与TRGP类似, 基本面更稳妥, 盈利预期高, 有待考证\n",
    " 'CVX',\n",
    " 'COP',\n",
    " 'CTRA',\n",
    " 'DVN',\n",
    " 'FANG',\n",
    " 'EOG',\n",
    " 'EQT',\n",
    " 'XOM',\n",
    " 'HAL', # !!!! 与SLB类似\n",
    " 'HES', # !  HIGH PE, UNDERVALUE, 市场炒作高预期, 2024表现强劲, 已经被超热了\n",
    " 'KMI',\n",
    " 'MRO',\n",
    " 'MPC',\n",
    " 'OXY',\n",
    " 'OKE', # !!\n",
    " 'PSX',\n",
    " 'SLB', # !!! A BIT HIGH PE, GOOD ROE, MED PROFITABILITY, STEADY GROWTH FORECAST, AND CAN BEAT FORECAST, 总结基本面良好，与HAL类型相似, 市场炒作热度比HAL更高, 值得研究\n",
    " 'TRGP', # !！ HGIH PE, HIGH ROE, RELATIVE MORE DEBT THAN EQUITY, LOW PROFITABILITY, HIGH FORECAST, BUT CANNOT BEAT FORECAST, 总结基本面一般, 但是盈利预期非常高, 有待考证\n",
    " 'VLO',\n",
    " 'WMB'\n",
    " ]"
   ]
  }
 ],
 "metadata": {
  "kernelspec": {
   "display_name": "Python 3",
   "language": "python",
   "name": "python3"
  },
  "language_info": {
   "codemirror_mode": {
    "name": "ipython",
    "version": 3
   },
   "file_extension": ".py",
   "mimetype": "text/x-python",
   "name": "python",
   "nbconvert_exporter": "python",
   "pygments_lexer": "ipython3",
   "version": "3.9.1"
  }
 },
 "nbformat": 4,
 "nbformat_minor": 2
}
