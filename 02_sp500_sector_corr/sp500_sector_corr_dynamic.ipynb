{
 "cells": [
  {
   "cell_type": "code",
   "execution_count": 1,
   "metadata": {},
   "outputs": [],
   "source": [
    "import os\n",
    "import pandas as pd\n",
    "import numpy as numpy\n",
    "from datetime import datetime, timedelta\n",
    "import yfinance as yf\n",
    "\n",
    "import matplotlib.pyplot as plt\n",
    "import plotly.express as px\n",
    "import pytz  # Make sure to import pytz for timezone handling\n",
    "import seaborn as sns"
   ]
  },
  {
   "cell_type": "code",
   "execution_count": 2,
   "metadata": {},
   "outputs": [],
   "source": [
    "sp500_etf_dict = {\n",
    "    'Consumer_Discretionary': 'XLY'\n",
    "    ,'Consumer_Staples': 'XLP'\n",
    "    ,'Energy': 'XLE'\n",
    "    ,'Financial': 'XLF'\n",
    "    ,'Health Care': 'XLV'\n",
    "    ,'Industrial': 'XLI'\n",
    "    ,'Material': 'XLB'\n",
    "    ,'Technology': 'XLK'\n",
    "    ,'Utilities': 'XLU'\n",
    "    ,'SP_500': 'SPY'\n",
    "}"
   ]
  },
  {
   "cell_type": "code",
   "execution_count": null,
   "metadata": {},
   "outputs": [
    {
     "name": "stdout",
     "output_type": "stream",
     "text": [
      "You entered: 2015-01-28\n"
     ]
    },
    {
     "ename": "",
     "evalue": "",
     "output_type": "error",
     "traceback": [
      "\u001b[1;31mThe Kernel crashed while executing code in the current cell or a previous cell. \n",
      "\u001b[1;31mPlease review the code in the cell(s) to identify a possible cause of the failure. \n",
      "\u001b[1;31mClick <a href='https://aka.ms/vscodeJupyterKernelCrash'>here</a> for more info. \n",
      "\u001b[1;31mView Jupyter <a href='command:jupyter.viewOutput'>log</a> for further details."
     ]
    }
   ],
   "source": [
    "search_date_str = input(\"Enter date (YYYY-MM-DD): \")\n",
    "print(\"You entered:\", search_date_str)\n",
    "\n",
    "\n",
    "today_str = datetime.today().strftime('%Y-%m-%d')\n",
    "# Calculate the start date for the earliest period (20 years ago), making it timezone-aware\n",
    "start_date_str = (datetime.now(pytz.UTC) - timedelta(days=365*30)).strftime('%Y-%m-%d')\n",
    "\n",
    "today_dt = datetime.now(pytz.UTC)\n",
    "search_date_dt = datetime.strptime(search_date_str, \"%Y-%m-%d\").replace(tzinfo=pytz.UTC)\n",
    "\n",
    "\n",
    "# Periods to fetch the data for\n",
    "periods = [\n",
    "    today_dt\n",
    "    ,search_date_dt\n",
    "\n",
    "           ]\n",
    "\n",
    "# DataFrame to store the results\n",
    "df_closing_prices = pd.DataFrame(index=sp500_etf_dict.keys(), columns=periods)\n",
    "\n",
    "# Function to get the closing price for specific periods\n",
    "def get_historical_closing_prices(ticker, start_date_str):\n",
    "    \n",
    "    etf = yf.Ticker(ticker)\n",
    "    hist = etf.history(start=start_date_str)\n",
    "    \n",
    "    return hist['Close']\n",
    "\n",
    "\n",
    "def find_nearest_date(target_date, dates_list):\n",
    "    \"\"\"\n",
    "    Finds and returns the date from dates_list that is closest to target_date.\n",
    "\n",
    "    Parameters:\n",
    "    - target_date: The target datetime object you're trying to find the closest match for.\n",
    "    - dates_list: A list of datetime objects to search within.\n",
    "\n",
    "    Returns:\n",
    "    - closest_date: The date from dates_list that is closest to the target_date.\n",
    "    \"\"\"\n",
    "\n",
    "    date_diff_dict = dict(\n",
    "                        zip(\n",
    "                            [abs(target_date - i).days for i in dates_list]\n",
    "                            ,dates_list\n",
    "                            )\n",
    "                        )\n",
    "    # Retrieve the value corresponding to the smallest key\n",
    "    neaerest_date = date_diff_dict[min(date_diff_dict.keys())].strftime('%Y-%m-%d')\n",
    "\n",
    "\n",
    "    return neaerest_date\n",
    "\n",
    "\n",
    "\n",
    "\n",
    "# Fetch and process the data for each ETF\n",
    "for sector, ticker in sp500_etf_dict.items():\n",
    "    closing_prices = get_historical_closing_prices(ticker, start_date_str)\n",
    "    for period in periods:\n",
    "        if period == today_dt:\n",
    "            # Get the most recent closing price\n",
    "            period_date = closing_prices.index[-1]\n",
    "        if period == search_date_dt:\n",
    "            period_date = search_date_dt\n",
    "\n",
    "        # Find the closest date index to our target period_date\n",
    "        period_date_str = period_date.strftime('%Y-%m-%d')\n",
    "        if period_date_str in closing_prices.index.strftime('%Y-%m-%d'):\n",
    "            closest_date = period_date_str\n",
    "        else:\n",
    "            closest_date = find_nearest_date(period_date, closing_prices.index)\n",
    "        # Store the corresponding closing price\n",
    "        df_closing_prices.at[sector, period] = round(closing_prices.loc[closest_date], 2)\n",
    "        df_closing_prices['ticker'] = sp500_etf_dict.values()\n",
    "\n",
    "# df_closing_prices.columns.values[0] = today_str\n",
    "# df_closing_prices.columns.values[1] = search_date_str\n",
    "\n",
    "# Display the DataFrame\n",
    "df_closing_prices"
   ]
  },
  {
   "cell_type": "code",
   "execution_count": null,
   "metadata": {},
   "outputs": [],
   "source": []
  },
  {
   "cell_type": "code",
   "execution_count": null,
   "metadata": {},
   "outputs": [],
   "source": []
  }
 ],
 "metadata": {
  "kernelspec": {
   "display_name": "Python 3",
   "language": "python",
   "name": "python3"
  },
  "language_info": {
   "codemirror_mode": {
    "name": "ipython",
    "version": 3
   },
   "file_extension": ".py",
   "mimetype": "text/x-python",
   "name": "python",
   "nbconvert_exporter": "python",
   "pygments_lexer": "ipython3",
   "version": "3.9.1"
  }
 },
 "nbformat": 4,
 "nbformat_minor": 2
}
